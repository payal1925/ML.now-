{
  "nbformat": 4,
  "nbformat_minor": 0,
  "metadata": {
    "colab": {
      "name": "4a_Binary.ipynb",
      "provenance": [],
      "collapsed_sections": [],
      "include_colab_link": true
    },
    "kernelspec": {
      "name": "python3",
      "display_name": "Python 3"
    }
  },
  "cells": [
    {
      "cell_type": "markdown",
      "metadata": {
        "id": "view-in-github",
        "colab_type": "text"
      },
      "source": [
        "<a href=\"https://colab.research.google.com/github/payal1925/MLnow_2.0-/blob/main/LogisticRegression/4a_Binary.ipynb\" target=\"_parent\"><img src=\"https://colab.research.google.com/assets/colab-badge.svg\" alt=\"Open In Colab\"/></a>"
      ]
    },
    {
      "cell_type": "markdown",
      "metadata": {
        "id": "AIi5R9A6zU8Y"
      },
      "source": [
        "> This notebook was created for code illustration of binary logistic regression during one of the lectures of the `ML.now()` course.\n",
        "\n",
        "\n",
        "[Link to Download the Titanic dataset](https://www.kaggle.com/c/titanic/data)\n",
        "\n",
        "**Date Created**: June 22, 2021\n",
        "\n",
        "\n",
        "**Author**:\n",
        "Payal Jaiswal \n",
        "\n",
        "**Reach out**:\n",
        "[Email](mailto:payaljaiswal1925@gmail.com) | [GitHub](https://github.com/payal1925) | [LinkedIn](https://www.linkedin.com/in/payaljaiswal)\n",
        "\n",
        "\n",
        "\n"
      ]
    },
    {
      "cell_type": "code",
      "metadata": {
        "colab": {
          "base_uri": "https://localhost:8080/"
        },
        "id": "R8ZigFN4xfNd",
        "outputId": "11685447-32fa-463a-9b3f-2d20007c4a16"
      },
      "source": [
        "from google.colab import drive\n",
        "drive.mount('/content/drive')"
      ],
      "execution_count": 1,
      "outputs": [
        {
          "output_type": "stream",
          "text": [
            "Drive already mounted at /content/drive; to attempt to forcibly remount, call drive.mount(\"/content/drive\", force_remount=True).\n"
          ],
          "name": "stdout"
        }
      ]
    },
    {
      "cell_type": "code",
      "metadata": {
        "id": "LSA1YksZzpYz"
      },
      "source": [
        "# %%bash\n",
        "# cd '/content/drive/MyDrive/Courses/ML.now()/CodeArchive/Logistic-Regression/Binary' \n",
        "# ls"
      ],
      "execution_count": 2,
      "outputs": []
    },
    {
      "cell_type": "code",
      "metadata": {
        "colab": {
          "base_uri": "https://localhost:8080/"
        },
        "id": "cMw0zX5Dn4ux",
        "outputId": "93127037-805a-466d-82b8-2d38aa953df9"
      },
      "source": [
        "cd '/content/drive/MyDrive/titanic'"
      ],
      "execution_count": 3,
      "outputs": [
        {
          "output_type": "stream",
          "text": [
            "/content/drive/MyDrive/titanic\n"
          ],
          "name": "stdout"
        }
      ]
    },
    {
      "cell_type": "code",
      "metadata": {
        "colab": {
          "base_uri": "https://localhost:8080/"
        },
        "id": "N-AokFQPoCQ9",
        "outputId": "9a7cfdc3-f1ee-48b7-b0c9-488d9c8ef663"
      },
      "source": [
        "!ls"
      ],
      "execution_count": 4,
      "outputs": [
        {
          "output_type": "stream",
          "text": [
            "cleanedData.csv  gender_submission.csv\ttest.csv  train.csv\n"
          ],
          "name": "stdout"
        }
      ]
    },
    {
      "cell_type": "code",
      "metadata": {
        "id": "TpPsY40Iz6nP"
      },
      "source": [
        "import pandas as pd\n",
        "import numpy as np\n",
        "import tensorflow as tf\n",
        "from tensorflow import keras\n",
        "import os"
      ],
      "execution_count": 5,
      "outputs": []
    },
    {
      "cell_type": "code",
      "metadata": {
        "id": "OiO7_dmHhKh4"
      },
      "source": [
        "# cd '/content/drive/MyDrive/Courses/ML.now()/CodeArchive/Logistic-Regression/Binary'"
      ],
      "execution_count": 6,
      "outputs": []
    },
    {
      "cell_type": "code",
      "metadata": {
        "colab": {
          "base_uri": "https://localhost:8080/",
          "height": 669
        },
        "id": "-anfcPz_0D-o",
        "outputId": "5158cb60-7519-4256-c82a-5be049fe46de"
      },
      "source": [
        "trainData = pd.read_csv('train.csv', sep=',')\n",
        "trainData.head(20)"
      ],
      "execution_count": 7,
      "outputs": [
        {
          "output_type": "execute_result",
          "data": {
            "text/html": [
              "<div>\n",
              "<style scoped>\n",
              "    .dataframe tbody tr th:only-of-type {\n",
              "        vertical-align: middle;\n",
              "    }\n",
              "\n",
              "    .dataframe tbody tr th {\n",
              "        vertical-align: top;\n",
              "    }\n",
              "\n",
              "    .dataframe thead th {\n",
              "        text-align: right;\n",
              "    }\n",
              "</style>\n",
              "<table border=\"1\" class=\"dataframe\">\n",
              "  <thead>\n",
              "    <tr style=\"text-align: right;\">\n",
              "      <th></th>\n",
              "      <th>PassengerId</th>\n",
              "      <th>Survived</th>\n",
              "      <th>Pclass</th>\n",
              "      <th>Name</th>\n",
              "      <th>Sex</th>\n",
              "      <th>Age</th>\n",
              "      <th>SibSp</th>\n",
              "      <th>Parch</th>\n",
              "      <th>Ticket</th>\n",
              "      <th>Fare</th>\n",
              "      <th>Cabin</th>\n",
              "      <th>Embarked</th>\n",
              "    </tr>\n",
              "  </thead>\n",
              "  <tbody>\n",
              "    <tr>\n",
              "      <th>0</th>\n",
              "      <td>1</td>\n",
              "      <td>0</td>\n",
              "      <td>3</td>\n",
              "      <td>Braund, Mr. Owen Harris</td>\n",
              "      <td>male</td>\n",
              "      <td>22.0</td>\n",
              "      <td>1</td>\n",
              "      <td>0</td>\n",
              "      <td>A/5 21171</td>\n",
              "      <td>7.2500</td>\n",
              "      <td>NaN</td>\n",
              "      <td>S</td>\n",
              "    </tr>\n",
              "    <tr>\n",
              "      <th>1</th>\n",
              "      <td>2</td>\n",
              "      <td>1</td>\n",
              "      <td>1</td>\n",
              "      <td>Cumings, Mrs. John Bradley (Florence Briggs Th...</td>\n",
              "      <td>female</td>\n",
              "      <td>38.0</td>\n",
              "      <td>1</td>\n",
              "      <td>0</td>\n",
              "      <td>PC 17599</td>\n",
              "      <td>71.2833</td>\n",
              "      <td>C85</td>\n",
              "      <td>C</td>\n",
              "    </tr>\n",
              "    <tr>\n",
              "      <th>2</th>\n",
              "      <td>3</td>\n",
              "      <td>1</td>\n",
              "      <td>3</td>\n",
              "      <td>Heikkinen, Miss. Laina</td>\n",
              "      <td>female</td>\n",
              "      <td>26.0</td>\n",
              "      <td>0</td>\n",
              "      <td>0</td>\n",
              "      <td>STON/O2. 3101282</td>\n",
              "      <td>7.9250</td>\n",
              "      <td>NaN</td>\n",
              "      <td>S</td>\n",
              "    </tr>\n",
              "    <tr>\n",
              "      <th>3</th>\n",
              "      <td>4</td>\n",
              "      <td>1</td>\n",
              "      <td>1</td>\n",
              "      <td>Futrelle, Mrs. Jacques Heath (Lily May Peel)</td>\n",
              "      <td>female</td>\n",
              "      <td>35.0</td>\n",
              "      <td>1</td>\n",
              "      <td>0</td>\n",
              "      <td>113803</td>\n",
              "      <td>53.1000</td>\n",
              "      <td>C123</td>\n",
              "      <td>S</td>\n",
              "    </tr>\n",
              "    <tr>\n",
              "      <th>4</th>\n",
              "      <td>5</td>\n",
              "      <td>0</td>\n",
              "      <td>3</td>\n",
              "      <td>Allen, Mr. William Henry</td>\n",
              "      <td>male</td>\n",
              "      <td>35.0</td>\n",
              "      <td>0</td>\n",
              "      <td>0</td>\n",
              "      <td>373450</td>\n",
              "      <td>8.0500</td>\n",
              "      <td>NaN</td>\n",
              "      <td>S</td>\n",
              "    </tr>\n",
              "    <tr>\n",
              "      <th>5</th>\n",
              "      <td>6</td>\n",
              "      <td>0</td>\n",
              "      <td>3</td>\n",
              "      <td>Moran, Mr. James</td>\n",
              "      <td>male</td>\n",
              "      <td>NaN</td>\n",
              "      <td>0</td>\n",
              "      <td>0</td>\n",
              "      <td>330877</td>\n",
              "      <td>8.4583</td>\n",
              "      <td>NaN</td>\n",
              "      <td>Q</td>\n",
              "    </tr>\n",
              "    <tr>\n",
              "      <th>6</th>\n",
              "      <td>7</td>\n",
              "      <td>0</td>\n",
              "      <td>1</td>\n",
              "      <td>McCarthy, Mr. Timothy J</td>\n",
              "      <td>male</td>\n",
              "      <td>54.0</td>\n",
              "      <td>0</td>\n",
              "      <td>0</td>\n",
              "      <td>17463</td>\n",
              "      <td>51.8625</td>\n",
              "      <td>E46</td>\n",
              "      <td>S</td>\n",
              "    </tr>\n",
              "    <tr>\n",
              "      <th>7</th>\n",
              "      <td>8</td>\n",
              "      <td>0</td>\n",
              "      <td>3</td>\n",
              "      <td>Palsson, Master. Gosta Leonard</td>\n",
              "      <td>male</td>\n",
              "      <td>2.0</td>\n",
              "      <td>3</td>\n",
              "      <td>1</td>\n",
              "      <td>349909</td>\n",
              "      <td>21.0750</td>\n",
              "      <td>NaN</td>\n",
              "      <td>S</td>\n",
              "    </tr>\n",
              "    <tr>\n",
              "      <th>8</th>\n",
              "      <td>9</td>\n",
              "      <td>1</td>\n",
              "      <td>3</td>\n",
              "      <td>Johnson, Mrs. Oscar W (Elisabeth Vilhelmina Berg)</td>\n",
              "      <td>female</td>\n",
              "      <td>27.0</td>\n",
              "      <td>0</td>\n",
              "      <td>2</td>\n",
              "      <td>347742</td>\n",
              "      <td>11.1333</td>\n",
              "      <td>NaN</td>\n",
              "      <td>S</td>\n",
              "    </tr>\n",
              "    <tr>\n",
              "      <th>9</th>\n",
              "      <td>10</td>\n",
              "      <td>1</td>\n",
              "      <td>2</td>\n",
              "      <td>Nasser, Mrs. Nicholas (Adele Achem)</td>\n",
              "      <td>female</td>\n",
              "      <td>14.0</td>\n",
              "      <td>1</td>\n",
              "      <td>0</td>\n",
              "      <td>237736</td>\n",
              "      <td>30.0708</td>\n",
              "      <td>NaN</td>\n",
              "      <td>C</td>\n",
              "    </tr>\n",
              "    <tr>\n",
              "      <th>10</th>\n",
              "      <td>11</td>\n",
              "      <td>1</td>\n",
              "      <td>3</td>\n",
              "      <td>Sandstrom, Miss. Marguerite Rut</td>\n",
              "      <td>female</td>\n",
              "      <td>4.0</td>\n",
              "      <td>1</td>\n",
              "      <td>1</td>\n",
              "      <td>PP 9549</td>\n",
              "      <td>16.7000</td>\n",
              "      <td>G6</td>\n",
              "      <td>S</td>\n",
              "    </tr>\n",
              "    <tr>\n",
              "      <th>11</th>\n",
              "      <td>12</td>\n",
              "      <td>1</td>\n",
              "      <td>1</td>\n",
              "      <td>Bonnell, Miss. Elizabeth</td>\n",
              "      <td>female</td>\n",
              "      <td>58.0</td>\n",
              "      <td>0</td>\n",
              "      <td>0</td>\n",
              "      <td>113783</td>\n",
              "      <td>26.5500</td>\n",
              "      <td>C103</td>\n",
              "      <td>S</td>\n",
              "    </tr>\n",
              "    <tr>\n",
              "      <th>12</th>\n",
              "      <td>13</td>\n",
              "      <td>0</td>\n",
              "      <td>3</td>\n",
              "      <td>Saundercock, Mr. William Henry</td>\n",
              "      <td>male</td>\n",
              "      <td>20.0</td>\n",
              "      <td>0</td>\n",
              "      <td>0</td>\n",
              "      <td>A/5. 2151</td>\n",
              "      <td>8.0500</td>\n",
              "      <td>NaN</td>\n",
              "      <td>S</td>\n",
              "    </tr>\n",
              "    <tr>\n",
              "      <th>13</th>\n",
              "      <td>14</td>\n",
              "      <td>0</td>\n",
              "      <td>3</td>\n",
              "      <td>Andersson, Mr. Anders Johan</td>\n",
              "      <td>male</td>\n",
              "      <td>39.0</td>\n",
              "      <td>1</td>\n",
              "      <td>5</td>\n",
              "      <td>347082</td>\n",
              "      <td>31.2750</td>\n",
              "      <td>NaN</td>\n",
              "      <td>S</td>\n",
              "    </tr>\n",
              "    <tr>\n",
              "      <th>14</th>\n",
              "      <td>15</td>\n",
              "      <td>0</td>\n",
              "      <td>3</td>\n",
              "      <td>Vestrom, Miss. Hulda Amanda Adolfina</td>\n",
              "      <td>female</td>\n",
              "      <td>14.0</td>\n",
              "      <td>0</td>\n",
              "      <td>0</td>\n",
              "      <td>350406</td>\n",
              "      <td>7.8542</td>\n",
              "      <td>NaN</td>\n",
              "      <td>S</td>\n",
              "    </tr>\n",
              "    <tr>\n",
              "      <th>15</th>\n",
              "      <td>16</td>\n",
              "      <td>1</td>\n",
              "      <td>2</td>\n",
              "      <td>Hewlett, Mrs. (Mary D Kingcome)</td>\n",
              "      <td>female</td>\n",
              "      <td>55.0</td>\n",
              "      <td>0</td>\n",
              "      <td>0</td>\n",
              "      <td>248706</td>\n",
              "      <td>16.0000</td>\n",
              "      <td>NaN</td>\n",
              "      <td>S</td>\n",
              "    </tr>\n",
              "    <tr>\n",
              "      <th>16</th>\n",
              "      <td>17</td>\n",
              "      <td>0</td>\n",
              "      <td>3</td>\n",
              "      <td>Rice, Master. Eugene</td>\n",
              "      <td>male</td>\n",
              "      <td>2.0</td>\n",
              "      <td>4</td>\n",
              "      <td>1</td>\n",
              "      <td>382652</td>\n",
              "      <td>29.1250</td>\n",
              "      <td>NaN</td>\n",
              "      <td>Q</td>\n",
              "    </tr>\n",
              "    <tr>\n",
              "      <th>17</th>\n",
              "      <td>18</td>\n",
              "      <td>1</td>\n",
              "      <td>2</td>\n",
              "      <td>Williams, Mr. Charles Eugene</td>\n",
              "      <td>male</td>\n",
              "      <td>NaN</td>\n",
              "      <td>0</td>\n",
              "      <td>0</td>\n",
              "      <td>244373</td>\n",
              "      <td>13.0000</td>\n",
              "      <td>NaN</td>\n",
              "      <td>S</td>\n",
              "    </tr>\n",
              "    <tr>\n",
              "      <th>18</th>\n",
              "      <td>19</td>\n",
              "      <td>0</td>\n",
              "      <td>3</td>\n",
              "      <td>Vander Planke, Mrs. Julius (Emelia Maria Vande...</td>\n",
              "      <td>female</td>\n",
              "      <td>31.0</td>\n",
              "      <td>1</td>\n",
              "      <td>0</td>\n",
              "      <td>345763</td>\n",
              "      <td>18.0000</td>\n",
              "      <td>NaN</td>\n",
              "      <td>S</td>\n",
              "    </tr>\n",
              "    <tr>\n",
              "      <th>19</th>\n",
              "      <td>20</td>\n",
              "      <td>1</td>\n",
              "      <td>3</td>\n",
              "      <td>Masselmani, Mrs. Fatima</td>\n",
              "      <td>female</td>\n",
              "      <td>NaN</td>\n",
              "      <td>0</td>\n",
              "      <td>0</td>\n",
              "      <td>2649</td>\n",
              "      <td>7.2250</td>\n",
              "      <td>NaN</td>\n",
              "      <td>C</td>\n",
              "    </tr>\n",
              "  </tbody>\n",
              "</table>\n",
              "</div>"
            ],
            "text/plain": [
              "    PassengerId  Survived  Pclass  ...     Fare Cabin  Embarked\n",
              "0             1         0       3  ...   7.2500   NaN         S\n",
              "1             2         1       1  ...  71.2833   C85         C\n",
              "2             3         1       3  ...   7.9250   NaN         S\n",
              "3             4         1       1  ...  53.1000  C123         S\n",
              "4             5         0       3  ...   8.0500   NaN         S\n",
              "5             6         0       3  ...   8.4583   NaN         Q\n",
              "6             7         0       1  ...  51.8625   E46         S\n",
              "7             8         0       3  ...  21.0750   NaN         S\n",
              "8             9         1       3  ...  11.1333   NaN         S\n",
              "9            10         1       2  ...  30.0708   NaN         C\n",
              "10           11         1       3  ...  16.7000    G6         S\n",
              "11           12         1       1  ...  26.5500  C103         S\n",
              "12           13         0       3  ...   8.0500   NaN         S\n",
              "13           14         0       3  ...  31.2750   NaN         S\n",
              "14           15         0       3  ...   7.8542   NaN         S\n",
              "15           16         1       2  ...  16.0000   NaN         S\n",
              "16           17         0       3  ...  29.1250   NaN         Q\n",
              "17           18         1       2  ...  13.0000   NaN         S\n",
              "18           19         0       3  ...  18.0000   NaN         S\n",
              "19           20         1       3  ...   7.2250   NaN         C\n",
              "\n",
              "[20 rows x 12 columns]"
            ]
          },
          "metadata": {
            "tags": []
          },
          "execution_count": 7
        }
      ]
    },
    {
      "cell_type": "code",
      "metadata": {
        "colab": {
          "base_uri": "https://localhost:8080/",
          "height": 824
        },
        "id": "ghvOib6Z8t2R",
        "outputId": "a84adc82-6351-4321-dd3a-3fa3931c8420"
      },
      "source": [
        "# trainData.replace(np.nan,0)\n",
        "trainData.fillna(0, inplace=True)\n",
        "trainData.head(25)"
      ],
      "execution_count": 8,
      "outputs": [
        {
          "output_type": "execute_result",
          "data": {
            "text/html": [
              "<div>\n",
              "<style scoped>\n",
              "    .dataframe tbody tr th:only-of-type {\n",
              "        vertical-align: middle;\n",
              "    }\n",
              "\n",
              "    .dataframe tbody tr th {\n",
              "        vertical-align: top;\n",
              "    }\n",
              "\n",
              "    .dataframe thead th {\n",
              "        text-align: right;\n",
              "    }\n",
              "</style>\n",
              "<table border=\"1\" class=\"dataframe\">\n",
              "  <thead>\n",
              "    <tr style=\"text-align: right;\">\n",
              "      <th></th>\n",
              "      <th>PassengerId</th>\n",
              "      <th>Survived</th>\n",
              "      <th>Pclass</th>\n",
              "      <th>Name</th>\n",
              "      <th>Sex</th>\n",
              "      <th>Age</th>\n",
              "      <th>SibSp</th>\n",
              "      <th>Parch</th>\n",
              "      <th>Ticket</th>\n",
              "      <th>Fare</th>\n",
              "      <th>Cabin</th>\n",
              "      <th>Embarked</th>\n",
              "    </tr>\n",
              "  </thead>\n",
              "  <tbody>\n",
              "    <tr>\n",
              "      <th>0</th>\n",
              "      <td>1</td>\n",
              "      <td>0</td>\n",
              "      <td>3</td>\n",
              "      <td>Braund, Mr. Owen Harris</td>\n",
              "      <td>male</td>\n",
              "      <td>22.0</td>\n",
              "      <td>1</td>\n",
              "      <td>0</td>\n",
              "      <td>A/5 21171</td>\n",
              "      <td>7.2500</td>\n",
              "      <td>0</td>\n",
              "      <td>S</td>\n",
              "    </tr>\n",
              "    <tr>\n",
              "      <th>1</th>\n",
              "      <td>2</td>\n",
              "      <td>1</td>\n",
              "      <td>1</td>\n",
              "      <td>Cumings, Mrs. John Bradley (Florence Briggs Th...</td>\n",
              "      <td>female</td>\n",
              "      <td>38.0</td>\n",
              "      <td>1</td>\n",
              "      <td>0</td>\n",
              "      <td>PC 17599</td>\n",
              "      <td>71.2833</td>\n",
              "      <td>C85</td>\n",
              "      <td>C</td>\n",
              "    </tr>\n",
              "    <tr>\n",
              "      <th>2</th>\n",
              "      <td>3</td>\n",
              "      <td>1</td>\n",
              "      <td>3</td>\n",
              "      <td>Heikkinen, Miss. Laina</td>\n",
              "      <td>female</td>\n",
              "      <td>26.0</td>\n",
              "      <td>0</td>\n",
              "      <td>0</td>\n",
              "      <td>STON/O2. 3101282</td>\n",
              "      <td>7.9250</td>\n",
              "      <td>0</td>\n",
              "      <td>S</td>\n",
              "    </tr>\n",
              "    <tr>\n",
              "      <th>3</th>\n",
              "      <td>4</td>\n",
              "      <td>1</td>\n",
              "      <td>1</td>\n",
              "      <td>Futrelle, Mrs. Jacques Heath (Lily May Peel)</td>\n",
              "      <td>female</td>\n",
              "      <td>35.0</td>\n",
              "      <td>1</td>\n",
              "      <td>0</td>\n",
              "      <td>113803</td>\n",
              "      <td>53.1000</td>\n",
              "      <td>C123</td>\n",
              "      <td>S</td>\n",
              "    </tr>\n",
              "    <tr>\n",
              "      <th>4</th>\n",
              "      <td>5</td>\n",
              "      <td>0</td>\n",
              "      <td>3</td>\n",
              "      <td>Allen, Mr. William Henry</td>\n",
              "      <td>male</td>\n",
              "      <td>35.0</td>\n",
              "      <td>0</td>\n",
              "      <td>0</td>\n",
              "      <td>373450</td>\n",
              "      <td>8.0500</td>\n",
              "      <td>0</td>\n",
              "      <td>S</td>\n",
              "    </tr>\n",
              "    <tr>\n",
              "      <th>5</th>\n",
              "      <td>6</td>\n",
              "      <td>0</td>\n",
              "      <td>3</td>\n",
              "      <td>Moran, Mr. James</td>\n",
              "      <td>male</td>\n",
              "      <td>0.0</td>\n",
              "      <td>0</td>\n",
              "      <td>0</td>\n",
              "      <td>330877</td>\n",
              "      <td>8.4583</td>\n",
              "      <td>0</td>\n",
              "      <td>Q</td>\n",
              "    </tr>\n",
              "    <tr>\n",
              "      <th>6</th>\n",
              "      <td>7</td>\n",
              "      <td>0</td>\n",
              "      <td>1</td>\n",
              "      <td>McCarthy, Mr. Timothy J</td>\n",
              "      <td>male</td>\n",
              "      <td>54.0</td>\n",
              "      <td>0</td>\n",
              "      <td>0</td>\n",
              "      <td>17463</td>\n",
              "      <td>51.8625</td>\n",
              "      <td>E46</td>\n",
              "      <td>S</td>\n",
              "    </tr>\n",
              "    <tr>\n",
              "      <th>7</th>\n",
              "      <td>8</td>\n",
              "      <td>0</td>\n",
              "      <td>3</td>\n",
              "      <td>Palsson, Master. Gosta Leonard</td>\n",
              "      <td>male</td>\n",
              "      <td>2.0</td>\n",
              "      <td>3</td>\n",
              "      <td>1</td>\n",
              "      <td>349909</td>\n",
              "      <td>21.0750</td>\n",
              "      <td>0</td>\n",
              "      <td>S</td>\n",
              "    </tr>\n",
              "    <tr>\n",
              "      <th>8</th>\n",
              "      <td>9</td>\n",
              "      <td>1</td>\n",
              "      <td>3</td>\n",
              "      <td>Johnson, Mrs. Oscar W (Elisabeth Vilhelmina Berg)</td>\n",
              "      <td>female</td>\n",
              "      <td>27.0</td>\n",
              "      <td>0</td>\n",
              "      <td>2</td>\n",
              "      <td>347742</td>\n",
              "      <td>11.1333</td>\n",
              "      <td>0</td>\n",
              "      <td>S</td>\n",
              "    </tr>\n",
              "    <tr>\n",
              "      <th>9</th>\n",
              "      <td>10</td>\n",
              "      <td>1</td>\n",
              "      <td>2</td>\n",
              "      <td>Nasser, Mrs. Nicholas (Adele Achem)</td>\n",
              "      <td>female</td>\n",
              "      <td>14.0</td>\n",
              "      <td>1</td>\n",
              "      <td>0</td>\n",
              "      <td>237736</td>\n",
              "      <td>30.0708</td>\n",
              "      <td>0</td>\n",
              "      <td>C</td>\n",
              "    </tr>\n",
              "    <tr>\n",
              "      <th>10</th>\n",
              "      <td>11</td>\n",
              "      <td>1</td>\n",
              "      <td>3</td>\n",
              "      <td>Sandstrom, Miss. Marguerite Rut</td>\n",
              "      <td>female</td>\n",
              "      <td>4.0</td>\n",
              "      <td>1</td>\n",
              "      <td>1</td>\n",
              "      <td>PP 9549</td>\n",
              "      <td>16.7000</td>\n",
              "      <td>G6</td>\n",
              "      <td>S</td>\n",
              "    </tr>\n",
              "    <tr>\n",
              "      <th>11</th>\n",
              "      <td>12</td>\n",
              "      <td>1</td>\n",
              "      <td>1</td>\n",
              "      <td>Bonnell, Miss. Elizabeth</td>\n",
              "      <td>female</td>\n",
              "      <td>58.0</td>\n",
              "      <td>0</td>\n",
              "      <td>0</td>\n",
              "      <td>113783</td>\n",
              "      <td>26.5500</td>\n",
              "      <td>C103</td>\n",
              "      <td>S</td>\n",
              "    </tr>\n",
              "    <tr>\n",
              "      <th>12</th>\n",
              "      <td>13</td>\n",
              "      <td>0</td>\n",
              "      <td>3</td>\n",
              "      <td>Saundercock, Mr. William Henry</td>\n",
              "      <td>male</td>\n",
              "      <td>20.0</td>\n",
              "      <td>0</td>\n",
              "      <td>0</td>\n",
              "      <td>A/5. 2151</td>\n",
              "      <td>8.0500</td>\n",
              "      <td>0</td>\n",
              "      <td>S</td>\n",
              "    </tr>\n",
              "    <tr>\n",
              "      <th>13</th>\n",
              "      <td>14</td>\n",
              "      <td>0</td>\n",
              "      <td>3</td>\n",
              "      <td>Andersson, Mr. Anders Johan</td>\n",
              "      <td>male</td>\n",
              "      <td>39.0</td>\n",
              "      <td>1</td>\n",
              "      <td>5</td>\n",
              "      <td>347082</td>\n",
              "      <td>31.2750</td>\n",
              "      <td>0</td>\n",
              "      <td>S</td>\n",
              "    </tr>\n",
              "    <tr>\n",
              "      <th>14</th>\n",
              "      <td>15</td>\n",
              "      <td>0</td>\n",
              "      <td>3</td>\n",
              "      <td>Vestrom, Miss. Hulda Amanda Adolfina</td>\n",
              "      <td>female</td>\n",
              "      <td>14.0</td>\n",
              "      <td>0</td>\n",
              "      <td>0</td>\n",
              "      <td>350406</td>\n",
              "      <td>7.8542</td>\n",
              "      <td>0</td>\n",
              "      <td>S</td>\n",
              "    </tr>\n",
              "    <tr>\n",
              "      <th>15</th>\n",
              "      <td>16</td>\n",
              "      <td>1</td>\n",
              "      <td>2</td>\n",
              "      <td>Hewlett, Mrs. (Mary D Kingcome)</td>\n",
              "      <td>female</td>\n",
              "      <td>55.0</td>\n",
              "      <td>0</td>\n",
              "      <td>0</td>\n",
              "      <td>248706</td>\n",
              "      <td>16.0000</td>\n",
              "      <td>0</td>\n",
              "      <td>S</td>\n",
              "    </tr>\n",
              "    <tr>\n",
              "      <th>16</th>\n",
              "      <td>17</td>\n",
              "      <td>0</td>\n",
              "      <td>3</td>\n",
              "      <td>Rice, Master. Eugene</td>\n",
              "      <td>male</td>\n",
              "      <td>2.0</td>\n",
              "      <td>4</td>\n",
              "      <td>1</td>\n",
              "      <td>382652</td>\n",
              "      <td>29.1250</td>\n",
              "      <td>0</td>\n",
              "      <td>Q</td>\n",
              "    </tr>\n",
              "    <tr>\n",
              "      <th>17</th>\n",
              "      <td>18</td>\n",
              "      <td>1</td>\n",
              "      <td>2</td>\n",
              "      <td>Williams, Mr. Charles Eugene</td>\n",
              "      <td>male</td>\n",
              "      <td>0.0</td>\n",
              "      <td>0</td>\n",
              "      <td>0</td>\n",
              "      <td>244373</td>\n",
              "      <td>13.0000</td>\n",
              "      <td>0</td>\n",
              "      <td>S</td>\n",
              "    </tr>\n",
              "    <tr>\n",
              "      <th>18</th>\n",
              "      <td>19</td>\n",
              "      <td>0</td>\n",
              "      <td>3</td>\n",
              "      <td>Vander Planke, Mrs. Julius (Emelia Maria Vande...</td>\n",
              "      <td>female</td>\n",
              "      <td>31.0</td>\n",
              "      <td>1</td>\n",
              "      <td>0</td>\n",
              "      <td>345763</td>\n",
              "      <td>18.0000</td>\n",
              "      <td>0</td>\n",
              "      <td>S</td>\n",
              "    </tr>\n",
              "    <tr>\n",
              "      <th>19</th>\n",
              "      <td>20</td>\n",
              "      <td>1</td>\n",
              "      <td>3</td>\n",
              "      <td>Masselmani, Mrs. Fatima</td>\n",
              "      <td>female</td>\n",
              "      <td>0.0</td>\n",
              "      <td>0</td>\n",
              "      <td>0</td>\n",
              "      <td>2649</td>\n",
              "      <td>7.2250</td>\n",
              "      <td>0</td>\n",
              "      <td>C</td>\n",
              "    </tr>\n",
              "    <tr>\n",
              "      <th>20</th>\n",
              "      <td>21</td>\n",
              "      <td>0</td>\n",
              "      <td>2</td>\n",
              "      <td>Fynney, Mr. Joseph J</td>\n",
              "      <td>male</td>\n",
              "      <td>35.0</td>\n",
              "      <td>0</td>\n",
              "      <td>0</td>\n",
              "      <td>239865</td>\n",
              "      <td>26.0000</td>\n",
              "      <td>0</td>\n",
              "      <td>S</td>\n",
              "    </tr>\n",
              "    <tr>\n",
              "      <th>21</th>\n",
              "      <td>22</td>\n",
              "      <td>1</td>\n",
              "      <td>2</td>\n",
              "      <td>Beesley, Mr. Lawrence</td>\n",
              "      <td>male</td>\n",
              "      <td>34.0</td>\n",
              "      <td>0</td>\n",
              "      <td>0</td>\n",
              "      <td>248698</td>\n",
              "      <td>13.0000</td>\n",
              "      <td>D56</td>\n",
              "      <td>S</td>\n",
              "    </tr>\n",
              "    <tr>\n",
              "      <th>22</th>\n",
              "      <td>23</td>\n",
              "      <td>1</td>\n",
              "      <td>3</td>\n",
              "      <td>McGowan, Miss. Anna \"Annie\"</td>\n",
              "      <td>female</td>\n",
              "      <td>15.0</td>\n",
              "      <td>0</td>\n",
              "      <td>0</td>\n",
              "      <td>330923</td>\n",
              "      <td>8.0292</td>\n",
              "      <td>0</td>\n",
              "      <td>Q</td>\n",
              "    </tr>\n",
              "    <tr>\n",
              "      <th>23</th>\n",
              "      <td>24</td>\n",
              "      <td>1</td>\n",
              "      <td>1</td>\n",
              "      <td>Sloper, Mr. William Thompson</td>\n",
              "      <td>male</td>\n",
              "      <td>28.0</td>\n",
              "      <td>0</td>\n",
              "      <td>0</td>\n",
              "      <td>113788</td>\n",
              "      <td>35.5000</td>\n",
              "      <td>A6</td>\n",
              "      <td>S</td>\n",
              "    </tr>\n",
              "    <tr>\n",
              "      <th>24</th>\n",
              "      <td>25</td>\n",
              "      <td>0</td>\n",
              "      <td>3</td>\n",
              "      <td>Palsson, Miss. Torborg Danira</td>\n",
              "      <td>female</td>\n",
              "      <td>8.0</td>\n",
              "      <td>3</td>\n",
              "      <td>1</td>\n",
              "      <td>349909</td>\n",
              "      <td>21.0750</td>\n",
              "      <td>0</td>\n",
              "      <td>S</td>\n",
              "    </tr>\n",
              "  </tbody>\n",
              "</table>\n",
              "</div>"
            ],
            "text/plain": [
              "    PassengerId  Survived  Pclass  ...     Fare Cabin  Embarked\n",
              "0             1         0       3  ...   7.2500     0         S\n",
              "1             2         1       1  ...  71.2833   C85         C\n",
              "2             3         1       3  ...   7.9250     0         S\n",
              "3             4         1       1  ...  53.1000  C123         S\n",
              "4             5         0       3  ...   8.0500     0         S\n",
              "5             6         0       3  ...   8.4583     0         Q\n",
              "6             7         0       1  ...  51.8625   E46         S\n",
              "7             8         0       3  ...  21.0750     0         S\n",
              "8             9         1       3  ...  11.1333     0         S\n",
              "9            10         1       2  ...  30.0708     0         C\n",
              "10           11         1       3  ...  16.7000    G6         S\n",
              "11           12         1       1  ...  26.5500  C103         S\n",
              "12           13         0       3  ...   8.0500     0         S\n",
              "13           14         0       3  ...  31.2750     0         S\n",
              "14           15         0       3  ...   7.8542     0         S\n",
              "15           16         1       2  ...  16.0000     0         S\n",
              "16           17         0       3  ...  29.1250     0         Q\n",
              "17           18         1       2  ...  13.0000     0         S\n",
              "18           19         0       3  ...  18.0000     0         S\n",
              "19           20         1       3  ...   7.2250     0         C\n",
              "20           21         0       2  ...  26.0000     0         S\n",
              "21           22         1       2  ...  13.0000   D56         S\n",
              "22           23         1       3  ...   8.0292     0         Q\n",
              "23           24         1       1  ...  35.5000    A6         S\n",
              "24           25         0       3  ...  21.0750     0         S\n",
              "\n",
              "[25 rows x 12 columns]"
            ]
          },
          "metadata": {
            "tags": []
          },
          "execution_count": 8
        }
      ]
    },
    {
      "cell_type": "code",
      "metadata": {
        "colab": {
          "base_uri": "https://localhost:8080/"
        },
        "id": "yc-ogGqmDVFd",
        "outputId": "05f1d586-5964-41d2-f21c-1118ed8c328c"
      },
      "source": [
        "for i in trainData:\n",
        "  print(i)"
      ],
      "execution_count": 9,
      "outputs": [
        {
          "output_type": "stream",
          "text": [
            "PassengerId\n",
            "Survived\n",
            "Pclass\n",
            "Name\n",
            "Sex\n",
            "Age\n",
            "SibSp\n",
            "Parch\n",
            "Ticket\n",
            "Fare\n",
            "Cabin\n",
            "Embarked\n"
          ],
          "name": "stdout"
        }
      ]
    },
    {
      "cell_type": "code",
      "metadata": {
        "colab": {
          "base_uri": "https://localhost:8080/"
        },
        "id": "TXzzif8zDyqe",
        "outputId": "968f3dd6-db06-43b1-f542-58e3a949ae14"
      },
      "source": [
        "print(f'Pclass: {trainData.Pclass.unique()}')\n",
        "print(f'Sex: {trainData.Sex.unique()}')\n",
        "print(f'SibSp: {trainData.SibSp.unique()}') # siblings or spouse\n",
        "print(f'Parch: {trainData.Parch.unique()}') # Parents or Children\n",
        "print(f'Embarked: {trainData.Embarked.unique()}')\n",
        "#print(f'guardian: {trainData.guardian.unique()}')"
      ],
      "execution_count": 10,
      "outputs": [
        {
          "output_type": "stream",
          "text": [
            "Pclass: [3 1 2]\n",
            "Sex: ['male' 'female']\n",
            "SibSp: [1 0 3 4 2 5 8]\n",
            "Parch: [0 1 2 5 3 4 6]\n",
            "Embarked: ['S' 'C' 'Q' 0]\n"
          ],
          "name": "stdout"
        }
      ]
    },
    {
      "cell_type": "code",
      "metadata": {
        "colab": {
          "base_uri": "https://localhost:8080/",
          "height": 359
        },
        "id": "vSVluT1JEhMI",
        "outputId": "7c8780ef-fda1-4a6f-da59-e813d6d0ae6d"
      },
      "source": [
        "#Converting numeric to categorical\n",
        "\n",
        "trainData['Sex'] = trainData['Sex'].apply({'male':1, 'female':0}.get)\n",
        "trainData['Embarked'] = trainData['Embarked'].apply({'S':1, 'C':2, 'Q':3, np.nan:0}.get)\n",
        "trainData.head(10)"
      ],
      "execution_count": 11,
      "outputs": [
        {
          "output_type": "execute_result",
          "data": {
            "text/html": [
              "<div>\n",
              "<style scoped>\n",
              "    .dataframe tbody tr th:only-of-type {\n",
              "        vertical-align: middle;\n",
              "    }\n",
              "\n",
              "    .dataframe tbody tr th {\n",
              "        vertical-align: top;\n",
              "    }\n",
              "\n",
              "    .dataframe thead th {\n",
              "        text-align: right;\n",
              "    }\n",
              "</style>\n",
              "<table border=\"1\" class=\"dataframe\">\n",
              "  <thead>\n",
              "    <tr style=\"text-align: right;\">\n",
              "      <th></th>\n",
              "      <th>PassengerId</th>\n",
              "      <th>Survived</th>\n",
              "      <th>Pclass</th>\n",
              "      <th>Name</th>\n",
              "      <th>Sex</th>\n",
              "      <th>Age</th>\n",
              "      <th>SibSp</th>\n",
              "      <th>Parch</th>\n",
              "      <th>Ticket</th>\n",
              "      <th>Fare</th>\n",
              "      <th>Cabin</th>\n",
              "      <th>Embarked</th>\n",
              "    </tr>\n",
              "  </thead>\n",
              "  <tbody>\n",
              "    <tr>\n",
              "      <th>0</th>\n",
              "      <td>1</td>\n",
              "      <td>0</td>\n",
              "      <td>3</td>\n",
              "      <td>Braund, Mr. Owen Harris</td>\n",
              "      <td>1</td>\n",
              "      <td>22.0</td>\n",
              "      <td>1</td>\n",
              "      <td>0</td>\n",
              "      <td>A/5 21171</td>\n",
              "      <td>7.2500</td>\n",
              "      <td>0</td>\n",
              "      <td>1.0</td>\n",
              "    </tr>\n",
              "    <tr>\n",
              "      <th>1</th>\n",
              "      <td>2</td>\n",
              "      <td>1</td>\n",
              "      <td>1</td>\n",
              "      <td>Cumings, Mrs. John Bradley (Florence Briggs Th...</td>\n",
              "      <td>0</td>\n",
              "      <td>38.0</td>\n",
              "      <td>1</td>\n",
              "      <td>0</td>\n",
              "      <td>PC 17599</td>\n",
              "      <td>71.2833</td>\n",
              "      <td>C85</td>\n",
              "      <td>2.0</td>\n",
              "    </tr>\n",
              "    <tr>\n",
              "      <th>2</th>\n",
              "      <td>3</td>\n",
              "      <td>1</td>\n",
              "      <td>3</td>\n",
              "      <td>Heikkinen, Miss. Laina</td>\n",
              "      <td>0</td>\n",
              "      <td>26.0</td>\n",
              "      <td>0</td>\n",
              "      <td>0</td>\n",
              "      <td>STON/O2. 3101282</td>\n",
              "      <td>7.9250</td>\n",
              "      <td>0</td>\n",
              "      <td>1.0</td>\n",
              "    </tr>\n",
              "    <tr>\n",
              "      <th>3</th>\n",
              "      <td>4</td>\n",
              "      <td>1</td>\n",
              "      <td>1</td>\n",
              "      <td>Futrelle, Mrs. Jacques Heath (Lily May Peel)</td>\n",
              "      <td>0</td>\n",
              "      <td>35.0</td>\n",
              "      <td>1</td>\n",
              "      <td>0</td>\n",
              "      <td>113803</td>\n",
              "      <td>53.1000</td>\n",
              "      <td>C123</td>\n",
              "      <td>1.0</td>\n",
              "    </tr>\n",
              "    <tr>\n",
              "      <th>4</th>\n",
              "      <td>5</td>\n",
              "      <td>0</td>\n",
              "      <td>3</td>\n",
              "      <td>Allen, Mr. William Henry</td>\n",
              "      <td>1</td>\n",
              "      <td>35.0</td>\n",
              "      <td>0</td>\n",
              "      <td>0</td>\n",
              "      <td>373450</td>\n",
              "      <td>8.0500</td>\n",
              "      <td>0</td>\n",
              "      <td>1.0</td>\n",
              "    </tr>\n",
              "    <tr>\n",
              "      <th>5</th>\n",
              "      <td>6</td>\n",
              "      <td>0</td>\n",
              "      <td>3</td>\n",
              "      <td>Moran, Mr. James</td>\n",
              "      <td>1</td>\n",
              "      <td>0.0</td>\n",
              "      <td>0</td>\n",
              "      <td>0</td>\n",
              "      <td>330877</td>\n",
              "      <td>8.4583</td>\n",
              "      <td>0</td>\n",
              "      <td>3.0</td>\n",
              "    </tr>\n",
              "    <tr>\n",
              "      <th>6</th>\n",
              "      <td>7</td>\n",
              "      <td>0</td>\n",
              "      <td>1</td>\n",
              "      <td>McCarthy, Mr. Timothy J</td>\n",
              "      <td>1</td>\n",
              "      <td>54.0</td>\n",
              "      <td>0</td>\n",
              "      <td>0</td>\n",
              "      <td>17463</td>\n",
              "      <td>51.8625</td>\n",
              "      <td>E46</td>\n",
              "      <td>1.0</td>\n",
              "    </tr>\n",
              "    <tr>\n",
              "      <th>7</th>\n",
              "      <td>8</td>\n",
              "      <td>0</td>\n",
              "      <td>3</td>\n",
              "      <td>Palsson, Master. Gosta Leonard</td>\n",
              "      <td>1</td>\n",
              "      <td>2.0</td>\n",
              "      <td>3</td>\n",
              "      <td>1</td>\n",
              "      <td>349909</td>\n",
              "      <td>21.0750</td>\n",
              "      <td>0</td>\n",
              "      <td>1.0</td>\n",
              "    </tr>\n",
              "    <tr>\n",
              "      <th>8</th>\n",
              "      <td>9</td>\n",
              "      <td>1</td>\n",
              "      <td>3</td>\n",
              "      <td>Johnson, Mrs. Oscar W (Elisabeth Vilhelmina Berg)</td>\n",
              "      <td>0</td>\n",
              "      <td>27.0</td>\n",
              "      <td>0</td>\n",
              "      <td>2</td>\n",
              "      <td>347742</td>\n",
              "      <td>11.1333</td>\n",
              "      <td>0</td>\n",
              "      <td>1.0</td>\n",
              "    </tr>\n",
              "    <tr>\n",
              "      <th>9</th>\n",
              "      <td>10</td>\n",
              "      <td>1</td>\n",
              "      <td>2</td>\n",
              "      <td>Nasser, Mrs. Nicholas (Adele Achem)</td>\n",
              "      <td>0</td>\n",
              "      <td>14.0</td>\n",
              "      <td>1</td>\n",
              "      <td>0</td>\n",
              "      <td>237736</td>\n",
              "      <td>30.0708</td>\n",
              "      <td>0</td>\n",
              "      <td>2.0</td>\n",
              "    </tr>\n",
              "  </tbody>\n",
              "</table>\n",
              "</div>"
            ],
            "text/plain": [
              "   PassengerId  Survived  Pclass  ...     Fare  Cabin  Embarked\n",
              "0            1         0       3  ...   7.2500      0       1.0\n",
              "1            2         1       1  ...  71.2833    C85       2.0\n",
              "2            3         1       3  ...   7.9250      0       1.0\n",
              "3            4         1       1  ...  53.1000   C123       1.0\n",
              "4            5         0       3  ...   8.0500      0       1.0\n",
              "5            6         0       3  ...   8.4583      0       3.0\n",
              "6            7         0       1  ...  51.8625    E46       1.0\n",
              "7            8         0       3  ...  21.0750      0       1.0\n",
              "8            9         1       3  ...  11.1333      0       1.0\n",
              "9           10         1       2  ...  30.0708      0       2.0\n",
              "\n",
              "[10 rows x 12 columns]"
            ]
          },
          "metadata": {
            "tags": []
          },
          "execution_count": 11
        }
      ]
    },
    {
      "cell_type": "code",
      "metadata": {
        "colab": {
          "base_uri": "https://localhost:8080/",
          "height": 359
        },
        "id": "sOORYfbJIBzF",
        "outputId": "cb3b3512-c779-47da-8a4c-41fc24e61680"
      },
      "source": [
        "trainData_updated = trainData[['Pclass', 'Sex', 'SibSp', 'Parch', 'Fare', 'Embarked', 'Survived']]\n",
        "trainData_updated.head(10)"
      ],
      "execution_count": 12,
      "outputs": [
        {
          "output_type": "execute_result",
          "data": {
            "text/html": [
              "<div>\n",
              "<style scoped>\n",
              "    .dataframe tbody tr th:only-of-type {\n",
              "        vertical-align: middle;\n",
              "    }\n",
              "\n",
              "    .dataframe tbody tr th {\n",
              "        vertical-align: top;\n",
              "    }\n",
              "\n",
              "    .dataframe thead th {\n",
              "        text-align: right;\n",
              "    }\n",
              "</style>\n",
              "<table border=\"1\" class=\"dataframe\">\n",
              "  <thead>\n",
              "    <tr style=\"text-align: right;\">\n",
              "      <th></th>\n",
              "      <th>Pclass</th>\n",
              "      <th>Sex</th>\n",
              "      <th>SibSp</th>\n",
              "      <th>Parch</th>\n",
              "      <th>Fare</th>\n",
              "      <th>Embarked</th>\n",
              "      <th>Survived</th>\n",
              "    </tr>\n",
              "  </thead>\n",
              "  <tbody>\n",
              "    <tr>\n",
              "      <th>0</th>\n",
              "      <td>3</td>\n",
              "      <td>1</td>\n",
              "      <td>1</td>\n",
              "      <td>0</td>\n",
              "      <td>7.2500</td>\n",
              "      <td>1.0</td>\n",
              "      <td>0</td>\n",
              "    </tr>\n",
              "    <tr>\n",
              "      <th>1</th>\n",
              "      <td>1</td>\n",
              "      <td>0</td>\n",
              "      <td>1</td>\n",
              "      <td>0</td>\n",
              "      <td>71.2833</td>\n",
              "      <td>2.0</td>\n",
              "      <td>1</td>\n",
              "    </tr>\n",
              "    <tr>\n",
              "      <th>2</th>\n",
              "      <td>3</td>\n",
              "      <td>0</td>\n",
              "      <td>0</td>\n",
              "      <td>0</td>\n",
              "      <td>7.9250</td>\n",
              "      <td>1.0</td>\n",
              "      <td>1</td>\n",
              "    </tr>\n",
              "    <tr>\n",
              "      <th>3</th>\n",
              "      <td>1</td>\n",
              "      <td>0</td>\n",
              "      <td>1</td>\n",
              "      <td>0</td>\n",
              "      <td>53.1000</td>\n",
              "      <td>1.0</td>\n",
              "      <td>1</td>\n",
              "    </tr>\n",
              "    <tr>\n",
              "      <th>4</th>\n",
              "      <td>3</td>\n",
              "      <td>1</td>\n",
              "      <td>0</td>\n",
              "      <td>0</td>\n",
              "      <td>8.0500</td>\n",
              "      <td>1.0</td>\n",
              "      <td>0</td>\n",
              "    </tr>\n",
              "    <tr>\n",
              "      <th>5</th>\n",
              "      <td>3</td>\n",
              "      <td>1</td>\n",
              "      <td>0</td>\n",
              "      <td>0</td>\n",
              "      <td>8.4583</td>\n",
              "      <td>3.0</td>\n",
              "      <td>0</td>\n",
              "    </tr>\n",
              "    <tr>\n",
              "      <th>6</th>\n",
              "      <td>1</td>\n",
              "      <td>1</td>\n",
              "      <td>0</td>\n",
              "      <td>0</td>\n",
              "      <td>51.8625</td>\n",
              "      <td>1.0</td>\n",
              "      <td>0</td>\n",
              "    </tr>\n",
              "    <tr>\n",
              "      <th>7</th>\n",
              "      <td>3</td>\n",
              "      <td>1</td>\n",
              "      <td>3</td>\n",
              "      <td>1</td>\n",
              "      <td>21.0750</td>\n",
              "      <td>1.0</td>\n",
              "      <td>0</td>\n",
              "    </tr>\n",
              "    <tr>\n",
              "      <th>8</th>\n",
              "      <td>3</td>\n",
              "      <td>0</td>\n",
              "      <td>0</td>\n",
              "      <td>2</td>\n",
              "      <td>11.1333</td>\n",
              "      <td>1.0</td>\n",
              "      <td>1</td>\n",
              "    </tr>\n",
              "    <tr>\n",
              "      <th>9</th>\n",
              "      <td>2</td>\n",
              "      <td>0</td>\n",
              "      <td>1</td>\n",
              "      <td>0</td>\n",
              "      <td>30.0708</td>\n",
              "      <td>2.0</td>\n",
              "      <td>1</td>\n",
              "    </tr>\n",
              "  </tbody>\n",
              "</table>\n",
              "</div>"
            ],
            "text/plain": [
              "   Pclass  Sex  SibSp  Parch     Fare  Embarked  Survived\n",
              "0       3    1      1      0   7.2500       1.0         0\n",
              "1       1    0      1      0  71.2833       2.0         1\n",
              "2       3    0      0      0   7.9250       1.0         1\n",
              "3       1    0      1      0  53.1000       1.0         1\n",
              "4       3    1      0      0   8.0500       1.0         0\n",
              "5       3    1      0      0   8.4583       3.0         0\n",
              "6       1    1      0      0  51.8625       1.0         0\n",
              "7       3    1      3      1  21.0750       1.0         0\n",
              "8       3    0      0      2  11.1333       1.0         1\n",
              "9       2    0      1      0  30.0708       2.0         1"
            ]
          },
          "metadata": {
            "tags": []
          },
          "execution_count": 12
        }
      ]
    },
    {
      "cell_type": "code",
      "metadata": {
        "id": "724vsu0TH5oT"
      },
      "source": [
        "trainData_updated.to_csv('cleanedData.csv')"
      ],
      "execution_count": 13,
      "outputs": []
    },
    {
      "cell_type": "code",
      "metadata": {
        "colab": {
          "base_uri": "https://localhost:8080/",
          "height": 157
        },
        "id": "SqIM2gnu1DBR",
        "outputId": "ed0bd672-53b0-4d69-83dc-55c6ed7a9df8"
      },
      "source": [
        "#To visualize our results \n",
        "\n",
        "import matplotlib.pyplot as plt\n",
        "import seaborn as sns\n",
        "sns.palplot(sns.color_palette(\"PuOr\"))\n",
        "pal = sns.color_palette('PuOr', 6)\n",
        "pal.as_hex()\n",
        "plt.style.use(['seaborn'])\n",
        "sns_colors = [\"#c6690c\", \"#664697\"]\n",
        "sns.set_palette(sns_colors)\n",
        "sns.palplot(sns.color_palette(sns_colors))"
      ],
      "execution_count": 14,
      "outputs": [
        {
          "output_type": "display_data",
          "data": {
            "image/png": "[encoded data removed]",
            "text/plain": [
              "<Figure size 432x72 with 1 Axes>"
            ]
          },
          "metadata": {
            "tags": [],
            "needs_background": "light"
          }
        },
        {
          "output_type": "display_data",
          "data": {
            "image/png": "[encoded data removed]",
            "text/plain": [
              "<Figure size 144x72 with 1 Axes>"
            ]
          },
          "metadata": {
            "tags": []
          }
        }
      ]
    },
    {
      "cell_type": "markdown",
      "metadata": {
        "id": "bGHVyxhHIPAY"
      },
      "source": [
        "## EDA"
      ]
    },
    {
      "cell_type": "code",
      "metadata": {
        "colab": {
          "base_uri": "https://localhost:8080/"
        },
        "id": "uGc4RLbEITev",
        "outputId": "ac6979c6-73c6-4681-d967-8759545b1b5c"
      },
      "source": [
        "print(trainData_updated.columns)"
      ],
      "execution_count": 15,
      "outputs": [
        {
          "output_type": "stream",
          "text": [
            "Index(['Pclass', 'Sex', 'SibSp', 'Parch', 'Fare', 'Embarked', 'Survived'], dtype='object')\n"
          ],
          "name": "stdout"
        }
      ]
    },
    {
      "cell_type": "code",
      "metadata": {
        "colab": {
          "base_uri": "https://localhost:8080/",
          "height": 1000
        },
        "id": "w9EsgN_MIL2G",
        "outputId": "9c03ed51-ea00-46e4-c333-ca4aa379e3ce"
      },
      "source": [
        "sns.pairplot(trainData_updated,\n",
        "             x_vars=['Pclass', 'Sex', 'SibSp', 'Parch', 'Fare', 'Embarked', 'Survived'],\n",
        "             y_vars=['Pclass', 'Sex', 'SibSp', 'Parch', 'Fare', 'Embarked'],\n",
        "             hue='Survived', diag_kind='kde')"
      ],
      "execution_count": 16,
      "outputs": [
        {
          "output_type": "execute_result",
          "data": {
            "text/plain": [
              "<seaborn.axisgrid.PairGrid at 0x7f49e7851a50>"
            ]
          },
          "metadata": {
            "tags": []
          },
          "execution_count": 16
        },
        {
          "output_type": "display_data",
          "data": {
            "image/png": "[encoded data removed]",
            "text/plain": [
              "<Figure size 1306.75x1080 with 48 Axes>"
            ]
          },
          "metadata": {
            "tags": []
          }
        }
      ]
    },
    {
      "cell_type": "code",
      "metadata": {
        "colab": {
          "base_uri": "https://localhost:8080/"
        },
        "id": "8Bl8LwIc-neB",
        "outputId": "2ef6c79b-3f5d-44b7-c3b1-d6a802ef7564"
      },
      "source": [
        "trainData_updated.columns"
      ],
      "execution_count": 17,
      "outputs": [
        {
          "output_type": "execute_result",
          "data": {
            "text/plain": [
              "Index(['Pclass', 'Sex', 'SibSp', 'Parch', 'Fare', 'Embarked', 'Survived'], dtype='object')"
            ]
          },
          "metadata": {
            "tags": []
          },
          "execution_count": 17
        }
      ]
    },
    {
      "cell_type": "code",
      "metadata": {
        "colab": {
          "base_uri": "https://localhost:8080/",
          "height": 1000
        },
        "id": "PGONpH29I6D3",
        "outputId": "07a9eb0d-d939-431c-b9f3-120f7baa186c"
      },
      "source": [
        "#strip plot\n",
        "\n",
        "fig, axarr = plt.subplots(2, 2, figsize=(20, 20))\n",
        "sns.stripplot(y='SibSp',x='Survived', data=trainData_updated, hue='Survived', ax=axarr[0][0])\n",
        "sns.stripplot(y='Parch',x='Survived', data=trainData_updated, hue='Survived', ax=axarr[0][1])\n",
        "sns.stripplot(y='Pclass',x='Survived', data=trainData_updated, hue='Survived', ax=axarr[1][0])\n",
        "sns.stripplot(y='Sex',x='Survived', data=trainData_updated, hue='Survived', ax=axarr[1][1])"
      ],
      "execution_count": 18,
      "outputs": [
        {
          "output_type": "execute_result",
          "data": {
            "text/plain": [
              "<matplotlib.axes._subplots.AxesSubplot at 0x7f49d96ce250>"
            ]
          },
          "metadata": {
            "tags": []
          },
          "execution_count": 18
        },
        {
          "output_type": "display_data",
          "data": {
            "image/png": "[encoded data removed]",
            "text/plain": [
              "<Figure size 1440x1440 with 4 Axes>"
            ]
          },
          "metadata": {
            "tags": []
          }
        }
      ]
    },
    {
      "cell_type": "markdown",
      "metadata": {
        "id": "6V9LKY_lI4R9"
      },
      "source": [
        "## Data split"
      ]
    },
    {
      "cell_type": "code",
      "metadata": {
        "id": "ajN6B7H9JEGl"
      },
      "source": [
        "trainDataset = trainData_updated.sample(frac=0.8, random_state=0)\n",
        "validationDataset = trainData_updated.drop(trainDataset.index)"
      ],
      "execution_count": 19,
      "outputs": []
    },
    {
      "cell_type": "markdown",
      "metadata": {
        "id": "377CdW-ywP6A"
      },
      "source": [
        "The validation data/features are the 80% from the `trainData` --> That is not the test.csv file, it does not have the survived column"
      ]
    },
    {
      "cell_type": "code",
      "metadata": {
        "colab": {
          "base_uri": "https://localhost:8080/"
        },
        "id": "25jl13J-hiw2",
        "outputId": "7665751a-1d4b-4d15-eb66-cd60dbf3861f"
      },
      "source": [
        "print(trainDataset.shape)\n",
        "print(validationDataset.shape)\n",
        "print(trainDataset.head())\n",
        "print(validationDataset.head())"
      ],
      "execution_count": 20,
      "outputs": [
        {
          "output_type": "stream",
          "text": [
            "(713, 7)\n",
            "(178, 7)\n",
            "     Pclass  Sex  SibSp  Parch      Fare  Embarked  Survived\n",
            "495       3    1      0      0   14.4583       2.0         0\n",
            "648       3    1      0      0    7.5500       1.0         0\n",
            "278       3    1      4      1   29.1250       3.0         0\n",
            "31        1    0      1      0  146.5208       2.0         1\n",
            "255       3    0      0      2   15.2458       2.0         1\n",
            "    Pclass  Sex  SibSp  Parch     Fare  Embarked  Survived\n",
            "9        2    0      1      0  30.0708       2.0         1\n",
            "11       1    0      0      0  26.5500       1.0         1\n",
            "19       3    0      0      0   7.2250       2.0         1\n",
            "23       1    1      0      0  35.5000       1.0         1\n",
            "28       3    0      0      0   7.8792       3.0         1\n"
          ],
          "name": "stdout"
        }
      ]
    },
    {
      "cell_type": "code",
      "metadata": {
        "colab": {
          "base_uri": "https://localhost:8080/"
        },
        "id": "yYH44_8ghrhj",
        "outputId": "647e2f58-5a41-46b1-cd52-e82a426a87db"
      },
      "source": [
        "trainFeatures = trainDataset.copy()\n",
        "validationFeatures = validationDataset.copy()\n",
        "\n",
        "print(trainFeatures.head())\n",
        "print(validationFeatures.head())"
      ],
      "execution_count": 21,
      "outputs": [
        {
          "output_type": "stream",
          "text": [
            "     Pclass  Sex  SibSp  Parch      Fare  Embarked  Survived\n",
            "495       3    1      0      0   14.4583       2.0         0\n",
            "648       3    1      0      0    7.5500       1.0         0\n",
            "278       3    1      4      1   29.1250       3.0         0\n",
            "31        1    0      1      0  146.5208       2.0         1\n",
            "255       3    0      0      2   15.2458       2.0         1\n",
            "    Pclass  Sex  SibSp  Parch     Fare  Embarked  Survived\n",
            "9        2    0      1      0  30.0708       2.0         1\n",
            "11       1    0      0      0  26.5500       1.0         1\n",
            "19       3    0      0      0   7.2250       2.0         1\n",
            "23       1    1      0      0  35.5000       1.0         1\n",
            "28       3    0      0      0   7.8792       3.0         1\n"
          ],
          "name": "stdout"
        }
      ]
    },
    {
      "cell_type": "code",
      "metadata": {
        "colab": {
          "base_uri": "https://localhost:8080/"
        },
        "id": "1yREEzswczop",
        "outputId": "fae8fb29-7c4a-489e-857a-3c6360bd70ad"
      },
      "source": [
        "#trainLabels = trainFeatures.pop('Survived')\n",
        "#validationLabels = validationFeatures.pop('Survived')\n",
        "\n",
        "print(trainLabels.head())\n",
        "print(validationLabels.head())"
      ],
      "execution_count": 22,
      "outputs": [
        {
          "output_type": "stream",
          "text": [
            "495    0\n",
            "648    0\n",
            "278    0\n",
            "31     1\n",
            "255    1\n",
            "Name: Survived, dtype: int64\n",
            "9     1\n",
            "11    1\n",
            "19    1\n",
            "23    1\n",
            "28    1\n",
            "Name: Survived, dtype: int64\n"
          ],
          "name": "stdout"
        }
      ]
    },
    {
      "cell_type": "code",
      "metadata": {
        "colab": {
          "base_uri": "https://localhost:8080/"
        },
        "id": "uFrUsA9AbogB",
        "outputId": "917ed9c4-84bf-4c32-d8fa-1e6ba75c7d97"
      },
      "source": [
        "print(trainFeatures.head())\n",
        "print(validationFeatures.head())"
      ],
      "execution_count": 23,
      "outputs": [
        {
          "output_type": "stream",
          "text": [
            "     Pclass  Sex  SibSp  Parch      Fare  Embarked\n",
            "495       3    1      0      0   14.4583       2.0\n",
            "648       3    1      0      0    7.5500       1.0\n",
            "278       3    1      4      1   29.1250       3.0\n",
            "31        1    0      1      0  146.5208       2.0\n",
            "255       3    0      0      2   15.2458       2.0\n",
            "    Pclass  Sex  SibSp  Parch     Fare  Embarked\n",
            "9        2    0      1      0  30.0708       2.0\n",
            "11       1    0      0      0  26.5500       1.0\n",
            "19       3    0      0      0   7.2250       2.0\n",
            "23       1    1      0      0  35.5000       1.0\n",
            "28       3    0      0      0   7.8792       3.0\n"
          ],
          "name": "stdout"
        }
      ]
    },
    {
      "cell_type": "markdown",
      "metadata": {
        "id": "UqMsx2a80zYN"
      },
      "source": [
        "## Problem Statement"
      ]
    },
    {
      "cell_type": "markdown",
      "metadata": {
        "id": "paIAmWv900Gp"
      },
      "source": [
        "Create a classification model to predict the survival rate."
      ]
    },
    {
      "cell_type": "code",
      "metadata": {
        "colab": {
          "base_uri": "https://localhost:8080/"
        },
        "id": "42dPuDNtdSHq",
        "outputId": "a00590af-4be8-47a5-88ec-086615d9f2fb"
      },
      "source": [
        "print(len(trainFeatures.columns))"
      ],
      "execution_count": 24,
      "outputs": [
        {
          "output_type": "stream",
          "text": [
            "6\n"
          ],
          "name": "stdout"
        }
      ]
    },
    {
      "cell_type": "code",
      "metadata": {
        "colab": {
          "base_uri": "https://localhost:8080/"
        },
        "id": "Q_FbJ7ze_MQu",
        "outputId": "ce0c8eae-0ea9-4639-d7a2-90d9ff6eab59"
      },
      "source": [
        "import math\n",
        "numFeatures = len(trainFeatures.columns)\n",
        "inputNeurons = math.ceil(2*(numFeatures)/3)\n",
        "print(inputNeurons)"
      ],
      "execution_count": 25,
      "outputs": [
        {
          "output_type": "stream",
          "text": [
            "4\n"
          ],
          "name": "stdout"
        }
      ]
    },
    {
      "cell_type": "code",
      "metadata": {
        "id": "QLKoCJnYdEQX"
      },
      "source": [
        "# ---- Model-1 ----\n",
        "model = tf.keras.Sequential([\n",
        "                             tf.keras.layers.Dense(units = inputNeurons, activation = 'relu'),#input layer\n",
        "                             tf.keras.layers.Dense(units = 2*inputNeurons, activation='relu'), #only hidden layer should be more than 1 \n",
        "                             tf.keras.layers.Dense(1, activation='sigmoid') #output layer\n",
        "])"
      ],
      "execution_count": 26,
      "outputs": []
    },
    {
      "cell_type": "code",
      "metadata": {
        "id": "Vjl68Uh3dgzS"
      },
      "source": [
        "model.compile(optimizer=tf.keras.optimizers.RMSprop(learning_rate=0.001), loss='binary_crossentropy', metrics=['accuracy'])"
      ],
      "execution_count": 27,
      "outputs": []
    },
    {
      "cell_type": "code",
      "metadata": {
        "id": "w4qMKpgIdrto"
      },
      "source": [
        "early_stopping = tf.keras.callbacks.EarlyStopping(monitor='val_accuracy', patience=100)"
      ],
      "execution_count": 28,
      "outputs": []
    },
    {
      "cell_type": "code",
      "metadata": {
        "colab": {
          "base_uri": "https://localhost:8080/"
        },
        "id": "tbEQffOxdix3",
        "outputId": "52c9da9c-101f-4754-d03b-d77d84760f24"
      },
      "source": [
        "numEpochs = 1000\n",
        "history = model.fit(trainFeatures, trainLabels, epochs=numEpochs,validation_data=(validationFeatures,validationLabels),callbacks=[early_stopping])\n",
        "# history = model.fit(trainFeatures, trainLabels, epochs=numEpochs)"
      ],
      "execution_count": 29,
      "outputs": [
        {
          "output_type": "stream",
          "text": [
            "Epoch 1/1000\n",
            "23/23 [==============================] - 1s 10ms/step - loss: nan - accuracy: 0.3829 - val_loss: nan - val_accuracy: 0.5449\n",
            "Epoch 2/1000\n",
            "23/23 [==============================] - 0s 2ms/step - loss: nan - accuracy: 0.6339 - val_loss: nan - val_accuracy: 0.5449\n",
            "Epoch 3/1000\n",
            "23/23 [==============================] - 0s 2ms/step - loss: nan - accuracy: 0.6339 - val_loss: nan - val_accuracy: 0.5449\n",
            "Epoch 4/1000\n",
            "23/23 [==============================] - 0s 2ms/step - loss: nan - accuracy: 0.6339 - val_loss: nan - val_accuracy: 0.5449\n",
            "Epoch 5/1000\n",
            "23/23 [==============================] - 0s 2ms/step - loss: nan - accuracy: 0.6339 - val_loss: nan - val_accuracy: 0.5449\n",
            "Epoch 6/1000\n",
            "23/23 [==============================] - 0s 2ms/step - loss: nan - accuracy: 0.6339 - val_loss: nan - val_accuracy: 0.5449\n",
            "Epoch 7/1000\n",
            "23/23 [==============================] - 0s 2ms/step - loss: nan - accuracy: 0.6339 - val_loss: nan - val_accuracy: 0.5449\n",
            "Epoch 8/1000\n",
            "23/23 [==============================] - 0s 3ms/step - loss: nan - accuracy: 0.6339 - val_loss: nan - val_accuracy: 0.5449\n",
            "Epoch 9/1000\n",
            "23/23 [==============================] - 0s 3ms/step - loss: nan - accuracy: 0.6339 - val_loss: nan - val_accuracy: 0.5449\n",
            "Epoch 10/1000\n",
            "23/23 [==============================] - 0s 2ms/step - loss: nan - accuracy: 0.6339 - val_loss: nan - val_accuracy: 0.5449\n",
            "Epoch 11/1000\n",
            "23/23 [==============================] - 0s 3ms/step - loss: nan - accuracy: 0.6339 - val_loss: nan - val_accuracy: 0.5449\n",
            "Epoch 12/1000\n",
            "23/23 [==============================] - 0s 2ms/step - loss: nan - accuracy: 0.6339 - val_loss: nan - val_accuracy: 0.5449\n",
            "Epoch 13/1000\n",
            "23/23 [==============================] - 0s 3ms/step - loss: nan - accuracy: 0.6339 - val_loss: nan - val_accuracy: 0.5449\n",
            "Epoch 14/1000\n",
            "23/23 [==============================] - 0s 2ms/step - loss: nan - accuracy: 0.6339 - val_loss: nan - val_accuracy: 0.5449\n",
            "Epoch 15/1000\n",
            "23/23 [==============================] - 0s 3ms/step - loss: nan - accuracy: 0.6339 - val_loss: nan - val_accuracy: 0.5449\n",
            "Epoch 16/1000\n",
            "23/23 [==============================] - 0s 3ms/step - loss: nan - accuracy: 0.6339 - val_loss: nan - val_accuracy: 0.5449\n",
            "Epoch 17/1000\n",
            "23/23 [==============================] - 0s 2ms/step - loss: nan - accuracy: 0.6339 - val_loss: nan - val_accuracy: 0.5449\n",
            "Epoch 18/1000\n",
            "23/23 [==============================] - 0s 3ms/step - loss: nan - accuracy: 0.6339 - val_loss: nan - val_accuracy: 0.5449\n",
            "Epoch 19/1000\n",
            "23/23 [==============================] - 0s 2ms/step - loss: nan - accuracy: 0.6339 - val_loss: nan - val_accuracy: 0.5449\n",
            "Epoch 20/1000\n",
            "23/23 [==============================] - 0s 2ms/step - loss: nan - accuracy: 0.6339 - val_loss: nan - val_accuracy: 0.5449\n",
            "Epoch 21/1000\n",
            "23/23 [==============================] - 0s 3ms/step - loss: nan - accuracy: 0.6339 - val_loss: nan - val_accuracy: 0.5449\n",
            "Epoch 22/1000\n",
            "23/23 [==============================] - 0s 3ms/step - loss: nan - accuracy: 0.6339 - val_loss: nan - val_accuracy: 0.5449\n",
            "Epoch 23/1000\n",
            "23/23 [==============================] - 0s 3ms/step - loss: nan - accuracy: 0.6339 - val_loss: nan - val_accuracy: 0.5449\n",
            "Epoch 24/1000\n",
            "23/23 [==============================] - 0s 3ms/step - loss: nan - accuracy: 0.6339 - val_loss: nan - val_accuracy: 0.5449\n",
            "Epoch 25/1000\n",
            "23/23 [==============================] - 0s 2ms/step - loss: nan - accuracy: 0.6339 - val_loss: nan - val_accuracy: 0.5449\n",
            "Epoch 26/1000\n",
            "23/23 [==============================] - 0s 3ms/step - loss: nan - accuracy: 0.6339 - val_loss: nan - val_accuracy: 0.5449\n",
            "Epoch 27/1000\n",
            "23/23 [==============================] - 0s 3ms/step - loss: nan - accuracy: 0.6339 - val_loss: nan - val_accuracy: 0.5449\n",
            "Epoch 28/1000\n",
            "23/23 [==============================] - 0s 2ms/step - loss: nan - accuracy: 0.6339 - val_loss: nan - val_accuracy: 0.5449\n",
            "Epoch 29/1000\n",
            "23/23 [==============================] - 0s 3ms/step - loss: nan - accuracy: 0.6339 - val_loss: nan - val_accuracy: 0.5449\n",
            "Epoch 30/1000\n",
            "23/23 [==============================] - 0s 2ms/step - loss: nan - accuracy: 0.6339 - val_loss: nan - val_accuracy: 0.5449\n",
            "Epoch 31/1000\n",
            "23/23 [==============================] - 0s 3ms/step - loss: nan - accuracy: 0.6339 - val_loss: nan - val_accuracy: 0.5449\n",
            "Epoch 32/1000\n",
            "23/23 [==============================] - 0s 3ms/step - loss: nan - accuracy: 0.6339 - val_loss: nan - val_accuracy: 0.5449\n",
            "Epoch 33/1000\n",
            "23/23 [==============================] - 0s 3ms/step - loss: nan - accuracy: 0.6339 - val_loss: nan - val_accuracy: 0.5449\n",
            "Epoch 34/1000\n",
            "23/23 [==============================] - 0s 2ms/step - loss: nan - accuracy: 0.6339 - val_loss: nan - val_accuracy: 0.5449\n",
            "Epoch 35/1000\n",
            "23/23 [==============================] - 0s 3ms/step - loss: nan - accuracy: 0.6339 - val_loss: nan - val_accuracy: 0.5449\n",
            "Epoch 36/1000\n",
            "23/23 [==============================] - 0s 2ms/step - loss: nan - accuracy: 0.6339 - val_loss: nan - val_accuracy: 0.5449\n",
            "Epoch 37/1000\n",
            "23/23 [==============================] - 0s 2ms/step - loss: nan - accuracy: 0.6339 - val_loss: nan - val_accuracy: 0.5449\n",
            "Epoch 38/1000\n",
            "23/23 [==============================] - 0s 3ms/step - loss: nan - accuracy: 0.6339 - val_loss: nan - val_accuracy: 0.5449\n",
            "Epoch 39/1000\n",
            "23/23 [==============================] - 0s 3ms/step - loss: nan - accuracy: 0.6339 - val_loss: nan - val_accuracy: 0.5449\n",
            "Epoch 40/1000\n",
            "23/23 [==============================] - 0s 3ms/step - loss: nan - accuracy: 0.6339 - val_loss: nan - val_accuracy: 0.5449\n",
            "Epoch 41/1000\n",
            "23/23 [==============================] - 0s 3ms/step - loss: nan - accuracy: 0.6339 - val_loss: nan - val_accuracy: 0.5449\n",
            "Epoch 42/1000\n",
            "23/23 [==============================] - 0s 4ms/step - loss: nan - accuracy: 0.6339 - val_loss: nan - val_accuracy: 0.5449\n",
            "Epoch 43/1000\n",
            "23/23 [==============================] - 0s 3ms/step - loss: nan - accuracy: 0.6339 - val_loss: nan - val_accuracy: 0.5449\n",
            "Epoch 44/1000\n",
            "23/23 [==============================] - 0s 2ms/step - loss: nan - accuracy: 0.6339 - val_loss: nan - val_accuracy: 0.5449\n",
            "Epoch 45/1000\n",
            "23/23 [==============================] - 0s 2ms/step - loss: nan - accuracy: 0.6339 - val_loss: nan - val_accuracy: 0.5449\n",
            "Epoch 46/1000\n",
            "23/23 [==============================] - 0s 2ms/step - loss: nan - accuracy: 0.6339 - val_loss: nan - val_accuracy: 0.5449\n",
            "Epoch 47/1000\n",
            "23/23 [==============================] - 0s 3ms/step - loss: nan - accuracy: 0.6339 - val_loss: nan - val_accuracy: 0.5449\n",
            "Epoch 48/1000\n",
            "23/23 [==============================] - 0s 2ms/step - loss: nan - accuracy: 0.6339 - val_loss: nan - val_accuracy: 0.5449\n",
            "Epoch 49/1000\n",
            "23/23 [==============================] - 0s 2ms/step - loss: nan - accuracy: 0.6339 - val_loss: nan - val_accuracy: 0.5449\n",
            "Epoch 50/1000\n",
            "23/23 [==============================] - 0s 2ms/step - loss: nan - accuracy: 0.6339 - val_loss: nan - val_accuracy: 0.5449\n",
            "Epoch 51/1000\n",
            "23/23 [==============================] - 0s 2ms/step - loss: nan - accuracy: 0.6339 - val_loss: nan - val_accuracy: 0.5449\n",
            "Epoch 52/1000\n",
            "23/23 [==============================] - 0s 2ms/step - loss: nan - accuracy: 0.6339 - val_loss: nan - val_accuracy: 0.5449\n",
            "Epoch 53/1000\n",
            "23/23 [==============================] - 0s 2ms/step - loss: nan - accuracy: 0.6339 - val_loss: nan - val_accuracy: 0.5449\n",
            "Epoch 54/1000\n",
            "23/23 [==============================] - 0s 2ms/step - loss: nan - accuracy: 0.6339 - val_loss: nan - val_accuracy: 0.5449\n",
            "Epoch 55/1000\n",
            "23/23 [==============================] - 0s 3ms/step - loss: nan - accuracy: 0.6339 - val_loss: nan - val_accuracy: 0.5449\n",
            "Epoch 56/1000\n",
            "23/23 [==============================] - 0s 3ms/step - loss: nan - accuracy: 0.6339 - val_loss: nan - val_accuracy: 0.5449\n",
            "Epoch 57/1000\n",
            "23/23 [==============================] - 0s 2ms/step - loss: nan - accuracy: 0.6339 - val_loss: nan - val_accuracy: 0.5449\n",
            "Epoch 58/1000\n",
            "23/23 [==============================] - 0s 3ms/step - loss: nan - accuracy: 0.6339 - val_loss: nan - val_accuracy: 0.5449\n",
            "Epoch 59/1000\n",
            "23/23 [==============================] - 0s 2ms/step - loss: nan - accuracy: 0.6339 - val_loss: nan - val_accuracy: 0.5449\n",
            "Epoch 60/1000\n",
            "23/23 [==============================] - 0s 3ms/step - loss: nan - accuracy: 0.6339 - val_loss: nan - val_accuracy: 0.5449\n",
            "Epoch 61/1000\n",
            "23/23 [==============================] - 0s 2ms/step - loss: nan - accuracy: 0.6339 - val_loss: nan - val_accuracy: 0.5449\n",
            "Epoch 62/1000\n",
            "23/23 [==============================] - 0s 3ms/step - loss: nan - accuracy: 0.6339 - val_loss: nan - val_accuracy: 0.5449\n",
            "Epoch 63/1000\n",
            "23/23 [==============================] - 0s 2ms/step - loss: nan - accuracy: 0.6339 - val_loss: nan - val_accuracy: 0.5449\n",
            "Epoch 64/1000\n",
            "23/23 [==============================] - 0s 3ms/step - loss: nan - accuracy: 0.6339 - val_loss: nan - val_accuracy: 0.5449\n",
            "Epoch 65/1000\n",
            "23/23 [==============================] - 0s 2ms/step - loss: nan - accuracy: 0.6339 - val_loss: nan - val_accuracy: 0.5449\n",
            "Epoch 66/1000\n",
            "23/23 [==============================] - 0s 2ms/step - loss: nan - accuracy: 0.6339 - val_loss: nan - val_accuracy: 0.5449\n",
            "Epoch 67/1000\n",
            "23/23 [==============================] - 0s 2ms/step - loss: nan - accuracy: 0.6339 - val_loss: nan - val_accuracy: 0.5449\n",
            "Epoch 68/1000\n",
            "23/23 [==============================] - 0s 2ms/step - loss: nan - accuracy: 0.6339 - val_loss: nan - val_accuracy: 0.5449\n",
            "Epoch 69/1000\n",
            "23/23 [==============================] - 0s 2ms/step - loss: nan - accuracy: 0.6339 - val_loss: nan - val_accuracy: 0.5449\n",
            "Epoch 70/1000\n",
            "23/23 [==============================] - 0s 3ms/step - loss: nan - accuracy: 0.6339 - val_loss: nan - val_accuracy: 0.5449\n",
            "Epoch 71/1000\n",
            "23/23 [==============================] - 0s 2ms/step - loss: nan - accuracy: 0.6339 - val_loss: nan - val_accuracy: 0.5449\n",
            "Epoch 72/1000\n",
            "23/23 [==============================] - 0s 2ms/step - loss: nan - accuracy: 0.6339 - val_loss: nan - val_accuracy: 0.5449\n",
            "Epoch 73/1000\n",
            "23/23 [==============================] - 0s 3ms/step - loss: nan - accuracy: 0.6339 - val_loss: nan - val_accuracy: 0.5449\n",
            "Epoch 74/1000\n",
            "23/23 [==============================] - 0s 2ms/step - loss: nan - accuracy: 0.6339 - val_loss: nan - val_accuracy: 0.5449\n",
            "Epoch 75/1000\n",
            "23/23 [==============================] - 0s 3ms/step - loss: nan - accuracy: 0.6339 - val_loss: nan - val_accuracy: 0.5449\n",
            "Epoch 76/1000\n",
            "23/23 [==============================] - 0s 2ms/step - loss: nan - accuracy: 0.6339 - val_loss: nan - val_accuracy: 0.5449\n",
            "Epoch 77/1000\n",
            "23/23 [==============================] - 0s 3ms/step - loss: nan - accuracy: 0.6339 - val_loss: nan - val_accuracy: 0.5449\n",
            "Epoch 78/1000\n",
            "23/23 [==============================] - 0s 3ms/step - loss: nan - accuracy: 0.6339 - val_loss: nan - val_accuracy: 0.5449\n",
            "Epoch 79/1000\n",
            "23/23 [==============================] - 0s 3ms/step - loss: nan - accuracy: 0.6339 - val_loss: nan - val_accuracy: 0.5449\n",
            "Epoch 80/1000\n",
            "23/23 [==============================] - 0s 2ms/step - loss: nan - accuracy: 0.6339 - val_loss: nan - val_accuracy: 0.5449\n",
            "Epoch 81/1000\n",
            "23/23 [==============================] - 0s 2ms/step - loss: nan - accuracy: 0.6339 - val_loss: nan - val_accuracy: 0.5449\n",
            "Epoch 82/1000\n",
            "23/23 [==============================] - 0s 2ms/step - loss: nan - accuracy: 0.6339 - val_loss: nan - val_accuracy: 0.5449\n",
            "Epoch 83/1000\n",
            "23/23 [==============================] - 0s 2ms/step - loss: nan - accuracy: 0.6339 - val_loss: nan - val_accuracy: 0.5449\n",
            "Epoch 84/1000\n",
            "23/23 [==============================] - 0s 2ms/step - loss: nan - accuracy: 0.6339 - val_loss: nan - val_accuracy: 0.5449\n",
            "Epoch 85/1000\n",
            "23/23 [==============================] - 0s 2ms/step - loss: nan - accuracy: 0.6339 - val_loss: nan - val_accuracy: 0.5449\n",
            "Epoch 86/1000\n",
            "23/23 [==============================] - 0s 2ms/step - loss: nan - accuracy: 0.6339 - val_loss: nan - val_accuracy: 0.5449\n",
            "Epoch 87/1000\n",
            "23/23 [==============================] - 0s 2ms/step - loss: nan - accuracy: 0.6339 - val_loss: nan - val_accuracy: 0.5449\n",
            "Epoch 88/1000\n",
            "23/23 [==============================] - 0s 2ms/step - loss: nan - accuracy: 0.6339 - val_loss: nan - val_accuracy: 0.5449\n",
            "Epoch 89/1000\n",
            "23/23 [==============================] - 0s 3ms/step - loss: nan - accuracy: 0.6339 - val_loss: nan - val_accuracy: 0.5449\n",
            "Epoch 90/1000\n",
            "23/23 [==============================] - 0s 3ms/step - loss: nan - accuracy: 0.6339 - val_loss: nan - val_accuracy: 0.5449\n",
            "Epoch 91/1000\n",
            "23/23 [==============================] - 0s 3ms/step - loss: nan - accuracy: 0.6339 - val_loss: nan - val_accuracy: 0.5449\n",
            "Epoch 92/1000\n",
            "23/23 [==============================] - 0s 2ms/step - loss: nan - accuracy: 0.6339 - val_loss: nan - val_accuracy: 0.5449\n",
            "Epoch 93/1000\n",
            "23/23 [==============================] - 0s 2ms/step - loss: nan - accuracy: 0.6339 - val_loss: nan - val_accuracy: 0.5449\n",
            "Epoch 94/1000\n",
            "23/23 [==============================] - 0s 3ms/step - loss: nan - accuracy: 0.6339 - val_loss: nan - val_accuracy: 0.5449\n",
            "Epoch 95/1000\n",
            "23/23 [==============================] - 0s 2ms/step - loss: nan - accuracy: 0.6339 - val_loss: nan - val_accuracy: 0.5449\n",
            "Epoch 96/1000\n",
            "23/23 [==============================] - 0s 2ms/step - loss: nan - accuracy: 0.6339 - val_loss: nan - val_accuracy: 0.5449\n",
            "Epoch 97/1000\n",
            "23/23 [==============================] - 0s 2ms/step - loss: nan - accuracy: 0.6339 - val_loss: nan - val_accuracy: 0.5449\n",
            "Epoch 98/1000\n",
            "23/23 [==============================] - 0s 3ms/step - loss: nan - accuracy: 0.6339 - val_loss: nan - val_accuracy: 0.5449\n",
            "Epoch 99/1000\n",
            "23/23 [==============================] - 0s 2ms/step - loss: nan - accuracy: 0.6339 - val_loss: nan - val_accuracy: 0.5449\n",
            "Epoch 100/1000\n",
            "23/23 [==============================] - 0s 2ms/step - loss: nan - accuracy: 0.6339 - val_loss: nan - val_accuracy: 0.5449\n",
            "Epoch 101/1000\n",
            "23/23 [==============================] - 0s 3ms/step - loss: nan - accuracy: 0.6339 - val_loss: nan - val_accuracy: 0.5449\n"
          ],
          "name": "stdout"
        }
      ]
    },
    {
      "cell_type": "code",
      "metadata": {
        "colab": {
          "base_uri": "https://localhost:8080/",
          "height": 705
        },
        "id": "awPmMvSqdua3",
        "outputId": "04be5518-6528-480a-e395-e0f224e3abc9"
      },
      "source": [
        "def pltGr(history, string):\n",
        "  plt.plot(history.history[string])\n",
        "  plt.plot(history.history['val_'+string])\n",
        "  plt.xlabel('Epochs')\n",
        "  plt.ylabel(string)\n",
        "  plt.legend([string, 'val_'+string])\n",
        "  plt.show()\n",
        "\n",
        "\n",
        "pltGr(history, 'accuracy')\n",
        "pltGr(history, 'loss')"
      ],
      "execution_count": 30,
      "outputs": [
        {
          "output_type": "display_data",
          "data": {
            "image/png": "[encoded data removed]",
            "text/plain": [
              "<Figure size 576x396 with 1 Axes>"
            ]
          },
          "metadata": {
            "tags": []
          }
        },
        {
          "output_type": "display_data",
          "data": {
            "image/png": "[encoded data removed]",
            "text/plain": [
              "<Figure size 576x396 with 1 Axes>"
            ]
          },
          "metadata": {
            "tags": []
          }
        }
      ]
    },
    {
      "cell_type": "code",
      "metadata": {
        "id": "3v_ZaKvbeNVu"
      },
      "source": [
        "# def predPlot(labels, preds):\n",
        "#   plt.scatter(labels, preds)\n",
        "#   plt.xlabel('True-Values/Labels')\n",
        "#   plt.ylabel('Predicted-Values')\n",
        "#   plt.axis('equal')\n",
        "#   plt.axis('square')\n",
        "#   #plt.xlim([0,plt.xlim()[1]])\n",
        "#   #plt.ylim([0,plt.ylim()[1]])\n",
        "#   #plt.plot([-100,100],[-100,100])\n",
        "#   plt.show()"
      ],
      "execution_count": 31,
      "outputs": []
    },
    {
      "cell_type": "code",
      "metadata": {
        "colab": {
          "base_uri": "https://localhost:8080/",
          "height": 214
        },
        "id": "wXhChkTfd41s",
        "outputId": "19b76b44-1dee-4d15-f339-cc94c34f0ade"
      },
      "source": [
        "#Kaggle\n",
        "testPreds = model.predict(testFeatures)\n",
        "\n",
        "# predPlot(testLabels, testPreds)"
      ],
      "execution_count": 32,
      "outputs": [
        {
          "output_type": "error",
          "ename": "NameError",
          "evalue": "ignored",
          "traceback": [
            "\u001b[0;31m---------------------------------------------------------------------------\u001b[0m",
            "\u001b[0;31mNameError\u001b[0m                                 Traceback (most recent call last)",
            "\u001b[0;32m<ipython-input-32-2d14e05f3049>\u001b[0m in \u001b[0;36m<module>\u001b[0;34m()\u001b[0m\n\u001b[1;32m      1\u001b[0m \u001b[0;31m#Kaggle\u001b[0m\u001b[0;34m\u001b[0m\u001b[0;34m\u001b[0m\u001b[0;34m\u001b[0m\u001b[0m\n\u001b[0;32m----> 2\u001b[0;31m \u001b[0mtestPreds\u001b[0m \u001b[0;34m=\u001b[0m \u001b[0mmodel\u001b[0m\u001b[0;34m.\u001b[0m\u001b[0mpredict\u001b[0m\u001b[0;34m(\u001b[0m\u001b[0mtestFeatures\u001b[0m\u001b[0;34m)\u001b[0m\u001b[0;34m\u001b[0m\u001b[0;34m\u001b[0m\u001b[0m\n\u001b[0m\u001b[1;32m      3\u001b[0m \u001b[0;34m\u001b[0m\u001b[0m\n\u001b[1;32m      4\u001b[0m \u001b[0;31m# predPlot(testLabels, testPreds)\u001b[0m\u001b[0;34m\u001b[0m\u001b[0;34m\u001b[0m\u001b[0;34m\u001b[0m\u001b[0m\n",
            "\u001b[0;31mNameError\u001b[0m: name 'testFeatures' is not defined"
          ]
        }
      ]
    },
    {
      "cell_type": "code",
      "metadata": {
        "id": "vYktWBrleJ1P"
      },
      "source": [
        "def errorPlot(labels, preds, binVal):\n",
        "  err = preds - labels\n",
        "  plt.hist(err, bins=binVal)\n",
        "  plt.xlabel('Prediction-Error')\n",
        "  plt.ylabel('Count')\n",
        "  plt.show()"
      ],
      "execution_count": null,
      "outputs": []
    },
    {
      "cell_type": "code",
      "metadata": {
        "id": "tlt8B7xBiVhf"
      },
      "source": [
        "errorPlot(testLabels, testPreds, 100)"
      ],
      "execution_count": null,
      "outputs": []
    }
  ]
}