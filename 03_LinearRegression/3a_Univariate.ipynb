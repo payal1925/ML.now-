{
  "nbformat": 4,
  "nbformat_minor": 0,
  "metadata": {
    "colab": {
      "name": "3.1_Univariate.ipynb",
      "provenance": [],
      "toc_visible": true,
      "include_colab_link": true
    },
    "kernelspec": {
      "name": "python3",
      "display_name": "Python 3"
    }
  },
  "cells": [
    {
      "cell_type": "markdown",
      "metadata": {
        "id": "view-in-github",
        "colab_type": "text"
      },
      "source": [
        "<a href=\"https://colab.research.google.com/github/payal1925/MLnow_2.0-/blob/main/03_LinearRegression/3a_Univariate.ipynb\" target=\"_parent\"><img src=\"https://colab.research.google.com/assets/colab-badge.svg\" alt=\"Open In Colab\"/></a>"
      ]
    },
    {
      "cell_type": "markdown",
      "metadata": {
        "id": "q_569ugy6lyY"
      },
      "source": [
        "> This notebook was created for code illustration of the `ML_now()` course\n",
        "\n",
        "\n",
        "`Univariate Linear Regression`\n",
        "\n",
        "[Link to Download the dataset](https://archive.ics.uci.edu/ml/datasets/Student+Performance)\n",
        "\n",
        "**Date Created**: June 6, 2021\n",
        "\n",
        "\n",
        "**Author**:\n",
        "Payal Jaiswal\n",
        "\n",
        "**Reach out**: [LinkedIn](https://www.linkedin.com/in/payaljaiswal)\n",
        "\n",
        "[[Course Repository](https://github.com/payal1925/MLnow_2.0-)]"
      ]
    },
    {
      "cell_type": "markdown",
      "metadata": {
        "id": "KmW9S6zjaauQ"
      },
      "source": [
        "## Setup"
      ]
    },
    {
      "cell_type": "code",
      "metadata": {
        "colab": {
          "base_uri": "https://localhost:8080/"
        },
        "id": "oX_QibhWsnnX",
        "outputId": "7833fec6-9c60-4910-ec85-b43abd5be109"
      },
      "source": [
        "from google.colab import drive\n",
        "drive.mount('/content/drive')"
      ],
      "execution_count": 1,
      "outputs": [
        {
          "output_type": "stream",
          "text": [
            "Drive already mounted at /content/drive; to attempt to forcibly remount, call drive.mount(\"/content/drive\", force_remount=True).\n"
          ],
          "name": "stdout"
        }
      ]
    },
    {
      "cell_type": "code",
      "metadata": {
        "colab": {
          "base_uri": "https://localhost:8080/"
        },
        "id": "wYuNn17Isvml",
        "outputId": "2f4512a2-7dd2-4a5c-b068-c39c55976f53"
      },
      "source": [
        "cd '/content/drive/MyDrive/student2'"
      ],
      "execution_count": 2,
      "outputs": [
        {
          "output_type": "stream",
          "text": [
            "/content/drive/MyDrive/student2\n"
          ],
          "name": "stdout"
        }
      ]
    },
    {
      "cell_type": "code",
      "metadata": {
        "colab": {
          "base_uri": "https://localhost:8080/"
        },
        "id": "oR69jwALs-uP",
        "outputId": "13e5d811-e0ec-4e09-bb81-7e2c416dbc7e"
      },
      "source": [
        "ls"
      ],
      "execution_count": 3,
      "outputs": [
        {
          "output_type": "stream",
          "text": [
            "student2-mat.csv  student2-por.csv  univariate_MathData_2.csv\n",
            "student2-merge.R  student2.txt\n"
          ],
          "name": "stdout"
        }
      ]
    },
    {
      "cell_type": "code",
      "metadata": {
        "id": "0rYwvbeMtPJg"
      },
      "source": [
        "import os"
      ],
      "execution_count": 4,
      "outputs": []
    },
    {
      "cell_type": "code",
      "metadata": {
        "id": "cnGQRbmes_tZ"
      },
      "source": [
        "import pandas as pd #working with csv or excel files\n",
        "import numpy as np #working with numbers/ arrays/ tensors\n",
        "import tensorflow as tf #framework\n",
        "from tensorflow import keras #API / library \n",
        "import os #using os commands between the python language"
      ],
      "execution_count": 5,
      "outputs": []
    },
    {
      "cell_type": "code",
      "metadata": {
        "id": "VV-Ps6dJtX6B"
      },
      "source": [
        "mathData = pd.read_csv('student2-mat.csv', sep=';') #load the csv file as dataframe"
      ],
      "execution_count": 6,
      "outputs": []
    },
    {
      "cell_type": "code",
      "metadata": {
        "colab": {
          "base_uri": "https://localhost:8080/",
          "height": 379
        },
        "id": "2_KId_bptr05",
        "outputId": "571afdd8-8c9e-4572-fc2c-897e63504a70"
      },
      "source": [
        "mathData.head(10) #print the first ten rows of the dataframe"
      ],
      "execution_count": 7,
      "outputs": [
        {
          "output_type": "execute_result",
          "data": {
            "text/html": [
              "<div>\n",
              "<style scoped>\n",
              "    .dataframe tbody tr th:only-of-type {\n",
              "        vertical-align: middle;\n",
              "    }\n",
              "\n",
              "    .dataframe tbody tr th {\n",
              "        vertical-align: top;\n",
              "    }\n",
              "\n",
              "    .dataframe thead th {\n",
              "        text-align: right;\n",
              "    }\n",
              "</style>\n",
              "<table border=\"1\" class=\"dataframe\">\n",
              "  <thead>\n",
              "    <tr style=\"text-align: right;\">\n",
              "      <th></th>\n",
              "      <th>school</th>\n",
              "      <th>sex</th>\n",
              "      <th>age</th>\n",
              "      <th>address</th>\n",
              "      <th>famsize</th>\n",
              "      <th>Pstatus</th>\n",
              "      <th>Medu</th>\n",
              "      <th>Fedu</th>\n",
              "      <th>Mjob</th>\n",
              "      <th>Fjob</th>\n",
              "      <th>reason</th>\n",
              "      <th>guardian</th>\n",
              "      <th>traveltime</th>\n",
              "      <th>studytime</th>\n",
              "      <th>failures</th>\n",
              "      <th>schoolsup</th>\n",
              "      <th>famsup</th>\n",
              "      <th>paid</th>\n",
              "      <th>activities</th>\n",
              "      <th>nursery</th>\n",
              "      <th>higher</th>\n",
              "      <th>internet</th>\n",
              "      <th>romantic</th>\n",
              "      <th>famrel</th>\n",
              "      <th>freetime</th>\n",
              "      <th>goout</th>\n",
              "      <th>Dalc</th>\n",
              "      <th>Walc</th>\n",
              "      <th>health</th>\n",
              "      <th>absences</th>\n",
              "      <th>G1</th>\n",
              "      <th>G2</th>\n",
              "      <th>G3</th>\n",
              "    </tr>\n",
              "  </thead>\n",
              "  <tbody>\n",
              "    <tr>\n",
              "      <th>0</th>\n",
              "      <td>GP</td>\n",
              "      <td>F</td>\n",
              "      <td>18</td>\n",
              "      <td>U</td>\n",
              "      <td>GT3</td>\n",
              "      <td>A</td>\n",
              "      <td>4</td>\n",
              "      <td>4</td>\n",
              "      <td>at_home</td>\n",
              "      <td>teacher</td>\n",
              "      <td>course</td>\n",
              "      <td>mother</td>\n",
              "      <td>2</td>\n",
              "      <td>2</td>\n",
              "      <td>0</td>\n",
              "      <td>yes</td>\n",
              "      <td>no</td>\n",
              "      <td>no</td>\n",
              "      <td>no</td>\n",
              "      <td>yes</td>\n",
              "      <td>yes</td>\n",
              "      <td>no</td>\n",
              "      <td>no</td>\n",
              "      <td>4</td>\n",
              "      <td>3</td>\n",
              "      <td>4</td>\n",
              "      <td>1</td>\n",
              "      <td>1</td>\n",
              "      <td>3</td>\n",
              "      <td>6</td>\n",
              "      <td>5</td>\n",
              "      <td>6</td>\n",
              "      <td>6</td>\n",
              "    </tr>\n",
              "    <tr>\n",
              "      <th>1</th>\n",
              "      <td>GP</td>\n",
              "      <td>F</td>\n",
              "      <td>17</td>\n",
              "      <td>U</td>\n",
              "      <td>GT3</td>\n",
              "      <td>T</td>\n",
              "      <td>1</td>\n",
              "      <td>1</td>\n",
              "      <td>at_home</td>\n",
              "      <td>other</td>\n",
              "      <td>course</td>\n",
              "      <td>father</td>\n",
              "      <td>1</td>\n",
              "      <td>2</td>\n",
              "      <td>0</td>\n",
              "      <td>no</td>\n",
              "      <td>yes</td>\n",
              "      <td>no</td>\n",
              "      <td>no</td>\n",
              "      <td>no</td>\n",
              "      <td>yes</td>\n",
              "      <td>yes</td>\n",
              "      <td>no</td>\n",
              "      <td>5</td>\n",
              "      <td>3</td>\n",
              "      <td>3</td>\n",
              "      <td>1</td>\n",
              "      <td>1</td>\n",
              "      <td>3</td>\n",
              "      <td>4</td>\n",
              "      <td>5</td>\n",
              "      <td>5</td>\n",
              "      <td>6</td>\n",
              "    </tr>\n",
              "    <tr>\n",
              "      <th>2</th>\n",
              "      <td>GP</td>\n",
              "      <td>F</td>\n",
              "      <td>15</td>\n",
              "      <td>U</td>\n",
              "      <td>LE3</td>\n",
              "      <td>T</td>\n",
              "      <td>1</td>\n",
              "      <td>1</td>\n",
              "      <td>at_home</td>\n",
              "      <td>other</td>\n",
              "      <td>other</td>\n",
              "      <td>mother</td>\n",
              "      <td>1</td>\n",
              "      <td>2</td>\n",
              "      <td>3</td>\n",
              "      <td>yes</td>\n",
              "      <td>no</td>\n",
              "      <td>yes</td>\n",
              "      <td>no</td>\n",
              "      <td>yes</td>\n",
              "      <td>yes</td>\n",
              "      <td>yes</td>\n",
              "      <td>no</td>\n",
              "      <td>4</td>\n",
              "      <td>3</td>\n",
              "      <td>2</td>\n",
              "      <td>2</td>\n",
              "      <td>3</td>\n",
              "      <td>3</td>\n",
              "      <td>10</td>\n",
              "      <td>7</td>\n",
              "      <td>8</td>\n",
              "      <td>10</td>\n",
              "    </tr>\n",
              "    <tr>\n",
              "      <th>3</th>\n",
              "      <td>GP</td>\n",
              "      <td>F</td>\n",
              "      <td>15</td>\n",
              "      <td>U</td>\n",
              "      <td>GT3</td>\n",
              "      <td>T</td>\n",
              "      <td>4</td>\n",
              "      <td>2</td>\n",
              "      <td>health</td>\n",
              "      <td>services</td>\n",
              "      <td>home</td>\n",
              "      <td>mother</td>\n",
              "      <td>1</td>\n",
              "      <td>3</td>\n",
              "      <td>0</td>\n",
              "      <td>no</td>\n",
              "      <td>yes</td>\n",
              "      <td>yes</td>\n",
              "      <td>yes</td>\n",
              "      <td>yes</td>\n",
              "      <td>yes</td>\n",
              "      <td>yes</td>\n",
              "      <td>yes</td>\n",
              "      <td>3</td>\n",
              "      <td>2</td>\n",
              "      <td>2</td>\n",
              "      <td>1</td>\n",
              "      <td>1</td>\n",
              "      <td>5</td>\n",
              "      <td>2</td>\n",
              "      <td>15</td>\n",
              "      <td>14</td>\n",
              "      <td>15</td>\n",
              "    </tr>\n",
              "    <tr>\n",
              "      <th>4</th>\n",
              "      <td>GP</td>\n",
              "      <td>F</td>\n",
              "      <td>16</td>\n",
              "      <td>U</td>\n",
              "      <td>GT3</td>\n",
              "      <td>T</td>\n",
              "      <td>3</td>\n",
              "      <td>3</td>\n",
              "      <td>other</td>\n",
              "      <td>other</td>\n",
              "      <td>home</td>\n",
              "      <td>father</td>\n",
              "      <td>1</td>\n",
              "      <td>2</td>\n",
              "      <td>0</td>\n",
              "      <td>no</td>\n",
              "      <td>yes</td>\n",
              "      <td>yes</td>\n",
              "      <td>no</td>\n",
              "      <td>yes</td>\n",
              "      <td>yes</td>\n",
              "      <td>no</td>\n",
              "      <td>no</td>\n",
              "      <td>4</td>\n",
              "      <td>3</td>\n",
              "      <td>2</td>\n",
              "      <td>1</td>\n",
              "      <td>2</td>\n",
              "      <td>5</td>\n",
              "      <td>4</td>\n",
              "      <td>6</td>\n",
              "      <td>10</td>\n",
              "      <td>10</td>\n",
              "    </tr>\n",
              "    <tr>\n",
              "      <th>5</th>\n",
              "      <td>GP</td>\n",
              "      <td>M</td>\n",
              "      <td>16</td>\n",
              "      <td>U</td>\n",
              "      <td>LE3</td>\n",
              "      <td>T</td>\n",
              "      <td>4</td>\n",
              "      <td>3</td>\n",
              "      <td>services</td>\n",
              "      <td>other</td>\n",
              "      <td>reputation</td>\n",
              "      <td>mother</td>\n",
              "      <td>1</td>\n",
              "      <td>2</td>\n",
              "      <td>0</td>\n",
              "      <td>no</td>\n",
              "      <td>yes</td>\n",
              "      <td>yes</td>\n",
              "      <td>yes</td>\n",
              "      <td>yes</td>\n",
              "      <td>yes</td>\n",
              "      <td>yes</td>\n",
              "      <td>no</td>\n",
              "      <td>5</td>\n",
              "      <td>4</td>\n",
              "      <td>2</td>\n",
              "      <td>1</td>\n",
              "      <td>2</td>\n",
              "      <td>5</td>\n",
              "      <td>10</td>\n",
              "      <td>15</td>\n",
              "      <td>15</td>\n",
              "      <td>15</td>\n",
              "    </tr>\n",
              "    <tr>\n",
              "      <th>6</th>\n",
              "      <td>GP</td>\n",
              "      <td>M</td>\n",
              "      <td>16</td>\n",
              "      <td>U</td>\n",
              "      <td>LE3</td>\n",
              "      <td>T</td>\n",
              "      <td>2</td>\n",
              "      <td>2</td>\n",
              "      <td>other</td>\n",
              "      <td>other</td>\n",
              "      <td>home</td>\n",
              "      <td>mother</td>\n",
              "      <td>1</td>\n",
              "      <td>2</td>\n",
              "      <td>0</td>\n",
              "      <td>no</td>\n",
              "      <td>no</td>\n",
              "      <td>no</td>\n",
              "      <td>no</td>\n",
              "      <td>yes</td>\n",
              "      <td>yes</td>\n",
              "      <td>yes</td>\n",
              "      <td>no</td>\n",
              "      <td>4</td>\n",
              "      <td>4</td>\n",
              "      <td>4</td>\n",
              "      <td>1</td>\n",
              "      <td>1</td>\n",
              "      <td>3</td>\n",
              "      <td>0</td>\n",
              "      <td>12</td>\n",
              "      <td>12</td>\n",
              "      <td>11</td>\n",
              "    </tr>\n",
              "    <tr>\n",
              "      <th>7</th>\n",
              "      <td>GP</td>\n",
              "      <td>F</td>\n",
              "      <td>17</td>\n",
              "      <td>U</td>\n",
              "      <td>GT3</td>\n",
              "      <td>A</td>\n",
              "      <td>4</td>\n",
              "      <td>4</td>\n",
              "      <td>other</td>\n",
              "      <td>teacher</td>\n",
              "      <td>home</td>\n",
              "      <td>mother</td>\n",
              "      <td>2</td>\n",
              "      <td>2</td>\n",
              "      <td>0</td>\n",
              "      <td>yes</td>\n",
              "      <td>yes</td>\n",
              "      <td>no</td>\n",
              "      <td>no</td>\n",
              "      <td>yes</td>\n",
              "      <td>yes</td>\n",
              "      <td>no</td>\n",
              "      <td>no</td>\n",
              "      <td>4</td>\n",
              "      <td>1</td>\n",
              "      <td>4</td>\n",
              "      <td>1</td>\n",
              "      <td>1</td>\n",
              "      <td>1</td>\n",
              "      <td>6</td>\n",
              "      <td>6</td>\n",
              "      <td>5</td>\n",
              "      <td>6</td>\n",
              "    </tr>\n",
              "    <tr>\n",
              "      <th>8</th>\n",
              "      <td>GP</td>\n",
              "      <td>M</td>\n",
              "      <td>15</td>\n",
              "      <td>U</td>\n",
              "      <td>LE3</td>\n",
              "      <td>A</td>\n",
              "      <td>3</td>\n",
              "      <td>2</td>\n",
              "      <td>services</td>\n",
              "      <td>other</td>\n",
              "      <td>home</td>\n",
              "      <td>mother</td>\n",
              "      <td>1</td>\n",
              "      <td>2</td>\n",
              "      <td>0</td>\n",
              "      <td>no</td>\n",
              "      <td>yes</td>\n",
              "      <td>yes</td>\n",
              "      <td>no</td>\n",
              "      <td>yes</td>\n",
              "      <td>yes</td>\n",
              "      <td>yes</td>\n",
              "      <td>no</td>\n",
              "      <td>4</td>\n",
              "      <td>2</td>\n",
              "      <td>2</td>\n",
              "      <td>1</td>\n",
              "      <td>1</td>\n",
              "      <td>1</td>\n",
              "      <td>0</td>\n",
              "      <td>16</td>\n",
              "      <td>18</td>\n",
              "      <td>19</td>\n",
              "    </tr>\n",
              "    <tr>\n",
              "      <th>9</th>\n",
              "      <td>GP</td>\n",
              "      <td>M</td>\n",
              "      <td>15</td>\n",
              "      <td>U</td>\n",
              "      <td>GT3</td>\n",
              "      <td>T</td>\n",
              "      <td>3</td>\n",
              "      <td>4</td>\n",
              "      <td>other</td>\n",
              "      <td>other</td>\n",
              "      <td>home</td>\n",
              "      <td>mother</td>\n",
              "      <td>1</td>\n",
              "      <td>2</td>\n",
              "      <td>0</td>\n",
              "      <td>no</td>\n",
              "      <td>yes</td>\n",
              "      <td>yes</td>\n",
              "      <td>yes</td>\n",
              "      <td>yes</td>\n",
              "      <td>yes</td>\n",
              "      <td>yes</td>\n",
              "      <td>no</td>\n",
              "      <td>5</td>\n",
              "      <td>5</td>\n",
              "      <td>1</td>\n",
              "      <td>1</td>\n",
              "      <td>1</td>\n",
              "      <td>5</td>\n",
              "      <td>0</td>\n",
              "      <td>14</td>\n",
              "      <td>15</td>\n",
              "      <td>15</td>\n",
              "    </tr>\n",
              "  </tbody>\n",
              "</table>\n",
              "</div>"
            ],
            "text/plain": [
              "  school sex  age address famsize Pstatus  ...  Walc  health absences  G1  G2  G3\n",
              "0     GP   F   18       U     GT3       A  ...     1       3        6   5   6   6\n",
              "1     GP   F   17       U     GT3       T  ...     1       3        4   5   5   6\n",
              "2     GP   F   15       U     LE3       T  ...     3       3       10   7   8  10\n",
              "3     GP   F   15       U     GT3       T  ...     1       5        2  15  14  15\n",
              "4     GP   F   16       U     GT3       T  ...     2       5        4   6  10  10\n",
              "5     GP   M   16       U     LE3       T  ...     2       5       10  15  15  15\n",
              "6     GP   M   16       U     LE3       T  ...     1       3        0  12  12  11\n",
              "7     GP   F   17       U     GT3       A  ...     1       1        6   6   5   6\n",
              "8     GP   M   15       U     LE3       A  ...     1       1        0  16  18  19\n",
              "9     GP   M   15       U     GT3       T  ...     1       5        0  14  15  15\n",
              "\n",
              "[10 rows x 33 columns]"
            ]
          },
          "metadata": {
            "tags": []
          },
          "execution_count": 7
        }
      ]
    },
    {
      "cell_type": "markdown",
      "metadata": {
        "id": "i2bal50yG_PZ"
      },
      "source": [
        "We are just going to consider the columns `G1` and `G3` for univariate linear regression\n",
        "\n",
        "$G3_i = G1_i  \\cdot \\theta_1 + \\theta_0$"
      ]
    },
    {
      "cell_type": "code",
      "metadata": {
        "colab": {
          "base_uri": "https://localhost:8080/",
          "height": 204
        },
        "id": "Yw0PNCuTSEDC",
        "outputId": "ab69e407-de93-4f65-8e05-6306e1383cba"
      },
      "source": [
        "uniMathData = mathData[['G1', 'G3']]\n",
        "uniMathData.head(5)"
      ],
      "execution_count": 8,
      "outputs": [
        {
          "output_type": "execute_result",
          "data": {
            "text/html": [
              "<div>\n",
              "<style scoped>\n",
              "    .dataframe tbody tr th:only-of-type {\n",
              "        vertical-align: middle;\n",
              "    }\n",
              "\n",
              "    .dataframe tbody tr th {\n",
              "        vertical-align: top;\n",
              "    }\n",
              "\n",
              "    .dataframe thead th {\n",
              "        text-align: right;\n",
              "    }\n",
              "</style>\n",
              "<table border=\"1\" class=\"dataframe\">\n",
              "  <thead>\n",
              "    <tr style=\"text-align: right;\">\n",
              "      <th></th>\n",
              "      <th>G1</th>\n",
              "      <th>G3</th>\n",
              "    </tr>\n",
              "  </thead>\n",
              "  <tbody>\n",
              "    <tr>\n",
              "      <th>0</th>\n",
              "      <td>5</td>\n",
              "      <td>6</td>\n",
              "    </tr>\n",
              "    <tr>\n",
              "      <th>1</th>\n",
              "      <td>5</td>\n",
              "      <td>6</td>\n",
              "    </tr>\n",
              "    <tr>\n",
              "      <th>2</th>\n",
              "      <td>7</td>\n",
              "      <td>10</td>\n",
              "    </tr>\n",
              "    <tr>\n",
              "      <th>3</th>\n",
              "      <td>15</td>\n",
              "      <td>15</td>\n",
              "    </tr>\n",
              "    <tr>\n",
              "      <th>4</th>\n",
              "      <td>6</td>\n",
              "      <td>10</td>\n",
              "    </tr>\n",
              "  </tbody>\n",
              "</table>\n",
              "</div>"
            ],
            "text/plain": [
              "   G1  G3\n",
              "0   5   6\n",
              "1   5   6\n",
              "2   7  10\n",
              "3  15  15\n",
              "4   6  10"
            ]
          },
          "metadata": {
            "tags": []
          },
          "execution_count": 8
        }
      ]
    },
    {
      "cell_type": "code",
      "metadata": {
        "id": "eyzP9mL4Hmb5"
      },
      "source": [
        "uniMathData.to_csv('univariate_MathData_2.csv')"
      ],
      "execution_count": 9,
      "outputs": []
    },
    {
      "cell_type": "code",
      "metadata": {
        "colab": {
          "base_uri": "https://localhost:8080/"
        },
        "id": "I-3qK_nNxnTA",
        "outputId": "fd8b7a4c-73d5-4054-de0c-15fa930064c4"
      },
      "source": [
        "ls"
      ],
      "execution_count": 10,
      "outputs": [
        {
          "output_type": "stream",
          "text": [
            "student2-mat.csv  student2-por.csv  univariate_MathData_2.csv\n",
            "student2-merge.R  student2.txt\n"
          ],
          "name": "stdout"
        }
      ]
    },
    {
      "cell_type": "markdown",
      "metadata": {
        "id": "ImV3p6AKxszU"
      },
      "source": [
        "## Data visualization"
      ]
    },
    {
      "cell_type": "code",
      "metadata": {
        "colab": {
          "base_uri": "https://localhost:8080/",
          "height": 157
        },
        "id": "RqumcsZLxq4v",
        "outputId": "0467741e-4e8a-4208-d1c8-53b224482f9e"
      },
      "source": [
        "import seaborn as sns\n",
        "sns.palplot(sns.color_palette('PuOr')) #Purple to Orange colors\n",
        "pal = sns.color_palette('PuOr', 6) #print 6 color shades from Purple to Orange\n",
        "pal.as_hex() #set hex code values for colors\n",
        "\n",
        "import matplotlib.pyplot as plt\n",
        "plt.style.use(['seaborn'])\n",
        "sns_colors = ['#c6690c', '#664697'] #orange Purple hex codes\n",
        "sns.set_palette(sns_colors) #set the palette as sns_colors \n",
        "sns.palplot(sns.color_palette(sns_colors)) #plot the color codes"
      ],
      "execution_count": 11,
      "outputs": [
        {
          "output_type": "display_data",
          "data": {
            "image/png": "[encoded data removed]",
            "text/plain": [
              "<Figure size 432x72 with 1 Axes>"
            ]
          },
          "metadata": {
            "tags": [],
            "needs_background": "light"
          }
        },
        {
          "output_type": "display_data",
          "data": {
            "image/png": "[encoded data removed]",
            "text/plain": [
              "<Figure size 144x72 with 1 Axes>"
            ]
          },
          "metadata": {
            "tags": []
          }
        }
      ]
    },
    {
      "cell_type": "code",
      "metadata": {
        "colab": {
          "base_uri": "https://localhost:8080/"
        },
        "id": "A6MT5E8Fy7MZ",
        "outputId": "ac2aeb4b-4ade-4e6f-c09c-acf6bfee06ee"
      },
      "source": [
        "uniMathData.columns #columns in the dataframe"
      ],
      "execution_count": 12,
      "outputs": [
        {
          "output_type": "execute_result",
          "data": {
            "text/plain": [
              "Index(['G1', 'G3'], dtype='object')"
            ]
          },
          "metadata": {
            "tags": []
          },
          "execution_count": 12
        }
      ]
    },
    {
      "cell_type": "code",
      "metadata": {
        "colab": {
          "base_uri": "https://localhost:8080/",
          "height": 391
        },
        "id": "PrsTwdHHzBbk",
        "outputId": "f84ee64e-aa5b-445a-cf59-523e6a254b81"
      },
      "source": [
        "#pairplot for all the values\n",
        "\n",
        "sns.pairplot(uniMathData,\n",
        "             x_vars = ['G1', 'G3'],\n",
        "             y_vars =  ['G1', 'G3'],\n",
        "       diag_kind='kde'\n",
        "             )"
      ],
      "execution_count": 13,
      "outputs": [
        {
          "output_type": "execute_result",
          "data": {
            "text/plain": [
              "<seaborn.axisgrid.PairGrid at 0x7fc0604c9590>"
            ]
          },
          "metadata": {
            "tags": []
          },
          "execution_count": 13
        },
        {
          "output_type": "display_data",
          "data": {
            "image/png": "[encoded data removed]",
            "text/plain": [
              "<Figure size 360x360 with 6 Axes>"
            ]
          },
          "metadata": {
            "tags": []
          }
        }
      ]
    },
    {
      "cell_type": "markdown",
      "metadata": {
        "id": "Klm33YcpKZkl"
      },
      "source": [
        "## Data Splits"
      ]
    },
    {
      "cell_type": "code",
      "metadata": {
        "colab": {
          "base_uri": "https://localhost:8080/"
        },
        "id": "UwrSOCKS1NhN",
        "outputId": "bc9dc7d7-81b0-4720-d7b2-f8009a9d588b"
      },
      "source": [
        "#80-20 train-test percent split\n",
        "\n",
        "trainDataset = uniMathData.sample(frac=0.8, random_state=0) \n",
        "testDataset = uniMathData.drop(trainDataset.index)\n",
        "\n",
        "print(trainDataset.head())\n",
        "print(testDataset.head())"
      ],
      "execution_count": 14,
      "outputs": [
        {
          "output_type": "stream",
          "text": [
            "     G1  G3\n",
            "329  14  14\n",
            "318  11  10\n",
            "317   9   9\n",
            "65   16  15\n",
            "59   15  16\n",
            "    G1  G3\n",
            "9   14  15\n",
            "25   6   8\n",
            "28  11  11\n",
            "31  17  17\n",
            "32  17  16\n"
          ],
          "name": "stdout"
        }
      ]
    },
    {
      "cell_type": "code",
      "metadata": {
        "colab": {
          "base_uri": "https://localhost:8080/"
        },
        "id": "YWO2xRV53wV-",
        "outputId": "3e0f007c-823e-4661-f5e0-d2e0e75d442b"
      },
      "source": [
        "print(trainDataset.shape)\n",
        "print(testDataset.shape)"
      ],
      "execution_count": 15,
      "outputs": [
        {
          "output_type": "stream",
          "text": [
            "(316, 2)\n",
            "(79, 2)\n"
          ],
          "name": "stdout"
        }
      ]
    },
    {
      "cell_type": "code",
      "metadata": {
        "colab": {
          "base_uri": "https://localhost:8080/"
        },
        "id": "OmDTbvMC32hg",
        "outputId": "c29e1c59-a6d4-49d9-c6a8-c0b7ea7842f5"
      },
      "source": [
        "#copy the trainDataset dataframe for getting the features\n",
        "\n",
        "trainFeatures = trainDataset.copy()\n",
        "testFeatures = testDataset.copy()\n",
        "\n",
        "print(trainFeatures.head())\n",
        "print(testFeatures.head())"
      ],
      "execution_count": 16,
      "outputs": [
        {
          "output_type": "stream",
          "text": [
            "     G1  G3\n",
            "329  14  14\n",
            "318  11  10\n",
            "317   9   9\n",
            "65   16  15\n",
            "59   15  16\n",
            "    G1  G3\n",
            "9   14  15\n",
            "25   6   8\n",
            "28  11  11\n",
            "31  17  17\n",
            "32  17  16\n"
          ],
          "name": "stdout"
        }
      ]
    },
    {
      "cell_type": "code",
      "metadata": {
        "colab": {
          "base_uri": "https://localhost:8080/"
        },
        "id": "jSR0_uni4ayh",
        "outputId": "f59275ae-0320-402e-aec3-d0aacec764d6"
      },
      "source": [
        "#removing the G3 column and saving it into the labels variable\n",
        "\n",
        "trainLabels = trainFeatures.pop('G3')\n",
        "testLabels = testFeatures.pop('G3')\n",
        "\n",
        "print(trainLabels.head())\n",
        "print(testLabels.head())"
      ],
      "execution_count": 17,
      "outputs": [
        {
          "output_type": "stream",
          "text": [
            "329    14\n",
            "318    10\n",
            "317     9\n",
            "65     15\n",
            "59     16\n",
            "Name: G3, dtype: int64\n",
            "9     15\n",
            "25     8\n",
            "28    11\n",
            "31    17\n",
            "32    16\n",
            "Name: G3, dtype: int64\n"
          ],
          "name": "stdout"
        }
      ]
    },
    {
      "cell_type": "code",
      "metadata": {
        "colab": {
          "base_uri": "https://localhost:8080/"
        },
        "id": "HnGSqb-q4wk8",
        "outputId": "19f13c15-71f4-4286-c7b5-4431c55b1ed6"
      },
      "source": [
        "print(trainFeatures.head())\n",
        "print(testFeatures.head())"
      ],
      "execution_count": 18,
      "outputs": [
        {
          "output_type": "stream",
          "text": [
            "     G1\n",
            "329  14\n",
            "318  11\n",
            "317   9\n",
            "65   16\n",
            "59   15\n",
            "    G1\n",
            "9   14\n",
            "25   6\n",
            "28  11\n",
            "31  17\n",
            "32  17\n"
          ],
          "name": "stdout"
        }
      ]
    },
    {
      "cell_type": "code",
      "metadata": {
        "id": "XPTSq34jk4o_"
      },
      "source": [
        "# univariate -> num(features) = 1\n",
        "# multvariate -> num(features) > 1 = 11\n",
        "\n",
        "\n",
        "model = tf.keras.Sequential([\n",
        "                             tf.keras.layers.Dense(1)\n",
        "\n",
        "])"
      ],
      "execution_count": 19,
      "outputs": []
    },
    {
      "cell_type": "code",
      "metadata": {
        "id": "4C4GKBdE6iCE"
      },
      "source": [
        "model.compile(\n",
        "    loss = 'mean_absolute_error', #minimizing the MAE loss\n",
        "    optimizer = tf.keras.optimizers.Adam(0.001), #learning rate specified as 0.001\n",
        "    # optimizer = 'adam', #takes the default learning rate\n",
        "    metrics = ['mae', 'mse'] #meanSquare and meanAbsolute error metrics\n",
        ")"
      ],
      "execution_count": 20,
      "outputs": []
    },
    {
      "cell_type": "code",
      "metadata": {
        "colab": {
          "base_uri": "https://localhost:8080/"
        },
        "id": "d_A7DrhB6zvm",
        "outputId": "d4ec0479-736a-4e85-98ef-3887bc2530a3"
      },
      "source": [
        "numEpochs = 300\n",
        "history = model.fit(x = trainFeatures, y = trainLabels, validation_data = (testFeatures, testLabels), epochs = numEpochs)"
      ],
      "execution_count": 21,
      "outputs": [
        {
          "output_type": "stream",
          "text": [
            "Epoch 1/300\n",
            "10/10 [==============================] - 1s 24ms/step - loss: 2.8812 - mae: 2.8812 - mse: 11.5686 - val_loss: 2.6394 - val_mae: 2.6394 - val_mse: 9.2981\n",
            "Epoch 2/300\n",
            "10/10 [==============================] - 0s 4ms/step - loss: 2.7922 - mae: 2.7922 - mse: 11.1362 - val_loss: 2.5365 - val_mae: 2.5365 - val_mse: 8.8487\n",
            "Epoch 3/300\n",
            "10/10 [==============================] - 0s 4ms/step - loss: 2.7018 - mae: 2.7018 - mse: 10.7204 - val_loss: 2.4375 - val_mae: 2.4375 - val_mse: 8.4397\n",
            "Epoch 4/300\n",
            "10/10 [==============================] - 0s 4ms/step - loss: 2.6162 - mae: 2.6162 - mse: 10.3571 - val_loss: 2.3381 - val_mae: 2.3381 - val_mse: 8.0615\n",
            "Epoch 5/300\n",
            "10/10 [==============================] - 0s 4ms/step - loss: 2.5323 - mae: 2.5323 - mse: 10.0324 - val_loss: 2.2397 - val_mae: 2.2397 - val_mse: 7.7183\n",
            "Epoch 6/300\n",
            "10/10 [==============================] - 0s 5ms/step - loss: 2.4573 - mae: 2.4573 - mse: 9.7338 - val_loss: 2.1478 - val_mae: 2.1478 - val_mse: 7.4160\n",
            "Epoch 7/300\n",
            "10/10 [==============================] - 0s 4ms/step - loss: 2.3851 - mae: 2.3851 - mse: 9.4747 - val_loss: 2.0632 - val_mae: 2.0632 - val_mse: 7.1571\n",
            "Epoch 8/300\n",
            "10/10 [==============================] - 0s 4ms/step - loss: 2.3177 - mae: 2.3177 - mse: 9.2321 - val_loss: 1.9808 - val_mae: 1.9808 - val_mse: 6.9263\n",
            "Epoch 9/300\n",
            "10/10 [==============================] - 0s 4ms/step - loss: 2.2520 - mae: 2.2520 - mse: 9.0115 - val_loss: 1.9002 - val_mae: 1.9002 - val_mse: 6.7217\n",
            "Epoch 10/300\n",
            "10/10 [==============================] - 0s 4ms/step - loss: 2.1912 - mae: 2.1912 - mse: 8.8426 - val_loss: 1.8246 - val_mae: 1.8246 - val_mse: 6.5420\n",
            "Epoch 11/300\n",
            "10/10 [==============================] - 0s 6ms/step - loss: 2.1342 - mae: 2.1342 - mse: 8.6819 - val_loss: 1.7581 - val_mae: 1.7581 - val_mse: 6.4002\n",
            "Epoch 12/300\n",
            "10/10 [==============================] - 0s 6ms/step - loss: 2.0886 - mae: 2.0886 - mse: 8.5541 - val_loss: 1.7062 - val_mae: 1.7062 - val_mse: 6.2938\n",
            "Epoch 13/300\n",
            "10/10 [==============================] - 0s 4ms/step - loss: 2.0535 - mae: 2.0535 - mse: 8.4616 - val_loss: 1.6687 - val_mae: 1.6687 - val_mse: 6.2075\n",
            "Epoch 14/300\n",
            "10/10 [==============================] - 0s 4ms/step - loss: 2.0221 - mae: 2.0221 - mse: 8.3824 - val_loss: 1.6403 - val_mae: 1.6403 - val_mse: 6.1407\n",
            "Epoch 15/300\n",
            "10/10 [==============================] - 0s 3ms/step - loss: 1.9973 - mae: 1.9973 - mse: 8.3204 - val_loss: 1.6209 - val_mae: 1.6209 - val_mse: 6.0941\n",
            "Epoch 16/300\n",
            "10/10 [==============================] - 0s 4ms/step - loss: 1.9793 - mae: 1.9793 - mse: 8.2869 - val_loss: 1.6132 - val_mae: 1.6132 - val_mse: 6.0628\n",
            "Epoch 17/300\n",
            "10/10 [==============================] - 0s 5ms/step - loss: 1.9660 - mae: 1.9660 - mse: 8.2548 - val_loss: 1.6091 - val_mae: 1.6091 - val_mse: 6.0422\n",
            "Epoch 18/300\n",
            "10/10 [==============================] - 0s 4ms/step - loss: 1.9551 - mae: 1.9551 - mse: 8.2386 - val_loss: 1.6063 - val_mae: 1.6063 - val_mse: 6.0275\n",
            "Epoch 19/300\n",
            "10/10 [==============================] - 0s 4ms/step - loss: 1.9423 - mae: 1.9423 - mse: 8.2171 - val_loss: 1.6046 - val_mae: 1.6046 - val_mse: 6.0200\n",
            "Epoch 20/300\n",
            "10/10 [==============================] - 0s 4ms/step - loss: 1.9313 - mae: 1.9313 - mse: 8.2082 - val_loss: 1.6028 - val_mae: 1.6028 - val_mse: 6.0183\n",
            "Epoch 21/300\n",
            "10/10 [==============================] - 0s 4ms/step - loss: 1.9186 - mae: 1.9186 - mse: 8.1997 - val_loss: 1.6010 - val_mae: 1.6010 - val_mse: 6.0227\n",
            "Epoch 22/300\n",
            "10/10 [==============================] - 0s 6ms/step - loss: 1.9068 - mae: 1.9068 - mse: 8.2038 - val_loss: 1.5992 - val_mae: 1.5992 - val_mse: 6.0334\n",
            "Epoch 23/300\n",
            "10/10 [==============================] - 0s 4ms/step - loss: 1.8943 - mae: 1.8943 - mse: 8.2098 - val_loss: 1.5974 - val_mae: 1.5974 - val_mse: 6.0505\n",
            "Epoch 24/300\n",
            "10/10 [==============================] - 0s 4ms/step - loss: 1.8819 - mae: 1.8819 - mse: 8.2182 - val_loss: 1.5955 - val_mae: 1.5955 - val_mse: 6.0746\n",
            "Epoch 25/300\n",
            "10/10 [==============================] - 0s 4ms/step - loss: 1.8691 - mae: 1.8691 - mse: 8.2389 - val_loss: 1.5939 - val_mae: 1.5939 - val_mse: 6.1050\n",
            "Epoch 26/300\n",
            "10/10 [==============================] - 0s 4ms/step - loss: 1.8569 - mae: 1.8569 - mse: 8.2561 - val_loss: 1.5933 - val_mae: 1.5933 - val_mse: 6.1407\n",
            "Epoch 27/300\n",
            "10/10 [==============================] - 0s 5ms/step - loss: 1.8473 - mae: 1.8473 - mse: 8.2911 - val_loss: 1.5951 - val_mae: 1.5951 - val_mse: 6.1814\n",
            "Epoch 28/300\n",
            "10/10 [==============================] - 0s 4ms/step - loss: 1.8422 - mae: 1.8422 - mse: 8.3202 - val_loss: 1.6004 - val_mae: 1.6004 - val_mse: 6.2159\n",
            "Epoch 29/300\n",
            "10/10 [==============================] - 0s 8ms/step - loss: 1.8412 - mae: 1.8412 - mse: 8.3379 - val_loss: 1.6027 - val_mae: 1.6027 - val_mse: 6.2256\n",
            "Epoch 30/300\n",
            "10/10 [==============================] - 0s 4ms/step - loss: 1.8413 - mae: 1.8413 - mse: 8.3408 - val_loss: 1.6022 - val_mae: 1.6022 - val_mse: 6.2234\n",
            "Epoch 31/300\n",
            "10/10 [==============================] - 0s 5ms/step - loss: 1.8410 - mae: 1.8410 - mse: 8.3377 - val_loss: 1.6015 - val_mae: 1.6015 - val_mse: 6.2201\n",
            "Epoch 32/300\n",
            "10/10 [==============================] - 0s 5ms/step - loss: 1.8412 - mae: 1.8412 - mse: 8.3310 - val_loss: 1.5995 - val_mae: 1.5995 - val_mse: 6.2107\n",
            "Epoch 33/300\n",
            "10/10 [==============================] - 0s 5ms/step - loss: 1.8411 - mae: 1.8411 - mse: 8.3321 - val_loss: 1.6011 - val_mae: 1.6011 - val_mse: 6.2176\n",
            "Epoch 34/300\n",
            "10/10 [==============================] - 0s 4ms/step - loss: 1.8408 - mae: 1.8408 - mse: 8.3327 - val_loss: 1.6003 - val_mae: 1.6003 - val_mse: 6.2138\n",
            "Epoch 35/300\n",
            "10/10 [==============================] - 0s 4ms/step - loss: 1.8408 - mae: 1.8408 - mse: 8.3322 - val_loss: 1.6006 - val_mae: 1.6006 - val_mse: 6.2153\n",
            "Epoch 36/300\n",
            "10/10 [==============================] - 0s 4ms/step - loss: 1.8406 - mae: 1.8406 - mse: 8.3321 - val_loss: 1.6011 - val_mae: 1.6011 - val_mse: 6.2169\n",
            "Epoch 37/300\n",
            "10/10 [==============================] - 0s 4ms/step - loss: 1.8408 - mae: 1.8408 - mse: 8.3362 - val_loss: 1.6014 - val_mae: 1.6014 - val_mse: 6.2179\n",
            "Epoch 38/300\n",
            "10/10 [==============================] - 0s 4ms/step - loss: 1.8410 - mae: 1.8410 - mse: 8.3322 - val_loss: 1.5999 - val_mae: 1.5999 - val_mse: 6.2109\n",
            "Epoch 39/300\n",
            "10/10 [==============================] - 0s 4ms/step - loss: 1.8405 - mae: 1.8405 - mse: 8.3313 - val_loss: 1.6004 - val_mae: 1.6004 - val_mse: 6.2131\n",
            "Epoch 40/300\n",
            "10/10 [==============================] - 0s 4ms/step - loss: 1.8405 - mae: 1.8405 - mse: 8.3298 - val_loss: 1.6000 - val_mae: 1.6000 - val_mse: 6.2112\n",
            "Epoch 41/300\n",
            "10/10 [==============================] - 0s 4ms/step - loss: 1.8407 - mae: 1.8407 - mse: 8.3332 - val_loss: 1.6016 - val_mae: 1.6016 - val_mse: 6.2178\n",
            "Epoch 42/300\n",
            "10/10 [==============================] - 0s 4ms/step - loss: 1.8406 - mae: 1.8406 - mse: 8.3319 - val_loss: 1.5998 - val_mae: 1.5998 - val_mse: 6.2098\n",
            "Epoch 43/300\n",
            "10/10 [==============================] - 0s 4ms/step - loss: 1.8403 - mae: 1.8403 - mse: 8.3295 - val_loss: 1.6004 - val_mae: 1.6004 - val_mse: 6.2121\n",
            "Epoch 44/300\n",
            "10/10 [==============================] - 0s 4ms/step - loss: 1.8402 - mae: 1.8402 - mse: 8.3296 - val_loss: 1.6001 - val_mae: 1.6001 - val_mse: 6.2106\n",
            "Epoch 45/300\n",
            "10/10 [==============================] - 0s 4ms/step - loss: 1.8404 - mae: 1.8404 - mse: 8.3262 - val_loss: 1.5989 - val_mae: 1.5989 - val_mse: 6.2046\n",
            "Epoch 46/300\n",
            "10/10 [==============================] - 0s 4ms/step - loss: 1.8402 - mae: 1.8402 - mse: 8.3259 - val_loss: 1.5998 - val_mae: 1.5998 - val_mse: 6.2085\n",
            "Epoch 47/300\n",
            "10/10 [==============================] - 0s 4ms/step - loss: 1.8400 - mae: 1.8400 - mse: 8.3288 - val_loss: 1.6010 - val_mae: 1.6010 - val_mse: 6.2136\n",
            "Epoch 48/300\n",
            "10/10 [==============================] - 0s 4ms/step - loss: 1.8403 - mae: 1.8403 - mse: 8.3324 - val_loss: 1.6012 - val_mae: 1.6012 - val_mse: 6.2141\n",
            "Epoch 49/300\n",
            "10/10 [==============================] - 0s 4ms/step - loss: 1.8405 - mae: 1.8405 - mse: 8.3265 - val_loss: 1.5981 - val_mae: 1.5981 - val_mse: 6.1998\n",
            "Epoch 50/300\n",
            "10/10 [==============================] - 0s 4ms/step - loss: 1.8401 - mae: 1.8401 - mse: 8.3208 - val_loss: 1.5986 - val_mae: 1.5986 - val_mse: 6.2019\n",
            "Epoch 51/300\n",
            "10/10 [==============================] - 0s 4ms/step - loss: 1.8406 - mae: 1.8406 - mse: 8.3307 - val_loss: 1.6012 - val_mae: 1.6012 - val_mse: 6.2133\n",
            "Epoch 52/300\n",
            "10/10 [==============================] - 0s 4ms/step - loss: 1.8398 - mae: 1.8398 - mse: 8.3271 - val_loss: 1.5993 - val_mae: 1.5993 - val_mse: 6.2046\n",
            "Epoch 53/300\n",
            "10/10 [==============================] - 0s 5ms/step - loss: 1.8398 - mae: 1.8398 - mse: 8.3247 - val_loss: 1.5996 - val_mae: 1.5996 - val_mse: 6.2057\n",
            "Epoch 54/300\n",
            "10/10 [==============================] - 0s 5ms/step - loss: 1.8396 - mae: 1.8396 - mse: 8.3241 - val_loss: 1.5994 - val_mae: 1.5994 - val_mse: 6.2046\n",
            "Epoch 55/300\n",
            "10/10 [==============================] - 0s 5ms/step - loss: 1.8397 - mae: 1.8397 - mse: 8.3221 - val_loss: 1.5993 - val_mae: 1.5993 - val_mse: 6.2039\n",
            "Epoch 56/300\n",
            "10/10 [==============================] - 0s 4ms/step - loss: 1.8396 - mae: 1.8396 - mse: 8.3264 - val_loss: 1.6009 - val_mae: 1.6009 - val_mse: 6.2104\n",
            "Epoch 57/300\n",
            "10/10 [==============================] - 0s 4ms/step - loss: 1.8398 - mae: 1.8398 - mse: 8.3286 - val_loss: 1.5995 - val_mae: 1.5995 - val_mse: 6.2039\n",
            "Epoch 58/300\n",
            "10/10 [==============================] - 0s 4ms/step - loss: 1.8398 - mae: 1.8398 - mse: 8.3191 - val_loss: 1.5979 - val_mae: 1.5979 - val_mse: 6.1964\n",
            "Epoch 59/300\n",
            "10/10 [==============================] - 0s 4ms/step - loss: 1.8395 - mae: 1.8395 - mse: 8.3190 - val_loss: 1.5994 - val_mae: 1.5994 - val_mse: 6.2028\n",
            "Epoch 60/300\n",
            "10/10 [==============================] - 0s 6ms/step - loss: 1.8395 - mae: 1.8395 - mse: 8.3267 - val_loss: 1.6007 - val_mae: 1.6007 - val_mse: 6.2083\n",
            "Epoch 61/300\n",
            "10/10 [==============================] - 0s 4ms/step - loss: 1.8393 - mae: 1.8393 - mse: 8.3236 - val_loss: 1.5991 - val_mae: 1.5991 - val_mse: 6.2008\n",
            "Epoch 62/300\n",
            "10/10 [==============================] - 0s 4ms/step - loss: 1.8392 - mae: 1.8392 - mse: 8.3217 - val_loss: 1.5993 - val_mae: 1.5993 - val_mse: 6.2019\n",
            "Epoch 63/300\n",
            "10/10 [==============================] - 0s 4ms/step - loss: 1.8392 - mae: 1.8392 - mse: 8.3221 - val_loss: 1.5997 - val_mae: 1.5997 - val_mse: 6.2032\n",
            "Epoch 64/300\n",
            "10/10 [==============================] - 0s 5ms/step - loss: 1.8391 - mae: 1.8391 - mse: 8.3215 - val_loss: 1.5992 - val_mae: 1.5992 - val_mse: 6.2007\n",
            "Epoch 65/300\n",
            "10/10 [==============================] - 0s 4ms/step - loss: 1.8389 - mae: 1.8389 - mse: 8.3215 - val_loss: 1.5996 - val_mae: 1.5996 - val_mse: 6.2019\n",
            "Epoch 66/300\n",
            "10/10 [==============================] - 0s 4ms/step - loss: 1.8389 - mae: 1.8389 - mse: 8.3195 - val_loss: 1.5989 - val_mae: 1.5989 - val_mse: 6.1984\n",
            "Epoch 67/300\n",
            "10/10 [==============================] - 0s 4ms/step - loss: 1.8389 - mae: 1.8389 - mse: 8.3196 - val_loss: 1.5990 - val_mae: 1.5990 - val_mse: 6.1986\n",
            "Epoch 68/300\n",
            "10/10 [==============================] - 0s 4ms/step - loss: 1.8391 - mae: 1.8391 - mse: 8.3181 - val_loss: 1.5988 - val_mae: 1.5988 - val_mse: 6.1973\n",
            "Epoch 69/300\n",
            "10/10 [==============================] - 0s 4ms/step - loss: 1.8386 - mae: 1.8386 - mse: 8.3194 - val_loss: 1.6005 - val_mae: 1.6005 - val_mse: 6.2043\n",
            "Epoch 70/300\n",
            "10/10 [==============================] - 0s 4ms/step - loss: 1.8388 - mae: 1.8388 - mse: 8.3227 - val_loss: 1.5995 - val_mae: 1.5995 - val_mse: 6.1998\n",
            "Epoch 71/300\n",
            "10/10 [==============================] - 0s 5ms/step - loss: 1.8389 - mae: 1.8389 - mse: 8.3180 - val_loss: 1.5975 - val_mae: 1.5975 - val_mse: 6.1902\n",
            "Epoch 72/300\n",
            "10/10 [==============================] - 0s 4ms/step - loss: 1.8385 - mae: 1.8385 - mse: 8.3158 - val_loss: 1.5994 - val_mae: 1.5994 - val_mse: 6.1987\n",
            "Epoch 73/300\n",
            "10/10 [==============================] - 0s 4ms/step - loss: 1.8384 - mae: 1.8384 - mse: 8.3188 - val_loss: 1.5987 - val_mae: 1.5987 - val_mse: 6.1955\n",
            "Epoch 74/300\n",
            "10/10 [==============================] - 0s 4ms/step - loss: 1.8383 - mae: 1.8383 - mse: 8.3165 - val_loss: 1.5988 - val_mae: 1.5988 - val_mse: 6.1954\n",
            "Epoch 75/300\n",
            "10/10 [==============================] - 0s 4ms/step - loss: 1.8384 - mae: 1.8384 - mse: 8.3166 - val_loss: 1.5981 - val_mae: 1.5981 - val_mse: 6.1920\n",
            "Epoch 76/300\n",
            "10/10 [==============================] - 0s 4ms/step - loss: 1.8381 - mae: 1.8381 - mse: 8.3142 - val_loss: 1.5990 - val_mae: 1.5990 - val_mse: 6.1956\n",
            "Epoch 77/300\n",
            "10/10 [==============================] - 0s 4ms/step - loss: 1.8388 - mae: 1.8388 - mse: 8.3228 - val_loss: 1.6003 - val_mae: 1.6003 - val_mse: 6.2008\n",
            "Epoch 78/300\n",
            "10/10 [==============================] - 0s 4ms/step - loss: 1.8381 - mae: 1.8381 - mse: 8.3171 - val_loss: 1.5983 - val_mae: 1.5983 - val_mse: 6.1920\n",
            "Epoch 79/300\n",
            "10/10 [==============================] - 0s 4ms/step - loss: 1.8383 - mae: 1.8383 - mse: 8.3161 - val_loss: 1.5990 - val_mae: 1.5990 - val_mse: 6.1947\n",
            "Epoch 80/300\n",
            "10/10 [==============================] - 0s 4ms/step - loss: 1.8384 - mae: 1.8384 - mse: 8.3116 - val_loss: 1.5970 - val_mae: 1.5970 - val_mse: 6.1852\n",
            "Epoch 81/300\n",
            "10/10 [==============================] - 0s 5ms/step - loss: 1.8381 - mae: 1.8381 - mse: 8.3119 - val_loss: 1.5986 - val_mae: 1.5986 - val_mse: 6.1921\n",
            "Epoch 82/300\n",
            "10/10 [==============================] - 0s 4ms/step - loss: 1.8378 - mae: 1.8378 - mse: 8.3156 - val_loss: 1.5987 - val_mae: 1.5987 - val_mse: 6.1921\n",
            "Epoch 83/300\n",
            "10/10 [==============================] - 0s 5ms/step - loss: 1.8378 - mae: 1.8378 - mse: 8.3118 - val_loss: 1.5977 - val_mae: 1.5977 - val_mse: 6.1874\n",
            "Epoch 84/300\n",
            "10/10 [==============================] - 0s 5ms/step - loss: 1.8377 - mae: 1.8377 - mse: 8.3125 - val_loss: 1.5989 - val_mae: 1.5989 - val_mse: 6.1923\n",
            "Epoch 85/300\n",
            "10/10 [==============================] - 0s 4ms/step - loss: 1.8375 - mae: 1.8375 - mse: 8.3125 - val_loss: 1.5982 - val_mae: 1.5982 - val_mse: 6.1892\n",
            "Epoch 86/300\n",
            "10/10 [==============================] - 0s 4ms/step - loss: 1.8381 - mae: 1.8381 - mse: 8.3096 - val_loss: 1.5971 - val_mae: 1.5971 - val_mse: 6.1836\n",
            "Epoch 87/300\n",
            "10/10 [==============================] - 0s 5ms/step - loss: 1.8373 - mae: 1.8373 - mse: 8.3121 - val_loss: 1.5998 - val_mae: 1.5998 - val_mse: 6.1952\n",
            "Epoch 88/300\n",
            "10/10 [==============================] - 0s 4ms/step - loss: 1.8375 - mae: 1.8375 - mse: 8.3156 - val_loss: 1.5990 - val_mae: 1.5990 - val_mse: 6.1913\n",
            "Epoch 89/300\n",
            "10/10 [==============================] - 0s 5ms/step - loss: 1.8375 - mae: 1.8375 - mse: 8.3105 - val_loss: 1.5989 - val_mae: 1.5989 - val_mse: 6.1908\n",
            "Epoch 90/300\n",
            "10/10 [==============================] - 0s 5ms/step - loss: 1.8375 - mae: 1.8375 - mse: 8.3149 - val_loss: 1.5988 - val_mae: 1.5988 - val_mse: 6.1899\n",
            "Epoch 91/300\n",
            "10/10 [==============================] - 0s 4ms/step - loss: 1.8374 - mae: 1.8374 - mse: 8.3055 - val_loss: 1.5963 - val_mae: 1.5963 - val_mse: 6.1775\n",
            "Epoch 92/300\n",
            "10/10 [==============================] - 0s 4ms/step - loss: 1.8370 - mae: 1.8370 - mse: 8.3043 - val_loss: 1.5982 - val_mae: 1.5982 - val_mse: 6.1864\n",
            "Epoch 93/300\n",
            "10/10 [==============================] - 0s 4ms/step - loss: 1.8372 - mae: 1.8372 - mse: 8.3133 - val_loss: 1.5986 - val_mae: 1.5986 - val_mse: 6.1880\n",
            "Epoch 94/300\n",
            "10/10 [==============================] - 0s 4ms/step - loss: 1.8368 - mae: 1.8368 - mse: 8.3075 - val_loss: 1.5975 - val_mae: 1.5975 - val_mse: 6.1826\n",
            "Epoch 95/300\n",
            "10/10 [==============================] - 0s 4ms/step - loss: 1.8368 - mae: 1.8368 - mse: 8.3072 - val_loss: 1.5979 - val_mae: 1.5979 - val_mse: 6.1842\n",
            "Epoch 96/300\n",
            "10/10 [==============================] - 0s 5ms/step - loss: 1.8367 - mae: 1.8367 - mse: 8.3072 - val_loss: 1.5975 - val_mae: 1.5975 - val_mse: 6.1818\n",
            "Epoch 97/300\n",
            "10/10 [==============================] - 0s 4ms/step - loss: 1.8368 - mae: 1.8368 - mse: 8.3090 - val_loss: 1.5979 - val_mae: 1.5979 - val_mse: 6.1836\n",
            "Epoch 98/300\n",
            "10/10 [==============================] - 0s 4ms/step - loss: 1.8367 - mae: 1.8367 - mse: 8.3043 - val_loss: 1.5968 - val_mae: 1.5968 - val_mse: 6.1778\n",
            "Epoch 99/300\n",
            "10/10 [==============================] - 0s 4ms/step - loss: 1.8368 - mae: 1.8368 - mse: 8.3085 - val_loss: 1.5974 - val_mae: 1.5974 - val_mse: 6.1805\n",
            "Epoch 100/300\n",
            "10/10 [==============================] - 0s 4ms/step - loss: 1.8366 - mae: 1.8366 - mse: 8.3019 - val_loss: 1.5964 - val_mae: 1.5964 - val_mse: 6.1755\n",
            "Epoch 101/300\n",
            "10/10 [==============================] - 0s 5ms/step - loss: 1.8364 - mae: 1.8364 - mse: 8.3034 - val_loss: 1.5980 - val_mae: 1.5980 - val_mse: 6.1825\n",
            "Epoch 102/300\n",
            "10/10 [==============================] - 0s 4ms/step - loss: 1.8363 - mae: 1.8363 - mse: 8.3065 - val_loss: 1.5981 - val_mae: 1.5981 - val_mse: 6.1823\n",
            "Epoch 103/300\n",
            "10/10 [==============================] - 0s 5ms/step - loss: 1.8360 - mae: 1.8360 - mse: 8.3013 - val_loss: 1.5959 - val_mae: 1.5959 - val_mse: 6.1714\n",
            "Epoch 104/300\n",
            "10/10 [==============================] - 0s 4ms/step - loss: 1.8363 - mae: 1.8363 - mse: 8.3011 - val_loss: 1.5973 - val_mae: 1.5973 - val_mse: 6.1783\n",
            "Epoch 105/300\n",
            "10/10 [==============================] - 0s 4ms/step - loss: 1.8359 - mae: 1.8359 - mse: 8.3026 - val_loss: 1.5973 - val_mae: 1.5973 - val_mse: 6.1777\n",
            "Epoch 106/300\n",
            "10/10 [==============================] - 0s 5ms/step - loss: 1.8359 - mae: 1.8359 - mse: 8.3026 - val_loss: 1.5965 - val_mae: 1.5965 - val_mse: 6.1736\n",
            "Epoch 107/300\n",
            "10/10 [==============================] - 0s 5ms/step - loss: 1.8359 - mae: 1.8359 - mse: 8.2978 - val_loss: 1.5959 - val_mae: 1.5959 - val_mse: 6.1703\n",
            "Epoch 108/300\n",
            "10/10 [==============================] - 0s 5ms/step - loss: 1.8357 - mae: 1.8357 - mse: 8.2977 - val_loss: 1.5981 - val_mae: 1.5981 - val_mse: 6.1802\n",
            "Epoch 109/300\n",
            "10/10 [==============================] - 0s 4ms/step - loss: 1.8358 - mae: 1.8358 - mse: 8.3039 - val_loss: 1.5976 - val_mae: 1.5976 - val_mse: 6.1775\n",
            "Epoch 110/300\n",
            "10/10 [==============================] - 0s 4ms/step - loss: 1.8355 - mae: 1.8355 - mse: 8.3016 - val_loss: 1.5967 - val_mae: 1.5967 - val_mse: 6.1734\n",
            "Epoch 111/300\n",
            "10/10 [==============================] - 0s 4ms/step - loss: 1.8355 - mae: 1.8355 - mse: 8.2962 - val_loss: 1.5960 - val_mae: 1.5960 - val_mse: 6.1697\n",
            "Epoch 112/300\n",
            "10/10 [==============================] - 0s 5ms/step - loss: 1.8356 - mae: 1.8356 - mse: 8.3014 - val_loss: 1.5983 - val_mae: 1.5983 - val_mse: 6.1794\n",
            "Epoch 113/300\n",
            "10/10 [==============================] - 0s 5ms/step - loss: 1.8354 - mae: 1.8354 - mse: 8.3019 - val_loss: 1.5961 - val_mae: 1.5961 - val_mse: 6.1693\n",
            "Epoch 114/300\n",
            "10/10 [==============================] - 0s 5ms/step - loss: 1.8354 - mae: 1.8354 - mse: 8.2938 - val_loss: 1.5964 - val_mae: 1.5964 - val_mse: 6.1702\n",
            "Epoch 115/300\n",
            "10/10 [==============================] - 0s 6ms/step - loss: 1.8355 - mae: 1.8355 - mse: 8.2993 - val_loss: 1.5967 - val_mae: 1.5967 - val_mse: 6.1714\n",
            "Epoch 116/300\n",
            "10/10 [==============================] - 0s 5ms/step - loss: 1.8350 - mae: 1.8350 - mse: 8.2964 - val_loss: 1.5967 - val_mae: 1.5967 - val_mse: 6.1711\n",
            "Epoch 117/300\n",
            "10/10 [==============================] - 0s 4ms/step - loss: 1.8351 - mae: 1.8351 - mse: 8.2962 - val_loss: 1.5971 - val_mae: 1.5971 - val_mse: 6.1723\n",
            "Epoch 118/300\n",
            "10/10 [==============================] - 0s 4ms/step - loss: 1.8352 - mae: 1.8352 - mse: 8.2997 - val_loss: 1.5968 - val_mae: 1.5968 - val_mse: 6.1708\n",
            "Epoch 119/300\n",
            "10/10 [==============================] - 0s 4ms/step - loss: 1.8349 - mae: 1.8349 - mse: 8.2978 - val_loss: 1.5957 - val_mae: 1.5957 - val_mse: 6.1654\n",
            "Epoch 120/300\n",
            "10/10 [==============================] - 0s 4ms/step - loss: 1.8353 - mae: 1.8353 - mse: 8.2986 - val_loss: 1.5973 - val_mae: 1.5973 - val_mse: 6.1723\n",
            "Epoch 121/300\n",
            "10/10 [==============================] - 0s 4ms/step - loss: 1.8345 - mae: 1.8345 - mse: 8.2945 - val_loss: 1.5955 - val_mae: 1.5955 - val_mse: 6.1636\n",
            "Epoch 122/300\n",
            "10/10 [==============================] - 0s 5ms/step - loss: 1.8347 - mae: 1.8347 - mse: 8.2903 - val_loss: 1.5965 - val_mae: 1.5965 - val_mse: 6.1682\n",
            "Epoch 123/300\n",
            "10/10 [==============================] - 0s 4ms/step - loss: 1.8345 - mae: 1.8345 - mse: 8.2959 - val_loss: 1.5967 - val_mae: 1.5967 - val_mse: 6.1686\n",
            "Epoch 124/300\n",
            "10/10 [==============================] - 0s 4ms/step - loss: 1.8347 - mae: 1.8347 - mse: 8.2938 - val_loss: 1.5965 - val_mae: 1.5965 - val_mse: 6.1672\n",
            "Epoch 125/300\n",
            "10/10 [==============================] - 0s 5ms/step - loss: 1.8343 - mae: 1.8343 - mse: 8.2910 - val_loss: 1.5957 - val_mae: 1.5957 - val_mse: 6.1631\n",
            "Epoch 126/300\n",
            "10/10 [==============================] - 0s 4ms/step - loss: 1.8343 - mae: 1.8343 - mse: 8.2917 - val_loss: 1.5956 - val_mae: 1.5956 - val_mse: 6.1621\n",
            "Epoch 127/300\n",
            "10/10 [==============================] - 0s 5ms/step - loss: 1.8341 - mae: 1.8341 - mse: 8.2920 - val_loss: 1.5963 - val_mae: 1.5963 - val_mse: 6.1654\n",
            "Epoch 128/300\n",
            "10/10 [==============================] - 0s 5ms/step - loss: 1.8342 - mae: 1.8342 - mse: 8.2935 - val_loss: 1.5955 - val_mae: 1.5955 - val_mse: 6.1613\n",
            "Epoch 129/300\n",
            "10/10 [==============================] - 0s 4ms/step - loss: 1.8341 - mae: 1.8341 - mse: 8.2892 - val_loss: 1.5964 - val_mae: 1.5964 - val_mse: 6.1649\n",
            "Epoch 130/300\n",
            "10/10 [==============================] - 0s 5ms/step - loss: 1.8339 - mae: 1.8339 - mse: 8.2903 - val_loss: 1.5960 - val_mae: 1.5960 - val_mse: 6.1630\n",
            "Epoch 131/300\n",
            "10/10 [==============================] - 0s 4ms/step - loss: 1.8343 - mae: 1.8343 - mse: 8.2912 - val_loss: 1.5971 - val_mae: 1.5971 - val_mse: 6.1666\n",
            "Epoch 132/300\n",
            "10/10 [==============================] - 0s 4ms/step - loss: 1.8339 - mae: 1.8339 - mse: 8.2894 - val_loss: 1.5952 - val_mae: 1.5952 - val_mse: 6.1577\n",
            "Epoch 133/300\n",
            "10/10 [==============================] - 0s 4ms/step - loss: 1.8340 - mae: 1.8340 - mse: 8.2905 - val_loss: 1.5959 - val_mae: 1.5959 - val_mse: 6.1612\n",
            "Epoch 134/300\n",
            "10/10 [==============================] - 0s 5ms/step - loss: 1.8338 - mae: 1.8338 - mse: 8.2839 - val_loss: 1.5957 - val_mae: 1.5957 - val_mse: 6.1601\n",
            "Epoch 135/300\n",
            "10/10 [==============================] - 0s 5ms/step - loss: 1.8340 - mae: 1.8340 - mse: 8.2883 - val_loss: 1.5989 - val_mae: 1.5989 - val_mse: 6.1700\n",
            "Epoch 136/300\n",
            "10/10 [==============================] - 0s 5ms/step - loss: 1.8351 - mae: 1.8351 - mse: 8.2900 - val_loss: 1.5954 - val_mae: 1.5954 - val_mse: 6.1581\n",
            "Epoch 137/300\n",
            "10/10 [==============================] - 0s 6ms/step - loss: 1.8334 - mae: 1.8334 - mse: 8.2879 - val_loss: 1.5955 - val_mae: 1.5955 - val_mse: 6.1583\n",
            "Epoch 138/300\n",
            "10/10 [==============================] - 0s 4ms/step - loss: 1.8332 - mae: 1.8332 - mse: 8.2874 - val_loss: 1.5956 - val_mae: 1.5956 - val_mse: 6.1583\n",
            "Epoch 139/300\n",
            "10/10 [==============================] - 0s 4ms/step - loss: 1.8336 - mae: 1.8336 - mse: 8.2833 - val_loss: 1.5961 - val_mae: 1.5961 - val_mse: 6.1601\n",
            "Epoch 140/300\n",
            "10/10 [==============================] - 0s 5ms/step - loss: 1.8337 - mae: 1.8337 - mse: 8.2867 - val_loss: 1.5948 - val_mae: 1.5948 - val_mse: 6.1515\n",
            "Epoch 141/300\n",
            "10/10 [==============================] - 0s 5ms/step - loss: 1.8331 - mae: 1.8331 - mse: 8.2842 - val_loss: 1.5953 - val_mae: 1.5953 - val_mse: 6.1563\n",
            "Epoch 142/300\n",
            "10/10 [==============================] - 0s 4ms/step - loss: 1.8334 - mae: 1.8334 - mse: 8.2864 - val_loss: 1.5955 - val_mae: 1.5955 - val_mse: 6.1568\n",
            "Epoch 143/300\n",
            "10/10 [==============================] - 0s 4ms/step - loss: 1.8335 - mae: 1.8335 - mse: 8.2833 - val_loss: 1.5973 - val_mae: 1.5973 - val_mse: 6.1620\n",
            "Epoch 144/300\n",
            "10/10 [==============================] - 0s 4ms/step - loss: 1.8344 - mae: 1.8344 - mse: 8.2847 - val_loss: 1.5951 - val_mae: 1.5951 - val_mse: 6.1545\n",
            "Epoch 145/300\n",
            "10/10 [==============================] - 0s 4ms/step - loss: 1.8335 - mae: 1.8335 - mse: 8.2863 - val_loss: 1.5949 - val_mae: 1.5949 - val_mse: 6.1486\n",
            "Epoch 146/300\n",
            "10/10 [==============================] - 0s 5ms/step - loss: 1.8334 - mae: 1.8334 - mse: 8.2816 - val_loss: 1.5967 - val_mae: 1.5967 - val_mse: 6.1602\n",
            "Epoch 147/300\n",
            "10/10 [==============================] - 0s 5ms/step - loss: 1.8330 - mae: 1.8330 - mse: 8.2847 - val_loss: 1.5956 - val_mae: 1.5956 - val_mse: 6.1564\n",
            "Epoch 148/300\n",
            "10/10 [==============================] - 0s 4ms/step - loss: 1.8330 - mae: 1.8330 - mse: 8.2840 - val_loss: 1.5960 - val_mae: 1.5960 - val_mse: 6.1577\n",
            "Epoch 149/300\n",
            "10/10 [==============================] - 0s 4ms/step - loss: 1.8326 - mae: 1.8326 - mse: 8.2832 - val_loss: 1.5949 - val_mae: 1.5949 - val_mse: 6.1486\n",
            "Epoch 150/300\n",
            "10/10 [==============================] - 0s 4ms/step - loss: 1.8334 - mae: 1.8334 - mse: 8.2844 - val_loss: 1.5949 - val_mae: 1.5949 - val_mse: 6.1497\n",
            "Epoch 151/300\n",
            "10/10 [==============================] - 0s 4ms/step - loss: 1.8330 - mae: 1.8330 - mse: 8.2824 - val_loss: 1.5949 - val_mae: 1.5949 - val_mse: 6.1518\n",
            "Epoch 152/300\n",
            "10/10 [==============================] - 0s 4ms/step - loss: 1.8334 - mae: 1.8334 - mse: 8.2818 - val_loss: 1.5954 - val_mae: 1.5954 - val_mse: 6.1547\n",
            "Epoch 153/300\n",
            "10/10 [==============================] - 0s 5ms/step - loss: 1.8332 - mae: 1.8332 - mse: 8.2844 - val_loss: 1.5949 - val_mae: 1.5949 - val_mse: 6.1518\n",
            "Epoch 154/300\n",
            "10/10 [==============================] - 0s 5ms/step - loss: 1.8327 - mae: 1.8327 - mse: 8.2831 - val_loss: 1.5951 - val_mae: 1.5951 - val_mse: 6.1535\n",
            "Epoch 155/300\n",
            "10/10 [==============================] - 0s 4ms/step - loss: 1.8327 - mae: 1.8327 - mse: 8.2836 - val_loss: 1.5955 - val_mae: 1.5955 - val_mse: 6.1544\n",
            "Epoch 156/300\n",
            "10/10 [==============================] - 0s 5ms/step - loss: 1.8329 - mae: 1.8329 - mse: 8.2796 - val_loss: 1.5970 - val_mae: 1.5970 - val_mse: 6.1583\n",
            "Epoch 157/300\n",
            "10/10 [==============================] - 0s 4ms/step - loss: 1.8332 - mae: 1.8332 - mse: 8.2825 - val_loss: 1.5959 - val_mae: 1.5959 - val_mse: 6.1553\n",
            "Epoch 158/300\n",
            "10/10 [==============================] - 0s 6ms/step - loss: 1.8325 - mae: 1.8325 - mse: 8.2814 - val_loss: 1.5950 - val_mae: 1.5950 - val_mse: 6.1498\n",
            "Epoch 159/300\n",
            "10/10 [==============================] - 0s 6ms/step - loss: 1.8327 - mae: 1.8327 - mse: 8.2817 - val_loss: 1.5949 - val_mae: 1.5949 - val_mse: 6.1519\n",
            "Epoch 160/300\n",
            "10/10 [==============================] - 0s 5ms/step - loss: 1.8330 - mae: 1.8330 - mse: 8.2809 - val_loss: 1.5951 - val_mae: 1.5951 - val_mse: 6.1459\n",
            "Epoch 161/300\n",
            "10/10 [==============================] - 0s 5ms/step - loss: 1.8339 - mae: 1.8339 - mse: 8.2850 - val_loss: 1.5951 - val_mae: 1.5951 - val_mse: 6.1460\n",
            "Epoch 162/300\n",
            "10/10 [==============================] - 0s 4ms/step - loss: 1.8341 - mae: 1.8341 - mse: 8.2865 - val_loss: 1.5950 - val_mae: 1.5950 - val_mse: 6.1492\n",
            "Epoch 163/300\n",
            "10/10 [==============================] - 0s 4ms/step - loss: 1.8334 - mae: 1.8334 - mse: 8.2794 - val_loss: 1.5975 - val_mae: 1.5975 - val_mse: 6.1597\n",
            "Epoch 164/300\n",
            "10/10 [==============================] - 0s 5ms/step - loss: 1.8334 - mae: 1.8334 - mse: 8.2811 - val_loss: 1.5950 - val_mae: 1.5950 - val_mse: 6.1487\n",
            "Epoch 165/300\n",
            "10/10 [==============================] - 0s 4ms/step - loss: 1.8328 - mae: 1.8328 - mse: 8.2820 - val_loss: 1.5950 - val_mae: 1.5950 - val_mse: 6.1528\n",
            "Epoch 166/300\n",
            "10/10 [==============================] - 0s 5ms/step - loss: 1.8328 - mae: 1.8328 - mse: 8.2826 - val_loss: 1.5950 - val_mae: 1.5950 - val_mse: 6.1495\n",
            "Epoch 167/300\n",
            "10/10 [==============================] - 0s 4ms/step - loss: 1.8329 - mae: 1.8329 - mse: 8.2828 - val_loss: 1.5950 - val_mae: 1.5950 - val_mse: 6.1479\n",
            "Epoch 168/300\n",
            "10/10 [==============================] - 0s 5ms/step - loss: 1.8328 - mae: 1.8328 - mse: 8.2795 - val_loss: 1.5950 - val_mae: 1.5950 - val_mse: 6.1526\n",
            "Epoch 169/300\n",
            "10/10 [==============================] - 0s 5ms/step - loss: 1.8330 - mae: 1.8330 - mse: 8.2823 - val_loss: 1.5949 - val_mae: 1.5949 - val_mse: 6.1509\n",
            "Epoch 170/300\n",
            "10/10 [==============================] - 0s 5ms/step - loss: 1.8329 - mae: 1.8329 - mse: 8.2823 - val_loss: 1.5950 - val_mae: 1.5950 - val_mse: 6.1484\n",
            "Epoch 171/300\n",
            "10/10 [==============================] - 0s 4ms/step - loss: 1.8340 - mae: 1.8340 - mse: 8.2848 - val_loss: 1.5949 - val_mae: 1.5949 - val_mse: 6.1520\n",
            "Epoch 172/300\n",
            "10/10 [==============================] - 0s 4ms/step - loss: 1.8335 - mae: 1.8335 - mse: 8.2817 - val_loss: 1.5949 - val_mae: 1.5949 - val_mse: 6.1519\n",
            "Epoch 173/300\n",
            "10/10 [==============================] - 0s 5ms/step - loss: 1.8332 - mae: 1.8332 - mse: 8.2835 - val_loss: 1.5949 - val_mae: 1.5949 - val_mse: 6.1500\n",
            "Epoch 174/300\n",
            "10/10 [==============================] - 0s 5ms/step - loss: 1.8326 - mae: 1.8326 - mse: 8.2827 - val_loss: 1.5949 - val_mae: 1.5949 - val_mse: 6.1515\n",
            "Epoch 175/300\n",
            "10/10 [==============================] - 0s 4ms/step - loss: 1.8329 - mae: 1.8329 - mse: 8.2823 - val_loss: 1.5949 - val_mae: 1.5949 - val_mse: 6.1507\n",
            "Epoch 176/300\n",
            "10/10 [==============================] - 0s 5ms/step - loss: 1.8326 - mae: 1.8326 - mse: 8.2835 - val_loss: 1.5950 - val_mae: 1.5950 - val_mse: 6.1503\n",
            "Epoch 177/300\n",
            "10/10 [==============================] - 0s 5ms/step - loss: 1.8330 - mae: 1.8330 - mse: 8.2815 - val_loss: 1.5950 - val_mae: 1.5950 - val_mse: 6.1503\n",
            "Epoch 178/300\n",
            "10/10 [==============================] - 0s 4ms/step - loss: 1.8335 - mae: 1.8335 - mse: 8.2804 - val_loss: 1.5950 - val_mae: 1.5950 - val_mse: 6.1505\n",
            "Epoch 179/300\n",
            "10/10 [==============================] - 0s 4ms/step - loss: 1.8334 - mae: 1.8334 - mse: 8.2847 - val_loss: 1.5952 - val_mae: 1.5952 - val_mse: 6.1451\n",
            "Epoch 180/300\n",
            "10/10 [==============================] - 0s 4ms/step - loss: 1.8340 - mae: 1.8340 - mse: 8.2777 - val_loss: 1.5980 - val_mae: 1.5980 - val_mse: 6.1608\n",
            "Epoch 181/300\n",
            "10/10 [==============================] - 0s 5ms/step - loss: 1.8348 - mae: 1.8348 - mse: 8.2892 - val_loss: 1.5954 - val_mae: 1.5954 - val_mse: 6.1373\n",
            "Epoch 182/300\n",
            "10/10 [==============================] - 0s 6ms/step - loss: 1.8347 - mae: 1.8347 - mse: 8.2764 - val_loss: 1.5979 - val_mae: 1.5979 - val_mse: 6.1604\n",
            "Epoch 183/300\n",
            "10/10 [==============================] - 0s 4ms/step - loss: 1.8337 - mae: 1.8337 - mse: 8.2863 - val_loss: 1.5949 - val_mae: 1.5949 - val_mse: 6.1514\n",
            "Epoch 184/300\n",
            "10/10 [==============================] - 0s 4ms/step - loss: 1.8337 - mae: 1.8337 - mse: 8.2821 - val_loss: 1.5952 - val_mae: 1.5952 - val_mse: 6.1446\n",
            "Epoch 185/300\n",
            "10/10 [==============================] - 0s 4ms/step - loss: 1.8333 - mae: 1.8333 - mse: 8.2821 - val_loss: 1.5949 - val_mae: 1.5949 - val_mse: 6.1512\n",
            "Epoch 186/300\n",
            "10/10 [==============================] - 0s 5ms/step - loss: 1.8329 - mae: 1.8329 - mse: 8.2826 - val_loss: 1.5950 - val_mae: 1.5950 - val_mse: 6.1478\n",
            "Epoch 187/300\n",
            "10/10 [==============================] - 0s 4ms/step - loss: 1.8333 - mae: 1.8333 - mse: 8.2851 - val_loss: 1.5950 - val_mae: 1.5950 - val_mse: 6.1488\n",
            "Epoch 188/300\n",
            "10/10 [==============================] - 0s 5ms/step - loss: 1.8333 - mae: 1.8333 - mse: 8.2832 - val_loss: 1.5951 - val_mae: 1.5951 - val_mse: 6.1532\n",
            "Epoch 189/300\n",
            "10/10 [==============================] - 0s 4ms/step - loss: 1.8337 - mae: 1.8337 - mse: 8.2810 - val_loss: 1.5968 - val_mae: 1.5968 - val_mse: 6.1577\n",
            "Epoch 190/300\n",
            "10/10 [==============================] - 0s 4ms/step - loss: 1.8335 - mae: 1.8335 - mse: 8.2827 - val_loss: 1.5950 - val_mae: 1.5950 - val_mse: 6.1496\n",
            "Epoch 191/300\n",
            "10/10 [==============================] - 0s 4ms/step - loss: 1.8327 - mae: 1.8327 - mse: 8.2825 - val_loss: 1.5949 - val_mae: 1.5949 - val_mse: 6.1506\n",
            "Epoch 192/300\n",
            "10/10 [==============================] - 0s 5ms/step - loss: 1.8328 - mae: 1.8328 - mse: 8.2815 - val_loss: 1.5949 - val_mae: 1.5949 - val_mse: 6.1513\n",
            "Epoch 193/300\n",
            "10/10 [==============================] - 0s 4ms/step - loss: 1.8325 - mae: 1.8325 - mse: 8.2819 - val_loss: 1.5949 - val_mae: 1.5949 - val_mse: 6.1514\n",
            "Epoch 194/300\n",
            "10/10 [==============================] - 0s 6ms/step - loss: 1.8326 - mae: 1.8326 - mse: 8.2824 - val_loss: 1.5960 - val_mae: 1.5960 - val_mse: 6.1554\n",
            "Epoch 195/300\n",
            "10/10 [==============================] - 0s 5ms/step - loss: 1.8338 - mae: 1.8338 - mse: 8.2830 - val_loss: 1.5965 - val_mae: 1.5965 - val_mse: 6.1569\n",
            "Epoch 196/300\n",
            "10/10 [==============================] - 0s 4ms/step - loss: 1.8330 - mae: 1.8330 - mse: 8.2841 - val_loss: 1.5949 - val_mae: 1.5949 - val_mse: 6.1517\n",
            "Epoch 197/300\n",
            "10/10 [==============================] - 0s 4ms/step - loss: 1.8326 - mae: 1.8326 - mse: 8.2817 - val_loss: 1.5950 - val_mae: 1.5950 - val_mse: 6.1526\n",
            "Epoch 198/300\n",
            "10/10 [==============================] - 0s 4ms/step - loss: 1.8326 - mae: 1.8326 - mse: 8.2826 - val_loss: 1.5950 - val_mae: 1.5950 - val_mse: 6.1503\n",
            "Epoch 199/300\n",
            "10/10 [==============================] - 0s 5ms/step - loss: 1.8326 - mae: 1.8326 - mse: 8.2815 - val_loss: 1.5961 - val_mae: 1.5961 - val_mse: 6.1553\n",
            "Epoch 200/300\n",
            "10/10 [==============================] - 0s 4ms/step - loss: 1.8330 - mae: 1.8330 - mse: 8.2803 - val_loss: 1.5952 - val_mae: 1.5952 - val_mse: 6.1529\n",
            "Epoch 201/300\n",
            "10/10 [==============================] - 0s 4ms/step - loss: 1.8324 - mae: 1.8324 - mse: 8.2822 - val_loss: 1.5949 - val_mae: 1.5949 - val_mse: 6.1521\n",
            "Epoch 202/300\n",
            "10/10 [==============================] - 0s 5ms/step - loss: 1.8325 - mae: 1.8325 - mse: 8.2816 - val_loss: 1.5949 - val_mae: 1.5949 - val_mse: 6.1521\n",
            "Epoch 203/300\n",
            "10/10 [==============================] - 0s 8ms/step - loss: 1.8325 - mae: 1.8325 - mse: 8.2818 - val_loss: 1.5950 - val_mae: 1.5950 - val_mse: 6.1508\n",
            "Epoch 204/300\n",
            "10/10 [==============================] - 0s 4ms/step - loss: 1.8326 - mae: 1.8326 - mse: 8.2815 - val_loss: 1.5953 - val_mae: 1.5953 - val_mse: 6.1531\n",
            "Epoch 205/300\n",
            "10/10 [==============================] - 0s 5ms/step - loss: 1.8331 - mae: 1.8331 - mse: 8.2823 - val_loss: 1.5951 - val_mae: 1.5951 - val_mse: 6.1480\n",
            "Epoch 206/300\n",
            "10/10 [==============================] - 0s 4ms/step - loss: 1.8328 - mae: 1.8328 - mse: 8.2820 - val_loss: 1.5950 - val_mae: 1.5950 - val_mse: 6.1508\n",
            "Epoch 207/300\n",
            "10/10 [==============================] - 0s 5ms/step - loss: 1.8327 - mae: 1.8327 - mse: 8.2822 - val_loss: 1.5955 - val_mae: 1.5955 - val_mse: 6.1536\n",
            "Epoch 208/300\n",
            "10/10 [==============================] - 0s 6ms/step - loss: 1.8326 - mae: 1.8326 - mse: 8.2819 - val_loss: 1.5961 - val_mae: 1.5961 - val_mse: 6.1553\n",
            "Epoch 209/300\n",
            "10/10 [==============================] - 0s 4ms/step - loss: 1.8332 - mae: 1.8332 - mse: 8.2830 - val_loss: 1.5956 - val_mae: 1.5956 - val_mse: 6.1543\n",
            "Epoch 210/300\n",
            "10/10 [==============================] - 0s 5ms/step - loss: 1.8326 - mae: 1.8326 - mse: 8.2819 - val_loss: 1.5949 - val_mae: 1.5949 - val_mse: 6.1506\n",
            "Epoch 211/300\n",
            "10/10 [==============================] - 0s 5ms/step - loss: 1.8325 - mae: 1.8325 - mse: 8.2824 - val_loss: 1.5949 - val_mae: 1.5949 - val_mse: 6.1522\n",
            "Epoch 212/300\n",
            "10/10 [==============================] - 0s 4ms/step - loss: 1.8329 - mae: 1.8329 - mse: 8.2822 - val_loss: 1.5951 - val_mae: 1.5951 - val_mse: 6.1526\n",
            "Epoch 213/300\n",
            "10/10 [==============================] - 0s 6ms/step - loss: 1.8331 - mae: 1.8331 - mse: 8.2792 - val_loss: 1.5969 - val_mae: 1.5969 - val_mse: 6.1574\n",
            "Epoch 214/300\n",
            "10/10 [==============================] - 0s 5ms/step - loss: 1.8333 - mae: 1.8333 - mse: 8.2834 - val_loss: 1.5950 - val_mae: 1.5950 - val_mse: 6.1490\n",
            "Epoch 215/300\n",
            "10/10 [==============================] - 0s 4ms/step - loss: 1.8328 - mae: 1.8328 - mse: 8.2828 - val_loss: 1.5951 - val_mae: 1.5951 - val_mse: 6.1529\n",
            "Epoch 216/300\n",
            "10/10 [==============================] - 0s 5ms/step - loss: 1.8326 - mae: 1.8326 - mse: 8.2825 - val_loss: 1.5950 - val_mae: 1.5950 - val_mse: 6.1527\n",
            "Epoch 217/300\n",
            "10/10 [==============================] - 0s 5ms/step - loss: 1.8325 - mae: 1.8325 - mse: 8.2819 - val_loss: 1.5950 - val_mae: 1.5950 - val_mse: 6.1494\n",
            "Epoch 218/300\n",
            "10/10 [==============================] - 0s 5ms/step - loss: 1.8329 - mae: 1.8329 - mse: 8.2811 - val_loss: 1.5952 - val_mae: 1.5952 - val_mse: 6.1528\n",
            "Epoch 219/300\n",
            "10/10 [==============================] - 0s 7ms/step - loss: 1.8325 - mae: 1.8325 - mse: 8.2821 - val_loss: 1.5950 - val_mae: 1.5950 - val_mse: 6.1505\n",
            "Epoch 220/300\n",
            "10/10 [==============================] - 0s 4ms/step - loss: 1.8328 - mae: 1.8328 - mse: 8.2817 - val_loss: 1.5950 - val_mae: 1.5950 - val_mse: 6.1488\n",
            "Epoch 221/300\n",
            "10/10 [==============================] - 0s 4ms/step - loss: 1.8327 - mae: 1.8327 - mse: 8.2806 - val_loss: 1.5950 - val_mae: 1.5950 - val_mse: 6.1503\n",
            "Epoch 222/300\n",
            "10/10 [==============================] - 0s 4ms/step - loss: 1.8327 - mae: 1.8327 - mse: 8.2822 - val_loss: 1.5949 - val_mae: 1.5949 - val_mse: 6.1513\n",
            "Epoch 223/300\n",
            "10/10 [==============================] - 0s 4ms/step - loss: 1.8327 - mae: 1.8327 - mse: 8.2818 - val_loss: 1.5951 - val_mae: 1.5951 - val_mse: 6.1463\n",
            "Epoch 224/300\n",
            "10/10 [==============================] - 0s 6ms/step - loss: 1.8336 - mae: 1.8336 - mse: 8.2791 - val_loss: 1.5950 - val_mae: 1.5950 - val_mse: 6.1526\n",
            "Epoch 225/300\n",
            "10/10 [==============================] - 0s 4ms/step - loss: 1.8326 - mae: 1.8326 - mse: 8.2814 - val_loss: 1.5949 - val_mae: 1.5949 - val_mse: 6.1509\n",
            "Epoch 226/300\n",
            "10/10 [==============================] - 0s 4ms/step - loss: 1.8328 - mae: 1.8328 - mse: 8.2821 - val_loss: 1.5951 - val_mae: 1.5951 - val_mse: 6.1530\n",
            "Epoch 227/300\n",
            "10/10 [==============================] - 0s 4ms/step - loss: 1.8325 - mae: 1.8325 - mse: 8.2822 - val_loss: 1.5951 - val_mae: 1.5951 - val_mse: 6.1528\n",
            "Epoch 228/300\n",
            "10/10 [==============================] - 0s 4ms/step - loss: 1.8326 - mae: 1.8326 - mse: 8.2810 - val_loss: 1.5949 - val_mae: 1.5949 - val_mse: 6.1512\n",
            "Epoch 229/300\n",
            "10/10 [==============================] - 0s 5ms/step - loss: 1.8325 - mae: 1.8325 - mse: 8.2821 - val_loss: 1.5949 - val_mae: 1.5949 - val_mse: 6.1518\n",
            "Epoch 230/300\n",
            "10/10 [==============================] - 0s 5ms/step - loss: 1.8326 - mae: 1.8326 - mse: 8.2818 - val_loss: 1.5955 - val_mae: 1.5955 - val_mse: 6.1538\n",
            "Epoch 231/300\n",
            "10/10 [==============================] - 0s 4ms/step - loss: 1.8332 - mae: 1.8332 - mse: 8.2807 - val_loss: 1.5949 - val_mae: 1.5949 - val_mse: 6.1509\n",
            "Epoch 232/300\n",
            "10/10 [==============================] - 0s 5ms/step - loss: 1.8327 - mae: 1.8327 - mse: 8.2818 - val_loss: 1.5949 - val_mae: 1.5949 - val_mse: 6.1517\n",
            "Epoch 233/300\n",
            "10/10 [==============================] - 0s 4ms/step - loss: 1.8326 - mae: 1.8326 - mse: 8.2823 - val_loss: 1.5950 - val_mae: 1.5950 - val_mse: 6.1523\n",
            "Epoch 234/300\n",
            "10/10 [==============================] - 0s 4ms/step - loss: 1.8330 - mae: 1.8330 - mse: 8.2814 - val_loss: 1.5950 - val_mae: 1.5950 - val_mse: 6.1498\n",
            "Epoch 235/300\n",
            "10/10 [==============================] - 0s 4ms/step - loss: 1.8325 - mae: 1.8325 - mse: 8.2815 - val_loss: 1.5949 - val_mae: 1.5949 - val_mse: 6.1520\n",
            "Epoch 236/300\n",
            "10/10 [==============================] - 0s 4ms/step - loss: 1.8326 - mae: 1.8326 - mse: 8.2825 - val_loss: 1.5950 - val_mae: 1.5950 - val_mse: 6.1487\n",
            "Epoch 237/300\n",
            "10/10 [==============================] - 0s 7ms/step - loss: 1.8331 - mae: 1.8331 - mse: 8.2823 - val_loss: 1.5949 - val_mae: 1.5949 - val_mse: 6.1512\n",
            "Epoch 238/300\n",
            "10/10 [==============================] - 0s 4ms/step - loss: 1.8326 - mae: 1.8326 - mse: 8.2816 - val_loss: 1.5952 - val_mae: 1.5952 - val_mse: 6.1528\n",
            "Epoch 239/300\n",
            "10/10 [==============================] - 0s 5ms/step - loss: 1.8332 - mae: 1.8332 - mse: 8.2823 - val_loss: 1.5954 - val_mae: 1.5954 - val_mse: 6.1535\n",
            "Epoch 240/300\n",
            "10/10 [==============================] - 0s 5ms/step - loss: 1.8332 - mae: 1.8332 - mse: 8.2808 - val_loss: 1.5971 - val_mae: 1.5971 - val_mse: 6.1579\n",
            "Epoch 241/300\n",
            "10/10 [==============================] - 0s 4ms/step - loss: 1.8333 - mae: 1.8333 - mse: 8.2840 - val_loss: 1.5950 - val_mae: 1.5950 - val_mse: 6.1523\n",
            "Epoch 242/300\n",
            "10/10 [==============================] - 0s 5ms/step - loss: 1.8336 - mae: 1.8336 - mse: 8.2845 - val_loss: 1.5961 - val_mae: 1.5961 - val_mse: 6.1556\n",
            "Epoch 243/300\n",
            "10/10 [==============================] - 0s 4ms/step - loss: 1.8331 - mae: 1.8331 - mse: 8.2816 - val_loss: 1.5964 - val_mae: 1.5964 - val_mse: 6.1565\n",
            "Epoch 244/300\n",
            "10/10 [==============================] - 0s 4ms/step - loss: 1.8328 - mae: 1.8328 - mse: 8.2825 - val_loss: 1.5951 - val_mae: 1.5951 - val_mse: 6.1529\n",
            "Epoch 245/300\n",
            "10/10 [==============================] - 0s 4ms/step - loss: 1.8325 - mae: 1.8325 - mse: 8.2821 - val_loss: 1.5954 - val_mae: 1.5954 - val_mse: 6.1537\n",
            "Epoch 246/300\n",
            "10/10 [==============================] - 0s 5ms/step - loss: 1.8325 - mae: 1.8325 - mse: 8.2819 - val_loss: 1.5949 - val_mae: 1.5949 - val_mse: 6.1515\n",
            "Epoch 247/300\n",
            "10/10 [==============================] - 0s 5ms/step - loss: 1.8328 - mae: 1.8328 - mse: 8.2816 - val_loss: 1.5950 - val_mae: 1.5950 - val_mse: 6.1505\n",
            "Epoch 248/300\n",
            "10/10 [==============================] - 0s 4ms/step - loss: 1.8326 - mae: 1.8326 - mse: 8.2826 - val_loss: 1.5950 - val_mae: 1.5950 - val_mse: 6.1511\n",
            "Epoch 249/300\n",
            "10/10 [==============================] - 0s 6ms/step - loss: 1.8325 - mae: 1.8325 - mse: 8.2818 - val_loss: 1.5951 - val_mae: 1.5951 - val_mse: 6.1526\n",
            "Epoch 250/300\n",
            "10/10 [==============================] - 0s 6ms/step - loss: 1.8331 - mae: 1.8331 - mse: 8.2803 - val_loss: 1.5949 - val_mae: 1.5949 - val_mse: 6.1516\n",
            "Epoch 251/300\n",
            "10/10 [==============================] - 0s 7ms/step - loss: 1.8327 - mae: 1.8327 - mse: 8.2823 - val_loss: 1.5949 - val_mae: 1.5949 - val_mse: 6.1518\n",
            "Epoch 252/300\n",
            "10/10 [==============================] - 0s 5ms/step - loss: 1.8326 - mae: 1.8326 - mse: 8.2822 - val_loss: 1.5950 - val_mae: 1.5950 - val_mse: 6.1501\n",
            "Epoch 253/300\n",
            "10/10 [==============================] - 0s 5ms/step - loss: 1.8332 - mae: 1.8332 - mse: 8.2806 - val_loss: 1.5951 - val_mae: 1.5951 - val_mse: 6.1460\n",
            "Epoch 254/300\n",
            "10/10 [==============================] - 0s 5ms/step - loss: 1.8334 - mae: 1.8334 - mse: 8.2823 - val_loss: 1.5951 - val_mae: 1.5951 - val_mse: 6.1481\n",
            "Epoch 255/300\n",
            "10/10 [==============================] - 0s 6ms/step - loss: 1.8328 - mae: 1.8328 - mse: 8.2812 - val_loss: 1.5950 - val_mae: 1.5950 - val_mse: 6.1492\n",
            "Epoch 256/300\n",
            "10/10 [==============================] - 0s 5ms/step - loss: 1.8330 - mae: 1.8330 - mse: 8.2818 - val_loss: 1.5951 - val_mae: 1.5951 - val_mse: 6.1472\n",
            "Epoch 257/300\n",
            "10/10 [==============================] - 0s 4ms/step - loss: 1.8337 - mae: 1.8337 - mse: 8.2840 - val_loss: 1.5951 - val_mae: 1.5951 - val_mse: 6.1474\n",
            "Epoch 258/300\n",
            "10/10 [==============================] - 0s 5ms/step - loss: 1.8328 - mae: 1.8328 - mse: 8.2812 - val_loss: 1.5953 - val_mae: 1.5953 - val_mse: 6.1535\n",
            "Epoch 259/300\n",
            "10/10 [==============================] - 0s 4ms/step - loss: 1.8325 - mae: 1.8325 - mse: 8.2823 - val_loss: 1.5955 - val_mae: 1.5955 - val_mse: 6.1539\n",
            "Epoch 260/300\n",
            "10/10 [==============================] - 0s 5ms/step - loss: 1.8334 - mae: 1.8334 - mse: 8.2827 - val_loss: 1.5976 - val_mae: 1.5976 - val_mse: 6.1595\n",
            "Epoch 261/300\n",
            "10/10 [==============================] - 0s 4ms/step - loss: 1.8335 - mae: 1.8335 - mse: 8.2796 - val_loss: 1.5950 - val_mae: 1.5950 - val_mse: 6.1525\n",
            "Epoch 262/300\n",
            "10/10 [==============================] - 0s 4ms/step - loss: 1.8333 - mae: 1.8333 - mse: 8.2822 - val_loss: 1.5950 - val_mae: 1.5950 - val_mse: 6.1498\n",
            "Epoch 263/300\n",
            "10/10 [==============================] - 0s 4ms/step - loss: 1.8329 - mae: 1.8329 - mse: 8.2823 - val_loss: 1.5950 - val_mae: 1.5950 - val_mse: 6.1493\n",
            "Epoch 264/300\n",
            "10/10 [==============================] - 0s 5ms/step - loss: 1.8334 - mae: 1.8334 - mse: 8.2830 - val_loss: 1.5951 - val_mae: 1.5951 - val_mse: 6.1470\n",
            "Epoch 265/300\n",
            "10/10 [==============================] - 0s 5ms/step - loss: 1.8328 - mae: 1.8328 - mse: 8.2809 - val_loss: 1.5950 - val_mae: 1.5950 - val_mse: 6.1485\n",
            "Epoch 266/300\n",
            "10/10 [==============================] - 0s 5ms/step - loss: 1.8331 - mae: 1.8331 - mse: 8.2824 - val_loss: 1.5949 - val_mae: 1.5949 - val_mse: 6.1509\n",
            "Epoch 267/300\n",
            "10/10 [==============================] - 0s 7ms/step - loss: 1.8327 - mae: 1.8327 - mse: 8.2808 - val_loss: 1.5949 - val_mae: 1.5949 - val_mse: 6.1519\n",
            "Epoch 268/300\n",
            "10/10 [==============================] - 0s 4ms/step - loss: 1.8324 - mae: 1.8324 - mse: 8.2819 - val_loss: 1.5955 - val_mae: 1.5955 - val_mse: 6.1540\n",
            "Epoch 269/300\n",
            "10/10 [==============================] - 0s 4ms/step - loss: 1.8326 - mae: 1.8326 - mse: 8.2818 - val_loss: 1.5949 - val_mae: 1.5949 - val_mse: 6.1511\n",
            "Epoch 270/300\n",
            "10/10 [==============================] - 0s 5ms/step - loss: 1.8326 - mae: 1.8326 - mse: 8.2811 - val_loss: 1.5963 - val_mae: 1.5963 - val_mse: 6.1561\n",
            "Epoch 271/300\n",
            "10/10 [==============================] - 0s 4ms/step - loss: 1.8330 - mae: 1.8330 - mse: 8.2826 - val_loss: 1.5949 - val_mae: 1.5949 - val_mse: 6.1522\n",
            "Epoch 272/300\n",
            "10/10 [==============================] - 0s 4ms/step - loss: 1.8324 - mae: 1.8324 - mse: 8.2822 - val_loss: 1.5949 - val_mae: 1.5949 - val_mse: 6.1521\n",
            "Epoch 273/300\n",
            "10/10 [==============================] - 0s 5ms/step - loss: 1.8326 - mae: 1.8326 - mse: 8.2820 - val_loss: 1.5950 - val_mae: 1.5950 - val_mse: 6.1486\n",
            "Epoch 274/300\n",
            "10/10 [==============================] - 0s 5ms/step - loss: 1.8335 - mae: 1.8335 - mse: 8.2833 - val_loss: 1.5950 - val_mae: 1.5950 - val_mse: 6.1492\n",
            "Epoch 275/300\n",
            "10/10 [==============================] - 0s 8ms/step - loss: 1.8327 - mae: 1.8327 - mse: 8.2813 - val_loss: 1.5959 - val_mae: 1.5959 - val_mse: 6.1548\n",
            "Epoch 276/300\n",
            "10/10 [==============================] - 0s 4ms/step - loss: 1.8326 - mae: 1.8326 - mse: 8.2827 - val_loss: 1.5950 - val_mae: 1.5950 - val_mse: 6.1504\n",
            "Epoch 277/300\n",
            "10/10 [==============================] - 0s 5ms/step - loss: 1.8325 - mae: 1.8325 - mse: 8.2808 - val_loss: 1.5951 - val_mae: 1.5951 - val_mse: 6.1526\n",
            "Epoch 278/300\n",
            "10/10 [==============================] - 0s 5ms/step - loss: 1.8327 - mae: 1.8327 - mse: 8.2821 - val_loss: 1.5950 - val_mae: 1.5950 - val_mse: 6.1497\n",
            "Epoch 279/300\n",
            "10/10 [==============================] - 0s 4ms/step - loss: 1.8325 - mae: 1.8325 - mse: 8.2821 - val_loss: 1.5950 - val_mae: 1.5950 - val_mse: 6.1499\n",
            "Epoch 280/300\n",
            "10/10 [==============================] - 0s 5ms/step - loss: 1.8330 - mae: 1.8330 - mse: 8.2805 - val_loss: 1.5950 - val_mae: 1.5950 - val_mse: 6.1507\n",
            "Epoch 281/300\n",
            "10/10 [==============================] - 0s 7ms/step - loss: 1.8328 - mae: 1.8328 - mse: 8.2815 - val_loss: 1.5950 - val_mae: 1.5950 - val_mse: 6.1503\n",
            "Epoch 282/300\n",
            "10/10 [==============================] - 0s 5ms/step - loss: 1.8329 - mae: 1.8329 - mse: 8.2824 - val_loss: 1.5951 - val_mae: 1.5951 - val_mse: 6.1476\n",
            "Epoch 283/300\n",
            "10/10 [==============================] - 0s 5ms/step - loss: 1.8334 - mae: 1.8334 - mse: 8.2833 - val_loss: 1.5951 - val_mae: 1.5951 - val_mse: 6.1476\n",
            "Epoch 284/300\n",
            "10/10 [==============================] - 0s 5ms/step - loss: 1.8335 - mae: 1.8335 - mse: 8.2789 - val_loss: 1.5971 - val_mae: 1.5971 - val_mse: 6.1581\n",
            "Epoch 285/300\n",
            "10/10 [==============================] - 0s 5ms/step - loss: 1.8337 - mae: 1.8337 - mse: 8.2827 - val_loss: 1.5951 - val_mae: 1.5951 - val_mse: 6.1465\n",
            "Epoch 286/300\n",
            "10/10 [==============================] - 0s 5ms/step - loss: 1.8332 - mae: 1.8332 - mse: 8.2809 - val_loss: 1.5950 - val_mae: 1.5950 - val_mse: 6.1491\n",
            "Epoch 287/300\n",
            "10/10 [==============================] - 0s 4ms/step - loss: 1.8338 - mae: 1.8338 - mse: 8.2845 - val_loss: 1.5951 - val_mae: 1.5951 - val_mse: 6.1473\n",
            "Epoch 288/300\n",
            "10/10 [==============================] - 0s 5ms/step - loss: 1.8332 - mae: 1.8332 - mse: 8.2805 - val_loss: 1.5951 - val_mae: 1.5951 - val_mse: 6.1470\n",
            "Epoch 289/300\n",
            "10/10 [==============================] - 0s 5ms/step - loss: 1.8335 - mae: 1.8335 - mse: 8.2822 - val_loss: 1.5973 - val_mae: 1.5973 - val_mse: 6.1590\n",
            "Epoch 290/300\n",
            "10/10 [==============================] - 0s 5ms/step - loss: 1.8333 - mae: 1.8333 - mse: 8.2800 - val_loss: 1.5950 - val_mae: 1.5950 - val_mse: 6.1526\n",
            "Epoch 291/300\n",
            "10/10 [==============================] - 0s 4ms/step - loss: 1.8330 - mae: 1.8330 - mse: 8.2826 - val_loss: 1.5951 - val_mae: 1.5951 - val_mse: 6.1453\n",
            "Epoch 292/300\n",
            "10/10 [==============================] - 0s 5ms/step - loss: 1.8334 - mae: 1.8334 - mse: 8.2826 - val_loss: 1.5950 - val_mae: 1.5950 - val_mse: 6.1497\n",
            "Epoch 293/300\n",
            "10/10 [==============================] - 0s 4ms/step - loss: 1.8331 - mae: 1.8331 - mse: 8.2801 - val_loss: 1.5972 - val_mae: 1.5972 - val_mse: 6.1589\n",
            "Epoch 294/300\n",
            "10/10 [==============================] - 0s 5ms/step - loss: 1.8330 - mae: 1.8330 - mse: 8.2842 - val_loss: 1.5955 - val_mae: 1.5955 - val_mse: 6.1543\n",
            "Epoch 295/300\n",
            "10/10 [==============================] - 0s 4ms/step - loss: 1.8336 - mae: 1.8336 - mse: 8.2788 - val_loss: 1.5950 - val_mae: 1.5950 - val_mse: 6.1526\n",
            "Epoch 296/300\n",
            "10/10 [==============================] - 0s 5ms/step - loss: 1.8331 - mae: 1.8331 - mse: 8.2837 - val_loss: 1.5951 - val_mae: 1.5951 - val_mse: 6.1530\n",
            "Epoch 297/300\n",
            "10/10 [==============================] - 0s 5ms/step - loss: 1.8326 - mae: 1.8326 - mse: 8.2818 - val_loss: 1.5953 - val_mae: 1.5953 - val_mse: 6.1538\n",
            "Epoch 298/300\n",
            "10/10 [==============================] - 0s 5ms/step - loss: 1.8326 - mae: 1.8326 - mse: 8.2809 - val_loss: 1.5950 - val_mae: 1.5950 - val_mse: 6.1480\n",
            "Epoch 299/300\n",
            "10/10 [==============================] - 0s 5ms/step - loss: 1.8335 - mae: 1.8335 - mse: 8.2846 - val_loss: 1.5949 - val_mae: 1.5949 - val_mse: 6.1517\n",
            "Epoch 300/300\n",
            "10/10 [==============================] - 0s 4ms/step - loss: 1.8330 - mae: 1.8330 - mse: 8.2791 - val_loss: 1.5967 - val_mae: 1.5967 - val_mse: 6.1574\n"
          ],
          "name": "stdout"
        }
      ]
    },
    {
      "cell_type": "code",
      "metadata": {
        "id": "6zYkLGS6wQyy",
        "colab": {
          "base_uri": "https://localhost:8080/"
        },
        "outputId": "97fbe17f-775c-4e8a-d5bc-5b6445c534cb"
      },
      "source": [
        "print(history)"
      ],
      "execution_count": 22,
      "outputs": [
        {
          "output_type": "stream",
          "text": [
            "<tensorflow.python.keras.callbacks.History object at 0x7fc0532a8890>\n"
          ],
          "name": "stdout"
        }
      ]
    },
    {
      "cell_type": "code",
      "metadata": {
        "colab": {
          "base_uri": "https://localhost:8080/"
        },
        "id": "1lsbk_ohAu1j",
        "outputId": "73283f66-2a81-4e8a-ce3d-97895afb1906"
      },
      "source": [
        "model.summary()"
      ],
      "execution_count": 23,
      "outputs": [
        {
          "output_type": "stream",
          "text": [
            "Model: \"sequential\"\n",
            "_________________________________________________________________\n",
            "Layer (type)                 Output Shape              Param #   \n",
            "=================================================================\n",
            "dense (Dense)                (None, 1)                 2         \n",
            "=================================================================\n",
            "Total params: 2\n",
            "Trainable params: 2\n",
            "Non-trainable params: 0\n",
            "_________________________________________________________________\n"
          ],
          "name": "stdout"
        }
      ]
    },
    {
      "cell_type": "code",
      "metadata": {
        "colab": {
          "base_uri": "https://localhost:8080/",
          "height": 1000
        },
        "id": "P6VnkPim7tH7",
        "outputId": "66baeb3a-15c9-46a6-ab80-31e5283b7f18"
      },
      "source": [
        "# tempString = 'mse'\n",
        "def curvePlots(tempString):\n",
        "  plt.plot(history.history[tempString])\n",
        "  plt.plot(history.history[f'val_{tempString}'])\n",
        "  plt.xlabel('NumEpochs')\n",
        "  plt.ylabel(tempString)\n",
        "  plt.legend([tempString, f'val_{tempString}'])\n",
        "  plt.show()\n",
        "\n",
        "\n",
        "curvePlots('mse')\n",
        "curvePlots('mae')\n",
        "curvePlots('loss')"
      ],
      "execution_count": 24,
      "outputs": [
        {
          "output_type": "display_data",
          "data": {
            "image/png": "[encoded data removed]",
            "text/plain": [
              "<Figure size 576x396 with 1 Axes>"
            ]
          },
          "metadata": {
            "tags": []
          }
        },
        {
          "output_type": "display_data",
          "data": {
            "image/png": "[encoded data removed]",
            "text/plain": [
              "<Figure size 576x396 with 1 Axes>"
            ]
          },
          "metadata": {
            "tags": []
          }
        },
        {
          "output_type": "display_data",
          "data": {
            "image/png": "[encoded data removed]",
            "text/plain": [
              "<Figure size 576x396 with 1 Axes>"
            ]
          },
          "metadata": {
            "tags": []
          }
        }
      ]
    },
    {
      "cell_type": "code",
      "metadata": {
        "id": "esW0eHQbzoj4",
        "colab": {
          "base_uri": "https://localhost:8080/"
        },
        "outputId": "c4599440-a90b-49cd-8350-680474a7eb24"
      },
      "source": [
        "model.predict([1])"
      ],
      "execution_count": 25,
      "outputs": [
        {
          "output_type": "execute_result",
          "data": {
            "text/plain": [
              "array([[1.0029372]], dtype=float32)"
            ]
          },
          "metadata": {
            "tags": []
          },
          "execution_count": 25
        }
      ]
    },
    {
      "cell_type": "code",
      "metadata": {
        "colab": {
          "base_uri": "https://localhost:8080/"
        },
        "id": "KJrLWamX8Tg-",
        "outputId": "f3fc41b8-a9fb-4133-a52f-274308c6018c"
      },
      "source": [
        "# testPreds = model.predict(testFeatures).flatten() #array of all prediction values\n",
        "\n",
        "#for single values\n",
        "\n",
        "print(f'Prediction for input value 1: {model.predict([1])}')\n",
        "\n",
        "\n",
        "# for a list of values\n",
        "tempListforPreds = [1,2,3,4,5]\n",
        "print(f'''\n",
        "\n",
        "input List = {tempListforPreds}\n",
        "\n",
        "\n",
        "List of Predictions:\n",
        "{model.predict(tempListforPreds)}\n",
        "\n",
        "List of Predictions (flattened out):\n",
        "{model.predict(tempListforPreds).flatten()}\n",
        "''')"
      ],
      "execution_count": 26,
      "outputs": [
        {
          "output_type": "stream",
          "text": [
            "Prediction for input value 1: [[1.0029372]]\n",
            "\n",
            "\n",
            "input List = [1, 2, 3, 4, 5]\n",
            "\n",
            "\n",
            "List of Predictions:\n",
            "[[1.0029372]\n",
            " [2.0031426]\n",
            " [3.0033479]\n",
            " [4.0035534]\n",
            " [5.003759 ]]\n",
            "\n",
            "List of Predictions (flattened out):\n",
            "[1.0029372 2.0031426 3.0033479 4.0035534 5.003759 ]\n",
            "\n"
          ],
          "name": "stdout"
        }
      ]
    },
    {
      "cell_type": "code",
      "metadata": {
        "id": "vJNFh6hc0K6r",
        "colab": {
          "base_uri": "https://localhost:8080/"
        },
        "outputId": "9bc2d45f-ed17-4bf3-ec64-fa2cc4e7a609"
      },
      "source": [
        "print(testFeatures)"
      ],
      "execution_count": 27,
      "outputs": [
        {
          "output_type": "stream",
          "text": [
            "     G1\n",
            "9    14\n",
            "25    6\n",
            "28   11\n",
            "31   17\n",
            "32   17\n",
            "..   ..\n",
            "365  10\n",
            "367   7\n",
            "379  10\n",
            "381   7\n",
            "393  11\n",
            "\n",
            "[79 rows x 1 columns]\n"
          ],
          "name": "stdout"
        }
      ]
    },
    {
      "cell_type": "code",
      "metadata": {
        "id": "MniGZOu50IyN"
      },
      "source": [
        "testPreds = model.predict(testFeatures).flatten() #array of all prediction values"
      ],
      "execution_count": 28,
      "outputs": []
    },
    {
      "cell_type": "code",
      "metadata": {
        "id": "du0Orwu40Qan",
        "colab": {
          "base_uri": "https://localhost:8080/"
        },
        "outputId": "1b9b802f-27d4-4948-8cb0-f28da18617ae"
      },
      "source": [
        "print(len(testPreds))\n",
        "print(testPreds)"
      ],
      "execution_count": 29,
      "outputs": [
        {
          "output_type": "stream",
          "text": [
            "79\n",
            "[14.005607   6.003964  11.004991  17.006224  17.006224  12.005196\n",
            " 14.005607  19.006634  19.006634   8.0043745 14.005607  13.005402\n",
            "  8.0043745  7.0041695  9.00458   13.005402  11.004991  16.006018\n",
            "  7.0041695 10.004786  15.005813  13.005402  14.005607  16.006018\n",
            "  7.0041695  7.0041695  8.0043745 10.004786  12.005196  10.004786\n",
            " 12.005196  13.005402  10.004786   6.003964   9.00458   12.005196\n",
            "  7.0041695  8.0043745 14.005607   9.00458    9.00458    7.0041695\n",
            " 12.005196   6.003964  13.005402   7.0041695  7.0041695 11.004991\n",
            " 13.005402  17.006224  12.005196  15.005813   9.00458   12.005196\n",
            " 15.005813  12.005196  15.005813  12.005196  15.005813  11.004991\n",
            " 12.005196   8.0043745 16.006018   7.0041695 16.006018  11.004991\n",
            " 16.006018  13.005402   8.0043745  8.0043745 12.005196  18.006428\n",
            " 13.005402  16.006018  10.004786   7.0041695 10.004786   7.0041695\n",
            " 11.004991 ]\n"
          ],
          "name": "stdout"
        }
      ]
    },
    {
      "cell_type": "code",
      "metadata": {
        "colab": {
          "base_uri": "https://localhost:8080/",
          "height": 361
        },
        "id": "EfP8bB_v89Wa",
        "outputId": "1a31ae6d-480d-406d-a0dd-5d2df00a98dc"
      },
      "source": [
        "# prediciton plot --> how well is your model predicting across the actual labels\n",
        "\n",
        "def predPlot(labels, predictions):\n",
        "  plt.scatter(labels, predictions)\n",
        "  plt.ylabel('Predictions')\n",
        "  plt.xlabel('True Value or Labels')\n",
        "  plt.axis('equal')\n",
        "  plt.axis('square')\n",
        "  plt.xlim([0, plt.xlim()[1]])\n",
        "  plt.ylim([0, plt.ylim()[1]])\n",
        "  plt.show()\n",
        "\n",
        "predPlot(testLabels, testPreds)"
      ],
      "execution_count": 30,
      "outputs": [
        {
          "output_type": "display_data",
          "data": {
            "image/png": "[encoded data removed]",
            "text/plain": [
              "<Figure size 576x396 with 1 Axes>"
            ]
          },
          "metadata": {
            "tags": []
          }
        }
      ]
    },
    {
      "cell_type": "code",
      "metadata": {
        "colab": {
          "base_uri": "https://localhost:8080/",
          "height": 361
        },
        "id": "70608Z0o9tWL",
        "outputId": "d21fe9b5-7ccc-4d72-e933-a6e6d7f7a479"
      },
      "source": [
        "#error plot --> gaussian distribution \n",
        "\n",
        "def errorPlot(preds, labels, counts):\n",
        "  errors = preds - labels\n",
        "  plt.hist(errors, counts)\n",
        "  plt.xlabel('Error')\n",
        "  plt.ylabel('Counts')\n",
        "  plt.show()\n",
        "\n",
        "errorPlot(testPreds, testLabels, numEpochs)"
      ],
      "execution_count": 31,
      "outputs": [
        {
          "output_type": "display_data",
          "data": {
            "image/png": "[encoded data removed]",
            "text/plain": [
              "<Figure size 576x396 with 1 Axes>"
            ]
          },
          "metadata": {
            "tags": []
          }
        }
      ]
    },
    {
      "cell_type": "markdown",
      "metadata": {
        "id": "oshf2mUG1vPk"
      },
      "source": [
        "Note: \n",
        "\n",
        "\n",
        "Validation loss `val_loss` is a metric that tells you how much deviation from the actual label can you expect in the predicted label\n",
        "\n",
        "To optimize your predicitons -->\n",
        "\n",
        "- Hyperparameter tuning --> `numEpochs`, `optimizer`, `learning_rate`, lossFunctions"
      ]
    }
  ]
}