{
  "nbformat": 4,
  "nbformat_minor": 0,
  "metadata": {
    "colab": {
      "name": "3.1_Univariate.ipynb",
      "provenance": [],
      "toc_visible": true,
      "include_colab_link": true
    },
    "kernelspec": {
      "name": "python3",
      "display_name": "Python 3"
    }
  },
  "cells": [
    {
      "cell_type": "markdown",
      "metadata": {
        "id": "view-in-github",
        "colab_type": "text"
      },
      "source": [
        "<a href=\"https://colab.research.google.com/github/payal1925/MLnow_2.0-/blob/main/03_LinearRegression/3a_Univariate.ipynb\" target=\"_parent\"><img src=\"https://colab.research.google.com/assets/colab-badge.svg\" alt=\"Open In Colab\"/></a>"
      ]
    },
    {
      "cell_type": "markdown",
      "metadata": {
        "id": "q_569ugy6lyY"
      },
      "source": [
        "> This notebook was created for code illustration of the `ML_now()` course\n",
        "\n",
        "\n",
        "`Univariate Linear Regression`\n",
        "\n",
        "[Link to Download the dataset](https://archive.ics.uci.edu/ml/datasets/Student+Performance)\n",
        "\n",
        "**Date Created**: June 6, 2021\n",
        "\n",
        "\n",
        "**Author**:\n",
        "Payal Jaiswal\n",
        "\n",
        "**Reach out**: [LinkedIn](https://www.linkedin.com/in/payaljaiswal)\n",
        "\n",
        "[[Assessment Repository](https://github.com/payal1925/MLnow_2.0-)]"
      ]
    },
    {
      "cell_type": "markdown",
      "metadata": {
        "id": "KmW9S6zjaauQ"
      },
      "source": [
        "## Setup"
      ]
    },
    {
      "cell_type": "code",
      "metadata": {
        "colab": {
          "base_uri": "https://localhost:8080/"
        },
        "id": "oX_QibhWsnnX",
        "outputId": "4d8e9c02-74f6-44de-b465-c7c6dc77111c"
      },
      "source": [
        "from google.colab import drive\n",
        "drive.mount('/content/drive')"
      ],
      "execution_count": 1,
      "outputs": [
        {
          "output_type": "stream",
          "text": [
            "Drive already mounted at /content/drive; to attempt to forcibly remount, call drive.mount(\"/content/drive\", force_remount=True).\n"
          ],
          "name": "stdout"
        }
      ]
    },
    {
      "cell_type": "code",
      "metadata": {
        "colab": {
          "base_uri": "https://localhost:8080/"
        },
        "id": "wYuNn17Isvml",
        "outputId": "bb165018-6177-41ec-90dd-d28591d15091"
      },
      "source": [
        "cd '/content/drive/MyDrive/student2'"
      ],
      "execution_count": 2,
      "outputs": [
        {
          "output_type": "stream",
          "text": [
            "/content/drive/MyDrive/student2\n"
          ],
          "name": "stdout"
        }
      ]
    },
    {
      "cell_type": "code",
      "metadata": {
        "colab": {
          "base_uri": "https://localhost:8080/"
        },
        "id": "oR69jwALs-uP",
        "outputId": "19a34f35-2f05-4704-8aed-345d1fad97ec"
      },
      "source": [
        "ls"
      ],
      "execution_count": 3,
      "outputs": [
        {
          "output_type": "stream",
          "text": [
            "student2-mat.csv  student2-por.csv  univariate_MathData_2.csv\n",
            "student2-merge.R  student2.txt\n"
          ],
          "name": "stdout"
        }
      ]
    },
    {
      "cell_type": "code",
      "metadata": {
        "id": "0rYwvbeMtPJg"
      },
      "source": [
        "import os"
      ],
      "execution_count": 4,
      "outputs": []
    },
    {
      "cell_type": "code",
      "metadata": {
        "id": "cnGQRbmes_tZ"
      },
      "source": [
        "import pandas as pd #working with csv or excel files\n",
        "import numpy as np #working with numbers/ arrays/ tensors\n",
        "import tensorflow as tf #framework\n",
        "from tensorflow import keras #API / library \n",
        "import os #using os commands between the python language"
      ],
      "execution_count": 5,
      "outputs": []
    },
    {
      "cell_type": "code",
      "metadata": {
        "id": "VV-Ps6dJtX6B"
      },
      "source": [
        "mathData = pd.read_csv('student2-mat.csv', sep=';') #load the csv file as dataframe"
      ],
      "execution_count": 6,
      "outputs": []
    },
    {
      "cell_type": "code",
      "metadata": {
        "colab": {
          "base_uri": "https://localhost:8080/",
          "height": 379
        },
        "id": "2_KId_bptr05",
        "outputId": "021d0e15-7d68-49f3-a2d4-20fa7710a3c5"
      },
      "source": [
        "mathData.head(10) #print the first ten rows of the dataframe"
      ],
      "execution_count": 7,
      "outputs": [
        {
          "output_type": "execute_result",
          "data": {
            "text/html": [
              "<div>\n",
              "<style scoped>\n",
              "    .dataframe tbody tr th:only-of-type {\n",
              "        vertical-align: middle;\n",
              "    }\n",
              "\n",
              "    .dataframe tbody tr th {\n",
              "        vertical-align: top;\n",
              "    }\n",
              "\n",
              "    .dataframe thead th {\n",
              "        text-align: right;\n",
              "    }\n",
              "</style>\n",
              "<table border=\"1\" class=\"dataframe\">\n",
              "  <thead>\n",
              "    <tr style=\"text-align: right;\">\n",
              "      <th></th>\n",
              "      <th>school</th>\n",
              "      <th>sex</th>\n",
              "      <th>age</th>\n",
              "      <th>address</th>\n",
              "      <th>famsize</th>\n",
              "      <th>Pstatus</th>\n",
              "      <th>Medu</th>\n",
              "      <th>Fedu</th>\n",
              "      <th>Mjob</th>\n",
              "      <th>Fjob</th>\n",
              "      <th>reason</th>\n",
              "      <th>guardian</th>\n",
              "      <th>traveltime</th>\n",
              "      <th>studytime</th>\n",
              "      <th>failures</th>\n",
              "      <th>schoolsup</th>\n",
              "      <th>famsup</th>\n",
              "      <th>paid</th>\n",
              "      <th>activities</th>\n",
              "      <th>nursery</th>\n",
              "      <th>higher</th>\n",
              "      <th>internet</th>\n",
              "      <th>romantic</th>\n",
              "      <th>famrel</th>\n",
              "      <th>freetime</th>\n",
              "      <th>goout</th>\n",
              "      <th>Dalc</th>\n",
              "      <th>Walc</th>\n",
              "      <th>health</th>\n",
              "      <th>absences</th>\n",
              "      <th>G1</th>\n",
              "      <th>G2</th>\n",
              "      <th>G3</th>\n",
              "    </tr>\n",
              "  </thead>\n",
              "  <tbody>\n",
              "    <tr>\n",
              "      <th>0</th>\n",
              "      <td>GP</td>\n",
              "      <td>F</td>\n",
              "      <td>18</td>\n",
              "      <td>U</td>\n",
              "      <td>GT3</td>\n",
              "      <td>A</td>\n",
              "      <td>4</td>\n",
              "      <td>4</td>\n",
              "      <td>at_home</td>\n",
              "      <td>teacher</td>\n",
              "      <td>course</td>\n",
              "      <td>mother</td>\n",
              "      <td>2</td>\n",
              "      <td>2</td>\n",
              "      <td>0</td>\n",
              "      <td>yes</td>\n",
              "      <td>no</td>\n",
              "      <td>no</td>\n",
              "      <td>no</td>\n",
              "      <td>yes</td>\n",
              "      <td>yes</td>\n",
              "      <td>no</td>\n",
              "      <td>no</td>\n",
              "      <td>4</td>\n",
              "      <td>3</td>\n",
              "      <td>4</td>\n",
              "      <td>1</td>\n",
              "      <td>1</td>\n",
              "      <td>3</td>\n",
              "      <td>6</td>\n",
              "      <td>5</td>\n",
              "      <td>6</td>\n",
              "      <td>6</td>\n",
              "    </tr>\n",
              "    <tr>\n",
              "      <th>1</th>\n",
              "      <td>GP</td>\n",
              "      <td>F</td>\n",
              "      <td>17</td>\n",
              "      <td>U</td>\n",
              "      <td>GT3</td>\n",
              "      <td>T</td>\n",
              "      <td>1</td>\n",
              "      <td>1</td>\n",
              "      <td>at_home</td>\n",
              "      <td>other</td>\n",
              "      <td>course</td>\n",
              "      <td>father</td>\n",
              "      <td>1</td>\n",
              "      <td>2</td>\n",
              "      <td>0</td>\n",
              "      <td>no</td>\n",
              "      <td>yes</td>\n",
              "      <td>no</td>\n",
              "      <td>no</td>\n",
              "      <td>no</td>\n",
              "      <td>yes</td>\n",
              "      <td>yes</td>\n",
              "      <td>no</td>\n",
              "      <td>5</td>\n",
              "      <td>3</td>\n",
              "      <td>3</td>\n",
              "      <td>1</td>\n",
              "      <td>1</td>\n",
              "      <td>3</td>\n",
              "      <td>4</td>\n",
              "      <td>5</td>\n",
              "      <td>5</td>\n",
              "      <td>6</td>\n",
              "    </tr>\n",
              "    <tr>\n",
              "      <th>2</th>\n",
              "      <td>GP</td>\n",
              "      <td>F</td>\n",
              "      <td>15</td>\n",
              "      <td>U</td>\n",
              "      <td>LE3</td>\n",
              "      <td>T</td>\n",
              "      <td>1</td>\n",
              "      <td>1</td>\n",
              "      <td>at_home</td>\n",
              "      <td>other</td>\n",
              "      <td>other</td>\n",
              "      <td>mother</td>\n",
              "      <td>1</td>\n",
              "      <td>2</td>\n",
              "      <td>3</td>\n",
              "      <td>yes</td>\n",
              "      <td>no</td>\n",
              "      <td>yes</td>\n",
              "      <td>no</td>\n",
              "      <td>yes</td>\n",
              "      <td>yes</td>\n",
              "      <td>yes</td>\n",
              "      <td>no</td>\n",
              "      <td>4</td>\n",
              "      <td>3</td>\n",
              "      <td>2</td>\n",
              "      <td>2</td>\n",
              "      <td>3</td>\n",
              "      <td>3</td>\n",
              "      <td>10</td>\n",
              "      <td>7</td>\n",
              "      <td>8</td>\n",
              "      <td>10</td>\n",
              "    </tr>\n",
              "    <tr>\n",
              "      <th>3</th>\n",
              "      <td>GP</td>\n",
              "      <td>F</td>\n",
              "      <td>15</td>\n",
              "      <td>U</td>\n",
              "      <td>GT3</td>\n",
              "      <td>T</td>\n",
              "      <td>4</td>\n",
              "      <td>2</td>\n",
              "      <td>health</td>\n",
              "      <td>services</td>\n",
              "      <td>home</td>\n",
              "      <td>mother</td>\n",
              "      <td>1</td>\n",
              "      <td>3</td>\n",
              "      <td>0</td>\n",
              "      <td>no</td>\n",
              "      <td>yes</td>\n",
              "      <td>yes</td>\n",
              "      <td>yes</td>\n",
              "      <td>yes</td>\n",
              "      <td>yes</td>\n",
              "      <td>yes</td>\n",
              "      <td>yes</td>\n",
              "      <td>3</td>\n",
              "      <td>2</td>\n",
              "      <td>2</td>\n",
              "      <td>1</td>\n",
              "      <td>1</td>\n",
              "      <td>5</td>\n",
              "      <td>2</td>\n",
              "      <td>15</td>\n",
              "      <td>14</td>\n",
              "      <td>15</td>\n",
              "    </tr>\n",
              "    <tr>\n",
              "      <th>4</th>\n",
              "      <td>GP</td>\n",
              "      <td>F</td>\n",
              "      <td>16</td>\n",
              "      <td>U</td>\n",
              "      <td>GT3</td>\n",
              "      <td>T</td>\n",
              "      <td>3</td>\n",
              "      <td>3</td>\n",
              "      <td>other</td>\n",
              "      <td>other</td>\n",
              "      <td>home</td>\n",
              "      <td>father</td>\n",
              "      <td>1</td>\n",
              "      <td>2</td>\n",
              "      <td>0</td>\n",
              "      <td>no</td>\n",
              "      <td>yes</td>\n",
              "      <td>yes</td>\n",
              "      <td>no</td>\n",
              "      <td>yes</td>\n",
              "      <td>yes</td>\n",
              "      <td>no</td>\n",
              "      <td>no</td>\n",
              "      <td>4</td>\n",
              "      <td>3</td>\n",
              "      <td>2</td>\n",
              "      <td>1</td>\n",
              "      <td>2</td>\n",
              "      <td>5</td>\n",
              "      <td>4</td>\n",
              "      <td>6</td>\n",
              "      <td>10</td>\n",
              "      <td>10</td>\n",
              "    </tr>\n",
              "    <tr>\n",
              "      <th>5</th>\n",
              "      <td>GP</td>\n",
              "      <td>M</td>\n",
              "      <td>16</td>\n",
              "      <td>U</td>\n",
              "      <td>LE3</td>\n",
              "      <td>T</td>\n",
              "      <td>4</td>\n",
              "      <td>3</td>\n",
              "      <td>services</td>\n",
              "      <td>other</td>\n",
              "      <td>reputation</td>\n",
              "      <td>mother</td>\n",
              "      <td>1</td>\n",
              "      <td>2</td>\n",
              "      <td>0</td>\n",
              "      <td>no</td>\n",
              "      <td>yes</td>\n",
              "      <td>yes</td>\n",
              "      <td>yes</td>\n",
              "      <td>yes</td>\n",
              "      <td>yes</td>\n",
              "      <td>yes</td>\n",
              "      <td>no</td>\n",
              "      <td>5</td>\n",
              "      <td>4</td>\n",
              "      <td>2</td>\n",
              "      <td>1</td>\n",
              "      <td>2</td>\n",
              "      <td>5</td>\n",
              "      <td>10</td>\n",
              "      <td>15</td>\n",
              "      <td>15</td>\n",
              "      <td>15</td>\n",
              "    </tr>\n",
              "    <tr>\n",
              "      <th>6</th>\n",
              "      <td>GP</td>\n",
              "      <td>M</td>\n",
              "      <td>16</td>\n",
              "      <td>U</td>\n",
              "      <td>LE3</td>\n",
              "      <td>T</td>\n",
              "      <td>2</td>\n",
              "      <td>2</td>\n",
              "      <td>other</td>\n",
              "      <td>other</td>\n",
              "      <td>home</td>\n",
              "      <td>mother</td>\n",
              "      <td>1</td>\n",
              "      <td>2</td>\n",
              "      <td>0</td>\n",
              "      <td>no</td>\n",
              "      <td>no</td>\n",
              "      <td>no</td>\n",
              "      <td>no</td>\n",
              "      <td>yes</td>\n",
              "      <td>yes</td>\n",
              "      <td>yes</td>\n",
              "      <td>no</td>\n",
              "      <td>4</td>\n",
              "      <td>4</td>\n",
              "      <td>4</td>\n",
              "      <td>1</td>\n",
              "      <td>1</td>\n",
              "      <td>3</td>\n",
              "      <td>0</td>\n",
              "      <td>12</td>\n",
              "      <td>12</td>\n",
              "      <td>11</td>\n",
              "    </tr>\n",
              "    <tr>\n",
              "      <th>7</th>\n",
              "      <td>GP</td>\n",
              "      <td>F</td>\n",
              "      <td>17</td>\n",
              "      <td>U</td>\n",
              "      <td>GT3</td>\n",
              "      <td>A</td>\n",
              "      <td>4</td>\n",
              "      <td>4</td>\n",
              "      <td>other</td>\n",
              "      <td>teacher</td>\n",
              "      <td>home</td>\n",
              "      <td>mother</td>\n",
              "      <td>2</td>\n",
              "      <td>2</td>\n",
              "      <td>0</td>\n",
              "      <td>yes</td>\n",
              "      <td>yes</td>\n",
              "      <td>no</td>\n",
              "      <td>no</td>\n",
              "      <td>yes</td>\n",
              "      <td>yes</td>\n",
              "      <td>no</td>\n",
              "      <td>no</td>\n",
              "      <td>4</td>\n",
              "      <td>1</td>\n",
              "      <td>4</td>\n",
              "      <td>1</td>\n",
              "      <td>1</td>\n",
              "      <td>1</td>\n",
              "      <td>6</td>\n",
              "      <td>6</td>\n",
              "      <td>5</td>\n",
              "      <td>6</td>\n",
              "    </tr>\n",
              "    <tr>\n",
              "      <th>8</th>\n",
              "      <td>GP</td>\n",
              "      <td>M</td>\n",
              "      <td>15</td>\n",
              "      <td>U</td>\n",
              "      <td>LE3</td>\n",
              "      <td>A</td>\n",
              "      <td>3</td>\n",
              "      <td>2</td>\n",
              "      <td>services</td>\n",
              "      <td>other</td>\n",
              "      <td>home</td>\n",
              "      <td>mother</td>\n",
              "      <td>1</td>\n",
              "      <td>2</td>\n",
              "      <td>0</td>\n",
              "      <td>no</td>\n",
              "      <td>yes</td>\n",
              "      <td>yes</td>\n",
              "      <td>no</td>\n",
              "      <td>yes</td>\n",
              "      <td>yes</td>\n",
              "      <td>yes</td>\n",
              "      <td>no</td>\n",
              "      <td>4</td>\n",
              "      <td>2</td>\n",
              "      <td>2</td>\n",
              "      <td>1</td>\n",
              "      <td>1</td>\n",
              "      <td>1</td>\n",
              "      <td>0</td>\n",
              "      <td>16</td>\n",
              "      <td>18</td>\n",
              "      <td>19</td>\n",
              "    </tr>\n",
              "    <tr>\n",
              "      <th>9</th>\n",
              "      <td>GP</td>\n",
              "      <td>M</td>\n",
              "      <td>15</td>\n",
              "      <td>U</td>\n",
              "      <td>GT3</td>\n",
              "      <td>T</td>\n",
              "      <td>3</td>\n",
              "      <td>4</td>\n",
              "      <td>other</td>\n",
              "      <td>other</td>\n",
              "      <td>home</td>\n",
              "      <td>mother</td>\n",
              "      <td>1</td>\n",
              "      <td>2</td>\n",
              "      <td>0</td>\n",
              "      <td>no</td>\n",
              "      <td>yes</td>\n",
              "      <td>yes</td>\n",
              "      <td>yes</td>\n",
              "      <td>yes</td>\n",
              "      <td>yes</td>\n",
              "      <td>yes</td>\n",
              "      <td>no</td>\n",
              "      <td>5</td>\n",
              "      <td>5</td>\n",
              "      <td>1</td>\n",
              "      <td>1</td>\n",
              "      <td>1</td>\n",
              "      <td>5</td>\n",
              "      <td>0</td>\n",
              "      <td>14</td>\n",
              "      <td>15</td>\n",
              "      <td>15</td>\n",
              "    </tr>\n",
              "  </tbody>\n",
              "</table>\n",
              "</div>"
            ],
            "text/plain": [
              "  school sex  age address famsize Pstatus  ...  Walc  health absences  G1  G2  G3\n",
              "0     GP   F   18       U     GT3       A  ...     1       3        6   5   6   6\n",
              "1     GP   F   17       U     GT3       T  ...     1       3        4   5   5   6\n",
              "2     GP   F   15       U     LE3       T  ...     3       3       10   7   8  10\n",
              "3     GP   F   15       U     GT3       T  ...     1       5        2  15  14  15\n",
              "4     GP   F   16       U     GT3       T  ...     2       5        4   6  10  10\n",
              "5     GP   M   16       U     LE3       T  ...     2       5       10  15  15  15\n",
              "6     GP   M   16       U     LE3       T  ...     1       3        0  12  12  11\n",
              "7     GP   F   17       U     GT3       A  ...     1       1        6   6   5   6\n",
              "8     GP   M   15       U     LE3       A  ...     1       1        0  16  18  19\n",
              "9     GP   M   15       U     GT3       T  ...     1       5        0  14  15  15\n",
              "\n",
              "[10 rows x 33 columns]"
            ]
          },
          "metadata": {
            "tags": []
          },
          "execution_count": 7
        }
      ]
    },
    {
      "cell_type": "markdown",
      "metadata": {
        "id": "i2bal50yG_PZ"
      },
      "source": [
        "We are just going to consider the columns `G1` and `G3` for univariate linear regression\n",
        "\n",
        "$G3_i = G1_i  \\cdot \\theta_1 + \\theta_0$"
      ]
    },
    {
      "cell_type": "code",
      "metadata": {
        "colab": {
          "base_uri": "https://localhost:8080/",
          "height": 204
        },
        "id": "Yw0PNCuTSEDC",
        "outputId": "7cb222d5-125f-4cc5-bd49-7532968517e7"
      },
      "source": [
        "uniMathData = mathData[['G1', 'G3']]\n",
        "uniMathData.head(5)"
      ],
      "execution_count": 8,
      "outputs": [
        {
          "output_type": "execute_result",
          "data": {
            "text/html": [
              "<div>\n",
              "<style scoped>\n",
              "    .dataframe tbody tr th:only-of-type {\n",
              "        vertical-align: middle;\n",
              "    }\n",
              "\n",
              "    .dataframe tbody tr th {\n",
              "        vertical-align: top;\n",
              "    }\n",
              "\n",
              "    .dataframe thead th {\n",
              "        text-align: right;\n",
              "    }\n",
              "</style>\n",
              "<table border=\"1\" class=\"dataframe\">\n",
              "  <thead>\n",
              "    <tr style=\"text-align: right;\">\n",
              "      <th></th>\n",
              "      <th>G1</th>\n",
              "      <th>G3</th>\n",
              "    </tr>\n",
              "  </thead>\n",
              "  <tbody>\n",
              "    <tr>\n",
              "      <th>0</th>\n",
              "      <td>5</td>\n",
              "      <td>6</td>\n",
              "    </tr>\n",
              "    <tr>\n",
              "      <th>1</th>\n",
              "      <td>5</td>\n",
              "      <td>6</td>\n",
              "    </tr>\n",
              "    <tr>\n",
              "      <th>2</th>\n",
              "      <td>7</td>\n",
              "      <td>10</td>\n",
              "    </tr>\n",
              "    <tr>\n",
              "      <th>3</th>\n",
              "      <td>15</td>\n",
              "      <td>15</td>\n",
              "    </tr>\n",
              "    <tr>\n",
              "      <th>4</th>\n",
              "      <td>6</td>\n",
              "      <td>10</td>\n",
              "    </tr>\n",
              "  </tbody>\n",
              "</table>\n",
              "</div>"
            ],
            "text/plain": [
              "   G1  G3\n",
              "0   5   6\n",
              "1   5   6\n",
              "2   7  10\n",
              "3  15  15\n",
              "4   6  10"
            ]
          },
          "metadata": {
            "tags": []
          },
          "execution_count": 8
        }
      ]
    },
    {
      "cell_type": "code",
      "metadata": {
        "id": "eyzP9mL4Hmb5"
      },
      "source": [
        "uniMathData.to_csv('univariate_MathData_2.csv')"
      ],
      "execution_count": 9,
      "outputs": []
    },
    {
      "cell_type": "code",
      "metadata": {
        "colab": {
          "base_uri": "https://localhost:8080/"
        },
        "id": "I-3qK_nNxnTA",
        "outputId": "0c4ef14e-6561-4389-cbc5-e562e8851cb0"
      },
      "source": [
        "ls"
      ],
      "execution_count": 10,
      "outputs": [
        {
          "output_type": "stream",
          "text": [
            "student2-mat.csv  student2-por.csv  univariate_MathData_2.csv\n",
            "student2-merge.R  student2.txt\n"
          ],
          "name": "stdout"
        }
      ]
    },
    {
      "cell_type": "markdown",
      "metadata": {
        "id": "ImV3p6AKxszU"
      },
      "source": [
        "## Data visualization"
      ]
    },
    {
      "cell_type": "code",
      "metadata": {
        "colab": {
          "base_uri": "https://localhost:8080/",
          "height": 157
        },
        "id": "RqumcsZLxq4v",
        "outputId": "561e2c87-a333-49bc-8f85-0854523cc92d"
      },
      "source": [
        "import seaborn as sns\n",
        "sns.palplot(sns.color_palette('PuOr')) #Purple to Orange colors\n",
        "pal = sns.color_palette('PuOr', 6) #print 6 color shades from Purple to Orange\n",
        "pal.as_hex() #set hex code values for colors\n",
        "\n",
        "import matplotlib.pyplot as plt\n",
        "plt.style.use(['seaborn'])\n",
        "sns_colors = ['#c6690c', '#664697'] #orange Purple hex codes\n",
        "sns.set_palette(sns_colors) #set the palette as sns_colors \n",
        "sns.palplot(sns.color_palette(sns_colors)) #plot the color codes"
      ],
      "execution_count": 11,
      "outputs": [
        {
          "output_type": "display_data",
          "data": {
            "image/png": "[encoded data removed]",
            "text/plain": [
              "<Figure size 432x72 with 1 Axes>"
            ]
          },
          "metadata": {
            "tags": [],
            "needs_background": "light"
          }
        },
        {
          "output_type": "display_data",
          "data": {
            "image/png": "[encoded data removed]",
            "text/plain": [
              "<Figure size 144x72 with 1 Axes>"
            ]
          },
          "metadata": {
            "tags": []
          }
        }
      ]
    },
    {
      "cell_type": "code",
      "metadata": {
        "colab": {
          "base_uri": "https://localhost:8080/"
        },
        "id": "A6MT5E8Fy7MZ",
        "outputId": "631a911b-ef14-4a46-a3e3-c424f3106036"
      },
      "source": [
        "uniMathData.columns #columns in the dataframe"
      ],
      "execution_count": 12,
      "outputs": [
        {
          "output_type": "execute_result",
          "data": {
            "text/plain": [
              "Index(['G1', 'G3'], dtype='object')"
            ]
          },
          "metadata": {
            "tags": []
          },
          "execution_count": 12
        }
      ]
    },
    {
      "cell_type": "code",
      "metadata": {
        "colab": {
          "base_uri": "https://localhost:8080/",
          "height": 391
        },
        "id": "PrsTwdHHzBbk",
        "outputId": "d315a014-2e93-468f-8df1-1b26092fd187"
      },
      "source": [
        "#pairplot for all the values\n",
        "\n",
        "sns.pairplot(uniMathData,\n",
        "             x_vars = ['G1', 'G3'],\n",
        "             y_vars =  ['G1', 'G3'],\n",
        "       diag_kind='kde'\n",
        "             )"
      ],
      "execution_count": 13,
      "outputs": [
        {
          "output_type": "execute_result",
          "data": {
            "text/plain": [
              "<seaborn.axisgrid.PairGrid at 0x7fa4b240c610>"
            ]
          },
          "metadata": {
            "tags": []
          },
          "execution_count": 13
        },
        {
          "output_type": "display_data",
          "data": {
            "image/png": "[encoded data removed]",
            "text/plain": [
              "<Figure size 360x360 with 6 Axes>"
            ]
          },
          "metadata": {
            "tags": []
          }
        }
      ]
    },
    {
      "cell_type": "markdown",
      "metadata": {
        "id": "Klm33YcpKZkl"
      },
      "source": [
        "## Data Splits"
      ]
    },
    {
      "cell_type": "code",
      "metadata": {
        "colab": {
          "base_uri": "https://localhost:8080/"
        },
        "id": "UwrSOCKS1NhN",
        "outputId": "baa3e571-e13a-45c4-e8f4-679048817b4d"
      },
      "source": [
        "#80-20 train-test percent split\n",
        "\n",
        "trainDataset = uniMathData.sample(frac=0.8, random_state=0) \n",
        "testDataset = uniMathData.drop(trainDataset.index)\n",
        "\n",
        "print(trainDataset.head())\n",
        "print(testDataset.head())"
      ],
      "execution_count": 14,
      "outputs": [
        {
          "output_type": "stream",
          "text": [
            "     G1  G3\n",
            "329  14  14\n",
            "318  11  10\n",
            "317   9   9\n",
            "65   16  15\n",
            "59   15  16\n",
            "    G1  G3\n",
            "9   14  15\n",
            "25   6   8\n",
            "28  11  11\n",
            "31  17  17\n",
            "32  17  16\n"
          ],
          "name": "stdout"
        }
      ]
    },
    {
      "cell_type": "code",
      "metadata": {
        "colab": {
          "base_uri": "https://localhost:8080/"
        },
        "id": "YWO2xRV53wV-",
        "outputId": "7be15819-58bb-4ffc-c87a-5562af6f8887"
      },
      "source": [
        "print(trainDataset.shape)\n",
        "print(testDataset.shape)"
      ],
      "execution_count": 15,
      "outputs": [
        {
          "output_type": "stream",
          "text": [
            "(316, 2)\n",
            "(79, 2)\n"
          ],
          "name": "stdout"
        }
      ]
    },
    {
      "cell_type": "code",
      "metadata": {
        "colab": {
          "base_uri": "https://localhost:8080/"
        },
        "id": "OmDTbvMC32hg",
        "outputId": "29a2e344-7699-4cac-e860-048ad35536bc"
      },
      "source": [
        "#copy the trainDataset dataframe for getting the features\n",
        "\n",
        "trainFeatures = trainDataset.copy()\n",
        "testFeatures = testDataset.copy()\n",
        "\n",
        "print(trainFeatures.head())\n",
        "print(testFeatures.head())"
      ],
      "execution_count": 16,
      "outputs": [
        {
          "output_type": "stream",
          "text": [
            "     G1  G3\n",
            "329  14  14\n",
            "318  11  10\n",
            "317   9   9\n",
            "65   16  15\n",
            "59   15  16\n",
            "    G1  G3\n",
            "9   14  15\n",
            "25   6   8\n",
            "28  11  11\n",
            "31  17  17\n",
            "32  17  16\n"
          ],
          "name": "stdout"
        }
      ]
    },
    {
      "cell_type": "code",
      "metadata": {
        "colab": {
          "base_uri": "https://localhost:8080/"
        },
        "id": "jSR0_uni4ayh",
        "outputId": "33c66c2b-9d45-4468-bb52-3b8d41cc2508"
      },
      "source": [
        "#removing the G3 column and saving it into the labels variable\n",
        "\n",
        "trainLabels = trainFeatures.pop('G3')\n",
        "testLabels = testFeatures.pop('G3')\n",
        "\n",
        "print(trainLabels.head())\n",
        "print(testLabels.head())"
      ],
      "execution_count": 17,
      "outputs": [
        {
          "output_type": "stream",
          "text": [
            "329    14\n",
            "318    10\n",
            "317     9\n",
            "65     15\n",
            "59     16\n",
            "Name: G3, dtype: int64\n",
            "9     15\n",
            "25     8\n",
            "28    11\n",
            "31    17\n",
            "32    16\n",
            "Name: G3, dtype: int64\n"
          ],
          "name": "stdout"
        }
      ]
    },
    {
      "cell_type": "code",
      "metadata": {
        "colab": {
          "base_uri": "https://localhost:8080/"
        },
        "id": "HnGSqb-q4wk8",
        "outputId": "5c2b2dc8-33bc-4d80-cd4b-c6466bec1797"
      },
      "source": [
        "print(trainFeatures.head())\n",
        "print(testFeatures.head())"
      ],
      "execution_count": 18,
      "outputs": [
        {
          "output_type": "stream",
          "text": [
            "     G1\n",
            "329  14\n",
            "318  11\n",
            "317   9\n",
            "65   16\n",
            "59   15\n",
            "    G1\n",
            "9   14\n",
            "25   6\n",
            "28  11\n",
            "31  17\n",
            "32  17\n"
          ],
          "name": "stdout"
        }
      ]
    },
    {
      "cell_type": "code",
      "metadata": {
        "id": "XPTSq34jk4o_"
      },
      "source": [
        "# univariate -> num(features) = 1\n",
        "# multvariate -> num(features) > 1 = 11\n",
        "\n",
        "\n",
        "model = tf.keras.Sequential([\n",
        "                             tf.keras.layers.Dense(1)\n",
        "\n",
        "])"
      ],
      "execution_count": 19,
      "outputs": []
    },
    {
      "cell_type": "code",
      "metadata": {
        "id": "4C4GKBdE6iCE"
      },
      "source": [
        "model.compile(\n",
        "    loss = 'mean_absolute_error', #minimizing the MAE loss\n",
        "    optimizer = tf.keras.optimizers.Adam(0.001), #learning rate specified as 0.001\n",
        "    # optimizer = 'adam', #takes the default learning rate\n",
        "    metrics = ['mae', 'mse'] #meanSquare and meanAbsolute error metrics\n",
        ")"
      ],
      "execution_count": 20,
      "outputs": []
    },
    {
      "cell_type": "code",
      "metadata": {
        "colab": {
          "base_uri": "https://localhost:8080/"
        },
        "id": "d_A7DrhB6zvm",
        "outputId": "2951a738-c63c-4b8c-b871-d3056c5a01e4"
      },
      "source": [
        "numEpochs = 300\n",
        "history = model.fit(x = trainFeatures, y = trainLabels, validation_data = (testFeatures, testLabels), epochs = numEpochs)"
      ],
      "execution_count": 21,
      "outputs": [
        {
          "output_type": "stream",
          "text": [
            "Epoch 1/300\n",
            "10/10 [==============================] - 1s 21ms/step - loss: 2.4235 - mae: 2.4235 - mse: 9.5766 - val_loss: 2.1008 - val_mae: 2.1008 - val_mse: 7.2543\n",
            "Epoch 2/300\n",
            "10/10 [==============================] - 0s 3ms/step - loss: 2.3464 - mae: 2.3464 - mse: 9.3226 - val_loss: 2.0107 - val_mae: 2.0107 - val_mse: 6.9900\n",
            "Epoch 3/300\n",
            "10/10 [==============================] - 0s 4ms/step - loss: 2.2727 - mae: 2.2727 - mse: 9.0657 - val_loss: 1.9215 - val_mae: 1.9215 - val_mse: 6.7582\n",
            "Epoch 4/300\n",
            "10/10 [==============================] - 0s 4ms/step - loss: 2.2065 - mae: 2.2065 - mse: 8.8793 - val_loss: 1.8374 - val_mae: 1.8374 - val_mse: 6.5534\n",
            "Epoch 5/300\n",
            "10/10 [==============================] - 0s 7ms/step - loss: 2.1421 - mae: 2.1421 - mse: 8.6948 - val_loss: 1.7621 - val_mae: 1.7621 - val_mse: 6.3911\n",
            "Epoch 6/300\n",
            "10/10 [==============================] - 0s 4ms/step - loss: 2.0915 - mae: 2.0915 - mse: 8.5554 - val_loss: 1.7026 - val_mae: 1.7026 - val_mse: 6.2691\n",
            "Epoch 7/300\n",
            "10/10 [==============================] - 0s 4ms/step - loss: 2.0508 - mae: 2.0508 - mse: 8.4413 - val_loss: 1.6622 - val_mae: 1.6622 - val_mse: 6.1754\n",
            "Epoch 8/300\n",
            "10/10 [==============================] - 0s 4ms/step - loss: 2.0158 - mae: 2.0158 - mse: 8.3561 - val_loss: 1.6339 - val_mae: 1.6339 - val_mse: 6.1087\n",
            "Epoch 9/300\n",
            "10/10 [==============================] - 0s 4ms/step - loss: 1.9932 - mae: 1.9932 - mse: 8.3007 - val_loss: 1.6177 - val_mae: 1.6177 - val_mse: 6.0594\n",
            "Epoch 10/300\n",
            "10/10 [==============================] - 0s 4ms/step - loss: 1.9747 - mae: 1.9747 - mse: 8.2594 - val_loss: 1.6121 - val_mae: 1.6121 - val_mse: 6.0297\n",
            "Epoch 11/300\n",
            "10/10 [==============================] - 0s 4ms/step - loss: 1.9602 - mae: 1.9602 - mse: 8.2316 - val_loss: 1.6088 - val_mae: 1.6088 - val_mse: 6.0107\n",
            "Epoch 12/300\n",
            "10/10 [==============================] - 0s 4ms/step - loss: 1.9461 - mae: 1.9461 - mse: 8.2074 - val_loss: 1.6068 - val_mae: 1.6068 - val_mse: 6.0002\n",
            "Epoch 13/300\n",
            "10/10 [==============================] - 0s 5ms/step - loss: 1.9325 - mae: 1.9325 - mse: 8.1877 - val_loss: 1.6047 - val_mae: 1.6047 - val_mse: 5.9973\n",
            "Epoch 14/300\n",
            "10/10 [==============================] - 0s 4ms/step - loss: 1.9186 - mae: 1.9186 - mse: 8.1864 - val_loss: 1.6026 - val_mae: 1.6026 - val_mse: 6.0029\n",
            "Epoch 15/300\n",
            "10/10 [==============================] - 0s 3ms/step - loss: 1.9050 - mae: 1.9050 - mse: 8.1987 - val_loss: 1.6003 - val_mae: 1.6003 - val_mse: 6.0186\n",
            "Epoch 16/300\n",
            "10/10 [==============================] - 0s 4ms/step - loss: 1.8910 - mae: 1.8910 - mse: 8.2094 - val_loss: 1.5979 - val_mae: 1.5979 - val_mse: 6.0453\n",
            "Epoch 17/300\n",
            "10/10 [==============================] - 0s 3ms/step - loss: 1.8744 - mae: 1.8744 - mse: 8.2147 - val_loss: 1.5958 - val_mae: 1.5958 - val_mse: 6.0791\n",
            "Epoch 18/300\n",
            "10/10 [==============================] - 0s 3ms/step - loss: 1.8599 - mae: 1.8599 - mse: 8.2456 - val_loss: 1.5939 - val_mae: 1.5939 - val_mse: 6.1235\n",
            "Epoch 19/300\n",
            "10/10 [==============================] - 0s 3ms/step - loss: 1.8469 - mae: 1.8469 - mse: 8.2841 - val_loss: 1.5951 - val_mae: 1.5951 - val_mse: 6.1737\n",
            "Epoch 20/300\n",
            "10/10 [==============================] - 0s 5ms/step - loss: 1.8388 - mae: 1.8388 - mse: 8.3158 - val_loss: 1.6009 - val_mae: 1.6009 - val_mse: 6.2059\n",
            "Epoch 21/300\n",
            "10/10 [==============================] - 0s 4ms/step - loss: 1.8392 - mae: 1.8392 - mse: 8.3295 - val_loss: 1.6026 - val_mae: 1.6026 - val_mse: 6.2124\n",
            "Epoch 22/300\n",
            "10/10 [==============================] - 0s 4ms/step - loss: 1.8390 - mae: 1.8390 - mse: 8.3282 - val_loss: 1.6003 - val_mae: 1.6003 - val_mse: 6.2030\n",
            "Epoch 23/300\n",
            "10/10 [==============================] - 0s 4ms/step - loss: 1.8386 - mae: 1.8386 - mse: 8.3194 - val_loss: 1.5986 - val_mae: 1.5986 - val_mse: 6.1950\n",
            "Epoch 24/300\n",
            "10/10 [==============================] - 0s 4ms/step - loss: 1.8385 - mae: 1.8385 - mse: 8.3154 - val_loss: 1.5984 - val_mae: 1.5984 - val_mse: 6.1937\n",
            "Epoch 25/300\n",
            "10/10 [==============================] - 0s 4ms/step - loss: 1.8383 - mae: 1.8383 - mse: 8.3171 - val_loss: 1.5989 - val_mae: 1.5989 - val_mse: 6.1962\n",
            "Epoch 26/300\n",
            "10/10 [==============================] - 0s 4ms/step - loss: 1.8385 - mae: 1.8385 - mse: 8.3145 - val_loss: 1.5980 - val_mae: 1.5980 - val_mse: 6.1914\n",
            "Epoch 27/300\n",
            "10/10 [==============================] - 0s 4ms/step - loss: 1.8385 - mae: 1.8385 - mse: 8.3123 - val_loss: 1.5981 - val_mae: 1.5981 - val_mse: 6.1915\n",
            "Epoch 28/300\n",
            "10/10 [==============================] - 0s 6ms/step - loss: 1.8385 - mae: 1.8385 - mse: 8.3198 - val_loss: 1.6006 - val_mae: 1.6006 - val_mse: 6.2022\n",
            "Epoch 29/300\n",
            "10/10 [==============================] - 0s 4ms/step - loss: 1.8383 - mae: 1.8383 - mse: 8.3178 - val_loss: 1.5980 - val_mae: 1.5980 - val_mse: 6.1908\n",
            "Epoch 30/300\n",
            "10/10 [==============================] - 0s 4ms/step - loss: 1.8383 - mae: 1.8383 - mse: 8.3170 - val_loss: 1.5993 - val_mae: 1.5993 - val_mse: 6.1960\n",
            "Epoch 31/300\n",
            "10/10 [==============================] - 0s 4ms/step - loss: 1.8382 - mae: 1.8382 - mse: 8.3182 - val_loss: 1.5984 - val_mae: 1.5984 - val_mse: 6.1919\n",
            "Epoch 32/300\n",
            "10/10 [==============================] - 0s 5ms/step - loss: 1.8381 - mae: 1.8381 - mse: 8.3085 - val_loss: 1.5965 - val_mae: 1.5965 - val_mse: 6.1821\n",
            "Epoch 33/300\n",
            "10/10 [==============================] - 0s 5ms/step - loss: 1.8380 - mae: 1.8380 - mse: 8.3090 - val_loss: 1.5977 - val_mae: 1.5977 - val_mse: 6.1882\n",
            "Epoch 34/300\n",
            "10/10 [==============================] - 0s 4ms/step - loss: 1.8378 - mae: 1.8378 - mse: 8.3120 - val_loss: 1.5995 - val_mae: 1.5995 - val_mse: 6.1957\n",
            "Epoch 35/300\n",
            "10/10 [==============================] - 0s 5ms/step - loss: 1.8379 - mae: 1.8379 - mse: 8.3179 - val_loss: 1.5994 - val_mae: 1.5994 - val_mse: 6.1953\n",
            "Epoch 36/300\n",
            "10/10 [==============================] - 0s 4ms/step - loss: 1.8380 - mae: 1.8380 - mse: 8.3120 - val_loss: 1.5976 - val_mae: 1.5976 - val_mse: 6.1866\n",
            "Epoch 37/300\n",
            "10/10 [==============================] - 0s 4ms/step - loss: 1.8377 - mae: 1.8377 - mse: 8.3139 - val_loss: 1.5995 - val_mae: 1.5995 - val_mse: 6.1947\n",
            "Epoch 38/300\n",
            "10/10 [==============================] - 0s 4ms/step - loss: 1.8375 - mae: 1.8375 - mse: 8.3138 - val_loss: 1.5981 - val_mae: 1.5981 - val_mse: 6.1886\n",
            "Epoch 39/300\n",
            "10/10 [==============================] - 0s 4ms/step - loss: 1.8376 - mae: 1.8376 - mse: 8.3086 - val_loss: 1.5974 - val_mae: 1.5974 - val_mse: 6.1848\n",
            "Epoch 40/300\n",
            "10/10 [==============================] - 0s 5ms/step - loss: 1.8374 - mae: 1.8374 - mse: 8.3104 - val_loss: 1.5987 - val_mae: 1.5987 - val_mse: 6.1904\n",
            "Epoch 41/300\n",
            "10/10 [==============================] - 0s 4ms/step - loss: 1.8375 - mae: 1.8375 - mse: 8.3096 - val_loss: 1.5976 - val_mae: 1.5976 - val_mse: 6.1851\n",
            "Epoch 42/300\n",
            "10/10 [==============================] - 0s 4ms/step - loss: 1.8375 - mae: 1.8375 - mse: 8.3123 - val_loss: 1.5995 - val_mae: 1.5995 - val_mse: 6.1930\n",
            "Epoch 43/300\n",
            "10/10 [==============================] - 0s 4ms/step - loss: 1.8372 - mae: 1.8372 - mse: 8.3129 - val_loss: 1.5976 - val_mae: 1.5976 - val_mse: 6.1845\n",
            "Epoch 44/300\n",
            "10/10 [==============================] - 0s 5ms/step - loss: 1.8372 - mae: 1.8372 - mse: 8.3097 - val_loss: 1.5978 - val_mae: 1.5978 - val_mse: 6.1852\n",
            "Epoch 45/300\n",
            "10/10 [==============================] - 0s 4ms/step - loss: 1.8370 - mae: 1.8370 - mse: 8.3089 - val_loss: 1.5978 - val_mae: 1.5978 - val_mse: 6.1849\n",
            "Epoch 46/300\n",
            "10/10 [==============================] - 0s 4ms/step - loss: 1.8370 - mae: 1.8370 - mse: 8.3085 - val_loss: 1.5982 - val_mae: 1.5982 - val_mse: 6.1863\n",
            "Epoch 47/300\n",
            "10/10 [==============================] - 0s 4ms/step - loss: 1.8369 - mae: 1.8369 - mse: 8.3084 - val_loss: 1.5977 - val_mae: 1.5977 - val_mse: 6.1839\n",
            "Epoch 48/300\n",
            "10/10 [==============================] - 0s 5ms/step - loss: 1.8367 - mae: 1.8367 - mse: 8.3070 - val_loss: 1.5981 - val_mae: 1.5981 - val_mse: 6.1850\n",
            "Epoch 49/300\n",
            "10/10 [==============================] - 0s 4ms/step - loss: 1.8369 - mae: 1.8369 - mse: 8.3105 - val_loss: 1.5990 - val_mae: 1.5990 - val_mse: 6.1885\n",
            "Epoch 50/300\n",
            "10/10 [==============================] - 0s 4ms/step - loss: 1.8367 - mae: 1.8367 - mse: 8.3089 - val_loss: 1.5974 - val_mae: 1.5974 - val_mse: 6.1815\n",
            "Epoch 51/300\n",
            "10/10 [==============================] - 0s 4ms/step - loss: 1.8365 - mae: 1.8365 - mse: 8.3038 - val_loss: 1.5967 - val_mae: 1.5967 - val_mse: 6.1776\n",
            "Epoch 52/300\n",
            "10/10 [==============================] - 0s 5ms/step - loss: 1.8366 - mae: 1.8366 - mse: 8.3017 - val_loss: 1.5971 - val_mae: 1.5971 - val_mse: 6.1789\n",
            "Epoch 53/300\n",
            "10/10 [==============================] - 0s 4ms/step - loss: 1.8366 - mae: 1.8366 - mse: 8.3077 - val_loss: 1.5975 - val_mae: 1.5975 - val_mse: 6.1807\n",
            "Epoch 54/300\n",
            "10/10 [==============================] - 0s 4ms/step - loss: 1.8365 - mae: 1.8365 - mse: 8.3056 - val_loss: 1.5973 - val_mae: 1.5973 - val_mse: 6.1792\n",
            "Epoch 55/300\n",
            "10/10 [==============================] - 0s 4ms/step - loss: 1.8366 - mae: 1.8366 - mse: 8.3002 - val_loss: 1.5964 - val_mae: 1.5964 - val_mse: 6.1748\n",
            "Epoch 56/300\n",
            "10/10 [==============================] - 0s 4ms/step - loss: 1.8367 - mae: 1.8367 - mse: 8.3087 - val_loss: 1.5996 - val_mae: 1.5996 - val_mse: 6.1882\n",
            "Epoch 57/300\n",
            "10/10 [==============================] - 0s 5ms/step - loss: 1.8362 - mae: 1.8362 - mse: 8.3049 - val_loss: 1.5964 - val_mae: 1.5964 - val_mse: 6.1742\n",
            "Epoch 58/300\n",
            "10/10 [==============================] - 0s 4ms/step - loss: 1.8362 - mae: 1.8362 - mse: 8.3008 - val_loss: 1.5976 - val_mae: 1.5976 - val_mse: 6.1792\n",
            "Epoch 59/300\n",
            "10/10 [==============================] - 0s 5ms/step - loss: 1.8364 - mae: 1.8364 - mse: 8.3095 - val_loss: 1.5988 - val_mae: 1.5988 - val_mse: 6.1839\n",
            "Epoch 60/300\n",
            "10/10 [==============================] - 0s 5ms/step - loss: 1.8372 - mae: 1.8372 - mse: 8.2952 - val_loss: 1.5950 - val_mae: 1.5950 - val_mse: 6.1623\n",
            "Epoch 61/300\n",
            "10/10 [==============================] - 0s 5ms/step - loss: 1.8361 - mae: 1.8361 - mse: 8.2958 - val_loss: 1.5979 - val_mae: 1.5979 - val_mse: 6.1796\n",
            "Epoch 62/300\n",
            "10/10 [==============================] - 0s 5ms/step - loss: 1.8360 - mae: 1.8360 - mse: 8.3044 - val_loss: 1.5970 - val_mae: 1.5970 - val_mse: 6.1751\n",
            "Epoch 63/300\n",
            "10/10 [==============================] - 0s 4ms/step - loss: 1.8357 - mae: 1.8357 - mse: 8.2994 - val_loss: 1.5973 - val_mae: 1.5973 - val_mse: 6.1761\n",
            "Epoch 64/300\n",
            "10/10 [==============================] - 0s 4ms/step - loss: 1.8356 - mae: 1.8356 - mse: 8.3020 - val_loss: 1.5973 - val_mae: 1.5973 - val_mse: 6.1758\n",
            "Epoch 65/300\n",
            "10/10 [==============================] - 0s 5ms/step - loss: 1.8359 - mae: 1.8359 - mse: 8.2969 - val_loss: 1.5963 - val_mae: 1.5963 - val_mse: 6.1712\n",
            "Epoch 66/300\n",
            "10/10 [==============================] - 0s 5ms/step - loss: 1.8356 - mae: 1.8356 - mse: 8.3025 - val_loss: 1.5978 - val_mae: 1.5978 - val_mse: 6.1771\n",
            "Epoch 67/300\n",
            "10/10 [==============================] - 0s 4ms/step - loss: 1.8353 - mae: 1.8353 - mse: 8.3017 - val_loss: 1.5962 - val_mae: 1.5962 - val_mse: 6.1697\n",
            "Epoch 68/300\n",
            "10/10 [==============================] - 0s 5ms/step - loss: 1.8354 - mae: 1.8354 - mse: 8.2932 - val_loss: 1.5963 - val_mae: 1.5963 - val_mse: 6.1701\n",
            "Epoch 69/300\n",
            "10/10 [==============================] - 0s 4ms/step - loss: 1.8352 - mae: 1.8352 - mse: 8.3004 - val_loss: 1.5972 - val_mae: 1.5972 - val_mse: 6.1735\n",
            "Epoch 70/300\n",
            "10/10 [==============================] - 0s 4ms/step - loss: 1.8351 - mae: 1.8351 - mse: 8.2969 - val_loss: 1.5960 - val_mae: 1.5960 - val_mse: 6.1677\n",
            "Epoch 71/300\n",
            "10/10 [==============================] - 0s 5ms/step - loss: 1.8352 - mae: 1.8352 - mse: 8.2981 - val_loss: 1.5974 - val_mae: 1.5974 - val_mse: 6.1736\n",
            "Epoch 72/300\n",
            "10/10 [==============================] - 0s 4ms/step - loss: 1.8349 - mae: 1.8349 - mse: 8.2936 - val_loss: 1.5958 - val_mae: 1.5958 - val_mse: 6.1664\n",
            "Epoch 73/300\n",
            "10/10 [==============================] - 0s 4ms/step - loss: 1.8350 - mae: 1.8350 - mse: 8.2952 - val_loss: 1.5976 - val_mae: 1.5976 - val_mse: 6.1738\n",
            "Epoch 74/300\n",
            "10/10 [==============================] - 0s 4ms/step - loss: 1.8347 - mae: 1.8347 - mse: 8.2969 - val_loss: 1.5958 - val_mae: 1.5958 - val_mse: 6.1654\n",
            "Epoch 75/300\n",
            "10/10 [==============================] - 0s 5ms/step - loss: 1.8353 - mae: 1.8353 - mse: 8.2901 - val_loss: 1.5962 - val_mae: 1.5962 - val_mse: 6.1669\n",
            "Epoch 76/300\n",
            "10/10 [==============================] - 0s 5ms/step - loss: 1.8349 - mae: 1.8349 - mse: 8.2987 - val_loss: 1.5961 - val_mae: 1.5961 - val_mse: 6.1663\n",
            "Epoch 77/300\n",
            "10/10 [==============================] - 0s 6ms/step - loss: 1.8347 - mae: 1.8347 - mse: 8.2908 - val_loss: 1.5956 - val_mae: 1.5956 - val_mse: 6.1636\n",
            "Epoch 78/300\n",
            "10/10 [==============================] - 0s 4ms/step - loss: 1.8351 - mae: 1.8351 - mse: 8.2975 - val_loss: 1.5973 - val_mae: 1.5973 - val_mse: 6.1707\n",
            "Epoch 79/300\n",
            "10/10 [==============================] - 0s 4ms/step - loss: 1.8344 - mae: 1.8344 - mse: 8.2905 - val_loss: 1.5955 - val_mae: 1.5955 - val_mse: 6.1624\n",
            "Epoch 80/300\n",
            "10/10 [==============================] - 0s 4ms/step - loss: 1.8342 - mae: 1.8342 - mse: 8.2904 - val_loss: 1.5972 - val_mae: 1.5972 - val_mse: 6.1695\n",
            "Epoch 81/300\n",
            "10/10 [==============================] - 0s 4ms/step - loss: 1.8344 - mae: 1.8344 - mse: 8.2937 - val_loss: 1.5961 - val_mae: 1.5961 - val_mse: 6.1644\n",
            "Epoch 82/300\n",
            "10/10 [==============================] - 0s 4ms/step - loss: 1.8343 - mae: 1.8343 - mse: 8.2921 - val_loss: 1.5972 - val_mae: 1.5972 - val_mse: 6.1685\n",
            "Epoch 83/300\n",
            "10/10 [==============================] - 0s 6ms/step - loss: 1.8343 - mae: 1.8343 - mse: 8.2912 - val_loss: 1.5954 - val_mae: 1.5954 - val_mse: 6.1605\n",
            "Epoch 84/300\n",
            "10/10 [==============================] - 0s 4ms/step - loss: 1.8338 - mae: 1.8338 - mse: 8.2883 - val_loss: 1.5976 - val_mae: 1.5976 - val_mse: 6.1692\n",
            "Epoch 85/300\n",
            "10/10 [==============================] - 0s 4ms/step - loss: 1.8344 - mae: 1.8344 - mse: 8.2931 - val_loss: 1.5952 - val_mae: 1.5952 - val_mse: 6.1580\n",
            "Epoch 86/300\n",
            "10/10 [==============================] - 0s 4ms/step - loss: 1.8339 - mae: 1.8339 - mse: 8.2878 - val_loss: 1.5960 - val_mae: 1.5960 - val_mse: 6.1624\n",
            "Epoch 87/300\n",
            "10/10 [==============================] - 0s 5ms/step - loss: 1.8337 - mae: 1.8337 - mse: 8.2917 - val_loss: 1.5954 - val_mae: 1.5954 - val_mse: 6.1591\n",
            "Epoch 88/300\n",
            "10/10 [==============================] - 0s 5ms/step - loss: 1.8337 - mae: 1.8337 - mse: 8.2880 - val_loss: 1.5958 - val_mae: 1.5958 - val_mse: 6.1608\n",
            "Epoch 89/300\n",
            "10/10 [==============================] - 0s 6ms/step - loss: 1.8338 - mae: 1.8338 - mse: 8.2904 - val_loss: 1.5947 - val_mae: 1.5947 - val_mse: 6.1497\n",
            "Epoch 90/300\n",
            "10/10 [==============================] - 0s 4ms/step - loss: 1.8337 - mae: 1.8337 - mse: 8.2848 - val_loss: 1.5979 - val_mae: 1.5979 - val_mse: 6.1670\n",
            "Epoch 91/300\n",
            "10/10 [==============================] - 0s 4ms/step - loss: 1.8337 - mae: 1.8337 - mse: 8.2882 - val_loss: 1.5948 - val_mae: 1.5948 - val_mse: 6.1504\n",
            "Epoch 92/300\n",
            "10/10 [==============================] - 0s 5ms/step - loss: 1.8350 - mae: 1.8350 - mse: 8.2868 - val_loss: 1.5974 - val_mae: 1.5974 - val_mse: 6.1652\n",
            "Epoch 93/300\n",
            "10/10 [==============================] - 0s 4ms/step - loss: 1.8349 - mae: 1.8349 - mse: 8.2845 - val_loss: 1.5949 - val_mae: 1.5949 - val_mse: 6.1540\n",
            "Epoch 94/300\n",
            "10/10 [==============================] - 0s 5ms/step - loss: 1.8340 - mae: 1.8340 - mse: 8.2910 - val_loss: 1.5952 - val_mae: 1.5952 - val_mse: 6.1564\n",
            "Epoch 95/300\n",
            "10/10 [==============================] - 0s 5ms/step - loss: 1.8332 - mae: 1.8332 - mse: 8.2849 - val_loss: 1.5959 - val_mae: 1.5959 - val_mse: 6.1595\n",
            "Epoch 96/300\n",
            "10/10 [==============================] - 0s 4ms/step - loss: 1.8334 - mae: 1.8334 - mse: 8.2873 - val_loss: 1.5955 - val_mae: 1.5955 - val_mse: 6.1574\n",
            "Epoch 97/300\n",
            "10/10 [==============================] - 0s 5ms/step - loss: 1.8335 - mae: 1.8335 - mse: 8.2878 - val_loss: 1.5948 - val_mae: 1.5948 - val_mse: 6.1495\n",
            "Epoch 98/300\n",
            "10/10 [==============================] - 0s 4ms/step - loss: 1.8333 - mae: 1.8333 - mse: 8.2821 - val_loss: 1.5958 - val_mae: 1.5958 - val_mse: 6.1585\n",
            "Epoch 99/300\n",
            "10/10 [==============================] - 0s 4ms/step - loss: 1.8330 - mae: 1.8330 - mse: 8.2827 - val_loss: 1.5952 - val_mae: 1.5952 - val_mse: 6.1557\n",
            "Epoch 100/300\n",
            "10/10 [==============================] - 0s 4ms/step - loss: 1.8331 - mae: 1.8331 - mse: 8.2859 - val_loss: 1.5950 - val_mae: 1.5950 - val_mse: 6.1539\n",
            "Epoch 101/300\n",
            "10/10 [==============================] - 0s 4ms/step - loss: 1.8329 - mae: 1.8329 - mse: 8.2851 - val_loss: 1.5952 - val_mae: 1.5952 - val_mse: 6.1553\n",
            "Epoch 102/300\n",
            "10/10 [==============================] - 0s 4ms/step - loss: 1.8330 - mae: 1.8330 - mse: 8.2842 - val_loss: 1.5950 - val_mae: 1.5950 - val_mse: 6.1535\n",
            "Epoch 103/300\n",
            "10/10 [==============================] - 0s 4ms/step - loss: 1.8331 - mae: 1.8331 - mse: 8.2839 - val_loss: 1.5949 - val_mae: 1.5949 - val_mse: 6.1507\n",
            "Epoch 104/300\n",
            "10/10 [==============================] - 0s 4ms/step - loss: 1.8335 - mae: 1.8335 - mse: 8.2867 - val_loss: 1.5949 - val_mae: 1.5949 - val_mse: 6.1511\n",
            "Epoch 105/300\n",
            "10/10 [==============================] - 0s 4ms/step - loss: 1.8332 - mae: 1.8332 - mse: 8.2837 - val_loss: 1.5954 - val_mae: 1.5954 - val_mse: 6.1551\n",
            "Epoch 106/300\n",
            "10/10 [==============================] - 0s 4ms/step - loss: 1.8327 - mae: 1.8327 - mse: 8.2832 - val_loss: 1.5953 - val_mae: 1.5953 - val_mse: 6.1547\n",
            "Epoch 107/300\n",
            "10/10 [==============================] - 0s 5ms/step - loss: 1.8327 - mae: 1.8327 - mse: 8.2822 - val_loss: 1.5956 - val_mae: 1.5956 - val_mse: 6.1553\n",
            "Epoch 108/300\n",
            "10/10 [==============================] - 0s 5ms/step - loss: 1.8333 - mae: 1.8333 - mse: 8.2840 - val_loss: 1.5973 - val_mae: 1.5973 - val_mse: 6.1595\n",
            "Epoch 109/300\n",
            "10/10 [==============================] - 0s 4ms/step - loss: 1.8336 - mae: 1.8336 - mse: 8.2804 - val_loss: 1.5950 - val_mae: 1.5950 - val_mse: 6.1486\n",
            "Epoch 110/300\n",
            "10/10 [==============================] - 0s 4ms/step - loss: 1.8330 - mae: 1.8330 - mse: 8.2817 - val_loss: 1.5951 - val_mae: 1.5951 - val_mse: 6.1464\n",
            "Epoch 111/300\n",
            "10/10 [==============================] - 0s 5ms/step - loss: 1.8332 - mae: 1.8332 - mse: 8.2835 - val_loss: 1.5949 - val_mae: 1.5949 - val_mse: 6.1497\n",
            "Epoch 112/300\n",
            "10/10 [==============================] - 0s 4ms/step - loss: 1.8329 - mae: 1.8329 - mse: 8.2822 - val_loss: 1.5949 - val_mae: 1.5949 - val_mse: 6.1518\n",
            "Epoch 113/300\n",
            "10/10 [==============================] - 0s 4ms/step - loss: 1.8327 - mae: 1.8327 - mse: 8.2827 - val_loss: 1.5952 - val_mae: 1.5952 - val_mse: 6.1535\n",
            "Epoch 114/300\n",
            "10/10 [==============================] - 0s 4ms/step - loss: 1.8327 - mae: 1.8327 - mse: 8.2826 - val_loss: 1.5949 - val_mae: 1.5949 - val_mse: 6.1510\n",
            "Epoch 115/300\n",
            "10/10 [==============================] - 0s 4ms/step - loss: 1.8326 - mae: 1.8326 - mse: 8.2816 - val_loss: 1.5955 - val_mae: 1.5955 - val_mse: 6.1539\n",
            "Epoch 116/300\n",
            "10/10 [==============================] - 0s 7ms/step - loss: 1.8330 - mae: 1.8330 - mse: 8.2827 - val_loss: 1.5978 - val_mae: 1.5978 - val_mse: 6.1598\n",
            "Epoch 117/300\n",
            "10/10 [==============================] - 0s 4ms/step - loss: 1.8334 - mae: 1.8334 - mse: 8.2826 - val_loss: 1.5964 - val_mae: 1.5964 - val_mse: 6.1560\n",
            "Epoch 118/300\n",
            "10/10 [==============================] - 0s 5ms/step - loss: 1.8331 - mae: 1.8331 - mse: 8.2819 - val_loss: 1.5953 - val_mae: 1.5953 - val_mse: 6.1530\n",
            "Epoch 119/300\n",
            "10/10 [==============================] - 0s 4ms/step - loss: 1.8327 - mae: 1.8327 - mse: 8.2815 - val_loss: 1.5950 - val_mae: 1.5950 - val_mse: 6.1507\n",
            "Epoch 120/300\n",
            "10/10 [==============================] - 0s 4ms/step - loss: 1.8333 - mae: 1.8333 - mse: 8.2821 - val_loss: 1.5968 - val_mae: 1.5968 - val_mse: 6.1572\n",
            "Epoch 121/300\n",
            "10/10 [==============================] - 0s 7ms/step - loss: 1.8332 - mae: 1.8332 - mse: 8.2800 - val_loss: 1.5976 - val_mae: 1.5976 - val_mse: 6.1593\n",
            "Epoch 122/300\n",
            "10/10 [==============================] - 0s 5ms/step - loss: 1.8335 - mae: 1.8335 - mse: 8.2852 - val_loss: 1.5950 - val_mae: 1.5950 - val_mse: 6.1500\n",
            "Epoch 123/300\n",
            "10/10 [==============================] - 0s 5ms/step - loss: 1.8329 - mae: 1.8329 - mse: 8.2815 - val_loss: 1.5950 - val_mae: 1.5950 - val_mse: 6.1496\n",
            "Epoch 124/300\n",
            "10/10 [==============================] - 0s 6ms/step - loss: 1.8329 - mae: 1.8329 - mse: 8.2835 - val_loss: 1.5951 - val_mae: 1.5951 - val_mse: 6.1458\n",
            "Epoch 125/300\n",
            "10/10 [==============================] - 0s 4ms/step - loss: 1.8345 - mae: 1.8345 - mse: 8.2815 - val_loss: 1.5972 - val_mae: 1.5972 - val_mse: 6.1584\n",
            "Epoch 126/300\n",
            "10/10 [==============================] - 0s 4ms/step - loss: 1.8343 - mae: 1.8343 - mse: 8.2796 - val_loss: 1.5950 - val_mae: 1.5950 - val_mse: 6.1524\n",
            "Epoch 127/300\n",
            "10/10 [==============================] - 0s 4ms/step - loss: 1.8343 - mae: 1.8343 - mse: 8.2873 - val_loss: 1.5952 - val_mae: 1.5952 - val_mse: 6.1445\n",
            "Epoch 128/300\n",
            "10/10 [==============================] - 0s 4ms/step - loss: 1.8338 - mae: 1.8338 - mse: 8.2835 - val_loss: 1.5950 - val_mae: 1.5950 - val_mse: 6.1490\n",
            "Epoch 129/300\n",
            "10/10 [==============================] - 0s 6ms/step - loss: 1.8335 - mae: 1.8335 - mse: 8.2824 - val_loss: 1.5949 - val_mae: 1.5949 - val_mse: 6.1521\n",
            "Epoch 130/300\n",
            "10/10 [==============================] - 0s 4ms/step - loss: 1.8333 - mae: 1.8333 - mse: 8.2819 - val_loss: 1.5949 - val_mae: 1.5949 - val_mse: 6.1508\n",
            "Epoch 131/300\n",
            "10/10 [==============================] - 0s 4ms/step - loss: 1.8350 - mae: 1.8350 - mse: 8.2775 - val_loss: 1.5966 - val_mae: 1.5966 - val_mse: 6.1573\n",
            "Epoch 132/300\n",
            "10/10 [==============================] - 0s 6ms/step - loss: 1.8347 - mae: 1.8347 - mse: 8.2891 - val_loss: 1.5952 - val_mae: 1.5952 - val_mse: 6.1441\n",
            "Epoch 133/300\n",
            "10/10 [==============================] - 0s 4ms/step - loss: 1.8365 - mae: 1.8365 - mse: 8.2808 - val_loss: 1.5969 - val_mae: 1.5969 - val_mse: 6.1581\n",
            "Epoch 134/300\n",
            "10/10 [==============================] - 0s 4ms/step - loss: 1.8339 - mae: 1.8339 - mse: 8.2821 - val_loss: 1.5953 - val_mae: 1.5953 - val_mse: 6.1412\n",
            "Epoch 135/300\n",
            "10/10 [==============================] - 0s 6ms/step - loss: 1.8341 - mae: 1.8341 - mse: 8.2795 - val_loss: 1.5954 - val_mae: 1.5954 - val_mse: 6.1544\n",
            "Epoch 136/300\n",
            "10/10 [==============================] - 0s 5ms/step - loss: 1.8331 - mae: 1.8331 - mse: 8.2836 - val_loss: 1.5950 - val_mae: 1.5950 - val_mse: 6.1530\n",
            "Epoch 137/300\n",
            "10/10 [==============================] - 0s 5ms/step - loss: 1.8330 - mae: 1.8330 - mse: 8.2818 - val_loss: 1.5956 - val_mae: 1.5956 - val_mse: 6.1549\n",
            "Epoch 138/300\n",
            "10/10 [==============================] - 0s 4ms/step - loss: 1.8327 - mae: 1.8327 - mse: 8.2816 - val_loss: 1.5953 - val_mae: 1.5953 - val_mse: 6.1540\n",
            "Epoch 139/300\n",
            "10/10 [==============================] - 0s 4ms/step - loss: 1.8329 - mae: 1.8329 - mse: 8.2823 - val_loss: 1.5949 - val_mae: 1.5949 - val_mse: 6.1511\n",
            "Epoch 140/300\n",
            "10/10 [==============================] - 0s 5ms/step - loss: 1.8330 - mae: 1.8330 - mse: 8.2822 - val_loss: 1.5950 - val_mae: 1.5950 - val_mse: 6.1482\n",
            "Epoch 141/300\n",
            "10/10 [==============================] - 0s 5ms/step - loss: 1.8339 - mae: 1.8339 - mse: 8.2806 - val_loss: 1.5973 - val_mae: 1.5973 - val_mse: 6.1592\n",
            "Epoch 142/300\n",
            "10/10 [==============================] - 0s 5ms/step - loss: 1.8330 - mae: 1.8330 - mse: 8.2815 - val_loss: 1.5950 - val_mae: 1.5950 - val_mse: 6.1530\n",
            "Epoch 143/300\n",
            "10/10 [==============================] - 0s 4ms/step - loss: 1.8331 - mae: 1.8331 - mse: 8.2829 - val_loss: 1.5949 - val_mae: 1.5949 - val_mse: 6.1516\n",
            "Epoch 144/300\n",
            "10/10 [==============================] - 0s 4ms/step - loss: 1.8328 - mae: 1.8328 - mse: 8.2826 - val_loss: 1.5959 - val_mae: 1.5959 - val_mse: 6.1554\n",
            "Epoch 145/300\n",
            "10/10 [==============================] - 0s 5ms/step - loss: 1.8327 - mae: 1.8327 - mse: 8.2812 - val_loss: 1.5955 - val_mae: 1.5955 - val_mse: 6.1546\n",
            "Epoch 146/300\n",
            "10/10 [==============================] - 0s 5ms/step - loss: 1.8326 - mae: 1.8326 - mse: 8.2831 - val_loss: 1.5954 - val_mae: 1.5954 - val_mse: 6.1540\n",
            "Epoch 147/300\n",
            "10/10 [==============================] - 0s 4ms/step - loss: 1.8326 - mae: 1.8326 - mse: 8.2818 - val_loss: 1.5953 - val_mae: 1.5953 - val_mse: 6.1535\n",
            "Epoch 148/300\n",
            "10/10 [==============================] - 0s 4ms/step - loss: 1.8333 - mae: 1.8333 - mse: 8.2839 - val_loss: 1.5964 - val_mae: 1.5964 - val_mse: 6.1563\n",
            "Epoch 149/300\n",
            "10/10 [==============================] - 0s 4ms/step - loss: 1.8332 - mae: 1.8332 - mse: 8.2831 - val_loss: 1.5952 - val_mae: 1.5952 - val_mse: 6.1530\n",
            "Epoch 150/300\n",
            "10/10 [==============================] - 0s 4ms/step - loss: 1.8332 - mae: 1.8332 - mse: 8.2816 - val_loss: 1.5950 - val_mae: 1.5950 - val_mse: 6.1496\n",
            "Epoch 151/300\n",
            "10/10 [==============================] - 0s 4ms/step - loss: 1.8329 - mae: 1.8329 - mse: 8.2823 - val_loss: 1.5964 - val_mae: 1.5964 - val_mse: 6.1564\n",
            "Epoch 152/300\n",
            "10/10 [==============================] - 0s 4ms/step - loss: 1.8334 - mae: 1.8334 - mse: 8.2840 - val_loss: 1.5966 - val_mae: 1.5966 - val_mse: 6.1573\n",
            "Epoch 153/300\n",
            "10/10 [==============================] - 0s 4ms/step - loss: 1.8334 - mae: 1.8334 - mse: 8.2834 - val_loss: 1.5960 - val_mae: 1.5960 - val_mse: 6.1559\n",
            "Epoch 154/300\n",
            "10/10 [==============================] - 0s 4ms/step - loss: 1.8327 - mae: 1.8327 - mse: 8.2836 - val_loss: 1.5949 - val_mae: 1.5949 - val_mse: 6.1497\n",
            "Epoch 155/300\n",
            "10/10 [==============================] - 0s 4ms/step - loss: 1.8333 - mae: 1.8333 - mse: 8.2830 - val_loss: 1.5949 - val_mae: 1.5949 - val_mse: 6.1513\n",
            "Epoch 156/300\n",
            "10/10 [==============================] - 0s 4ms/step - loss: 1.8329 - mae: 1.8329 - mse: 8.2800 - val_loss: 1.5969 - val_mae: 1.5969 - val_mse: 6.1582\n",
            "Epoch 157/300\n",
            "10/10 [==============================] - 0s 5ms/step - loss: 1.8336 - mae: 1.8336 - mse: 8.2826 - val_loss: 1.5949 - val_mae: 1.5949 - val_mse: 6.1498\n",
            "Epoch 158/300\n",
            "10/10 [==============================] - 0s 4ms/step - loss: 1.8334 - mae: 1.8334 - mse: 8.2837 - val_loss: 1.5951 - val_mae: 1.5951 - val_mse: 6.1451\n",
            "Epoch 159/300\n",
            "10/10 [==============================] - 0s 5ms/step - loss: 1.8333 - mae: 1.8333 - mse: 8.2798 - val_loss: 1.5953 - val_mae: 1.5953 - val_mse: 6.1538\n",
            "Epoch 160/300\n",
            "10/10 [==============================] - 0s 4ms/step - loss: 1.8334 - mae: 1.8334 - mse: 8.2799 - val_loss: 1.5974 - val_mae: 1.5974 - val_mse: 6.1595\n",
            "Epoch 161/300\n",
            "10/10 [==============================] - 0s 4ms/step - loss: 1.8338 - mae: 1.8338 - mse: 8.2855 - val_loss: 1.5952 - val_mae: 1.5952 - val_mse: 6.1537\n",
            "Epoch 162/300\n",
            "10/10 [==============================] - 0s 5ms/step - loss: 1.8327 - mae: 1.8327 - mse: 8.2807 - val_loss: 1.5951 - val_mae: 1.5951 - val_mse: 6.1467\n",
            "Epoch 163/300\n",
            "10/10 [==============================] - 0s 4ms/step - loss: 1.8333 - mae: 1.8333 - mse: 8.2805 - val_loss: 1.5982 - val_mae: 1.5982 - val_mse: 6.1615\n",
            "Epoch 164/300\n",
            "10/10 [==============================] - 0s 5ms/step - loss: 1.8334 - mae: 1.8334 - mse: 8.2830 - val_loss: 1.5949 - val_mae: 1.5949 - val_mse: 6.1512\n",
            "Epoch 165/300\n",
            "10/10 [==============================] - 0s 5ms/step - loss: 1.8326 - mae: 1.8326 - mse: 8.2820 - val_loss: 1.5951 - val_mae: 1.5951 - val_mse: 6.1534\n",
            "Epoch 166/300\n",
            "10/10 [==============================] - 0s 5ms/step - loss: 1.8328 - mae: 1.8328 - mse: 8.2827 - val_loss: 1.5949 - val_mae: 1.5949 - val_mse: 6.1524\n",
            "Epoch 167/300\n",
            "10/10 [==============================] - 0s 5ms/step - loss: 1.8326 - mae: 1.8326 - mse: 8.2820 - val_loss: 1.5949 - val_mae: 1.5949 - val_mse: 6.1522\n",
            "Epoch 168/300\n",
            "10/10 [==============================] - 0s 4ms/step - loss: 1.8325 - mae: 1.8325 - mse: 8.2826 - val_loss: 1.5949 - val_mae: 1.5949 - val_mse: 6.1520\n",
            "Epoch 169/300\n",
            "10/10 [==============================] - 0s 4ms/step - loss: 1.8331 - mae: 1.8331 - mse: 8.2804 - val_loss: 1.5959 - val_mae: 1.5959 - val_mse: 6.1551\n",
            "Epoch 170/300\n",
            "10/10 [==============================] - 0s 5ms/step - loss: 1.8332 - mae: 1.8332 - mse: 8.2834 - val_loss: 1.5956 - val_mae: 1.5956 - val_mse: 6.1541\n",
            "Epoch 171/300\n",
            "10/10 [==============================] - 0s 4ms/step - loss: 1.8328 - mae: 1.8328 - mse: 8.2827 - val_loss: 1.5949 - val_mae: 1.5949 - val_mse: 6.1514\n",
            "Epoch 172/300\n",
            "10/10 [==============================] - 0s 5ms/step - loss: 1.8328 - mae: 1.8328 - mse: 8.2821 - val_loss: 1.5953 - val_mae: 1.5953 - val_mse: 6.1534\n",
            "Epoch 173/300\n",
            "10/10 [==============================] - 0s 4ms/step - loss: 1.8325 - mae: 1.8325 - mse: 8.2814 - val_loss: 1.5951 - val_mae: 1.5951 - val_mse: 6.1531\n",
            "Epoch 174/300\n",
            "10/10 [==============================] - 0s 4ms/step - loss: 1.8325 - mae: 1.8325 - mse: 8.2809 - val_loss: 1.5951 - val_mae: 1.5951 - val_mse: 6.1466\n",
            "Epoch 175/300\n",
            "10/10 [==============================] - 0s 5ms/step - loss: 1.8332 - mae: 1.8332 - mse: 8.2821 - val_loss: 1.5949 - val_mae: 1.5949 - val_mse: 6.1515\n",
            "Epoch 176/300\n",
            "10/10 [==============================] - 0s 5ms/step - loss: 1.8324 - mae: 1.8324 - mse: 8.2823 - val_loss: 1.5951 - val_mae: 1.5951 - val_mse: 6.1528\n",
            "Epoch 177/300\n",
            "10/10 [==============================] - 0s 4ms/step - loss: 1.8327 - mae: 1.8327 - mse: 8.2825 - val_loss: 1.5951 - val_mae: 1.5951 - val_mse: 6.1525\n",
            "Epoch 178/300\n",
            "10/10 [==============================] - 0s 4ms/step - loss: 1.8332 - mae: 1.8332 - mse: 8.2811 - val_loss: 1.5962 - val_mae: 1.5962 - val_mse: 6.1555\n",
            "Epoch 179/300\n",
            "10/10 [==============================] - 0s 4ms/step - loss: 1.8328 - mae: 1.8328 - mse: 8.2816 - val_loss: 1.5950 - val_mae: 1.5950 - val_mse: 6.1498\n",
            "Epoch 180/300\n",
            "10/10 [==============================] - 0s 4ms/step - loss: 1.8330 - mae: 1.8330 - mse: 8.2816 - val_loss: 1.5950 - val_mae: 1.5950 - val_mse: 6.1490\n",
            "Epoch 181/300\n",
            "10/10 [==============================] - 0s 5ms/step - loss: 1.8326 - mae: 1.8326 - mse: 8.2818 - val_loss: 1.5950 - val_mae: 1.5950 - val_mse: 6.1524\n",
            "Epoch 182/300\n",
            "10/10 [==============================] - 0s 4ms/step - loss: 1.8325 - mae: 1.8325 - mse: 8.2821 - val_loss: 1.5949 - val_mae: 1.5949 - val_mse: 6.1511\n",
            "Epoch 183/300\n",
            "10/10 [==============================] - 0s 4ms/step - loss: 1.8326 - mae: 1.8326 - mse: 8.2818 - val_loss: 1.5958 - val_mae: 1.5958 - val_mse: 6.1544\n",
            "Epoch 184/300\n",
            "10/10 [==============================] - 0s 4ms/step - loss: 1.8326 - mae: 1.8326 - mse: 8.2827 - val_loss: 1.5949 - val_mae: 1.5949 - val_mse: 6.1515\n",
            "Epoch 185/300\n",
            "10/10 [==============================] - 0s 4ms/step - loss: 1.8327 - mae: 1.8327 - mse: 8.2807 - val_loss: 1.5952 - val_mae: 1.5952 - val_mse: 6.1445\n",
            "Epoch 186/300\n",
            "10/10 [==============================] - 0s 4ms/step - loss: 1.8335 - mae: 1.8335 - mse: 8.2816 - val_loss: 1.5956 - val_mae: 1.5956 - val_mse: 6.1541\n",
            "Epoch 187/300\n",
            "10/10 [==============================] - 0s 5ms/step - loss: 1.8330 - mae: 1.8330 - mse: 8.2804 - val_loss: 1.5956 - val_mae: 1.5956 - val_mse: 6.1543\n",
            "Epoch 188/300\n",
            "10/10 [==============================] - 0s 5ms/step - loss: 1.8325 - mae: 1.8325 - mse: 8.2818 - val_loss: 1.5951 - val_mae: 1.5951 - val_mse: 6.1528\n",
            "Epoch 189/300\n",
            "10/10 [==============================] - 0s 4ms/step - loss: 1.8327 - mae: 1.8327 - mse: 8.2812 - val_loss: 1.5951 - val_mae: 1.5951 - val_mse: 6.1469\n",
            "Epoch 190/300\n",
            "10/10 [==============================] - 0s 6ms/step - loss: 1.8332 - mae: 1.8332 - mse: 8.2827 - val_loss: 1.5950 - val_mae: 1.5950 - val_mse: 6.1503\n",
            "Epoch 191/300\n",
            "10/10 [==============================] - 0s 4ms/step - loss: 1.8334 - mae: 1.8334 - mse: 8.2838 - val_loss: 1.5958 - val_mae: 1.5958 - val_mse: 6.1546\n",
            "Epoch 192/300\n",
            "10/10 [==============================] - 0s 4ms/step - loss: 1.8328 - mae: 1.8328 - mse: 8.2791 - val_loss: 1.5963 - val_mae: 1.5963 - val_mse: 6.1561\n",
            "Epoch 193/300\n",
            "10/10 [==============================] - 0s 5ms/step - loss: 1.8331 - mae: 1.8331 - mse: 8.2833 - val_loss: 1.5961 - val_mae: 1.5961 - val_mse: 6.1555\n",
            "Epoch 194/300\n",
            "10/10 [==============================] - 0s 5ms/step - loss: 1.8327 - mae: 1.8327 - mse: 8.2827 - val_loss: 1.5949 - val_mae: 1.5949 - val_mse: 6.1512\n",
            "Epoch 195/300\n",
            "10/10 [==============================] - 0s 5ms/step - loss: 1.8327 - mae: 1.8327 - mse: 8.2819 - val_loss: 1.5957 - val_mae: 1.5957 - val_mse: 6.1545\n",
            "Epoch 196/300\n",
            "10/10 [==============================] - 0s 5ms/step - loss: 1.8325 - mae: 1.8325 - mse: 8.2818 - val_loss: 1.5951 - val_mae: 1.5951 - val_mse: 6.1527\n",
            "Epoch 197/300\n",
            "10/10 [==============================] - 0s 4ms/step - loss: 1.8329 - mae: 1.8329 - mse: 8.2807 - val_loss: 1.5957 - val_mae: 1.5957 - val_mse: 6.1544\n",
            "Epoch 198/300\n",
            "10/10 [==============================] - 0s 5ms/step - loss: 1.8331 - mae: 1.8331 - mse: 8.2799 - val_loss: 1.5967 - val_mae: 1.5967 - val_mse: 6.1570\n",
            "Epoch 199/300\n",
            "10/10 [==============================] - 0s 4ms/step - loss: 1.8333 - mae: 1.8333 - mse: 8.2829 - val_loss: 1.5964 - val_mae: 1.5964 - val_mse: 6.1562\n",
            "Epoch 200/300\n",
            "10/10 [==============================] - 0s 5ms/step - loss: 1.8329 - mae: 1.8329 - mse: 8.2837 - val_loss: 1.5949 - val_mae: 1.5949 - val_mse: 6.1522\n",
            "Epoch 201/300\n",
            "10/10 [==============================] - 0s 4ms/step - loss: 1.8326 - mae: 1.8326 - mse: 8.2817 - val_loss: 1.5953 - val_mae: 1.5953 - val_mse: 6.1532\n",
            "Epoch 202/300\n",
            "10/10 [==============================] - 0s 5ms/step - loss: 1.8330 - mae: 1.8330 - mse: 8.2816 - val_loss: 1.5960 - val_mae: 1.5960 - val_mse: 6.1550\n",
            "Epoch 203/300\n",
            "10/10 [==============================] - 0s 5ms/step - loss: 1.8335 - mae: 1.8335 - mse: 8.2832 - val_loss: 1.5950 - val_mae: 1.5950 - val_mse: 6.1496\n",
            "Epoch 204/300\n",
            "10/10 [==============================] - 0s 5ms/step - loss: 1.8336 - mae: 1.8336 - mse: 8.2838 - val_loss: 1.5953 - val_mae: 1.5953 - val_mse: 6.1408\n",
            "Epoch 205/300\n",
            "10/10 [==============================] - 0s 4ms/step - loss: 1.8345 - mae: 1.8345 - mse: 8.2822 - val_loss: 1.5974 - val_mae: 1.5974 - val_mse: 6.1588\n",
            "Epoch 206/300\n",
            "10/10 [==============================] - 0s 5ms/step - loss: 1.8344 - mae: 1.8344 - mse: 8.2815 - val_loss: 1.5949 - val_mae: 1.5949 - val_mse: 6.1508\n",
            "Epoch 207/300\n",
            "10/10 [==============================] - 0s 6ms/step - loss: 1.8336 - mae: 1.8336 - mse: 8.2845 - val_loss: 1.5951 - val_mae: 1.5951 - val_mse: 6.1467\n",
            "Epoch 208/300\n",
            "10/10 [==============================] - 0s 4ms/step - loss: 1.8336 - mae: 1.8336 - mse: 8.2809 - val_loss: 1.5951 - val_mae: 1.5951 - val_mse: 6.1530\n",
            "Epoch 209/300\n",
            "10/10 [==============================] - 0s 5ms/step - loss: 1.8327 - mae: 1.8327 - mse: 8.2818 - val_loss: 1.5950 - val_mae: 1.5950 - val_mse: 6.1526\n",
            "Epoch 210/300\n",
            "10/10 [==============================] - 0s 4ms/step - loss: 1.8325 - mae: 1.8325 - mse: 8.2820 - val_loss: 1.5961 - val_mae: 1.5961 - val_mse: 6.1558\n",
            "Epoch 211/300\n",
            "10/10 [==============================] - 0s 4ms/step - loss: 1.8331 - mae: 1.8331 - mse: 8.2810 - val_loss: 1.5958 - val_mae: 1.5958 - val_mse: 6.1548\n",
            "Epoch 212/300\n",
            "10/10 [==============================] - 0s 5ms/step - loss: 1.8328 - mae: 1.8328 - mse: 8.2821 - val_loss: 1.5949 - val_mae: 1.5949 - val_mse: 6.1520\n",
            "Epoch 213/300\n",
            "10/10 [==============================] - 0s 5ms/step - loss: 1.8326 - mae: 1.8326 - mse: 8.2805 - val_loss: 1.5952 - val_mae: 1.5952 - val_mse: 6.1432\n",
            "Epoch 214/300\n",
            "10/10 [==============================] - 0s 5ms/step - loss: 1.8339 - mae: 1.8339 - mse: 8.2825 - val_loss: 1.5957 - val_mae: 1.5957 - val_mse: 6.1546\n",
            "Epoch 215/300\n",
            "10/10 [==============================] - 0s 5ms/step - loss: 1.8329 - mae: 1.8329 - mse: 8.2830 - val_loss: 1.5950 - val_mae: 1.5950 - val_mse: 6.1481\n",
            "Epoch 216/300\n",
            "10/10 [==============================] - 0s 5ms/step - loss: 1.8331 - mae: 1.8331 - mse: 8.2801 - val_loss: 1.5956 - val_mae: 1.5956 - val_mse: 6.1543\n",
            "Epoch 217/300\n",
            "10/10 [==============================] - 0s 4ms/step - loss: 1.8328 - mae: 1.8328 - mse: 8.2826 - val_loss: 1.5949 - val_mae: 1.5949 - val_mse: 6.1510\n",
            "Epoch 218/300\n",
            "10/10 [==============================] - 0s 4ms/step - loss: 1.8327 - mae: 1.8327 - mse: 8.2817 - val_loss: 1.5949 - val_mae: 1.5949 - val_mse: 6.1506\n",
            "Epoch 219/300\n",
            "10/10 [==============================] - 0s 4ms/step - loss: 1.8326 - mae: 1.8326 - mse: 8.2826 - val_loss: 1.5949 - val_mae: 1.5949 - val_mse: 6.1505\n",
            "Epoch 220/300\n",
            "10/10 [==============================] - 0s 5ms/step - loss: 1.8331 - mae: 1.8331 - mse: 8.2789 - val_loss: 1.5961 - val_mae: 1.5961 - val_mse: 6.1556\n",
            "Epoch 221/300\n",
            "10/10 [==============================] - 0s 4ms/step - loss: 1.8328 - mae: 1.8328 - mse: 8.2826 - val_loss: 1.5949 - val_mae: 1.5949 - val_mse: 6.1510\n",
            "Epoch 222/300\n",
            "10/10 [==============================] - 0s 5ms/step - loss: 1.8331 - mae: 1.8331 - mse: 8.2829 - val_loss: 1.5949 - val_mae: 1.5949 - val_mse: 6.1508\n",
            "Epoch 223/300\n",
            "10/10 [==============================] - 0s 5ms/step - loss: 1.8330 - mae: 1.8330 - mse: 8.2821 - val_loss: 1.5967 - val_mae: 1.5967 - val_mse: 6.1574\n",
            "Epoch 224/300\n",
            "10/10 [==============================] - 0s 4ms/step - loss: 1.8331 - mae: 1.8331 - mse: 8.2820 - val_loss: 1.5956 - val_mae: 1.5956 - val_mse: 6.1545\n",
            "Epoch 225/300\n",
            "10/10 [==============================] - 0s 4ms/step - loss: 1.8329 - mae: 1.8329 - mse: 8.2821 - val_loss: 1.5968 - val_mae: 1.5968 - val_mse: 6.1576\n",
            "Epoch 226/300\n",
            "10/10 [==============================] - 0s 5ms/step - loss: 1.8331 - mae: 1.8331 - mse: 8.2821 - val_loss: 1.5962 - val_mae: 1.5962 - val_mse: 6.1562\n",
            "Epoch 227/300\n",
            "10/10 [==============================] - 0s 5ms/step - loss: 1.8331 - mae: 1.8331 - mse: 8.2814 - val_loss: 1.5951 - val_mae: 1.5951 - val_mse: 6.1464\n",
            "Epoch 228/300\n",
            "10/10 [==============================] - 0s 4ms/step - loss: 1.8329 - mae: 1.8329 - mse: 8.2818 - val_loss: 1.5950 - val_mae: 1.5950 - val_mse: 6.1491\n",
            "Epoch 229/300\n",
            "10/10 [==============================] - 0s 4ms/step - loss: 1.8332 - mae: 1.8332 - mse: 8.2791 - val_loss: 1.5975 - val_mae: 1.5975 - val_mse: 6.1598\n",
            "Epoch 230/300\n",
            "10/10 [==============================] - 0s 4ms/step - loss: 1.8340 - mae: 1.8340 - mse: 8.2824 - val_loss: 1.5949 - val_mae: 1.5949 - val_mse: 6.1515\n",
            "Epoch 231/300\n",
            "10/10 [==============================] - 0s 4ms/step - loss: 1.8331 - mae: 1.8331 - mse: 8.2835 - val_loss: 1.5949 - val_mae: 1.5949 - val_mse: 6.1517\n",
            "Epoch 232/300\n",
            "10/10 [==============================] - 0s 4ms/step - loss: 1.8329 - mae: 1.8329 - mse: 8.2826 - val_loss: 1.5949 - val_mae: 1.5949 - val_mse: 6.1518\n",
            "Epoch 233/300\n",
            "10/10 [==============================] - 0s 5ms/step - loss: 1.8325 - mae: 1.8325 - mse: 8.2824 - val_loss: 1.5953 - val_mae: 1.5953 - val_mse: 6.1538\n",
            "Epoch 234/300\n",
            "10/10 [==============================] - 0s 5ms/step - loss: 1.8328 - mae: 1.8328 - mse: 8.2825 - val_loss: 1.5949 - val_mae: 1.5949 - val_mse: 6.1513\n",
            "Epoch 235/300\n",
            "10/10 [==============================] - 0s 5ms/step - loss: 1.8325 - mae: 1.8325 - mse: 8.2820 - val_loss: 1.5949 - val_mae: 1.5949 - val_mse: 6.1522\n",
            "Epoch 236/300\n",
            "10/10 [==============================] - 0s 4ms/step - loss: 1.8324 - mae: 1.8324 - mse: 8.2819 - val_loss: 1.5949 - val_mae: 1.5949 - val_mse: 6.1521\n",
            "Epoch 237/300\n",
            "10/10 [==============================] - 0s 4ms/step - loss: 1.8324 - mae: 1.8324 - mse: 8.2807 - val_loss: 1.5951 - val_mae: 1.5951 - val_mse: 6.1479\n",
            "Epoch 238/300\n",
            "10/10 [==============================] - 0s 4ms/step - loss: 1.8331 - mae: 1.8331 - mse: 8.2802 - val_loss: 1.5951 - val_mae: 1.5951 - val_mse: 6.1459\n",
            "Epoch 239/300\n",
            "10/10 [==============================] - 0s 5ms/step - loss: 1.8327 - mae: 1.8327 - mse: 8.2788 - val_loss: 1.5951 - val_mae: 1.5951 - val_mse: 6.1472\n",
            "Epoch 240/300\n",
            "10/10 [==============================] - 0s 5ms/step - loss: 1.8332 - mae: 1.8332 - mse: 8.2818 - val_loss: 1.5950 - val_mae: 1.5950 - val_mse: 6.1492\n",
            "Epoch 241/300\n",
            "10/10 [==============================] - 0s 4ms/step - loss: 1.8331 - mae: 1.8331 - mse: 8.2809 - val_loss: 1.5949 - val_mae: 1.5949 - val_mse: 6.1511\n",
            "Epoch 242/300\n",
            "10/10 [==============================] - 0s 4ms/step - loss: 1.8329 - mae: 1.8329 - mse: 8.2824 - val_loss: 1.5949 - val_mae: 1.5949 - val_mse: 6.1505\n",
            "Epoch 243/300\n",
            "10/10 [==============================] - 0s 4ms/step - loss: 1.8327 - mae: 1.8327 - mse: 8.2816 - val_loss: 1.5950 - val_mae: 1.5950 - val_mse: 6.1498\n",
            "Epoch 244/300\n",
            "10/10 [==============================] - 0s 5ms/step - loss: 1.8336 - mae: 1.8336 - mse: 8.2842 - val_loss: 1.5951 - val_mae: 1.5951 - val_mse: 6.1457\n",
            "Epoch 245/300\n",
            "10/10 [==============================] - 0s 5ms/step - loss: 1.8338 - mae: 1.8338 - mse: 8.2803 - val_loss: 1.5971 - val_mae: 1.5971 - val_mse: 6.1584\n",
            "Epoch 246/300\n",
            "10/10 [==============================] - 0s 4ms/step - loss: 1.8329 - mae: 1.8329 - mse: 8.2824 - val_loss: 1.5957 - val_mae: 1.5957 - val_mse: 6.1544\n",
            "Epoch 247/300\n",
            "10/10 [==============================] - 0s 4ms/step - loss: 1.8331 - mae: 1.8331 - mse: 8.2823 - val_loss: 1.5949 - val_mae: 1.5949 - val_mse: 6.1514\n",
            "Epoch 248/300\n",
            "10/10 [==============================] - 0s 6ms/step - loss: 1.8329 - mae: 1.8329 - mse: 8.2812 - val_loss: 1.5952 - val_mae: 1.5952 - val_mse: 6.1445\n",
            "Epoch 249/300\n",
            "10/10 [==============================] - 0s 4ms/step - loss: 1.8330 - mae: 1.8330 - mse: 8.2773 - val_loss: 1.5968 - val_mae: 1.5968 - val_mse: 6.1577\n",
            "Epoch 250/300\n",
            "10/10 [==============================] - 0s 5ms/step - loss: 1.8329 - mae: 1.8329 - mse: 8.2827 - val_loss: 1.5955 - val_mae: 1.5955 - val_mse: 6.1544\n",
            "Epoch 251/300\n",
            "10/10 [==============================] - 0s 5ms/step - loss: 1.8328 - mae: 1.8328 - mse: 8.2819 - val_loss: 1.5959 - val_mae: 1.5959 - val_mse: 6.1553\n",
            "Epoch 252/300\n",
            "10/10 [==============================] - 0s 4ms/step - loss: 1.8330 - mae: 1.8330 - mse: 8.2819 - val_loss: 1.5958 - val_mae: 1.5958 - val_mse: 6.1550\n",
            "Epoch 253/300\n",
            "10/10 [==============================] - 0s 4ms/step - loss: 1.8325 - mae: 1.8325 - mse: 8.2822 - val_loss: 1.5949 - val_mae: 1.5949 - val_mse: 6.1516\n",
            "Epoch 254/300\n",
            "10/10 [==============================] - 0s 4ms/step - loss: 1.8326 - mae: 1.8326 - mse: 8.2825 - val_loss: 1.5949 - val_mae: 1.5949 - val_mse: 6.1521\n",
            "Epoch 255/300\n",
            "10/10 [==============================] - 0s 4ms/step - loss: 1.8324 - mae: 1.8324 - mse: 8.2820 - val_loss: 1.5949 - val_mae: 1.5949 - val_mse: 6.1516\n",
            "Epoch 256/300\n",
            "10/10 [==============================] - 0s 5ms/step - loss: 1.8325 - mae: 1.8325 - mse: 8.2816 - val_loss: 1.5950 - val_mae: 1.5950 - val_mse: 6.1508\n",
            "Epoch 257/300\n",
            "10/10 [==============================] - 0s 4ms/step - loss: 1.8327 - mae: 1.8327 - mse: 8.2810 - val_loss: 1.5950 - val_mae: 1.5950 - val_mse: 6.1510\n",
            "Epoch 258/300\n",
            "10/10 [==============================] - 0s 4ms/step - loss: 1.8326 - mae: 1.8326 - mse: 8.2821 - val_loss: 1.5964 - val_mae: 1.5964 - val_mse: 6.1559\n",
            "Epoch 259/300\n",
            "10/10 [==============================] - 0s 5ms/step - loss: 1.8330 - mae: 1.8330 - mse: 8.2801 - val_loss: 1.5951 - val_mae: 1.5951 - val_mse: 6.1526\n",
            "Epoch 260/300\n",
            "10/10 [==============================] - 0s 5ms/step - loss: 1.8327 - mae: 1.8327 - mse: 8.2831 - val_loss: 1.5955 - val_mae: 1.5955 - val_mse: 6.1537\n",
            "Epoch 261/300\n",
            "10/10 [==============================] - 0s 4ms/step - loss: 1.8329 - mae: 1.8329 - mse: 8.2835 - val_loss: 1.5949 - val_mae: 1.5949 - val_mse: 6.1513\n",
            "Epoch 262/300\n",
            "10/10 [==============================] - 0s 4ms/step - loss: 1.8329 - mae: 1.8329 - mse: 8.2824 - val_loss: 1.5950 - val_mae: 1.5950 - val_mse: 6.1489\n",
            "Epoch 263/300\n",
            "10/10 [==============================] - 0s 5ms/step - loss: 1.8330 - mae: 1.8330 - mse: 8.2822 - val_loss: 1.5949 - val_mae: 1.5949 - val_mse: 6.1504\n",
            "Epoch 264/300\n",
            "10/10 [==============================] - 0s 4ms/step - loss: 1.8330 - mae: 1.8330 - mse: 8.2810 - val_loss: 1.5950 - val_mae: 1.5950 - val_mse: 6.1497\n",
            "Epoch 265/300\n",
            "10/10 [==============================] - 0s 4ms/step - loss: 1.8329 - mae: 1.8329 - mse: 8.2833 - val_loss: 1.5949 - val_mae: 1.5949 - val_mse: 6.1521\n",
            "Epoch 266/300\n",
            "10/10 [==============================] - 0s 5ms/step - loss: 1.8324 - mae: 1.8324 - mse: 8.2824 - val_loss: 1.5949 - val_mae: 1.5949 - val_mse: 6.1522\n",
            "Epoch 267/300\n",
            "10/10 [==============================] - 0s 5ms/step - loss: 1.8326 - mae: 1.8326 - mse: 8.2821 - val_loss: 1.5952 - val_mae: 1.5952 - val_mse: 6.1531\n",
            "Epoch 268/300\n",
            "10/10 [==============================] - 0s 5ms/step - loss: 1.8325 - mae: 1.8325 - mse: 8.2823 - val_loss: 1.5949 - val_mae: 1.5949 - val_mse: 6.1515\n",
            "Epoch 269/300\n",
            "10/10 [==============================] - 0s 6ms/step - loss: 1.8326 - mae: 1.8326 - mse: 8.2824 - val_loss: 1.5957 - val_mae: 1.5957 - val_mse: 6.1542\n",
            "Epoch 270/300\n",
            "10/10 [==============================] - 0s 7ms/step - loss: 1.8332 - mae: 1.8332 - mse: 8.2832 - val_loss: 1.5969 - val_mae: 1.5969 - val_mse: 6.1574\n",
            "Epoch 271/300\n",
            "10/10 [==============================] - 0s 4ms/step - loss: 1.8331 - mae: 1.8331 - mse: 8.2813 - val_loss: 1.5958 - val_mae: 1.5958 - val_mse: 6.1547\n",
            "Epoch 272/300\n",
            "10/10 [==============================] - 0s 5ms/step - loss: 1.8330 - mae: 1.8330 - mse: 8.2816 - val_loss: 1.5949 - val_mae: 1.5949 - val_mse: 6.1507\n",
            "Epoch 273/300\n",
            "10/10 [==============================] - 0s 5ms/step - loss: 1.8330 - mae: 1.8330 - mse: 8.2812 - val_loss: 1.5969 - val_mae: 1.5969 - val_mse: 6.1577\n",
            "Epoch 274/300\n",
            "10/10 [==============================] - 0s 4ms/step - loss: 1.8330 - mae: 1.8330 - mse: 8.2815 - val_loss: 1.5965 - val_mae: 1.5965 - val_mse: 6.1568\n",
            "Epoch 275/300\n",
            "10/10 [==============================] - 0s 4ms/step - loss: 1.8333 - mae: 1.8333 - mse: 8.2841 - val_loss: 1.5966 - val_mae: 1.5966 - val_mse: 6.1571\n",
            "Epoch 276/300\n",
            "10/10 [==============================] - 0s 4ms/step - loss: 1.8335 - mae: 1.8335 - mse: 8.2823 - val_loss: 1.5956 - val_mae: 1.5956 - val_mse: 6.1545\n",
            "Epoch 277/300\n",
            "10/10 [==============================] - 0s 5ms/step - loss: 1.8329 - mae: 1.8329 - mse: 8.2811 - val_loss: 1.5960 - val_mae: 1.5960 - val_mse: 6.1555\n",
            "Epoch 278/300\n",
            "10/10 [==============================] - 0s 4ms/step - loss: 1.8330 - mae: 1.8330 - mse: 8.2814 - val_loss: 1.5951 - val_mae: 1.5951 - val_mse: 6.1451\n",
            "Epoch 279/300\n",
            "10/10 [==============================] - 0s 5ms/step - loss: 1.8333 - mae: 1.8333 - mse: 8.2824 - val_loss: 1.5950 - val_mae: 1.5950 - val_mse: 6.1485\n",
            "Epoch 280/300\n",
            "10/10 [==============================] - 0s 5ms/step - loss: 1.8329 - mae: 1.8329 - mse: 8.2802 - val_loss: 1.5950 - val_mae: 1.5950 - val_mse: 6.1525\n",
            "Epoch 281/300\n",
            "10/10 [==============================] - 0s 5ms/step - loss: 1.8326 - mae: 1.8326 - mse: 8.2823 - val_loss: 1.5949 - val_mae: 1.5949 - val_mse: 6.1515\n",
            "Epoch 282/300\n",
            "10/10 [==============================] - 0s 5ms/step - loss: 1.8330 - mae: 1.8330 - mse: 8.2822 - val_loss: 1.5949 - val_mae: 1.5949 - val_mse: 6.1502\n",
            "Epoch 283/300\n",
            "10/10 [==============================] - 0s 5ms/step - loss: 1.8332 - mae: 1.8332 - mse: 8.2809 - val_loss: 1.5950 - val_mae: 1.5950 - val_mse: 6.1497\n",
            "Epoch 284/300\n",
            "10/10 [==============================] - 0s 5ms/step - loss: 1.8334 - mae: 1.8334 - mse: 8.2782 - val_loss: 1.5972 - val_mae: 1.5972 - val_mse: 6.1589\n",
            "Epoch 285/300\n",
            "10/10 [==============================] - 0s 5ms/step - loss: 1.8340 - mae: 1.8340 - mse: 8.2841 - val_loss: 1.5949 - val_mae: 1.5949 - val_mse: 6.1501\n",
            "Epoch 286/300\n",
            "10/10 [==============================] - 0s 4ms/step - loss: 1.8327 - mae: 1.8327 - mse: 8.2834 - val_loss: 1.5951 - val_mae: 1.5951 - val_mse: 6.1531\n",
            "Epoch 287/300\n",
            "10/10 [==============================] - 0s 6ms/step - loss: 1.8325 - mae: 1.8325 - mse: 8.2823 - val_loss: 1.5951 - val_mae: 1.5951 - val_mse: 6.1531\n",
            "Epoch 288/300\n",
            "10/10 [==============================] - 0s 4ms/step - loss: 1.8328 - mae: 1.8328 - mse: 8.2823 - val_loss: 1.5970 - val_mae: 1.5970 - val_mse: 6.1581\n",
            "Epoch 289/300\n",
            "10/10 [==============================] - 0s 5ms/step - loss: 1.8330 - mae: 1.8330 - mse: 8.2824 - val_loss: 1.5953 - val_mae: 1.5953 - val_mse: 6.1535\n",
            "Epoch 290/300\n",
            "10/10 [==============================] - 0s 4ms/step - loss: 1.8324 - mae: 1.8324 - mse: 8.2820 - val_loss: 1.5950 - val_mae: 1.5950 - val_mse: 6.1523\n",
            "Epoch 291/300\n",
            "10/10 [==============================] - 0s 4ms/step - loss: 1.8324 - mae: 1.8324 - mse: 8.2817 - val_loss: 1.5952 - val_mae: 1.5952 - val_mse: 6.1529\n",
            "Epoch 292/300\n",
            "10/10 [==============================] - 0s 6ms/step - loss: 1.8325 - mae: 1.8325 - mse: 8.2816 - val_loss: 1.5953 - val_mae: 1.5953 - val_mse: 6.1530\n",
            "Epoch 293/300\n",
            "10/10 [==============================] - 0s 5ms/step - loss: 1.8328 - mae: 1.8328 - mse: 8.2810 - val_loss: 1.5954 - val_mae: 1.5954 - val_mse: 6.1534\n",
            "Epoch 294/300\n",
            "10/10 [==============================] - 0s 6ms/step - loss: 1.8327 - mae: 1.8327 - mse: 8.2818 - val_loss: 1.5949 - val_mae: 1.5949 - val_mse: 6.1519\n",
            "Epoch 295/300\n",
            "10/10 [==============================] - 0s 6ms/step - loss: 1.8334 - mae: 1.8334 - mse: 8.2843 - val_loss: 1.5953 - val_mae: 1.5953 - val_mse: 6.1407\n",
            "Epoch 296/300\n",
            "10/10 [==============================] - 0s 5ms/step - loss: 1.8345 - mae: 1.8345 - mse: 8.2783 - val_loss: 1.5967 - val_mae: 1.5967 - val_mse: 6.1568\n",
            "Epoch 297/300\n",
            "10/10 [==============================] - 0s 5ms/step - loss: 1.8336 - mae: 1.8336 - mse: 8.2826 - val_loss: 1.5966 - val_mae: 1.5966 - val_mse: 6.1567\n",
            "Epoch 298/300\n",
            "10/10 [==============================] - 0s 5ms/step - loss: 1.8335 - mae: 1.8335 - mse: 8.2838 - val_loss: 1.5949 - val_mae: 1.5949 - val_mse: 6.1510\n",
            "Epoch 299/300\n",
            "10/10 [==============================] - 0s 4ms/step - loss: 1.8332 - mae: 1.8332 - mse: 8.2828 - val_loss: 1.5951 - val_mae: 1.5951 - val_mse: 6.1481\n",
            "Epoch 300/300\n",
            "10/10 [==============================] - 0s 5ms/step - loss: 1.8330 - mae: 1.8330 - mse: 8.2816 - val_loss: 1.5951 - val_mae: 1.5951 - val_mse: 6.1471\n"
          ],
          "name": "stdout"
        }
      ]
    },
    {
      "cell_type": "code",
      "metadata": {
        "id": "6zYkLGS6wQyy",
        "colab": {
          "base_uri": "https://localhost:8080/"
        },
        "outputId": "1e9ac960-966a-4856-9549-5b02124bd22d"
      },
      "source": [
        "print(history)"
      ],
      "execution_count": 22,
      "outputs": [
        {
          "output_type": "stream",
          "text": [
            "<tensorflow.python.keras.callbacks.History object at 0x7fa4a520f2d0>\n"
          ],
          "name": "stdout"
        }
      ]
    },
    {
      "cell_type": "code",
      "metadata": {
        "colab": {
          "base_uri": "https://localhost:8080/"
        },
        "id": "1lsbk_ohAu1j",
        "outputId": "bb2caf1f-3569-48b7-e4dd-6e3e2d65f61e"
      },
      "source": [
        "model.summary()"
      ],
      "execution_count": 23,
      "outputs": [
        {
          "output_type": "stream",
          "text": [
            "Model: \"sequential\"\n",
            "_________________________________________________________________\n",
            "Layer (type)                 Output Shape              Param #   \n",
            "=================================================================\n",
            "dense (Dense)                (None, 1)                 2         \n",
            "=================================================================\n",
            "Total params: 2\n",
            "Trainable params: 2\n",
            "Non-trainable params: 0\n",
            "_________________________________________________________________\n"
          ],
          "name": "stdout"
        }
      ]
    },
    {
      "cell_type": "code",
      "metadata": {
        "colab": {
          "base_uri": "https://localhost:8080/",
          "height": 1000
        },
        "id": "P6VnkPim7tH7",
        "outputId": "13cf192b-15e0-4b85-82cd-ddbc1e7cbd04"
      },
      "source": [
        "# tempString = 'mse'\n",
        "def curvePlots(tempString):\n",
        "  plt.plot(history.history[tempString])\n",
        "  plt.plot(history.history[f'val_{tempString}'])\n",
        "  plt.xlabel('NumEpochs')\n",
        "  plt.ylabel(tempString)\n",
        "  plt.legend([tempString, f'val_{tempString}'])\n",
        "  plt.show()\n",
        "\n",
        "\n",
        "curvePlots('mse')\n",
        "curvePlots('mae')\n",
        "curvePlots('loss')"
      ],
      "execution_count": 24,
      "outputs": [
        {
          "output_type": "display_data",
          "data": {
            "image/png": "[encoded data removed]",
            "text/plain": [
              "<Figure size 576x396 with 1 Axes>"
            ]
          },
          "metadata": {
            "tags": []
          }
        },
        {
          "output_type": "display_data",
          "data": {
            "image/png": "[encoded data removed]",
            "text/plain": [
              "<Figure size 576x396 with 1 Axes>"
            ]
          },
          "metadata": {
            "tags": []
          }
        },
        {
          "output_type": "display_data",
          "data": {
            "image/png": "[encoded data removed]",
            "text/plain": [
              "<Figure size 576x396 with 1 Axes>"
            ]
          },
          "metadata": {
            "tags": []
          }
        }
      ]
    },
    {
      "cell_type": "code",
      "metadata": {
        "id": "esW0eHQbzoj4",
        "colab": {
          "base_uri": "https://localhost:8080/"
        },
        "outputId": "eb03aa92-00d7-4f1e-bb10-e36bd17fc3c2"
      },
      "source": [
        "model.predict([1])"
      ],
      "execution_count": 25,
      "outputs": [
        {
          "output_type": "execute_result",
          "data": {
            "text/plain": [
              "array([[1.0003213]], dtype=float32)"
            ]
          },
          "metadata": {
            "tags": []
          },
          "execution_count": 25
        }
      ]
    },
    {
      "cell_type": "code",
      "metadata": {
        "colab": {
          "base_uri": "https://localhost:8080/"
        },
        "id": "KJrLWamX8Tg-",
        "outputId": "2e77b8c7-5ae3-466c-c81f-b92eee16eab5"
      },
      "source": [
        "# testPreds = model.predict(testFeatures).flatten() #array of all prediction values\n",
        "\n",
        "#for single values\n",
        "\n",
        "print(f'Prediction for input value 1: {model.predict([1])}')\n",
        "\n",
        "\n",
        "# for a list of values\n",
        "tempListforPreds = [1,2,3,4,5]\n",
        "print(f'''\n",
        "\n",
        "input List = {tempListforPreds}\n",
        "\n",
        "\n",
        "List of Predictions:\n",
        "{model.predict(tempListforPreds)}\n",
        "\n",
        "List of Predictions (flattened out):\n",
        "{model.predict(tempListforPreds).flatten()}\n",
        "''')"
      ],
      "execution_count": 26,
      "outputs": [
        {
          "output_type": "stream",
          "text": [
            "Prediction for input value 1: [[1.0003213]]\n",
            "\n",
            "\n",
            "input List = [1, 2, 3, 4, 5]\n",
            "\n",
            "\n",
            "List of Predictions:\n",
            "[[1.0003213]\n",
            " [1.9997566]\n",
            " [2.9991918]\n",
            " [3.998627 ]\n",
            " [4.998062 ]]\n",
            "\n",
            "List of Predictions (flattened out):\n",
            "[1.0003213 1.9997566 2.9991918 3.998627  4.998062 ]\n",
            "\n"
          ],
          "name": "stdout"
        }
      ]
    },
    {
      "cell_type": "code",
      "metadata": {
        "id": "vJNFh6hc0K6r",
        "colab": {
          "base_uri": "https://localhost:8080/"
        },
        "outputId": "c485f55c-3517-4fc6-ee38-1748c95f8ecc"
      },
      "source": [
        "print(testFeatures)"
      ],
      "execution_count": 27,
      "outputs": [
        {
          "output_type": "stream",
          "text": [
            "     G1\n",
            "9    14\n",
            "25    6\n",
            "28   11\n",
            "31   17\n",
            "32   17\n",
            "..   ..\n",
            "365  10\n",
            "367   7\n",
            "379  10\n",
            "381   7\n",
            "393  11\n",
            "\n",
            "[79 rows x 1 columns]\n"
          ],
          "name": "stdout"
        }
      ]
    },
    {
      "cell_type": "code",
      "metadata": {
        "id": "MniGZOu50IyN"
      },
      "source": [
        "testPreds = model.predict(testFeatures).flatten() #array of all prediction values"
      ],
      "execution_count": 28,
      "outputs": []
    },
    {
      "cell_type": "code",
      "metadata": {
        "id": "du0Orwu40Qan",
        "colab": {
          "base_uri": "https://localhost:8080/"
        },
        "outputId": "ca72b6f6-a19c-4551-cb37-c8d65c4eb470"
      },
      "source": [
        "print(len(testPreds))\n",
        "print(testPreds)"
      ],
      "execution_count": 29,
      "outputs": [
        {
          "output_type": "stream",
          "text": [
            "79\n",
            "[13.992979   5.9974976 10.994674  16.991285  16.991285  11.994109\n",
            " 13.992979  18.990156  18.990156   7.996368  13.992979  12.993545\n",
            "  7.996368   6.9969325  8.995803  12.993545  10.994674  15.99185\n",
            "  6.9969325  9.995238  14.992414  12.993545  13.992979  15.99185\n",
            "  6.9969325  6.9969325  7.996368   9.995238  11.994109   9.995238\n",
            " 11.994109  12.993545   9.995238   5.9974976  8.995803  11.994109\n",
            "  6.9969325  7.996368  13.992979   8.995803   8.995803   6.9969325\n",
            " 11.994109   5.9974976 12.993545   6.9969325  6.9969325 10.994674\n",
            " 12.993545  16.991285  11.994109  14.992414   8.995803  11.994109\n",
            " 14.992414  11.994109  14.992414  11.994109  14.992414  10.994674\n",
            " 11.994109   7.996368  15.99185    6.9969325 15.99185   10.994674\n",
            " 15.99185   12.993545   7.996368   7.996368  11.994109  17.99072\n",
            " 12.993545  15.99185    9.995238   6.9969325  9.995238   6.9969325\n",
            " 10.994674 ]\n"
          ],
          "name": "stdout"
        }
      ]
    },
    {
      "cell_type": "code",
      "metadata": {
        "colab": {
          "base_uri": "https://localhost:8080/",
          "height": 361
        },
        "id": "EfP8bB_v89Wa",
        "outputId": "64e408a6-932d-46d6-b5d4-9d6bcd5f0a37"
      },
      "source": [
        "# prediciton plot --> how well is your model predicting across the actual labels\n",
        "\n",
        "def predPlot(labels, predictions):\n",
        "  plt.scatter(labels, predictions)\n",
        "  plt.ylabel('Predictions')\n",
        "  plt.xlabel('True Value or Labels')\n",
        "  plt.axis('equal')\n",
        "  plt.axis('square')\n",
        "  plt.xlim([0, plt.xlim()[1]])\n",
        "  plt.ylim([0, plt.ylim()[1]])\n",
        "  plt.show()\n",
        "\n",
        "predPlot(testLabels, testPreds)"
      ],
      "execution_count": 30,
      "outputs": [
        {
          "output_type": "display_data",
          "data": {
            "image/png": "[encoded data removed]",
            "text/plain": [
              "<Figure size 576x396 with 1 Axes>"
            ]
          },
          "metadata": {
            "tags": []
          }
        }
      ]
    },
    {
      "cell_type": "code",
      "metadata": {
        "colab": {
          "base_uri": "https://localhost:8080/",
          "height": 361
        },
        "id": "70608Z0o9tWL",
        "outputId": "67a0bd91-42ab-47e5-cec4-d904fec4b636"
      },
      "source": [
        "#error plot --> gaussian distribution \n",
        "\n",
        "def errorPlot(preds, labels, counts):\n",
        "  errors = preds - labels\n",
        "  plt.hist(errors, counts)\n",
        "  plt.xlabel('Error')\n",
        "  plt.ylabel('Counts')\n",
        "  plt.show()\n",
        "\n",
        "errorPlot(testPreds, testLabels, numEpochs)"
      ],
      "execution_count": 31,
      "outputs": [
        {
          "output_type": "display_data",
          "data": {
            "image/png": "[encoded data removed]",
            "text/plain": [
              "<Figure size 576x396 with 1 Axes>"
            ]
          },
          "metadata": {
            "tags": []
          }
        }
      ]
    },
    {
      "cell_type": "markdown",
      "metadata": {
        "id": "oshf2mUG1vPk"
      },
      "source": [
        "Note: \n",
        "\n",
        "\n",
        "Validation loss `val_loss` is a metric that tells you how much deviation from the actual label can you expect in the predicted label\n",
        "\n",
        "To optimize your predicitons -->\n",
        "\n",
        "- Hyperparameter tuning --> `numEpochs`, `optimizer`, `learning_rate`, lossFunctions"
      ]
    }
  ]
}