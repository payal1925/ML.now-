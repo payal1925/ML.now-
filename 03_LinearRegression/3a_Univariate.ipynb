{
  "nbformat": 4,
  "nbformat_minor": 0,
  "metadata": {
    "colab": {
      "name": "3.1_Univariate.ipynb",
      "provenance": [],
      "include_colab_link": true
    },
    "kernelspec": {
      "name": "python3",
      "display_name": "Python 3"
    }
  },
  "cells": [
    {
      "cell_type": "markdown",
      "metadata": {
        "id": "view-in-github",
        "colab_type": "text"
      },
      "source": [
        "<a href=\"https://colab.research.google.com/github/payal1925/MLnow_2.0-/blob/main/03_LinearRegression/3a_Univariate.ipynb\" target=\"_parent\"><img src=\"https://colab.research.google.com/assets/colab-badge.svg\" alt=\"Open In Colab\"/></a>"
      ]
    },
    {
      "cell_type": "markdown",
      "metadata": {
        "id": "q_569ugy6lyY"
      },
      "source": [
        "> This notebook was created for code illustration of the `ML_now()` course\n",
        "\n",
        "\n",
        "`Univariate Linear Regression`\n",
        "\n",
        "[Link to Download the dataset](https://archive.ics.uci.edu/ml/datasets/Student+Performance)\n",
        "\n",
        "**Date Created**: June 6, 2021\n",
        "\n",
        "\n",
        "**Author**:\n",
        "Payal Jaiswal\n",
        "\n",
        "**Reach out**:\n",
        "[Email](mailto:payaljaiswal1925@gmail.com) | [GitHub](https://github.com/payal1925) | [LinkedIn](https://www.linkedin.com/in/payaljaiswal)\n",
        "\n",
        "[[Assessment Repository](https://github.com/payal1925/MLnow_2.0-)]"
      ]
    },
    {
      "cell_type": "markdown",
      "metadata": {
        "id": "KmW9S6zjaauQ"
      },
      "source": [
        "## Setup"
      ]
    },
    {
      "cell_type": "code",
      "metadata": {
        "colab": {
          "base_uri": "https://localhost:8080/"
        },
        "id": "oX_QibhWsnnX",
        "outputId": "f506f957-7cc9-4976-b407-3e3bdf06bfe9"
      },
      "source": [
        "from google.colab import drive\n",
        "drive.mount('/content/drive')"
      ],
      "execution_count": 1,
      "outputs": [
        {
          "output_type": "stream",
          "text": [
            "Mounted at /content/drive\n"
          ],
          "name": "stdout"
        }
      ]
    },
    {
      "cell_type": "code",
      "metadata": {
        "colab": {
          "base_uri": "https://localhost:8080/"
        },
        "id": "wYuNn17Isvml",
        "outputId": "3a174960-31d9-4184-e049-80e4dd2a521e"
      },
      "source": [
        "cd '/content/drive/MyDrive/student2'"
      ],
      "execution_count": 2,
      "outputs": [
        {
          "output_type": "stream",
          "text": [
            "/content/drive/MyDrive/student2\n"
          ],
          "name": "stdout"
        }
      ]
    },
    {
      "cell_type": "code",
      "metadata": {
        "colab": {
          "base_uri": "https://localhost:8080/"
        },
        "id": "oR69jwALs-uP",
        "outputId": "32679590-e162-4a8e-d4ec-1e01df9d594b"
      },
      "source": [
        "ls"
      ],
      "execution_count": 3,
      "outputs": [
        {
          "output_type": "stream",
          "text": [
            "cleanedMathData.csv  student2-merge.R  univariate_MathData_2.csv\n",
            "model_01.h5          student2-por.csv\n",
            "student2-mat.csv     student2.txt\n"
          ],
          "name": "stdout"
        }
      ]
    },
    {
      "cell_type": "code",
      "metadata": {
        "id": "0rYwvbeMtPJg"
      },
      "source": [
        "import os"
      ],
      "execution_count": 4,
      "outputs": []
    },
    {
      "cell_type": "code",
      "metadata": {
        "id": "cnGQRbmes_tZ"
      },
      "source": [
        "import pandas as pd #working with csv or excel files\n",
        "import numpy as np #working with numbers/ arrays/ tensors\n",
        "import tensorflow as tf #framework\n",
        "from tensorflow import keras #API / library \n",
        "import os #using os commands between the python language"
      ],
      "execution_count": 5,
      "outputs": []
    },
    {
      "cell_type": "code",
      "metadata": {
        "id": "VV-Ps6dJtX6B"
      },
      "source": [
        "mathData = pd.read_csv('student2-mat.csv', sep=';') #load the csv file as dataframe"
      ],
      "execution_count": 6,
      "outputs": []
    },
    {
      "cell_type": "code",
      "metadata": {
        "colab": {
          "base_uri": "https://localhost:8080/",
          "height": 379
        },
        "id": "2_KId_bptr05",
        "outputId": "d150abda-7214-43ae-d776-fb9712747c4c"
      },
      "source": [
        "mathData.head(10) #print the first ten rows of the dataframe"
      ],
      "execution_count": 7,
      "outputs": [
        {
          "output_type": "execute_result",
          "data": {
            "text/html": [
              "<div>\n",
              "<style scoped>\n",
              "    .dataframe tbody tr th:only-of-type {\n",
              "        vertical-align: middle;\n",
              "    }\n",
              "\n",
              "    .dataframe tbody tr th {\n",
              "        vertical-align: top;\n",
              "    }\n",
              "\n",
              "    .dataframe thead th {\n",
              "        text-align: right;\n",
              "    }\n",
              "</style>\n",
              "<table border=\"1\" class=\"dataframe\">\n",
              "  <thead>\n",
              "    <tr style=\"text-align: right;\">\n",
              "      <th></th>\n",
              "      <th>school</th>\n",
              "      <th>sex</th>\n",
              "      <th>age</th>\n",
              "      <th>address</th>\n",
              "      <th>famsize</th>\n",
              "      <th>Pstatus</th>\n",
              "      <th>Medu</th>\n",
              "      <th>Fedu</th>\n",
              "      <th>Mjob</th>\n",
              "      <th>Fjob</th>\n",
              "      <th>reason</th>\n",
              "      <th>guardian</th>\n",
              "      <th>traveltime</th>\n",
              "      <th>studytime</th>\n",
              "      <th>failures</th>\n",
              "      <th>schoolsup</th>\n",
              "      <th>famsup</th>\n",
              "      <th>paid</th>\n",
              "      <th>activities</th>\n",
              "      <th>nursery</th>\n",
              "      <th>higher</th>\n",
              "      <th>internet</th>\n",
              "      <th>romantic</th>\n",
              "      <th>famrel</th>\n",
              "      <th>freetime</th>\n",
              "      <th>goout</th>\n",
              "      <th>Dalc</th>\n",
              "      <th>Walc</th>\n",
              "      <th>health</th>\n",
              "      <th>absences</th>\n",
              "      <th>G1</th>\n",
              "      <th>G2</th>\n",
              "      <th>G3</th>\n",
              "    </tr>\n",
              "  </thead>\n",
              "  <tbody>\n",
              "    <tr>\n",
              "      <th>0</th>\n",
              "      <td>GP</td>\n",
              "      <td>F</td>\n",
              "      <td>18</td>\n",
              "      <td>U</td>\n",
              "      <td>GT3</td>\n",
              "      <td>A</td>\n",
              "      <td>4</td>\n",
              "      <td>4</td>\n",
              "      <td>at_home</td>\n",
              "      <td>teacher</td>\n",
              "      <td>course</td>\n",
              "      <td>mother</td>\n",
              "      <td>2</td>\n",
              "      <td>2</td>\n",
              "      <td>0</td>\n",
              "      <td>yes</td>\n",
              "      <td>no</td>\n",
              "      <td>no</td>\n",
              "      <td>no</td>\n",
              "      <td>yes</td>\n",
              "      <td>yes</td>\n",
              "      <td>no</td>\n",
              "      <td>no</td>\n",
              "      <td>4</td>\n",
              "      <td>3</td>\n",
              "      <td>4</td>\n",
              "      <td>1</td>\n",
              "      <td>1</td>\n",
              "      <td>3</td>\n",
              "      <td>6</td>\n",
              "      <td>5</td>\n",
              "      <td>6</td>\n",
              "      <td>6</td>\n",
              "    </tr>\n",
              "    <tr>\n",
              "      <th>1</th>\n",
              "      <td>GP</td>\n",
              "      <td>F</td>\n",
              "      <td>17</td>\n",
              "      <td>U</td>\n",
              "      <td>GT3</td>\n",
              "      <td>T</td>\n",
              "      <td>1</td>\n",
              "      <td>1</td>\n",
              "      <td>at_home</td>\n",
              "      <td>other</td>\n",
              "      <td>course</td>\n",
              "      <td>father</td>\n",
              "      <td>1</td>\n",
              "      <td>2</td>\n",
              "      <td>0</td>\n",
              "      <td>no</td>\n",
              "      <td>yes</td>\n",
              "      <td>no</td>\n",
              "      <td>no</td>\n",
              "      <td>no</td>\n",
              "      <td>yes</td>\n",
              "      <td>yes</td>\n",
              "      <td>no</td>\n",
              "      <td>5</td>\n",
              "      <td>3</td>\n",
              "      <td>3</td>\n",
              "      <td>1</td>\n",
              "      <td>1</td>\n",
              "      <td>3</td>\n",
              "      <td>4</td>\n",
              "      <td>5</td>\n",
              "      <td>5</td>\n",
              "      <td>6</td>\n",
              "    </tr>\n",
              "    <tr>\n",
              "      <th>2</th>\n",
              "      <td>GP</td>\n",
              "      <td>F</td>\n",
              "      <td>15</td>\n",
              "      <td>U</td>\n",
              "      <td>LE3</td>\n",
              "      <td>T</td>\n",
              "      <td>1</td>\n",
              "      <td>1</td>\n",
              "      <td>at_home</td>\n",
              "      <td>other</td>\n",
              "      <td>other</td>\n",
              "      <td>mother</td>\n",
              "      <td>1</td>\n",
              "      <td>2</td>\n",
              "      <td>3</td>\n",
              "      <td>yes</td>\n",
              "      <td>no</td>\n",
              "      <td>yes</td>\n",
              "      <td>no</td>\n",
              "      <td>yes</td>\n",
              "      <td>yes</td>\n",
              "      <td>yes</td>\n",
              "      <td>no</td>\n",
              "      <td>4</td>\n",
              "      <td>3</td>\n",
              "      <td>2</td>\n",
              "      <td>2</td>\n",
              "      <td>3</td>\n",
              "      <td>3</td>\n",
              "      <td>10</td>\n",
              "      <td>7</td>\n",
              "      <td>8</td>\n",
              "      <td>10</td>\n",
              "    </tr>\n",
              "    <tr>\n",
              "      <th>3</th>\n",
              "      <td>GP</td>\n",
              "      <td>F</td>\n",
              "      <td>15</td>\n",
              "      <td>U</td>\n",
              "      <td>GT3</td>\n",
              "      <td>T</td>\n",
              "      <td>4</td>\n",
              "      <td>2</td>\n",
              "      <td>health</td>\n",
              "      <td>services</td>\n",
              "      <td>home</td>\n",
              "      <td>mother</td>\n",
              "      <td>1</td>\n",
              "      <td>3</td>\n",
              "      <td>0</td>\n",
              "      <td>no</td>\n",
              "      <td>yes</td>\n",
              "      <td>yes</td>\n",
              "      <td>yes</td>\n",
              "      <td>yes</td>\n",
              "      <td>yes</td>\n",
              "      <td>yes</td>\n",
              "      <td>yes</td>\n",
              "      <td>3</td>\n",
              "      <td>2</td>\n",
              "      <td>2</td>\n",
              "      <td>1</td>\n",
              "      <td>1</td>\n",
              "      <td>5</td>\n",
              "      <td>2</td>\n",
              "      <td>15</td>\n",
              "      <td>14</td>\n",
              "      <td>15</td>\n",
              "    </tr>\n",
              "    <tr>\n",
              "      <th>4</th>\n",
              "      <td>GP</td>\n",
              "      <td>F</td>\n",
              "      <td>16</td>\n",
              "      <td>U</td>\n",
              "      <td>GT3</td>\n",
              "      <td>T</td>\n",
              "      <td>3</td>\n",
              "      <td>3</td>\n",
              "      <td>other</td>\n",
              "      <td>other</td>\n",
              "      <td>home</td>\n",
              "      <td>father</td>\n",
              "      <td>1</td>\n",
              "      <td>2</td>\n",
              "      <td>0</td>\n",
              "      <td>no</td>\n",
              "      <td>yes</td>\n",
              "      <td>yes</td>\n",
              "      <td>no</td>\n",
              "      <td>yes</td>\n",
              "      <td>yes</td>\n",
              "      <td>no</td>\n",
              "      <td>no</td>\n",
              "      <td>4</td>\n",
              "      <td>3</td>\n",
              "      <td>2</td>\n",
              "      <td>1</td>\n",
              "      <td>2</td>\n",
              "      <td>5</td>\n",
              "      <td>4</td>\n",
              "      <td>6</td>\n",
              "      <td>10</td>\n",
              "      <td>10</td>\n",
              "    </tr>\n",
              "    <tr>\n",
              "      <th>5</th>\n",
              "      <td>GP</td>\n",
              "      <td>M</td>\n",
              "      <td>16</td>\n",
              "      <td>U</td>\n",
              "      <td>LE3</td>\n",
              "      <td>T</td>\n",
              "      <td>4</td>\n",
              "      <td>3</td>\n",
              "      <td>services</td>\n",
              "      <td>other</td>\n",
              "      <td>reputation</td>\n",
              "      <td>mother</td>\n",
              "      <td>1</td>\n",
              "      <td>2</td>\n",
              "      <td>0</td>\n",
              "      <td>no</td>\n",
              "      <td>yes</td>\n",
              "      <td>yes</td>\n",
              "      <td>yes</td>\n",
              "      <td>yes</td>\n",
              "      <td>yes</td>\n",
              "      <td>yes</td>\n",
              "      <td>no</td>\n",
              "      <td>5</td>\n",
              "      <td>4</td>\n",
              "      <td>2</td>\n",
              "      <td>1</td>\n",
              "      <td>2</td>\n",
              "      <td>5</td>\n",
              "      <td>10</td>\n",
              "      <td>15</td>\n",
              "      <td>15</td>\n",
              "      <td>15</td>\n",
              "    </tr>\n",
              "    <tr>\n",
              "      <th>6</th>\n",
              "      <td>GP</td>\n",
              "      <td>M</td>\n",
              "      <td>16</td>\n",
              "      <td>U</td>\n",
              "      <td>LE3</td>\n",
              "      <td>T</td>\n",
              "      <td>2</td>\n",
              "      <td>2</td>\n",
              "      <td>other</td>\n",
              "      <td>other</td>\n",
              "      <td>home</td>\n",
              "      <td>mother</td>\n",
              "      <td>1</td>\n",
              "      <td>2</td>\n",
              "      <td>0</td>\n",
              "      <td>no</td>\n",
              "      <td>no</td>\n",
              "      <td>no</td>\n",
              "      <td>no</td>\n",
              "      <td>yes</td>\n",
              "      <td>yes</td>\n",
              "      <td>yes</td>\n",
              "      <td>no</td>\n",
              "      <td>4</td>\n",
              "      <td>4</td>\n",
              "      <td>4</td>\n",
              "      <td>1</td>\n",
              "      <td>1</td>\n",
              "      <td>3</td>\n",
              "      <td>0</td>\n",
              "      <td>12</td>\n",
              "      <td>12</td>\n",
              "      <td>11</td>\n",
              "    </tr>\n",
              "    <tr>\n",
              "      <th>7</th>\n",
              "      <td>GP</td>\n",
              "      <td>F</td>\n",
              "      <td>17</td>\n",
              "      <td>U</td>\n",
              "      <td>GT3</td>\n",
              "      <td>A</td>\n",
              "      <td>4</td>\n",
              "      <td>4</td>\n",
              "      <td>other</td>\n",
              "      <td>teacher</td>\n",
              "      <td>home</td>\n",
              "      <td>mother</td>\n",
              "      <td>2</td>\n",
              "      <td>2</td>\n",
              "      <td>0</td>\n",
              "      <td>yes</td>\n",
              "      <td>yes</td>\n",
              "      <td>no</td>\n",
              "      <td>no</td>\n",
              "      <td>yes</td>\n",
              "      <td>yes</td>\n",
              "      <td>no</td>\n",
              "      <td>no</td>\n",
              "      <td>4</td>\n",
              "      <td>1</td>\n",
              "      <td>4</td>\n",
              "      <td>1</td>\n",
              "      <td>1</td>\n",
              "      <td>1</td>\n",
              "      <td>6</td>\n",
              "      <td>6</td>\n",
              "      <td>5</td>\n",
              "      <td>6</td>\n",
              "    </tr>\n",
              "    <tr>\n",
              "      <th>8</th>\n",
              "      <td>GP</td>\n",
              "      <td>M</td>\n",
              "      <td>15</td>\n",
              "      <td>U</td>\n",
              "      <td>LE3</td>\n",
              "      <td>A</td>\n",
              "      <td>3</td>\n",
              "      <td>2</td>\n",
              "      <td>services</td>\n",
              "      <td>other</td>\n",
              "      <td>home</td>\n",
              "      <td>mother</td>\n",
              "      <td>1</td>\n",
              "      <td>2</td>\n",
              "      <td>0</td>\n",
              "      <td>no</td>\n",
              "      <td>yes</td>\n",
              "      <td>yes</td>\n",
              "      <td>no</td>\n",
              "      <td>yes</td>\n",
              "      <td>yes</td>\n",
              "      <td>yes</td>\n",
              "      <td>no</td>\n",
              "      <td>4</td>\n",
              "      <td>2</td>\n",
              "      <td>2</td>\n",
              "      <td>1</td>\n",
              "      <td>1</td>\n",
              "      <td>1</td>\n",
              "      <td>0</td>\n",
              "      <td>16</td>\n",
              "      <td>18</td>\n",
              "      <td>19</td>\n",
              "    </tr>\n",
              "    <tr>\n",
              "      <th>9</th>\n",
              "      <td>GP</td>\n",
              "      <td>M</td>\n",
              "      <td>15</td>\n",
              "      <td>U</td>\n",
              "      <td>GT3</td>\n",
              "      <td>T</td>\n",
              "      <td>3</td>\n",
              "      <td>4</td>\n",
              "      <td>other</td>\n",
              "      <td>other</td>\n",
              "      <td>home</td>\n",
              "      <td>mother</td>\n",
              "      <td>1</td>\n",
              "      <td>2</td>\n",
              "      <td>0</td>\n",
              "      <td>no</td>\n",
              "      <td>yes</td>\n",
              "      <td>yes</td>\n",
              "      <td>yes</td>\n",
              "      <td>yes</td>\n",
              "      <td>yes</td>\n",
              "      <td>yes</td>\n",
              "      <td>no</td>\n",
              "      <td>5</td>\n",
              "      <td>5</td>\n",
              "      <td>1</td>\n",
              "      <td>1</td>\n",
              "      <td>1</td>\n",
              "      <td>5</td>\n",
              "      <td>0</td>\n",
              "      <td>14</td>\n",
              "      <td>15</td>\n",
              "      <td>15</td>\n",
              "    </tr>\n",
              "  </tbody>\n",
              "</table>\n",
              "</div>"
            ],
            "text/plain": [
              "  school sex  age address famsize Pstatus  ...  Walc  health absences  G1  G2  G3\n",
              "0     GP   F   18       U     GT3       A  ...     1       3        6   5   6   6\n",
              "1     GP   F   17       U     GT3       T  ...     1       3        4   5   5   6\n",
              "2     GP   F   15       U     LE3       T  ...     3       3       10   7   8  10\n",
              "3     GP   F   15       U     GT3       T  ...     1       5        2  15  14  15\n",
              "4     GP   F   16       U     GT3       T  ...     2       5        4   6  10  10\n",
              "5     GP   M   16       U     LE3       T  ...     2       5       10  15  15  15\n",
              "6     GP   M   16       U     LE3       T  ...     1       3        0  12  12  11\n",
              "7     GP   F   17       U     GT3       A  ...     1       1        6   6   5   6\n",
              "8     GP   M   15       U     LE3       A  ...     1       1        0  16  18  19\n",
              "9     GP   M   15       U     GT3       T  ...     1       5        0  14  15  15\n",
              "\n",
              "[10 rows x 33 columns]"
            ]
          },
          "metadata": {
            "tags": []
          },
          "execution_count": 7
        }
      ]
    },
    {
      "cell_type": "markdown",
      "metadata": {
        "id": "i2bal50yG_PZ"
      },
      "source": [
        "We are just going to consider the columns `G1` and `G3` for univariate linear regression\n",
        "\n",
        "$G3_i = G1_i  \\cdot \\theta_1 + \\theta_0$"
      ]
    },
    {
      "cell_type": "code",
      "metadata": {
        "colab": {
          "base_uri": "https://localhost:8080/",
          "height": 204
        },
        "id": "Yw0PNCuTSEDC",
        "outputId": "ee7eda42-22bc-4064-b613-a096e5a145d1"
      },
      "source": [
        "uniMathData = mathData[['G1', 'G3']]\n",
        "uniMathData.head(5)"
      ],
      "execution_count": 8,
      "outputs": [
        {
          "output_type": "execute_result",
          "data": {
            "text/html": [
              "<div>\n",
              "<style scoped>\n",
              "    .dataframe tbody tr th:only-of-type {\n",
              "        vertical-align: middle;\n",
              "    }\n",
              "\n",
              "    .dataframe tbody tr th {\n",
              "        vertical-align: top;\n",
              "    }\n",
              "\n",
              "    .dataframe thead th {\n",
              "        text-align: right;\n",
              "    }\n",
              "</style>\n",
              "<table border=\"1\" class=\"dataframe\">\n",
              "  <thead>\n",
              "    <tr style=\"text-align: right;\">\n",
              "      <th></th>\n",
              "      <th>G1</th>\n",
              "      <th>G3</th>\n",
              "    </tr>\n",
              "  </thead>\n",
              "  <tbody>\n",
              "    <tr>\n",
              "      <th>0</th>\n",
              "      <td>5</td>\n",
              "      <td>6</td>\n",
              "    </tr>\n",
              "    <tr>\n",
              "      <th>1</th>\n",
              "      <td>5</td>\n",
              "      <td>6</td>\n",
              "    </tr>\n",
              "    <tr>\n",
              "      <th>2</th>\n",
              "      <td>7</td>\n",
              "      <td>10</td>\n",
              "    </tr>\n",
              "    <tr>\n",
              "      <th>3</th>\n",
              "      <td>15</td>\n",
              "      <td>15</td>\n",
              "    </tr>\n",
              "    <tr>\n",
              "      <th>4</th>\n",
              "      <td>6</td>\n",
              "      <td>10</td>\n",
              "    </tr>\n",
              "  </tbody>\n",
              "</table>\n",
              "</div>"
            ],
            "text/plain": [
              "   G1  G3\n",
              "0   5   6\n",
              "1   5   6\n",
              "2   7  10\n",
              "3  15  15\n",
              "4   6  10"
            ]
          },
          "metadata": {
            "tags": []
          },
          "execution_count": 8
        }
      ]
    },
    {
      "cell_type": "code",
      "metadata": {
        "id": "eyzP9mL4Hmb5"
      },
      "source": [
        "uniMathData.to_csv('univariate_MathData_2.csv')"
      ],
      "execution_count": 9,
      "outputs": []
    },
    {
      "cell_type": "code",
      "metadata": {
        "colab": {
          "base_uri": "https://localhost:8080/"
        },
        "id": "I-3qK_nNxnTA",
        "outputId": "b8ef0c81-c278-41ed-ebde-f0181713c1ef"
      },
      "source": [
        "ls"
      ],
      "execution_count": 10,
      "outputs": [
        {
          "output_type": "stream",
          "text": [
            "cleanedMathData.csv  student2-merge.R  univariate_MathData_2.csv\n",
            "model_01.h5          student2-por.csv\n",
            "student2-mat.csv     student2.txt\n"
          ],
          "name": "stdout"
        }
      ]
    },
    {
      "cell_type": "markdown",
      "metadata": {
        "id": "ImV3p6AKxszU"
      },
      "source": [
        "## Data visualization"
      ]
    },
    {
      "cell_type": "code",
      "metadata": {
        "colab": {
          "base_uri": "https://localhost:8080/",
          "height": 157
        },
        "id": "RqumcsZLxq4v",
        "outputId": "b08a57d6-34fd-4bd0-f37d-8c1d930e8d07"
      },
      "source": [
        "import seaborn as sns\n",
        "sns.palplot(sns.color_palette('PuOr')) #Purple to Orange colors\n",
        "pal = sns.color_palette('PuOr', 6) #print 6 color shades from Purple to Orange\n",
        "pal.as_hex() #set hex code values for colors\n",
        "\n",
        "import matplotlib.pyplot as plt\n",
        "plt.style.use(['seaborn'])\n",
        "sns_colors = ['#c6690c', '#664697'] #orange Purple hex codes\n",
        "sns.set_palette(sns_colors) #set the palette as sns_colors \n",
        "sns.palplot(sns.color_palette(sns_colors)) #plot the color codes"
      ],
      "execution_count": 11,
      "outputs": [
        {
          "output_type": "display_data",
          "data": {
            "image/png": "[encoded data removed]",
            "text/plain": [
              "<Figure size 432x72 with 1 Axes>"
            ]
          },
          "metadata": {
            "tags": [],
            "needs_background": "light"
          }
        },
        {
          "output_type": "display_data",
          "data": {
            "image/png": "[encoded data removed]",
            "text/plain": [
              "<Figure size 144x72 with 1 Axes>"
            ]
          },
          "metadata": {
            "tags": []
          }
        }
      ]
    },
    {
      "cell_type": "code",
      "metadata": {
        "colab": {
          "base_uri": "https://localhost:8080/"
        },
        "id": "A6MT5E8Fy7MZ",
        "outputId": "a2fa5466-0f2d-4693-b6c3-744970332a3a"
      },
      "source": [
        "uniMathData.columns #columns in the dataframe"
      ],
      "execution_count": 12,
      "outputs": [
        {
          "output_type": "execute_result",
          "data": {
            "text/plain": [
              "Index(['G1', 'G3'], dtype='object')"
            ]
          },
          "metadata": {
            "tags": []
          },
          "execution_count": 12
        }
      ]
    },
    {
      "cell_type": "code",
      "metadata": {
        "colab": {
          "base_uri": "https://localhost:8080/",
          "height": 391
        },
        "id": "PrsTwdHHzBbk",
        "outputId": "cfa69565-f028-436c-badf-6586db25e693"
      },
      "source": [
        "#pairplot for all the values\n",
        "\n",
        "sns.pairplot(uniMathData,\n",
        "             x_vars = ['G1', 'G3'],\n",
        "             y_vars =  ['G1', 'G3'],\n",
        "       diag_kind='kde'\n",
        "             )"
      ],
      "execution_count": 13,
      "outputs": [
        {
          "output_type": "execute_result",
          "data": {
            "text/plain": [
              "<seaborn.axisgrid.PairGrid at 0x7fa6cc2e4110>"
            ]
          },
          "metadata": {
            "tags": []
          },
          "execution_count": 13
        },
        {
          "output_type": "display_data",
          "data": {
            "image/png": "[encoded data removed]",
            "text/plain": [
              "<Figure size 360x360 with 6 Axes>"
            ]
          },
          "metadata": {
            "tags": []
          }
        }
      ]
    },
    {
      "cell_type": "markdown",
      "metadata": {
        "id": "Klm33YcpKZkl"
      },
      "source": [
        "## Data Splits"
      ]
    },
    {
      "cell_type": "code",
      "metadata": {
        "colab": {
          "base_uri": "https://localhost:8080/"
        },
        "id": "UwrSOCKS1NhN",
        "outputId": "a30449ae-a9d7-43b0-a2c5-192c365bee41"
      },
      "source": [
        "#80-20 train-test percent split\n",
        "\n",
        "trainDataset = uniMathData.sample(frac=0.8, random_state=0) \n",
        "testDataset = uniMathData.drop(trainDataset.index)\n",
        "\n",
        "print(trainDataset.head())\n",
        "print(testDataset.head())"
      ],
      "execution_count": 14,
      "outputs": [
        {
          "output_type": "stream",
          "text": [
            "     G1  G3\n",
            "329  14  14\n",
            "318  11  10\n",
            "317   9   9\n",
            "65   16  15\n",
            "59   15  16\n",
            "    G1  G3\n",
            "9   14  15\n",
            "25   6   8\n",
            "28  11  11\n",
            "31  17  17\n",
            "32  17  16\n"
          ],
          "name": "stdout"
        }
      ]
    },
    {
      "cell_type": "code",
      "metadata": {
        "colab": {
          "base_uri": "https://localhost:8080/"
        },
        "id": "YWO2xRV53wV-",
        "outputId": "6f047aec-3473-4740-9483-2ea745de57fd"
      },
      "source": [
        "print(trainDataset.shape)\n",
        "print(testDataset.shape)"
      ],
      "execution_count": 15,
      "outputs": [
        {
          "output_type": "stream",
          "text": [
            "(316, 2)\n",
            "(79, 2)\n"
          ],
          "name": "stdout"
        }
      ]
    },
    {
      "cell_type": "code",
      "metadata": {
        "colab": {
          "base_uri": "https://localhost:8080/"
        },
        "id": "OmDTbvMC32hg",
        "outputId": "24ecf9a9-92c2-4255-9f85-e85e485e62a0"
      },
      "source": [
        "#copy the trainDataset dataframe for getting the features\n",
        "\n",
        "trainFeatures = trainDataset.copy()\n",
        "testFeatures = testDataset.copy()\n",
        "\n",
        "print(trainFeatures.head())\n",
        "print(testFeatures.head())"
      ],
      "execution_count": 16,
      "outputs": [
        {
          "output_type": "stream",
          "text": [
            "     G1  G3\n",
            "329  14  14\n",
            "318  11  10\n",
            "317   9   9\n",
            "65   16  15\n",
            "59   15  16\n",
            "    G1  G3\n",
            "9   14  15\n",
            "25   6   8\n",
            "28  11  11\n",
            "31  17  17\n",
            "32  17  16\n"
          ],
          "name": "stdout"
        }
      ]
    },
    {
      "cell_type": "code",
      "metadata": {
        "colab": {
          "base_uri": "https://localhost:8080/"
        },
        "id": "jSR0_uni4ayh",
        "outputId": "669aff4e-b327-4b15-933f-dccd064998e7"
      },
      "source": [
        "#removing the G3 column and saving it into the labels variable\n",
        "\n",
        "trainLabels = trainFeatures.pop('G3')\n",
        "testLabels = testFeatures.pop('G3')\n",
        "\n",
        "print(trainLabels.head())\n",
        "print(testLabels.head())"
      ],
      "execution_count": 17,
      "outputs": [
        {
          "output_type": "stream",
          "text": [
            "329    14\n",
            "318    10\n",
            "317     9\n",
            "65     15\n",
            "59     16\n",
            "Name: G3, dtype: int64\n",
            "9     15\n",
            "25     8\n",
            "28    11\n",
            "31    17\n",
            "32    16\n",
            "Name: G3, dtype: int64\n"
          ],
          "name": "stdout"
        }
      ]
    },
    {
      "cell_type": "code",
      "metadata": {
        "colab": {
          "base_uri": "https://localhost:8080/"
        },
        "id": "HnGSqb-q4wk8",
        "outputId": "1fa0b291-1596-445d-92a7-3e61b1f84672"
      },
      "source": [
        "print(trainFeatures.head())\n",
        "print(testFeatures.head())"
      ],
      "execution_count": 18,
      "outputs": [
        {
          "output_type": "stream",
          "text": [
            "     G1\n",
            "329  14\n",
            "318  11\n",
            "317   9\n",
            "65   16\n",
            "59   15\n",
            "    G1\n",
            "9   14\n",
            "25   6\n",
            "28  11\n",
            "31  17\n",
            "32  17\n"
          ],
          "name": "stdout"
        }
      ]
    },
    {
      "cell_type": "code",
      "metadata": {
        "id": "XPTSq34jk4o_"
      },
      "source": [
        "# univariate -> num(features) = 1\n",
        "# multvariate -> num(features) > 1 = 11\n",
        "\n",
        "\n",
        "model = tf.keras.Sequential([\n",
        "                             tf.keras.layers.Dense(1)\n",
        "\n",
        "])"
      ],
      "execution_count": 19,
      "outputs": []
    },
    {
      "cell_type": "code",
      "metadata": {
        "id": "4C4GKBdE6iCE"
      },
      "source": [
        "model.compile(\n",
        "    loss = 'mean_absolute_error', #minimizing the MAE loss\n",
        "    optimizer = tf.keras.optimizers.Adam(0.001), #learning rate specified as 0.001\n",
        "    # optimizer = 'adam', #takes the default learning rate\n",
        "    metrics = ['mae', 'mse'] #meanSquare and meanAbsolute error metrics\n",
        ")"
      ],
      "execution_count": 20,
      "outputs": []
    },
    {
      "cell_type": "code",
      "metadata": {
        "colab": {
          "base_uri": "https://localhost:8080/"
        },
        "id": "d_A7DrhB6zvm",
        "outputId": "b6dd004c-a7f3-4444-b6a0-f2c7b2a0f683"
      },
      "source": [
        "numEpochs = 300\n",
        "history = model.fit(x = trainFeatures, y = trainLabels, validation_data = (testFeatures, testLabels), epochs = numEpochs)"
      ],
      "execution_count": 21,
      "outputs": [
        {
          "output_type": "stream",
          "text": [
            "Epoch 1/300\n",
            "10/10 [==============================] - 1s 23ms/step - loss: 4.1203 - mae: 4.1203 - mse: 19.7000 - val_loss: 4.0084 - val_mae: 4.0084 - val_mse: 18.0800\n",
            "Epoch 2/300\n",
            "10/10 [==============================] - 0s 5ms/step - loss: 4.0224 - mae: 4.0224 - mse: 18.9300 - val_loss: 3.9007 - val_mae: 3.9007 - val_mse: 17.2026\n",
            "Epoch 3/300\n",
            "10/10 [==============================] - 0s 4ms/step - loss: 3.9228 - mae: 3.9228 - mse: 18.1393 - val_loss: 3.7941 - val_mae: 3.7941 - val_mse: 16.3672\n",
            "Epoch 4/300\n",
            "10/10 [==============================] - 0s 4ms/step - loss: 3.8231 - mae: 3.8231 - mse: 17.3811 - val_loss: 3.6878 - val_mae: 3.6878 - val_mse: 15.5668\n",
            "Epoch 5/300\n",
            "10/10 [==============================] - 0s 4ms/step - loss: 3.7261 - mae: 3.7261 - mse: 16.6744 - val_loss: 3.5807 - val_mae: 3.5807 - val_mse: 14.7926\n",
            "Epoch 6/300\n",
            "10/10 [==============================] - 0s 3ms/step - loss: 3.6282 - mae: 3.6282 - mse: 15.9808 - val_loss: 3.4742 - val_mae: 3.4742 - val_mse: 14.0554\n",
            "Epoch 7/300\n",
            "10/10 [==============================] - 0s 4ms/step - loss: 3.5315 - mae: 3.5315 - mse: 15.3312 - val_loss: 3.3681 - val_mae: 3.3681 - val_mse: 13.3538\n",
            "Epoch 8/300\n",
            "10/10 [==============================] - 0s 5ms/step - loss: 3.4371 - mae: 3.4371 - mse: 14.7150 - val_loss: 3.2612 - val_mae: 3.2612 - val_mse: 12.6792\n",
            "Epoch 9/300\n",
            "10/10 [==============================] - 0s 4ms/step - loss: 3.3404 - mae: 3.3404 - mse: 14.1213 - val_loss: 3.1566 - val_mae: 3.1566 - val_mse: 12.0510\n",
            "Epoch 10/300\n",
            "10/10 [==============================] - 0s 4ms/step - loss: 3.2484 - mae: 3.2484 - mse: 13.5650 - val_loss: 3.0514 - val_mae: 3.0514 - val_mse: 11.4505\n",
            "Epoch 11/300\n",
            "10/10 [==============================] - 0s 3ms/step - loss: 3.1536 - mae: 3.1536 - mse: 13.0186 - val_loss: 2.9507 - val_mae: 2.9507 - val_mse: 10.8901\n",
            "Epoch 12/300\n",
            "10/10 [==============================] - 0s 5ms/step - loss: 3.0626 - mae: 3.0626 - mse: 12.5250 - val_loss: 2.8487 - val_mae: 2.8487 - val_mse: 10.3514\n",
            "Epoch 13/300\n",
            "10/10 [==============================] - 0s 4ms/step - loss: 2.9705 - mae: 2.9705 - mse: 12.0292 - val_loss: 2.7487 - val_mae: 2.7487 - val_mse: 9.8543\n",
            "Epoch 14/300\n",
            "10/10 [==============================] - 0s 3ms/step - loss: 2.8819 - mae: 2.8819 - mse: 11.5916 - val_loss: 2.6498 - val_mae: 2.6498 - val_mse: 9.3933\n",
            "Epoch 15/300\n",
            "10/10 [==============================] - 0s 3ms/step - loss: 2.7967 - mae: 2.7967 - mse: 11.1880 - val_loss: 2.5519 - val_mae: 2.5519 - val_mse: 8.9619\n",
            "Epoch 16/300\n",
            "10/10 [==============================] - 0s 3ms/step - loss: 2.7129 - mae: 2.7129 - mse: 10.8167 - val_loss: 2.4576 - val_mae: 2.4576 - val_mse: 8.5675\n",
            "Epoch 17/300\n",
            "10/10 [==============================] - 0s 4ms/step - loss: 2.6316 - mae: 2.6316 - mse: 10.4601 - val_loss: 2.3654 - val_mae: 2.3654 - val_mse: 8.2095\n",
            "Epoch 18/300\n",
            "10/10 [==============================] - 0s 4ms/step - loss: 2.5525 - mae: 2.5525 - mse: 10.1436 - val_loss: 2.2749 - val_mae: 2.2749 - val_mse: 7.8811\n",
            "Epoch 19/300\n",
            "10/10 [==============================] - 0s 6ms/step - loss: 2.4805 - mae: 2.4805 - mse: 9.8630 - val_loss: 2.1893 - val_mae: 2.1893 - val_mse: 7.5882\n",
            "Epoch 20/300\n",
            "10/10 [==============================] - 0s 3ms/step - loss: 2.4139 - mae: 2.4139 - mse: 9.5965 - val_loss: 2.1063 - val_mae: 2.1063 - val_mse: 7.3287\n",
            "Epoch 21/300\n",
            "10/10 [==============================] - 0s 4ms/step - loss: 2.3496 - mae: 2.3496 - mse: 9.3778 - val_loss: 2.0300 - val_mae: 2.0300 - val_mse: 7.1034\n",
            "Epoch 22/300\n",
            "10/10 [==============================] - 0s 4ms/step - loss: 2.2885 - mae: 2.2885 - mse: 9.1692 - val_loss: 1.9554 - val_mae: 1.9554 - val_mse: 6.9022\n",
            "Epoch 23/300\n",
            "10/10 [==============================] - 0s 3ms/step - loss: 2.2297 - mae: 2.2297 - mse: 8.9939 - val_loss: 1.8839 - val_mae: 1.8839 - val_mse: 6.7264\n",
            "Epoch 24/300\n",
            "10/10 [==============================] - 0s 4ms/step - loss: 2.1773 - mae: 2.1773 - mse: 8.8311 - val_loss: 1.8182 - val_mae: 1.8182 - val_mse: 6.5719\n",
            "Epoch 25/300\n",
            "10/10 [==============================] - 0s 5ms/step - loss: 2.1293 - mae: 2.1293 - mse: 8.7025 - val_loss: 1.7614 - val_mae: 1.7614 - val_mse: 6.4505\n",
            "Epoch 26/300\n",
            "10/10 [==============================] - 0s 4ms/step - loss: 2.0909 - mae: 2.0909 - mse: 8.5849 - val_loss: 1.7150 - val_mae: 1.7150 - val_mse: 6.3554\n",
            "Epoch 27/300\n",
            "10/10 [==============================] - 0s 4ms/step - loss: 2.0587 - mae: 2.0587 - mse: 8.5008 - val_loss: 1.6801 - val_mae: 1.6801 - val_mse: 6.2768\n",
            "Epoch 28/300\n",
            "10/10 [==============================] - 0s 4ms/step - loss: 2.0293 - mae: 2.0293 - mse: 8.4243 - val_loss: 1.6534 - val_mae: 1.6534 - val_mse: 6.2150\n",
            "Epoch 29/300\n",
            "10/10 [==============================] - 0s 5ms/step - loss: 2.0068 - mae: 2.0068 - mse: 8.3798 - val_loss: 1.6315 - val_mae: 1.6315 - val_mse: 6.1656\n",
            "Epoch 30/300\n",
            "10/10 [==============================] - 0s 3ms/step - loss: 1.9873 - mae: 1.9873 - mse: 8.3409 - val_loss: 1.6160 - val_mae: 1.6160 - val_mse: 6.1306\n",
            "Epoch 31/300\n",
            "10/10 [==============================] - 0s 3ms/step - loss: 1.9717 - mae: 1.9717 - mse: 8.3049 - val_loss: 1.6092 - val_mae: 1.6092 - val_mse: 6.1061\n",
            "Epoch 32/300\n",
            "10/10 [==============================] - 0s 4ms/step - loss: 1.9590 - mae: 1.9590 - mse: 8.2806 - val_loss: 1.6057 - val_mae: 1.6057 - val_mse: 6.0908\n",
            "Epoch 33/300\n",
            "10/10 [==============================] - 0s 4ms/step - loss: 1.9496 - mae: 1.9496 - mse: 8.2643 - val_loss: 1.6023 - val_mae: 1.6023 - val_mse: 6.0794\n",
            "Epoch 34/300\n",
            "10/10 [==============================] - 0s 6ms/step - loss: 1.9399 - mae: 1.9399 - mse: 8.2525 - val_loss: 1.6004 - val_mae: 1.6004 - val_mse: 6.0725\n",
            "Epoch 35/300\n",
            "10/10 [==============================] - 0s 4ms/step - loss: 1.9295 - mae: 1.9295 - mse: 8.2450 - val_loss: 1.5989 - val_mae: 1.5989 - val_mse: 6.0701\n",
            "Epoch 36/300\n",
            "10/10 [==============================] - 0s 3ms/step - loss: 1.9192 - mae: 1.9192 - mse: 8.2339 - val_loss: 1.5974 - val_mae: 1.5974 - val_mse: 6.0719\n",
            "Epoch 37/300\n",
            "10/10 [==============================] - 0s 4ms/step - loss: 1.9092 - mae: 1.9092 - mse: 8.2372 - val_loss: 1.5959 - val_mae: 1.5959 - val_mse: 6.0782\n",
            "Epoch 38/300\n",
            "10/10 [==============================] - 0s 3ms/step - loss: 1.8989 - mae: 1.8989 - mse: 8.2354 - val_loss: 1.5944 - val_mae: 1.5944 - val_mse: 6.0887\n",
            "Epoch 39/300\n",
            "10/10 [==============================] - 0s 3ms/step - loss: 1.8898 - mae: 1.8898 - mse: 8.2496 - val_loss: 1.5932 - val_mae: 1.5932 - val_mse: 6.1052\n",
            "Epoch 40/300\n",
            "10/10 [==============================] - 0s 4ms/step - loss: 1.8792 - mae: 1.8792 - mse: 8.2583 - val_loss: 1.5923 - val_mae: 1.5923 - val_mse: 6.1247\n",
            "Epoch 41/300\n",
            "10/10 [==============================] - 0s 5ms/step - loss: 1.8701 - mae: 1.8701 - mse: 8.2760 - val_loss: 1.5921 - val_mae: 1.5921 - val_mse: 6.1486\n",
            "Epoch 42/300\n",
            "10/10 [==============================] - 0s 4ms/step - loss: 1.8621 - mae: 1.8621 - mse: 8.2903 - val_loss: 1.5931 - val_mae: 1.5931 - val_mse: 6.1761\n",
            "Epoch 43/300\n",
            "10/10 [==============================] - 0s 4ms/step - loss: 1.8553 - mae: 1.8553 - mse: 8.3157 - val_loss: 1.5948 - val_mae: 1.5948 - val_mse: 6.2022\n",
            "Epoch 44/300\n",
            "10/10 [==============================] - 0s 4ms/step - loss: 1.8505 - mae: 1.8505 - mse: 8.3331 - val_loss: 1.5972 - val_mae: 1.5972 - val_mse: 6.2256\n",
            "Epoch 45/300\n",
            "10/10 [==============================] - 0s 4ms/step - loss: 1.8481 - mae: 1.8481 - mse: 8.3479 - val_loss: 1.6003 - val_mae: 1.6003 - val_mse: 6.2448\n",
            "Epoch 46/300\n",
            "10/10 [==============================] - 0s 5ms/step - loss: 1.8472 - mae: 1.8472 - mse: 8.3614 - val_loss: 1.6029 - val_mae: 1.6029 - val_mse: 6.2566\n",
            "Epoch 47/300\n",
            "10/10 [==============================] - 0s 4ms/step - loss: 1.8468 - mae: 1.8468 - mse: 8.3681 - val_loss: 1.6044 - val_mae: 1.6044 - val_mse: 6.2633\n",
            "Epoch 48/300\n",
            "10/10 [==============================] - 0s 4ms/step - loss: 1.8471 - mae: 1.8471 - mse: 8.3758 - val_loss: 1.6058 - val_mae: 1.6058 - val_mse: 6.2690\n",
            "Epoch 49/300\n",
            "10/10 [==============================] - 0s 4ms/step - loss: 1.8469 - mae: 1.8469 - mse: 8.3762 - val_loss: 1.6049 - val_mae: 1.6049 - val_mse: 6.2651\n",
            "Epoch 50/300\n",
            "10/10 [==============================] - 0s 4ms/step - loss: 1.8470 - mae: 1.8470 - mse: 8.3702 - val_loss: 1.6033 - val_mae: 1.6033 - val_mse: 6.2577\n",
            "Epoch 51/300\n",
            "10/10 [==============================] - 0s 4ms/step - loss: 1.8468 - mae: 1.8468 - mse: 8.3688 - val_loss: 1.6044 - val_mae: 1.6044 - val_mse: 6.2624\n",
            "Epoch 52/300\n",
            "10/10 [==============================] - 0s 3ms/step - loss: 1.8466 - mae: 1.8466 - mse: 8.3710 - val_loss: 1.6049 - val_mae: 1.6049 - val_mse: 6.2644\n",
            "Epoch 53/300\n",
            "10/10 [==============================] - 0s 3ms/step - loss: 1.8466 - mae: 1.8466 - mse: 8.3722 - val_loss: 1.6045 - val_mae: 1.6045 - val_mse: 6.2624\n",
            "Epoch 54/300\n",
            "10/10 [==============================] - 0s 3ms/step - loss: 1.8468 - mae: 1.8468 - mse: 8.3736 - val_loss: 1.6046 - val_mae: 1.6046 - val_mse: 6.2629\n",
            "Epoch 55/300\n",
            "10/10 [==============================] - 0s 3ms/step - loss: 1.8465 - mae: 1.8465 - mse: 8.3697 - val_loss: 1.6040 - val_mae: 1.6040 - val_mse: 6.2599\n",
            "Epoch 56/300\n",
            "10/10 [==============================] - 0s 5ms/step - loss: 1.8465 - mae: 1.8465 - mse: 8.3692 - val_loss: 1.6044 - val_mae: 1.6044 - val_mse: 6.2615\n",
            "Epoch 57/300\n",
            "10/10 [==============================] - 0s 4ms/step - loss: 1.8465 - mae: 1.8465 - mse: 8.3684 - val_loss: 1.6038 - val_mae: 1.6038 - val_mse: 6.2584\n",
            "Epoch 58/300\n",
            "10/10 [==============================] - 0s 3ms/step - loss: 1.8466 - mae: 1.8466 - mse: 8.3714 - val_loss: 1.6051 - val_mae: 1.6051 - val_mse: 6.2640\n",
            "Epoch 59/300\n",
            "10/10 [==============================] - 0s 3ms/step - loss: 1.8465 - mae: 1.8465 - mse: 8.3692 - val_loss: 1.6037 - val_mae: 1.6037 - val_mse: 6.2575\n",
            "Epoch 60/300\n",
            "10/10 [==============================] - 0s 4ms/step - loss: 1.8464 - mae: 1.8464 - mse: 8.3688 - val_loss: 1.6046 - val_mae: 1.6046 - val_mse: 6.2611\n",
            "Epoch 61/300\n",
            "10/10 [==============================] - 0s 3ms/step - loss: 1.8465 - mae: 1.8465 - mse: 8.3712 - val_loss: 1.6046 - val_mae: 1.6046 - val_mse: 6.2612\n",
            "Epoch 62/300\n",
            "10/10 [==============================] - 0s 4ms/step - loss: 1.8463 - mae: 1.8463 - mse: 8.3670 - val_loss: 1.6027 - val_mae: 1.6027 - val_mse: 6.2522\n",
            "Epoch 63/300\n",
            "10/10 [==============================] - 0s 3ms/step - loss: 1.8464 - mae: 1.8464 - mse: 8.3625 - val_loss: 1.6031 - val_mae: 1.6031 - val_mse: 6.2538\n",
            "Epoch 64/300\n",
            "10/10 [==============================] - 0s 3ms/step - loss: 1.8464 - mae: 1.8464 - mse: 8.3672 - val_loss: 1.6048 - val_mae: 1.6048 - val_mse: 6.2612\n",
            "Epoch 65/300\n",
            "10/10 [==============================] - 0s 3ms/step - loss: 1.8461 - mae: 1.8461 - mse: 8.3680 - val_loss: 1.6037 - val_mae: 1.6037 - val_mse: 6.2562\n",
            "Epoch 66/300\n",
            "10/10 [==============================] - 0s 4ms/step - loss: 1.8461 - mae: 1.8461 - mse: 8.3665 - val_loss: 1.6042 - val_mae: 1.6042 - val_mse: 6.2581\n",
            "Epoch 67/300\n",
            "10/10 [==============================] - 0s 4ms/step - loss: 1.8461 - mae: 1.8461 - mse: 8.3684 - val_loss: 1.6043 - val_mae: 1.6043 - val_mse: 6.2584\n",
            "Epoch 68/300\n",
            "10/10 [==============================] - 0s 4ms/step - loss: 1.8459 - mae: 1.8459 - mse: 8.3663 - val_loss: 1.6039 - val_mae: 1.6039 - val_mse: 6.2561\n",
            "Epoch 69/300\n",
            "10/10 [==============================] - 0s 3ms/step - loss: 1.8458 - mae: 1.8458 - mse: 8.3660 - val_loss: 1.6038 - val_mae: 1.6038 - val_mse: 6.2554\n",
            "Epoch 70/300\n",
            "10/10 [==============================] - 0s 4ms/step - loss: 1.8458 - mae: 1.8458 - mse: 8.3653 - val_loss: 1.6039 - val_mae: 1.6039 - val_mse: 6.2556\n",
            "Epoch 71/300\n",
            "10/10 [==============================] - 0s 4ms/step - loss: 1.8460 - mae: 1.8460 - mse: 8.3628 - val_loss: 1.6032 - val_mae: 1.6032 - val_mse: 6.2522\n",
            "Epoch 72/300\n",
            "10/10 [==============================] - 0s 4ms/step - loss: 1.8457 - mae: 1.8457 - mse: 8.3632 - val_loss: 1.6042 - val_mae: 1.6042 - val_mse: 6.2566\n",
            "Epoch 73/300\n",
            "10/10 [==============================] - 0s 4ms/step - loss: 1.8462 - mae: 1.8462 - mse: 8.3700 - val_loss: 1.6045 - val_mae: 1.6045 - val_mse: 6.2576\n",
            "Epoch 74/300\n",
            "10/10 [==============================] - 0s 4ms/step - loss: 1.8459 - mae: 1.8459 - mse: 8.3625 - val_loss: 1.6027 - val_mae: 1.6027 - val_mse: 6.2489\n",
            "Epoch 75/300\n",
            "10/10 [==============================] - 0s 4ms/step - loss: 1.8457 - mae: 1.8457 - mse: 8.3612 - val_loss: 1.6036 - val_mae: 1.6036 - val_mse: 6.2529\n",
            "Epoch 76/300\n",
            "10/10 [==============================] - 0s 4ms/step - loss: 1.8455 - mae: 1.8455 - mse: 8.3641 - val_loss: 1.6044 - val_mae: 1.6044 - val_mse: 6.2563\n",
            "Epoch 77/300\n",
            "10/10 [==============================] - 0s 4ms/step - loss: 1.8456 - mae: 1.8456 - mse: 8.3658 - val_loss: 1.6037 - val_mae: 1.6037 - val_mse: 6.2529\n",
            "Epoch 78/300\n",
            "10/10 [==============================] - 0s 4ms/step - loss: 1.8454 - mae: 1.8454 - mse: 8.3623 - val_loss: 1.6031 - val_mae: 1.6031 - val_mse: 6.2498\n",
            "Epoch 79/300\n",
            "10/10 [==============================] - 0s 4ms/step - loss: 1.8454 - mae: 1.8454 - mse: 8.3600 - val_loss: 1.6031 - val_mae: 1.6031 - val_mse: 6.2495\n",
            "Epoch 80/300\n",
            "10/10 [==============================] - 0s 4ms/step - loss: 1.8457 - mae: 1.8457 - mse: 8.3650 - val_loss: 1.6047 - val_mae: 1.6047 - val_mse: 6.2566\n",
            "Epoch 81/300\n",
            "10/10 [==============================] - 0s 4ms/step - loss: 1.8457 - mae: 1.8457 - mse: 8.3631 - val_loss: 1.6026 - val_mae: 1.6026 - val_mse: 6.2469\n",
            "Epoch 82/300\n",
            "10/10 [==============================] - 0s 4ms/step - loss: 1.8452 - mae: 1.8452 - mse: 8.3590 - val_loss: 1.6035 - val_mae: 1.6035 - val_mse: 6.2509\n",
            "Epoch 83/300\n",
            "10/10 [==============================] - 0s 4ms/step - loss: 1.8452 - mae: 1.8452 - mse: 8.3625 - val_loss: 1.6043 - val_mae: 1.6043 - val_mse: 6.2536\n",
            "Epoch 84/300\n",
            "10/10 [==============================] - 0s 4ms/step - loss: 1.8455 - mae: 1.8455 - mse: 8.3608 - val_loss: 1.6025 - val_mae: 1.6025 - val_mse: 6.2456\n",
            "Epoch 85/300\n",
            "10/10 [==============================] - 0s 4ms/step - loss: 1.8451 - mae: 1.8451 - mse: 8.3580 - val_loss: 1.6033 - val_mae: 1.6033 - val_mse: 6.2492\n",
            "Epoch 86/300\n",
            "10/10 [==============================] - 0s 4ms/step - loss: 1.8450 - mae: 1.8450 - mse: 8.3611 - val_loss: 1.6038 - val_mae: 1.6038 - val_mse: 6.2507\n",
            "Epoch 87/300\n",
            "10/10 [==============================] - 0s 4ms/step - loss: 1.8450 - mae: 1.8450 - mse: 8.3609 - val_loss: 1.6028 - val_mae: 1.6028 - val_mse: 6.2461\n",
            "Epoch 88/300\n",
            "10/10 [==============================] - 0s 5ms/step - loss: 1.8449 - mae: 1.8449 - mse: 8.3583 - val_loss: 1.6033 - val_mae: 1.6033 - val_mse: 6.2480\n",
            "Epoch 89/300\n",
            "10/10 [==============================] - 0s 4ms/step - loss: 1.8449 - mae: 1.8449 - mse: 8.3596 - val_loss: 1.6032 - val_mae: 1.6032 - val_mse: 6.2475\n",
            "Epoch 90/300\n",
            "10/10 [==============================] - 0s 3ms/step - loss: 1.8449 - mae: 1.8449 - mse: 8.3583 - val_loss: 1.6035 - val_mae: 1.6035 - val_mse: 6.2485\n",
            "Epoch 91/300\n",
            "10/10 [==============================] - 0s 4ms/step - loss: 1.8447 - mae: 1.8447 - mse: 8.3594 - val_loss: 1.6033 - val_mae: 1.6033 - val_mse: 6.2473\n",
            "Epoch 92/300\n",
            "10/10 [==============================] - 0s 4ms/step - loss: 1.8446 - mae: 1.8446 - mse: 8.3566 - val_loss: 1.6025 - val_mae: 1.6025 - val_mse: 6.2433\n",
            "Epoch 93/300\n",
            "10/10 [==============================] - 0s 5ms/step - loss: 1.8447 - mae: 1.8447 - mse: 8.3556 - val_loss: 1.6035 - val_mae: 1.6035 - val_mse: 6.2474\n",
            "Epoch 94/300\n",
            "10/10 [==============================] - 0s 4ms/step - loss: 1.8446 - mae: 1.8446 - mse: 8.3574 - val_loss: 1.6032 - val_mae: 1.6032 - val_mse: 6.2461\n",
            "Epoch 95/300\n",
            "10/10 [==============================] - 0s 4ms/step - loss: 1.8449 - mae: 1.8449 - mse: 8.3619 - val_loss: 1.6039 - val_mae: 1.6039 - val_mse: 6.2487\n",
            "Epoch 96/300\n",
            "10/10 [==============================] - 0s 4ms/step - loss: 1.8444 - mae: 1.8444 - mse: 8.3559 - val_loss: 1.6022 - val_mae: 1.6022 - val_mse: 6.2405\n",
            "Epoch 97/300\n",
            "10/10 [==============================] - 0s 4ms/step - loss: 1.8446 - mae: 1.8446 - mse: 8.3545 - val_loss: 1.6023 - val_mae: 1.6023 - val_mse: 6.2409\n",
            "Epoch 98/300\n",
            "10/10 [==============================] - 0s 5ms/step - loss: 1.8445 - mae: 1.8445 - mse: 8.3545 - val_loss: 1.6033 - val_mae: 1.6033 - val_mse: 6.2449\n",
            "Epoch 99/300\n",
            "10/10 [==============================] - 0s 4ms/step - loss: 1.8453 - mae: 1.8453 - mse: 8.3549 - val_loss: 1.6013 - val_mae: 1.6013 - val_mse: 6.2357\n",
            "Epoch 100/300\n",
            "10/10 [==============================] - 0s 4ms/step - loss: 1.8442 - mae: 1.8442 - mse: 8.3541 - val_loss: 1.6035 - val_mae: 1.6035 - val_mse: 6.2452\n",
            "Epoch 101/300\n",
            "10/10 [==============================] - 0s 4ms/step - loss: 1.8442 - mae: 1.8442 - mse: 8.3564 - val_loss: 1.6030 - val_mae: 1.6030 - val_mse: 6.2428\n",
            "Epoch 102/300\n",
            "10/10 [==============================] - 0s 4ms/step - loss: 1.8442 - mae: 1.8442 - mse: 8.3528 - val_loss: 1.6024 - val_mae: 1.6024 - val_mse: 6.2396\n",
            "Epoch 103/300\n",
            "10/10 [==============================] - 0s 3ms/step - loss: 1.8445 - mae: 1.8445 - mse: 8.3586 - val_loss: 1.6043 - val_mae: 1.6043 - val_mse: 6.2475\n",
            "Epoch 104/300\n",
            "10/10 [==============================] - 0s 4ms/step - loss: 1.8446 - mae: 1.8446 - mse: 8.3515 - val_loss: 1.6014 - val_mae: 1.6014 - val_mse: 6.2346\n",
            "Epoch 105/300\n",
            "10/10 [==============================] - 0s 4ms/step - loss: 1.8439 - mae: 1.8439 - mse: 8.3515 - val_loss: 1.6032 - val_mae: 1.6032 - val_mse: 6.2425\n",
            "Epoch 106/300\n",
            "10/10 [==============================] - 0s 4ms/step - loss: 1.8439 - mae: 1.8439 - mse: 8.3550 - val_loss: 1.6031 - val_mae: 1.6031 - val_mse: 6.2417\n",
            "Epoch 107/300\n",
            "10/10 [==============================] - 0s 4ms/step - loss: 1.8437 - mae: 1.8437 - mse: 8.3513 - val_loss: 1.6021 - val_mae: 1.6021 - val_mse: 6.2366\n",
            "Epoch 108/300\n",
            "10/10 [==============================] - 0s 4ms/step - loss: 1.8437 - mae: 1.8437 - mse: 8.3515 - val_loss: 1.6027 - val_mae: 1.6027 - val_mse: 6.2392\n",
            "Epoch 109/300\n",
            "10/10 [==============================] - 0s 4ms/step - loss: 1.8440 - mae: 1.8440 - mse: 8.3543 - val_loss: 1.6025 - val_mae: 1.6025 - val_mse: 6.2381\n",
            "Epoch 110/300\n",
            "10/10 [==============================] - 0s 4ms/step - loss: 1.8436 - mae: 1.8436 - mse: 8.3494 - val_loss: 1.6017 - val_mae: 1.6017 - val_mse: 6.2341\n",
            "Epoch 111/300\n",
            "10/10 [==============================] - 0s 4ms/step - loss: 1.8438 - mae: 1.8438 - mse: 8.3463 - val_loss: 1.6016 - val_mae: 1.6016 - val_mse: 6.2332\n",
            "Epoch 112/300\n",
            "10/10 [==============================] - 0s 3ms/step - loss: 1.8439 - mae: 1.8439 - mse: 8.3537 - val_loss: 1.6035 - val_mae: 1.6035 - val_mse: 6.2411\n",
            "Epoch 113/300\n",
            "10/10 [==============================] - 0s 4ms/step - loss: 1.8437 - mae: 1.8437 - mse: 8.3482 - val_loss: 1.6017 - val_mae: 1.6017 - val_mse: 6.2330\n",
            "Epoch 114/300\n",
            "10/10 [==============================] - 0s 4ms/step - loss: 1.8434 - mae: 1.8434 - mse: 8.3496 - val_loss: 1.6035 - val_mae: 1.6035 - val_mse: 6.2407\n",
            "Epoch 115/300\n",
            "10/10 [==============================] - 0s 4ms/step - loss: 1.8438 - mae: 1.8438 - mse: 8.3579 - val_loss: 1.6043 - val_mae: 1.6043 - val_mse: 6.2437\n",
            "Epoch 116/300\n",
            "10/10 [==============================] - 0s 4ms/step - loss: 1.8437 - mae: 1.8437 - mse: 8.3488 - val_loss: 1.6006 - val_mae: 1.6006 - val_mse: 6.2268\n",
            "Epoch 117/300\n",
            "10/10 [==============================] - 0s 4ms/step - loss: 1.8433 - mae: 1.8433 - mse: 8.3410 - val_loss: 1.6005 - val_mae: 1.6005 - val_mse: 6.2260\n",
            "Epoch 118/300\n",
            "10/10 [==============================] - 0s 4ms/step - loss: 1.8435 - mae: 1.8435 - mse: 8.3423 - val_loss: 1.6005 - val_mae: 1.6005 - val_mse: 6.2257\n",
            "Epoch 119/300\n",
            "10/10 [==============================] - 0s 4ms/step - loss: 1.8431 - mae: 1.8431 - mse: 8.3434 - val_loss: 1.6026 - val_mae: 1.6026 - val_mse: 6.2350\n",
            "Epoch 120/300\n",
            "10/10 [==============================] - 0s 4ms/step - loss: 1.8431 - mae: 1.8431 - mse: 8.3507 - val_loss: 1.6033 - val_mae: 1.6033 - val_mse: 6.2378\n",
            "Epoch 121/300\n",
            "10/10 [==============================] - 0s 3ms/step - loss: 1.8428 - mae: 1.8428 - mse: 8.3480 - val_loss: 1.6017 - val_mae: 1.6017 - val_mse: 6.2305\n",
            "Epoch 122/300\n",
            "10/10 [==============================] - 0s 4ms/step - loss: 1.8430 - mae: 1.8430 - mse: 8.3423 - val_loss: 1.6004 - val_mae: 1.6004 - val_mse: 6.2243\n",
            "Epoch 123/300\n",
            "10/10 [==============================] - 0s 3ms/step - loss: 1.8429 - mae: 1.8429 - mse: 8.3416 - val_loss: 1.6020 - val_mae: 1.6020 - val_mse: 6.2310\n",
            "Epoch 124/300\n",
            "10/10 [==============================] - 0s 4ms/step - loss: 1.8427 - mae: 1.8427 - mse: 8.3439 - val_loss: 1.6019 - val_mae: 1.6019 - val_mse: 6.2305\n",
            "Epoch 125/300\n",
            "10/10 [==============================] - 0s 4ms/step - loss: 1.8426 - mae: 1.8426 - mse: 8.3452 - val_loss: 1.6017 - val_mae: 1.6017 - val_mse: 6.2293\n",
            "Epoch 126/300\n",
            "10/10 [==============================] - 0s 4ms/step - loss: 1.8426 - mae: 1.8426 - mse: 8.3432 - val_loss: 1.6018 - val_mae: 1.6018 - val_mse: 6.2294\n",
            "Epoch 127/300\n",
            "10/10 [==============================] - 0s 5ms/step - loss: 1.8424 - mae: 1.8424 - mse: 8.3438 - val_loss: 1.6017 - val_mae: 1.6017 - val_mse: 6.2286\n",
            "Epoch 128/300\n",
            "10/10 [==============================] - 0s 4ms/step - loss: 1.8425 - mae: 1.8425 - mse: 8.3416 - val_loss: 1.6012 - val_mae: 1.6012 - val_mse: 6.2260\n",
            "Epoch 129/300\n",
            "10/10 [==============================] - 0s 5ms/step - loss: 1.8425 - mae: 1.8425 - mse: 8.3440 - val_loss: 1.6017 - val_mae: 1.6017 - val_mse: 6.2276\n",
            "Epoch 130/300\n",
            "10/10 [==============================] - 0s 6ms/step - loss: 1.8422 - mae: 1.8422 - mse: 8.3397 - val_loss: 1.6006 - val_mae: 1.6006 - val_mse: 6.2221\n",
            "Epoch 131/300\n",
            "10/10 [==============================] - 0s 4ms/step - loss: 1.8427 - mae: 1.8427 - mse: 8.3438 - val_loss: 1.6026 - val_mae: 1.6026 - val_mse: 6.2306\n",
            "Epoch 132/300\n",
            "10/10 [==============================] - 0s 4ms/step - loss: 1.8423 - mae: 1.8423 - mse: 8.3413 - val_loss: 1.6005 - val_mae: 1.6005 - val_mse: 6.2210\n",
            "Epoch 133/300\n",
            "10/10 [==============================] - 0s 4ms/step - loss: 1.8422 - mae: 1.8422 - mse: 8.3383 - val_loss: 1.6008 - val_mae: 1.6008 - val_mse: 6.2222\n",
            "Epoch 134/300\n",
            "10/10 [==============================] - 0s 4ms/step - loss: 1.8421 - mae: 1.8421 - mse: 8.3410 - val_loss: 1.6019 - val_mae: 1.6019 - val_mse: 6.2269\n",
            "Epoch 135/300\n",
            "10/10 [==============================] - 0s 4ms/step - loss: 1.8419 - mae: 1.8419 - mse: 8.3408 - val_loss: 1.6012 - val_mae: 1.6012 - val_mse: 6.2233\n",
            "Epoch 136/300\n",
            "10/10 [==============================] - 0s 4ms/step - loss: 1.8418 - mae: 1.8418 - mse: 8.3378 - val_loss: 1.6009 - val_mae: 1.6009 - val_mse: 6.2218\n",
            "Epoch 137/300\n",
            "10/10 [==============================] - 0s 5ms/step - loss: 1.8418 - mae: 1.8418 - mse: 8.3399 - val_loss: 1.6013 - val_mae: 1.6013 - val_mse: 6.2233\n",
            "Epoch 138/300\n",
            "10/10 [==============================] - 0s 5ms/step - loss: 1.8416 - mae: 1.8416 - mse: 8.3383 - val_loss: 1.6006 - val_mae: 1.6006 - val_mse: 6.2197\n",
            "Epoch 139/300\n",
            "10/10 [==============================] - 0s 4ms/step - loss: 1.8421 - mae: 1.8421 - mse: 8.3323 - val_loss: 1.5994 - val_mae: 1.5994 - val_mse: 6.2135\n",
            "Epoch 140/300\n",
            "10/10 [==============================] - 0s 4ms/step - loss: 1.8418 - mae: 1.8418 - mse: 8.3304 - val_loss: 1.6000 - val_mae: 1.6000 - val_mse: 6.2160\n",
            "Epoch 141/300\n",
            "10/10 [==============================] - 0s 4ms/step - loss: 1.8415 - mae: 1.8415 - mse: 8.3331 - val_loss: 1.6009 - val_mae: 1.6009 - val_mse: 6.2198\n",
            "Epoch 142/300\n",
            "10/10 [==============================] - 0s 4ms/step - loss: 1.8417 - mae: 1.8417 - mse: 8.3421 - val_loss: 1.6041 - val_mae: 1.6041 - val_mse: 6.2332\n",
            "Epoch 143/300\n",
            "10/10 [==============================] - 0s 4ms/step - loss: 1.8418 - mae: 1.8418 - mse: 8.3427 - val_loss: 1.6017 - val_mae: 1.6017 - val_mse: 6.2225\n",
            "Epoch 144/300\n",
            "10/10 [==============================] - 0s 4ms/step - loss: 1.8415 - mae: 1.8415 - mse: 8.3345 - val_loss: 1.5998 - val_mae: 1.5998 - val_mse: 6.2138\n",
            "Epoch 145/300\n",
            "10/10 [==============================] - 0s 4ms/step - loss: 1.8414 - mae: 1.8414 - mse: 8.3359 - val_loss: 1.6013 - val_mae: 1.6013 - val_mse: 6.2202\n",
            "Epoch 146/300\n",
            "10/10 [==============================] - 0s 4ms/step - loss: 1.8411 - mae: 1.8411 - mse: 8.3344 - val_loss: 1.6007 - val_mae: 1.6007 - val_mse: 6.2174\n",
            "Epoch 147/300\n",
            "10/10 [==============================] - 0s 4ms/step - loss: 1.8410 - mae: 1.8410 - mse: 8.3337 - val_loss: 1.6007 - val_mae: 1.6007 - val_mse: 6.2170\n",
            "Epoch 148/300\n",
            "10/10 [==============================] - 0s 4ms/step - loss: 1.8410 - mae: 1.8410 - mse: 8.3326 - val_loss: 1.6002 - val_mae: 1.6002 - val_mse: 6.2143\n",
            "Epoch 149/300\n",
            "10/10 [==============================] - 0s 4ms/step - loss: 1.8408 - mae: 1.8408 - mse: 8.3342 - val_loss: 1.6014 - val_mae: 1.6014 - val_mse: 6.2192\n",
            "Epoch 150/300\n",
            "10/10 [==============================] - 0s 4ms/step - loss: 1.8409 - mae: 1.8409 - mse: 8.3356 - val_loss: 1.6009 - val_mae: 1.6009 - val_mse: 6.2164\n",
            "Epoch 151/300\n",
            "10/10 [==============================] - 0s 5ms/step - loss: 1.8408 - mae: 1.8408 - mse: 8.3295 - val_loss: 1.5996 - val_mae: 1.5996 - val_mse: 6.2105\n",
            "Epoch 152/300\n",
            "10/10 [==============================] - 0s 5ms/step - loss: 1.8407 - mae: 1.8407 - mse: 8.3317 - val_loss: 1.6007 - val_mae: 1.6007 - val_mse: 6.2151\n",
            "Epoch 153/300\n",
            "10/10 [==============================] - 0s 4ms/step - loss: 1.8407 - mae: 1.8407 - mse: 8.3278 - val_loss: 1.5990 - val_mae: 1.5990 - val_mse: 6.2066\n",
            "Epoch 154/300\n",
            "10/10 [==============================] - 0s 5ms/step - loss: 1.8406 - mae: 1.8406 - mse: 8.3271 - val_loss: 1.6001 - val_mae: 1.6001 - val_mse: 6.2114\n",
            "Epoch 155/300\n",
            "10/10 [==============================] - 0s 4ms/step - loss: 1.8404 - mae: 1.8404 - mse: 8.3307 - val_loss: 1.6005 - val_mae: 1.6005 - val_mse: 6.2132\n",
            "Epoch 156/300\n",
            "10/10 [==============================] - 0s 5ms/step - loss: 1.8404 - mae: 1.8404 - mse: 8.3306 - val_loss: 1.5999 - val_mae: 1.5999 - val_mse: 6.2097\n",
            "Epoch 157/300\n",
            "10/10 [==============================] - 0s 4ms/step - loss: 1.8405 - mae: 1.8405 - mse: 8.3325 - val_loss: 1.6008 - val_mae: 1.6008 - val_mse: 6.2135\n",
            "Epoch 158/300\n",
            "10/10 [==============================] - 0s 4ms/step - loss: 1.8401 - mae: 1.8401 - mse: 8.3293 - val_loss: 1.5996 - val_mae: 1.5996 - val_mse: 6.2079\n",
            "Epoch 159/300\n",
            "10/10 [==============================] - 0s 4ms/step - loss: 1.8406 - mae: 1.8406 - mse: 8.3246 - val_loss: 1.5981 - val_mae: 1.5981 - val_mse: 6.2005\n",
            "Epoch 160/300\n",
            "10/10 [==============================] - 0s 5ms/step - loss: 1.8401 - mae: 1.8401 - mse: 8.3225 - val_loss: 1.6003 - val_mae: 1.6003 - val_mse: 6.2101\n",
            "Epoch 161/300\n",
            "10/10 [==============================] - 0s 4ms/step - loss: 1.8402 - mae: 1.8402 - mse: 8.3305 - val_loss: 1.6000 - val_mae: 1.6000 - val_mse: 6.2086\n",
            "Epoch 162/300\n",
            "10/10 [==============================] - 0s 4ms/step - loss: 1.8406 - mae: 1.8406 - mse: 8.3246 - val_loss: 1.5991 - val_mae: 1.5991 - val_mse: 6.2041\n",
            "Epoch 163/300\n",
            "10/10 [==============================] - 0s 5ms/step - loss: 1.8396 - mae: 1.8396 - mse: 8.3252 - val_loss: 1.6012 - val_mae: 1.6012 - val_mse: 6.2130\n",
            "Epoch 164/300\n",
            "10/10 [==============================] - 0s 4ms/step - loss: 1.8402 - mae: 1.8402 - mse: 8.3340 - val_loss: 1.6016 - val_mae: 1.6016 - val_mse: 6.2141\n",
            "Epoch 165/300\n",
            "10/10 [==============================] - 0s 4ms/step - loss: 1.8398 - mae: 1.8398 - mse: 8.3240 - val_loss: 1.5979 - val_mae: 1.5979 - val_mse: 6.1974\n",
            "Epoch 166/300\n",
            "10/10 [==============================] - 0s 4ms/step - loss: 1.8398 - mae: 1.8398 - mse: 8.3189 - val_loss: 1.5990 - val_mae: 1.5990 - val_mse: 6.2018\n",
            "Epoch 167/300\n",
            "10/10 [==============================] - 0s 4ms/step - loss: 1.8397 - mae: 1.8397 - mse: 8.3210 - val_loss: 1.5996 - val_mae: 1.5996 - val_mse: 6.2042\n",
            "Epoch 168/300\n",
            "10/10 [==============================] - 0s 4ms/step - loss: 1.8397 - mae: 1.8397 - mse: 8.3290 - val_loss: 1.6012 - val_mae: 1.6012 - val_mse: 6.2108\n",
            "Epoch 169/300\n",
            "10/10 [==============================] - 0s 4ms/step - loss: 1.8394 - mae: 1.8394 - mse: 8.3240 - val_loss: 1.5985 - val_mae: 1.5985 - val_mse: 6.1987\n",
            "Epoch 170/300\n",
            "10/10 [==============================] - 0s 4ms/step - loss: 1.8395 - mae: 1.8395 - mse: 8.3216 - val_loss: 1.6004 - val_mae: 1.6004 - val_mse: 6.2067\n",
            "Epoch 171/300\n",
            "10/10 [==============================] - 0s 4ms/step - loss: 1.8397 - mae: 1.8397 - mse: 8.3228 - val_loss: 1.5985 - val_mae: 1.5985 - val_mse: 6.1975\n",
            "Epoch 172/300\n",
            "10/10 [==============================] - 0s 4ms/step - loss: 1.8394 - mae: 1.8394 - mse: 8.3226 - val_loss: 1.5996 - val_mae: 1.5996 - val_mse: 6.2023\n",
            "Epoch 173/300\n",
            "10/10 [==============================] - 0s 4ms/step - loss: 1.8391 - mae: 1.8391 - mse: 8.3240 - val_loss: 1.6006 - val_mae: 1.6006 - val_mse: 6.2061\n",
            "Epoch 174/300\n",
            "10/10 [==============================] - 0s 4ms/step - loss: 1.8393 - mae: 1.8393 - mse: 8.3227 - val_loss: 1.5984 - val_mae: 1.5984 - val_mse: 6.1962\n",
            "Epoch 175/300\n",
            "10/10 [==============================] - 0s 4ms/step - loss: 1.8391 - mae: 1.8391 - mse: 8.3218 - val_loss: 1.5996 - val_mae: 1.5996 - val_mse: 6.2012\n",
            "Epoch 176/300\n",
            "10/10 [==============================] - 0s 4ms/step - loss: 1.8388 - mae: 1.8388 - mse: 8.3199 - val_loss: 1.5988 - val_mae: 1.5988 - val_mse: 6.1973\n",
            "Epoch 177/300\n",
            "10/10 [==============================] - 0s 4ms/step - loss: 1.8391 - mae: 1.8391 - mse: 8.3143 - val_loss: 1.5972 - val_mae: 1.5972 - val_mse: 6.1892\n",
            "Epoch 178/300\n",
            "10/10 [==============================] - 0s 4ms/step - loss: 1.8388 - mae: 1.8388 - mse: 8.3176 - val_loss: 1.5990 - val_mae: 1.5990 - val_mse: 6.1974\n",
            "Epoch 179/300\n",
            "10/10 [==============================] - 0s 5ms/step - loss: 1.8386 - mae: 1.8386 - mse: 8.3195 - val_loss: 1.5995 - val_mae: 1.5995 - val_mse: 6.1992\n",
            "Epoch 180/300\n",
            "10/10 [==============================] - 0s 4ms/step - loss: 1.8386 - mae: 1.8386 - mse: 8.3186 - val_loss: 1.5976 - val_mae: 1.5976 - val_mse: 6.1902\n",
            "Epoch 181/300\n",
            "10/10 [==============================] - 0s 4ms/step - loss: 1.8385 - mae: 1.8385 - mse: 8.3132 - val_loss: 1.5987 - val_mae: 1.5987 - val_mse: 6.1949\n",
            "Epoch 182/300\n",
            "10/10 [==============================] - 0s 5ms/step - loss: 1.8390 - mae: 1.8390 - mse: 8.3232 - val_loss: 1.5993 - val_mae: 1.5993 - val_mse: 6.1974\n",
            "Epoch 183/300\n",
            "10/10 [==============================] - 0s 4ms/step - loss: 1.8386 - mae: 1.8386 - mse: 8.3133 - val_loss: 1.5969 - val_mae: 1.5969 - val_mse: 6.1858\n",
            "Epoch 184/300\n",
            "10/10 [==============================] - 0s 5ms/step - loss: 1.8382 - mae: 1.8382 - mse: 8.3134 - val_loss: 1.5992 - val_mae: 1.5992 - val_mse: 6.1958\n",
            "Epoch 185/300\n",
            "10/10 [==============================] - 0s 4ms/step - loss: 1.8382 - mae: 1.8382 - mse: 8.3182 - val_loss: 1.5992 - val_mae: 1.5992 - val_mse: 6.1956\n",
            "Epoch 186/300\n",
            "10/10 [==============================] - 0s 4ms/step - loss: 1.8390 - mae: 1.8390 - mse: 8.3117 - val_loss: 1.5971 - val_mae: 1.5971 - val_mse: 6.1854\n",
            "Epoch 187/300\n",
            "10/10 [==============================] - 0s 4ms/step - loss: 1.8377 - mae: 1.8377 - mse: 8.3135 - val_loss: 1.5991 - val_mae: 1.5991 - val_mse: 6.1944\n",
            "Epoch 188/300\n",
            "10/10 [==============================] - 0s 5ms/step - loss: 1.8381 - mae: 1.8381 - mse: 8.3126 - val_loss: 1.5971 - val_mae: 1.5971 - val_mse: 6.1847\n",
            "Epoch 189/300\n",
            "10/10 [==============================] - 0s 5ms/step - loss: 1.8378 - mae: 1.8378 - mse: 8.3066 - val_loss: 1.5978 - val_mae: 1.5978 - val_mse: 6.1879\n",
            "Epoch 190/300\n",
            "10/10 [==============================] - 0s 5ms/step - loss: 1.8380 - mae: 1.8380 - mse: 8.3171 - val_loss: 1.5998 - val_mae: 1.5998 - val_mse: 6.1962\n",
            "Epoch 191/300\n",
            "10/10 [==============================] - 0s 5ms/step - loss: 1.8378 - mae: 1.8378 - mse: 8.3128 - val_loss: 1.5978 - val_mae: 1.5978 - val_mse: 6.1870\n",
            "Epoch 192/300\n",
            "10/10 [==============================] - 0s 4ms/step - loss: 1.8374 - mae: 1.8374 - mse: 8.3120 - val_loss: 1.5988 - val_mae: 1.5988 - val_mse: 6.1913\n",
            "Epoch 193/300\n",
            "10/10 [==============================] - 0s 4ms/step - loss: 1.8379 - mae: 1.8379 - mse: 8.3080 - val_loss: 1.5975 - val_mae: 1.5975 - val_mse: 6.1850\n",
            "Epoch 194/300\n",
            "10/10 [==============================] - 0s 4ms/step - loss: 1.8374 - mae: 1.8374 - mse: 8.3123 - val_loss: 1.5989 - val_mae: 1.5989 - val_mse: 6.1907\n",
            "Epoch 195/300\n",
            "10/10 [==============================] - 0s 4ms/step - loss: 1.8373 - mae: 1.8373 - mse: 8.3103 - val_loss: 1.5983 - val_mae: 1.5983 - val_mse: 6.1877\n",
            "Epoch 196/300\n",
            "10/10 [==============================] - 0s 4ms/step - loss: 1.8372 - mae: 1.8372 - mse: 8.3101 - val_loss: 1.5978 - val_mae: 1.5978 - val_mse: 6.1851\n",
            "Epoch 197/300\n",
            "10/10 [==============================] - 0s 4ms/step - loss: 1.8373 - mae: 1.8373 - mse: 8.3130 - val_loss: 1.5983 - val_mae: 1.5983 - val_mse: 6.1871\n",
            "Epoch 198/300\n",
            "10/10 [==============================] - 0s 4ms/step - loss: 1.8368 - mae: 1.8368 - mse: 8.3092 - val_loss: 1.5972 - val_mae: 1.5972 - val_mse: 6.1816\n",
            "Epoch 199/300\n",
            "10/10 [==============================] - 0s 4ms/step - loss: 1.8369 - mae: 1.8369 - mse: 8.3054 - val_loss: 1.5972 - val_mae: 1.5972 - val_mse: 6.1809\n",
            "Epoch 200/300\n",
            "10/10 [==============================] - 0s 4ms/step - loss: 1.8368 - mae: 1.8368 - mse: 8.3069 - val_loss: 1.5975 - val_mae: 1.5975 - val_mse: 6.1824\n",
            "Epoch 201/300\n",
            "10/10 [==============================] - 0s 4ms/step - loss: 1.8374 - mae: 1.8374 - mse: 8.3027 - val_loss: 1.5961 - val_mae: 1.5961 - val_mse: 6.1746\n",
            "Epoch 202/300\n",
            "10/10 [==============================] - 0s 5ms/step - loss: 1.8373 - mae: 1.8373 - mse: 8.3108 - val_loss: 1.6002 - val_mae: 1.6002 - val_mse: 6.1924\n",
            "Epoch 203/300\n",
            "10/10 [==============================] - 0s 4ms/step - loss: 1.8363 - mae: 1.8363 - mse: 8.3083 - val_loss: 1.5970 - val_mae: 1.5970 - val_mse: 6.1788\n",
            "Epoch 204/300\n",
            "10/10 [==============================] - 0s 5ms/step - loss: 1.8372 - mae: 1.8372 - mse: 8.2970 - val_loss: 1.5957 - val_mae: 1.5957 - val_mse: 6.1709\n",
            "Epoch 205/300\n",
            "10/10 [==============================] - 0s 5ms/step - loss: 1.8364 - mae: 1.8364 - mse: 8.3017 - val_loss: 1.6000 - val_mae: 1.6000 - val_mse: 6.1907\n",
            "Epoch 206/300\n",
            "10/10 [==============================] - 0s 4ms/step - loss: 1.8371 - mae: 1.8371 - mse: 8.3145 - val_loss: 1.5980 - val_mae: 1.5980 - val_mse: 6.1821\n",
            "Epoch 207/300\n",
            "10/10 [==============================] - 0s 4ms/step - loss: 1.8370 - mae: 1.8370 - mse: 8.3017 - val_loss: 1.5965 - val_mae: 1.5965 - val_mse: 6.1752\n",
            "Epoch 208/300\n",
            "10/10 [==============================] - 0s 4ms/step - loss: 1.8362 - mae: 1.8362 - mse: 8.3001 - val_loss: 1.5976 - val_mae: 1.5976 - val_mse: 6.1796\n",
            "Epoch 209/300\n",
            "10/10 [==============================] - 0s 4ms/step - loss: 1.8361 - mae: 1.8361 - mse: 8.3062 - val_loss: 1.5985 - val_mae: 1.5985 - val_mse: 6.1832\n",
            "Epoch 210/300\n",
            "10/10 [==============================] - 0s 4ms/step - loss: 1.8364 - mae: 1.8364 - mse: 8.3005 - val_loss: 1.5962 - val_mae: 1.5962 - val_mse: 6.1724\n",
            "Epoch 211/300\n",
            "10/10 [==============================] - 0s 5ms/step - loss: 1.8357 - mae: 1.8357 - mse: 8.3006 - val_loss: 1.5980 - val_mae: 1.5980 - val_mse: 6.1805\n",
            "Epoch 212/300\n",
            "10/10 [==============================] - 0s 4ms/step - loss: 1.8362 - mae: 1.8362 - mse: 8.3062 - val_loss: 1.5972 - val_mae: 1.5972 - val_mse: 6.1767\n",
            "Epoch 213/300\n",
            "10/10 [==============================] - 0s 4ms/step - loss: 1.8362 - mae: 1.8362 - mse: 8.3007 - val_loss: 1.5979 - val_mae: 1.5979 - val_mse: 6.1790\n",
            "Epoch 214/300\n",
            "10/10 [==============================] - 0s 5ms/step - loss: 1.8359 - mae: 1.8359 - mse: 8.3040 - val_loss: 1.5965 - val_mae: 1.5965 - val_mse: 6.1726\n",
            "Epoch 215/300\n",
            "10/10 [==============================] - 0s 5ms/step - loss: 1.8355 - mae: 1.8355 - mse: 8.2989 - val_loss: 1.5973 - val_mae: 1.5973 - val_mse: 6.1757\n",
            "Epoch 216/300\n",
            "10/10 [==============================] - 0s 4ms/step - loss: 1.8360 - mae: 1.8360 - mse: 8.2988 - val_loss: 1.5958 - val_mae: 1.5958 - val_mse: 6.1679\n",
            "Epoch 217/300\n",
            "10/10 [==============================] - 0s 4ms/step - loss: 1.8357 - mae: 1.8357 - mse: 8.3020 - val_loss: 1.5983 - val_mae: 1.5983 - val_mse: 6.1789\n",
            "Epoch 218/300\n",
            "10/10 [==============================] - 0s 4ms/step - loss: 1.8357 - mae: 1.8357 - mse: 8.2962 - val_loss: 1.5954 - val_mae: 1.5954 - val_mse: 6.1649\n",
            "Epoch 219/300\n",
            "10/10 [==============================] - 0s 4ms/step - loss: 1.8354 - mae: 1.8354 - mse: 8.2979 - val_loss: 1.5984 - val_mae: 1.5984 - val_mse: 6.1786\n",
            "Epoch 220/300\n",
            "10/10 [==============================] - 0s 4ms/step - loss: 1.8350 - mae: 1.8350 - mse: 8.2997 - val_loss: 1.5957 - val_mae: 1.5957 - val_mse: 6.1663\n",
            "Epoch 221/300\n",
            "10/10 [==============================] - 0s 4ms/step - loss: 1.8354 - mae: 1.8354 - mse: 8.2958 - val_loss: 1.5964 - val_mae: 1.5964 - val_mse: 6.1695\n",
            "Epoch 222/300\n",
            "10/10 [==============================] - 0s 4ms/step - loss: 1.8350 - mae: 1.8350 - mse: 8.2955 - val_loss: 1.5958 - val_mae: 1.5958 - val_mse: 6.1664\n",
            "Epoch 223/300\n",
            "10/10 [==============================] - 0s 4ms/step - loss: 1.8348 - mae: 1.8348 - mse: 8.2949 - val_loss: 1.5968 - val_mae: 1.5968 - val_mse: 6.1704\n",
            "Epoch 224/300\n",
            "10/10 [==============================] - 0s 5ms/step - loss: 1.8349 - mae: 1.8349 - mse: 8.2974 - val_loss: 1.5955 - val_mae: 1.5955 - val_mse: 6.1638\n",
            "Epoch 225/300\n",
            "10/10 [==============================] - 0s 4ms/step - loss: 1.8348 - mae: 1.8348 - mse: 8.2913 - val_loss: 1.5965 - val_mae: 1.5965 - val_mse: 6.1684\n",
            "Epoch 226/300\n",
            "10/10 [==============================] - 0s 4ms/step - loss: 1.8345 - mae: 1.8345 - mse: 8.2944 - val_loss: 1.5968 - val_mae: 1.5968 - val_mse: 6.1695\n",
            "Epoch 227/300\n",
            "10/10 [==============================] - 0s 4ms/step - loss: 1.8348 - mae: 1.8348 - mse: 8.2961 - val_loss: 1.5972 - val_mae: 1.5972 - val_mse: 6.1704\n",
            "Epoch 228/300\n",
            "10/10 [==============================] - 0s 6ms/step - loss: 1.8345 - mae: 1.8345 - mse: 8.2918 - val_loss: 1.5958 - val_mae: 1.5958 - val_mse: 6.1639\n",
            "Epoch 229/300\n",
            "10/10 [==============================] - 0s 5ms/step - loss: 1.8345 - mae: 1.8345 - mse: 8.2961 - val_loss: 1.5964 - val_mae: 1.5964 - val_mse: 6.1664\n",
            "Epoch 230/300\n",
            "10/10 [==============================] - 0s 4ms/step - loss: 1.8344 - mae: 1.8344 - mse: 8.2885 - val_loss: 1.5958 - val_mae: 1.5958 - val_mse: 6.1635\n",
            "Epoch 231/300\n",
            "10/10 [==============================] - 0s 4ms/step - loss: 1.8342 - mae: 1.8342 - mse: 8.2942 - val_loss: 1.5964 - val_mae: 1.5964 - val_mse: 6.1656\n",
            "Epoch 232/300\n",
            "10/10 [==============================] - 0s 5ms/step - loss: 1.8341 - mae: 1.8341 - mse: 8.2890 - val_loss: 1.5961 - val_mae: 1.5961 - val_mse: 6.1642\n",
            "Epoch 233/300\n",
            "10/10 [==============================] - 0s 5ms/step - loss: 1.8341 - mae: 1.8341 - mse: 8.2931 - val_loss: 1.5958 - val_mae: 1.5958 - val_mse: 6.1625\n",
            "Epoch 234/300\n",
            "10/10 [==============================] - 0s 5ms/step - loss: 1.8341 - mae: 1.8341 - mse: 8.2877 - val_loss: 1.5965 - val_mae: 1.5965 - val_mse: 6.1652\n",
            "Epoch 235/300\n",
            "10/10 [==============================] - 0s 5ms/step - loss: 1.8339 - mae: 1.8339 - mse: 8.2929 - val_loss: 1.5949 - val_mae: 1.5949 - val_mse: 6.1552\n",
            "Epoch 236/300\n",
            "10/10 [==============================] - 0s 4ms/step - loss: 1.8350 - mae: 1.8350 - mse: 8.2802 - val_loss: 1.5955 - val_mae: 1.5955 - val_mse: 6.1601\n",
            "Epoch 237/300\n",
            "10/10 [==============================] - 0s 4ms/step - loss: 1.8342 - mae: 1.8342 - mse: 8.2947 - val_loss: 1.5951 - val_mae: 1.5951 - val_mse: 6.1573\n",
            "Epoch 238/300\n",
            "10/10 [==============================] - 0s 4ms/step - loss: 1.8340 - mae: 1.8340 - mse: 8.2835 - val_loss: 1.5955 - val_mae: 1.5955 - val_mse: 6.1596\n",
            "Epoch 239/300\n",
            "10/10 [==============================] - 0s 4ms/step - loss: 1.8337 - mae: 1.8337 - mse: 8.2894 - val_loss: 1.5950 - val_mae: 1.5950 - val_mse: 6.1562\n",
            "Epoch 240/300\n",
            "10/10 [==============================] - 0s 4ms/step - loss: 1.8341 - mae: 1.8341 - mse: 8.2893 - val_loss: 1.5951 - val_mae: 1.5951 - val_mse: 6.1566\n",
            "Epoch 241/300\n",
            "10/10 [==============================] - 0s 5ms/step - loss: 1.8339 - mae: 1.8339 - mse: 8.2859 - val_loss: 1.5967 - val_mae: 1.5967 - val_mse: 6.1636\n",
            "Epoch 242/300\n",
            "10/10 [==============================] - 0s 4ms/step - loss: 1.8337 - mae: 1.8337 - mse: 8.2878 - val_loss: 1.5951 - val_mae: 1.5951 - val_mse: 6.1560\n",
            "Epoch 243/300\n",
            "10/10 [==============================] - 0s 5ms/step - loss: 1.8339 - mae: 1.8339 - mse: 8.2889 - val_loss: 1.5949 - val_mae: 1.5949 - val_mse: 6.1541\n",
            "Epoch 244/300\n",
            "10/10 [==============================] - 0s 4ms/step - loss: 1.8334 - mae: 1.8334 - mse: 8.2875 - val_loss: 1.5950 - val_mae: 1.5950 - val_mse: 6.1545\n",
            "Epoch 245/300\n",
            "10/10 [==============================] - 0s 5ms/step - loss: 1.8335 - mae: 1.8335 - mse: 8.2850 - val_loss: 1.5957 - val_mae: 1.5957 - val_mse: 6.1584\n",
            "Epoch 246/300\n",
            "10/10 [==============================] - 0s 4ms/step - loss: 1.8335 - mae: 1.8335 - mse: 8.2843 - val_loss: 1.5983 - val_mae: 1.5983 - val_mse: 6.1657\n",
            "Epoch 247/300\n",
            "10/10 [==============================] - 0s 4ms/step - loss: 1.8341 - mae: 1.8341 - mse: 8.2894 - val_loss: 1.5951 - val_mae: 1.5951 - val_mse: 6.1553\n",
            "Epoch 248/300\n",
            "10/10 [==============================] - 0s 4ms/step - loss: 1.8334 - mae: 1.8334 - mse: 8.2848 - val_loss: 1.5948 - val_mae: 1.5948 - val_mse: 6.1514\n",
            "Epoch 249/300\n",
            "10/10 [==============================] - 0s 5ms/step - loss: 1.8330 - mae: 1.8330 - mse: 8.2849 - val_loss: 1.5951 - val_mae: 1.5951 - val_mse: 6.1546\n",
            "Epoch 250/300\n",
            "10/10 [==============================] - 0s 5ms/step - loss: 1.8329 - mae: 1.8329 - mse: 8.2844 - val_loss: 1.5949 - val_mae: 1.5949 - val_mse: 6.1531\n",
            "Epoch 251/300\n",
            "10/10 [==============================] - 0s 7ms/step - loss: 1.8335 - mae: 1.8335 - mse: 8.2830 - val_loss: 1.5949 - val_mae: 1.5949 - val_mse: 6.1477\n",
            "Epoch 252/300\n",
            "10/10 [==============================] - 0s 8ms/step - loss: 1.8330 - mae: 1.8330 - mse: 8.2838 - val_loss: 1.5951 - val_mae: 1.5951 - val_mse: 6.1539\n",
            "Epoch 253/300\n",
            "10/10 [==============================] - 0s 4ms/step - loss: 1.8331 - mae: 1.8331 - mse: 8.2824 - val_loss: 1.5951 - val_mae: 1.5951 - val_mse: 6.1536\n",
            "Epoch 254/300\n",
            "10/10 [==============================] - 0s 4ms/step - loss: 1.8331 - mae: 1.8331 - mse: 8.2839 - val_loss: 1.5951 - val_mae: 1.5951 - val_mse: 6.1532\n",
            "Epoch 255/300\n",
            "10/10 [==============================] - 0s 5ms/step - loss: 1.8326 - mae: 1.8326 - mse: 8.2825 - val_loss: 1.5949 - val_mae: 1.5949 - val_mse: 6.1519\n",
            "Epoch 256/300\n",
            "10/10 [==============================] - 0s 4ms/step - loss: 1.8328 - mae: 1.8328 - mse: 8.2833 - val_loss: 1.5949 - val_mae: 1.5949 - val_mse: 6.1506\n",
            "Epoch 257/300\n",
            "10/10 [==============================] - 0s 4ms/step - loss: 1.8327 - mae: 1.8327 - mse: 8.2821 - val_loss: 1.5957 - val_mae: 1.5957 - val_mse: 6.1548\n",
            "Epoch 258/300\n",
            "10/10 [==============================] - 0s 5ms/step - loss: 1.8333 - mae: 1.8333 - mse: 8.2811 - val_loss: 1.5968 - val_mae: 1.5968 - val_mse: 6.1576\n",
            "Epoch 259/300\n",
            "10/10 [==============================] - 0s 5ms/step - loss: 1.8336 - mae: 1.8336 - mse: 8.2822 - val_loss: 1.5960 - val_mae: 1.5960 - val_mse: 6.1553\n",
            "Epoch 260/300\n",
            "10/10 [==============================] - 0s 5ms/step - loss: 1.8332 - mae: 1.8332 - mse: 8.2809 - val_loss: 1.5951 - val_mae: 1.5951 - val_mse: 6.1528\n",
            "Epoch 261/300\n",
            "10/10 [==============================] - 0s 5ms/step - loss: 1.8327 - mae: 1.8327 - mse: 8.2823 - val_loss: 1.5951 - val_mae: 1.5951 - val_mse: 6.1529\n",
            "Epoch 262/300\n",
            "10/10 [==============================] - 0s 4ms/step - loss: 1.8326 - mae: 1.8326 - mse: 8.2812 - val_loss: 1.5949 - val_mae: 1.5949 - val_mse: 6.1515\n",
            "Epoch 263/300\n",
            "10/10 [==============================] - 0s 5ms/step - loss: 1.8328 - mae: 1.8328 - mse: 8.2824 - val_loss: 1.5959 - val_mae: 1.5959 - val_mse: 6.1550\n",
            "Epoch 264/300\n",
            "10/10 [==============================] - 0s 4ms/step - loss: 1.8327 - mae: 1.8327 - mse: 8.2828 - val_loss: 1.5949 - val_mae: 1.5949 - val_mse: 6.1513\n",
            "Epoch 265/300\n",
            "10/10 [==============================] - 0s 5ms/step - loss: 1.8331 - mae: 1.8331 - mse: 8.2832 - val_loss: 1.5965 - val_mae: 1.5965 - val_mse: 6.1567\n",
            "Epoch 266/300\n",
            "10/10 [==============================] - 0s 5ms/step - loss: 1.8327 - mae: 1.8327 - mse: 8.2814 - val_loss: 1.5949 - val_mae: 1.5949 - val_mse: 6.1511\n",
            "Epoch 267/300\n",
            "10/10 [==============================] - 0s 4ms/step - loss: 1.8330 - mae: 1.8330 - mse: 8.2829 - val_loss: 1.5955 - val_mae: 1.5955 - val_mse: 6.1540\n",
            "Epoch 268/300\n",
            "10/10 [==============================] - 0s 5ms/step - loss: 1.8327 - mae: 1.8327 - mse: 8.2807 - val_loss: 1.5956 - val_mae: 1.5956 - val_mse: 6.1542\n",
            "Epoch 269/300\n",
            "10/10 [==============================] - 0s 4ms/step - loss: 1.8328 - mae: 1.8328 - mse: 8.2829 - val_loss: 1.5950 - val_mae: 1.5950 - val_mse: 6.1490\n",
            "Epoch 270/300\n",
            "10/10 [==============================] - 0s 5ms/step - loss: 1.8327 - mae: 1.8327 - mse: 8.2814 - val_loss: 1.5951 - val_mae: 1.5951 - val_mse: 6.1531\n",
            "Epoch 271/300\n",
            "10/10 [==============================] - 0s 5ms/step - loss: 1.8327 - mae: 1.8327 - mse: 8.2820 - val_loss: 1.5950 - val_mae: 1.5950 - val_mse: 6.1479\n",
            "Epoch 272/300\n",
            "10/10 [==============================] - 0s 4ms/step - loss: 1.8337 - mae: 1.8337 - mse: 8.2839 - val_loss: 1.5958 - val_mae: 1.5958 - val_mse: 6.1549\n",
            "Epoch 273/300\n",
            "10/10 [==============================] - 0s 5ms/step - loss: 1.8329 - mae: 1.8329 - mse: 8.2822 - val_loss: 1.5949 - val_mae: 1.5949 - val_mse: 6.1515\n",
            "Epoch 274/300\n",
            "10/10 [==============================] - 0s 4ms/step - loss: 1.8326 - mae: 1.8326 - mse: 8.2823 - val_loss: 1.5949 - val_mae: 1.5949 - val_mse: 6.1516\n",
            "Epoch 275/300\n",
            "10/10 [==============================] - 0s 4ms/step - loss: 1.8327 - mae: 1.8327 - mse: 8.2817 - val_loss: 1.5954 - val_mae: 1.5954 - val_mse: 6.1538\n",
            "Epoch 276/300\n",
            "10/10 [==============================] - 0s 5ms/step - loss: 1.8336 - mae: 1.8336 - mse: 8.2802 - val_loss: 1.5951 - val_mae: 1.5951 - val_mse: 6.1452\n",
            "Epoch 277/300\n",
            "10/10 [==============================] - 0s 4ms/step - loss: 1.8325 - mae: 1.8325 - mse: 8.2806 - val_loss: 1.5950 - val_mae: 1.5950 - val_mse: 6.1525\n",
            "Epoch 278/300\n",
            "10/10 [==============================] - 0s 5ms/step - loss: 1.8325 - mae: 1.8325 - mse: 8.2821 - val_loss: 1.5951 - val_mae: 1.5951 - val_mse: 6.1476\n",
            "Epoch 279/300\n",
            "10/10 [==============================] - 0s 5ms/step - loss: 1.8333 - mae: 1.8333 - mse: 8.2823 - val_loss: 1.5950 - val_mae: 1.5950 - val_mse: 6.1502\n",
            "Epoch 280/300\n",
            "10/10 [==============================] - 0s 6ms/step - loss: 1.8330 - mae: 1.8330 - mse: 8.2800 - val_loss: 1.5980 - val_mae: 1.5980 - val_mse: 6.1608\n",
            "Epoch 281/300\n",
            "10/10 [==============================] - 0s 5ms/step - loss: 1.8343 - mae: 1.8343 - mse: 8.2813 - val_loss: 1.5950 - val_mae: 1.5950 - val_mse: 6.1495\n",
            "Epoch 282/300\n",
            "10/10 [==============================] - 0s 4ms/step - loss: 1.8331 - mae: 1.8331 - mse: 8.2817 - val_loss: 1.5960 - val_mae: 1.5960 - val_mse: 6.1553\n",
            "Epoch 283/300\n",
            "10/10 [==============================] - 0s 4ms/step - loss: 1.8329 - mae: 1.8329 - mse: 8.2792 - val_loss: 1.5950 - val_mae: 1.5950 - val_mse: 6.1491\n",
            "Epoch 284/300\n",
            "10/10 [==============================] - 0s 5ms/step - loss: 1.8327 - mae: 1.8327 - mse: 8.2823 - val_loss: 1.5953 - val_mae: 1.5953 - val_mse: 6.1535\n",
            "Epoch 285/300\n",
            "10/10 [==============================] - 0s 4ms/step - loss: 1.8327 - mae: 1.8327 - mse: 8.2825 - val_loss: 1.5950 - val_mae: 1.5950 - val_mse: 6.1524\n",
            "Epoch 286/300\n",
            "10/10 [==============================] - 0s 4ms/step - loss: 1.8328 - mae: 1.8328 - mse: 8.2828 - val_loss: 1.5949 - val_mae: 1.5949 - val_mse: 6.1519\n",
            "Epoch 287/300\n",
            "10/10 [==============================] - 0s 5ms/step - loss: 1.8326 - mae: 1.8326 - mse: 8.2815 - val_loss: 1.5950 - val_mae: 1.5950 - val_mse: 6.1525\n",
            "Epoch 288/300\n",
            "10/10 [==============================] - 0s 5ms/step - loss: 1.8335 - mae: 1.8335 - mse: 8.2817 - val_loss: 1.5950 - val_mae: 1.5950 - val_mse: 6.1491\n",
            "Epoch 289/300\n",
            "10/10 [==============================] - 0s 5ms/step - loss: 1.8330 - mae: 1.8330 - mse: 8.2822 - val_loss: 1.5951 - val_mae: 1.5951 - val_mse: 6.1470\n",
            "Epoch 290/300\n",
            "10/10 [==============================] - 0s 7ms/step - loss: 1.8341 - mae: 1.8341 - mse: 8.2869 - val_loss: 1.5950 - val_mae: 1.5950 - val_mse: 6.1486\n",
            "Epoch 291/300\n",
            "10/10 [==============================] - 0s 5ms/step - loss: 1.8336 - mae: 1.8336 - mse: 8.2780 - val_loss: 1.5981 - val_mae: 1.5981 - val_mse: 6.1611\n",
            "Epoch 292/300\n",
            "10/10 [==============================] - 0s 5ms/step - loss: 1.8340 - mae: 1.8340 - mse: 8.2836 - val_loss: 1.5951 - val_mae: 1.5951 - val_mse: 6.1470\n",
            "Epoch 293/300\n",
            "10/10 [==============================] - 0s 5ms/step - loss: 1.8331 - mae: 1.8331 - mse: 8.2830 - val_loss: 1.5950 - val_mae: 1.5950 - val_mse: 6.1486\n",
            "Epoch 294/300\n",
            "10/10 [==============================] - 0s 4ms/step - loss: 1.8330 - mae: 1.8330 - mse: 8.2826 - val_loss: 1.5950 - val_mae: 1.5950 - val_mse: 6.1496\n",
            "Epoch 295/300\n",
            "10/10 [==============================] - 0s 5ms/step - loss: 1.8331 - mae: 1.8331 - mse: 8.2839 - val_loss: 1.5949 - val_mae: 1.5949 - val_mse: 6.1511\n",
            "Epoch 296/300\n",
            "10/10 [==============================] - 0s 6ms/step - loss: 1.8330 - mae: 1.8330 - mse: 8.2824 - val_loss: 1.5969 - val_mae: 1.5969 - val_mse: 6.1581\n",
            "Epoch 297/300\n",
            "10/10 [==============================] - 0s 5ms/step - loss: 1.8334 - mae: 1.8334 - mse: 8.2808 - val_loss: 1.5960 - val_mae: 1.5960 - val_mse: 6.1555\n",
            "Epoch 298/300\n",
            "10/10 [==============================] - 0s 4ms/step - loss: 1.8333 - mae: 1.8333 - mse: 8.2843 - val_loss: 1.5953 - val_mae: 1.5953 - val_mse: 6.1538\n",
            "Epoch 299/300\n",
            "10/10 [==============================] - 0s 5ms/step - loss: 1.8327 - mae: 1.8327 - mse: 8.2819 - val_loss: 1.5949 - val_mae: 1.5949 - val_mse: 6.1505\n",
            "Epoch 300/300\n",
            "10/10 [==============================] - 0s 4ms/step - loss: 1.8328 - mae: 1.8328 - mse: 8.2816 - val_loss: 1.5949 - val_mae: 1.5949 - val_mse: 6.1508\n"
          ],
          "name": "stdout"
        }
      ]
    },
    {
      "cell_type": "code",
      "metadata": {
        "id": "6zYkLGS6wQyy",
        "colab": {
          "base_uri": "https://localhost:8080/"
        },
        "outputId": "08f94f33-0c9b-494a-ade0-3ed27ac31680"
      },
      "source": [
        "print(history)"
      ],
      "execution_count": 22,
      "outputs": [
        {
          "output_type": "stream",
          "text": [
            "<tensorflow.python.keras.callbacks.History object at 0x7fa6be8c7710>\n"
          ],
          "name": "stdout"
        }
      ]
    },
    {
      "cell_type": "code",
      "metadata": {
        "colab": {
          "base_uri": "https://localhost:8080/"
        },
        "id": "1lsbk_ohAu1j",
        "outputId": "f6cdfe90-d3b1-491e-fae5-41053183de1a"
      },
      "source": [
        "model.summary()"
      ],
      "execution_count": 23,
      "outputs": [
        {
          "output_type": "stream",
          "text": [
            "Model: \"sequential\"\n",
            "_________________________________________________________________\n",
            "Layer (type)                 Output Shape              Param #   \n",
            "=================================================================\n",
            "dense (Dense)                (None, 1)                 2         \n",
            "=================================================================\n",
            "Total params: 2\n",
            "Trainable params: 2\n",
            "Non-trainable params: 0\n",
            "_________________________________________________________________\n"
          ],
          "name": "stdout"
        }
      ]
    },
    {
      "cell_type": "code",
      "metadata": {
        "colab": {
          "base_uri": "https://localhost:8080/",
          "height": 1000
        },
        "id": "P6VnkPim7tH7",
        "outputId": "529e9d1e-88cb-4876-9b43-b3ebc235af09"
      },
      "source": [
        "# tempString = 'mse'\n",
        "def curvePlots(tempString):\n",
        "  plt.plot(history.history[tempString])\n",
        "  plt.plot(history.history[f'val_{tempString}'])\n",
        "  plt.xlabel('NumEpochs')\n",
        "  plt.ylabel(tempString)\n",
        "  plt.legend([tempString, f'val_{tempString}'])\n",
        "  plt.show()\n",
        "\n",
        "\n",
        "curvePlots('mse')\n",
        "curvePlots('mae')\n",
        "curvePlots('loss')"
      ],
      "execution_count": 24,
      "outputs": [
        {
          "output_type": "display_data",
          "data": {
            "image/png": "[encoded data removed]",
            "text/plain": [
              "<Figure size 576x396 with 1 Axes>"
            ]
          },
          "metadata": {
            "tags": []
          }
        },
        {
          "output_type": "display_data",
          "data": {
            "image/png": "[encoded data removed]",
            "text/plain": [
              "<Figure size 576x396 with 1 Axes>"
            ]
          },
          "metadata": {
            "tags": []
          }
        },
        {
          "output_type": "display_data",
          "data": {
            "image/png": "[encoded data removed]",
            "text/plain": [
              "<Figure size 576x396 with 1 Axes>"
            ]
          },
          "metadata": {
            "tags": []
          }
        }
      ]
    },
    {
      "cell_type": "code",
      "metadata": {
        "id": "esW0eHQbzoj4",
        "colab": {
          "base_uri": "https://localhost:8080/"
        },
        "outputId": "fc13243c-0ffd-490d-e87d-f1a39ad58428"
      },
      "source": [
        "model.predict([1])"
      ],
      "execution_count": 25,
      "outputs": [
        {
          "output_type": "execute_result",
          "data": {
            "text/plain": [
              "array([[1.0019404]], dtype=float32)"
            ]
          },
          "metadata": {
            "tags": []
          },
          "execution_count": 25
        }
      ]
    },
    {
      "cell_type": "code",
      "metadata": {
        "colab": {
          "base_uri": "https://localhost:8080/"
        },
        "id": "KJrLWamX8Tg-",
        "outputId": "c45e21c4-8c35-43ca-c959-afe0d0e75494"
      },
      "source": [
        "# testPreds = model.predict(testFeatures).flatten() #array of all prediction values\n",
        "\n",
        "#for single values\n",
        "\n",
        "print(f'Prediction for input value 1: {model.predict([1])}')\n",
        "\n",
        "\n",
        "# for a list of values\n",
        "tempListforPreds = [1,2,3,4,5]\n",
        "print(f'''\n",
        "\n",
        "input List = {tempListforPreds}\n",
        "\n",
        "\n",
        "List of Predictions:\n",
        "{model.predict(tempListforPreds)}\n",
        "\n",
        "List of Predictions (flattened out):\n",
        "{model.predict(tempListforPreds).flatten()}\n",
        "''')"
      ],
      "execution_count": 26,
      "outputs": [
        {
          "output_type": "stream",
          "text": [
            "Prediction for input value 1: [[1.0019404]]\n",
            "\n",
            "\n",
            "input List = [1, 2, 3, 4, 5]\n",
            "\n",
            "\n",
            "List of Predictions:\n",
            "[[1.0019404]\n",
            " [2.0015693]\n",
            " [3.001198 ]\n",
            " [4.000827 ]\n",
            " [5.000456 ]]\n",
            "\n",
            "List of Predictions (flattened out):\n",
            "[1.0019404 2.0015693 3.001198  4.000827  5.000456 ]\n",
            "\n"
          ],
          "name": "stdout"
        }
      ]
    },
    {
      "cell_type": "code",
      "metadata": {
        "id": "vJNFh6hc0K6r",
        "colab": {
          "base_uri": "https://localhost:8080/"
        },
        "outputId": "eafb2590-f673-4aa3-ef12-86eef9fb7983"
      },
      "source": [
        "print(testFeatures)"
      ],
      "execution_count": 27,
      "outputs": [
        {
          "output_type": "stream",
          "text": [
            "     G1\n",
            "9    14\n",
            "25    6\n",
            "28   11\n",
            "31   17\n",
            "32   17\n",
            "..   ..\n",
            "365  10\n",
            "367   7\n",
            "379  10\n",
            "381   7\n",
            "393  11\n",
            "\n",
            "[79 rows x 1 columns]\n"
          ],
          "name": "stdout"
        }
      ]
    },
    {
      "cell_type": "code",
      "metadata": {
        "id": "MniGZOu50IyN"
      },
      "source": [
        "testPreds = model.predict(testFeatures).flatten() #array of all prediction values"
      ],
      "execution_count": 28,
      "outputs": []
    },
    {
      "cell_type": "code",
      "metadata": {
        "id": "du0Orwu40Qan",
        "colab": {
          "base_uri": "https://localhost:8080/"
        },
        "outputId": "b895c0c8-1325-42a5-fb94-677f3db7c83a"
      },
      "source": [
        "print(len(testPreds))\n",
        "print(testPreds)"
      ],
      "execution_count": 29,
      "outputs": [
        {
          "output_type": "stream",
          "text": [
            "79\n",
            "[13.997114   6.0000844 10.998228  16.996     16.996     11.997857\n",
            " 13.997114  18.995258  18.995258   7.999342  13.997114  12.997486\n",
            "  7.999342   6.999713   8.998971  12.997486  10.998228  15.996372\n",
            "  6.999713   9.9986    14.996743  12.997486  13.997114  15.996372\n",
            "  6.999713   6.999713   7.999342   9.9986    11.997857   9.9986\n",
            " 11.997857  12.997486   9.9986     6.0000844  8.998971  11.997857\n",
            "  6.999713   7.999342  13.997114   8.998971   8.998971   6.999713\n",
            " 11.997857   6.0000844 12.997486   6.999713   6.999713  10.998228\n",
            " 12.997486  16.996     11.997857  14.996743   8.998971  11.997857\n",
            " 14.996743  11.997857  14.996743  11.997857  14.996743  10.998228\n",
            " 11.997857   7.999342  15.996372   6.999713  15.996372  10.998228\n",
            " 15.996372  12.997486   7.999342   7.999342  11.997857  17.99563\n",
            " 12.997486  15.996372   9.9986     6.999713   9.9986     6.999713\n",
            " 10.998228 ]\n"
          ],
          "name": "stdout"
        }
      ]
    },
    {
      "cell_type": "code",
      "metadata": {
        "colab": {
          "base_uri": "https://localhost:8080/",
          "height": 361
        },
        "id": "EfP8bB_v89Wa",
        "outputId": "d2bc2ad9-c2dd-4682-baf6-dad4b40c4a7d"
      },
      "source": [
        "# prediciton plot --> how well is your model predicting across the actual labels\n",
        "\n",
        "def predPlot(labels, predictions):\n",
        "  plt.scatter(labels, predictions)\n",
        "  plt.ylabel('Predictions')\n",
        "  plt.xlabel('True Value or Labels')\n",
        "  plt.axis('equal')\n",
        "  plt.axis('square')\n",
        "  plt.xlim([0, plt.xlim()[1]])\n",
        "  plt.ylim([0, plt.ylim()[1]])\n",
        "  plt.show()\n",
        "\n",
        "predPlot(testLabels, testPreds)"
      ],
      "execution_count": 30,
      "outputs": [
        {
          "output_type": "display_data",
          "data": {
            "image/png": "[encoded data removed]",
            "text/plain": [
              "<Figure size 576x396 with 1 Axes>"
            ]
          },
          "metadata": {
            "tags": []
          }
        }
      ]
    },
    {
      "cell_type": "code",
      "metadata": {
        "colab": {
          "base_uri": "https://localhost:8080/",
          "height": 361
        },
        "id": "70608Z0o9tWL",
        "outputId": "ae0de89f-28fc-4a8d-a930-a3a33cfc6353"
      },
      "source": [
        "#error plot --> gaussian distribution \n",
        "\n",
        "def errorPlot(preds, labels, counts):\n",
        "  errors = preds - labels\n",
        "  plt.hist(errors, counts)\n",
        "  plt.xlabel('Error')\n",
        "  plt.ylabel('Counts')\n",
        "  plt.show()\n",
        "\n",
        "errorPlot(testPreds, testLabels, numEpochs)"
      ],
      "execution_count": 31,
      "outputs": [
        {
          "output_type": "display_data",
          "data": {
            "image/png": "[encoded data removed]",
            "text/plain": [
              "<Figure size 576x396 with 1 Axes>"
            ]
          },
          "metadata": {
            "tags": []
          }
        }
      ]
    },
    {
      "cell_type": "markdown",
      "metadata": {
        "id": "oshf2mUG1vPk"
      },
      "source": [
        "Note: \n",
        "\n",
        "\n",
        "Validation loss `val_loss` is a metric that tells you how much deviation from the actual label can you expect in the predicted label\n",
        "\n",
        "To optimize your predicitons -->\n",
        "\n",
        "- Hyperparameter tuning --> `numEpochs`, `optimizer`, `learning_rate`, lossFunctions"
      ]
    }
  ]
}