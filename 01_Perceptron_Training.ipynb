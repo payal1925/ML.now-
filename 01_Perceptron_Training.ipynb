{
  "nbformat": 4,
  "nbformat_minor": 0,
  "metadata": {
    "colab": {
      "name": "01_Perceptron Training",
      "provenance": [],
      "authorship_tag": "ABX9TyOj1Ebcm8Vmm4csAddAO4Ql",
      "include_colab_link": true
    },
    "kernelspec": {
      "name": "python3",
      "display_name": "Python 3"
    },
    "language_info": {
      "name": "python"
    }
  },
  "cells": [
    {
      "cell_type": "markdown",
      "metadata": {
        "id": "view-in-github",
        "colab_type": "text"
      },
      "source": [
        "<a href=\"https://colab.research.google.com/github/payal1925/ML.now-/blob/main/01_Perceptron_Training.ipynb\" target=\"_parent\"><img src=\"https://colab.research.google.com/assets/colab-badge.svg\" alt=\"Open In Colab\"/></a>"
      ]
    },
    {
      "cell_type": "code",
      "metadata": {
        "colab": {
          "base_uri": "https://localhost:8080/"
        },
        "id": "siogHQ3KJ7lB",
        "outputId": "2c38e683-0d4b-4424-d47a-571e35db8c6e"
      },
      "source": [
        "print('Hello World')"
      ],
      "execution_count": 1,
      "outputs": [
        {
          "output_type": "stream",
          "text": [
            "Hello World\n"
          ],
          "name": "stdout"
        }
      ]
    },
    {
      "cell_type": "code",
      "metadata": {
        "colab": {
          "base_uri": "https://localhost:8080/"
        },
        "id": "mVrQV7DyP_Ce",
        "outputId": "cf980002-1237-4f8c-860a-bde1cd04b5a2"
      },
      "source": [
        "print('Hello World')"
      ],
      "execution_count": 2,
      "outputs": [
        {
          "output_type": "stream",
          "text": [
            "Hello World\n"
          ],
          "name": "stdout"
        }
      ]
    },
    {
      "cell_type": "markdown",
      "metadata": {
        "id": "MMgCX23ycKqD"
      },
      "source": [
        "**Date Created**: 23/5/2021\n",
        "Author: [Payal Jaiswal](https://github.com/payal1925)"
      ]
    },
    {
      "cell_type": "markdown",
      "metadata": {
        "id": "m-3JxQYRctfQ"
      },
      "source": [
        "# Problem\n",
        "\n",
        "Train a model to learn table of 10\n",
        "\n",
        "Equation: `y=10x`"
      ]
    },
    {
      "cell_type": "markdown",
      "metadata": {
        "id": "MF25pv0EfRy8"
      },
      "source": [
        "# Data Creation\n",
        "\n",
        "Equation: `y=10x`\n",
        "\n",
        "Traget ->\n",
        "```\n",
        "x = [0, 1, 2, 3, 4, 5,....]\n",
        "\n",
        "y = [0, 10, 20, 30, 40, 50,....]\n",
        "```\n"
      ]
    },
    {
      "cell_type": "code",
      "metadata": {
        "colab": {
          "base_uri": "https://localhost:8080/"
        },
        "id": "4hOJYszIeK9r",
        "outputId": "50f0eae1-e963-4b65-e79f-b018fc474d86"
      },
      "source": [
        "x= [i for i in range(21)] #List Comprehension\n",
        "print(x)"
      ],
      "execution_count": 29,
      "outputs": [
        {
          "output_type": "stream",
          "text": [
            "[0, 1, 2, 3, 4, 5, 6, 7, 8, 9, 10, 11, 12, 13, 14, 15, 16, 17, 18, 19, 20]\n"
          ],
          "name": "stdout"
        }
      ]
    },
    {
      "cell_type": "code",
      "metadata": {
        "colab": {
          "base_uri": "https://localhost:8080/"
        },
        "id": "9UJh2F9ehhZR",
        "outputId": "54f0f863-4668-48a9-8f52-c69968f3aaf5"
      },
      "source": [
        "y= [i for i in range (10*20+1) if i%10==0]\n",
        "print(y)"
      ],
      "execution_count": 30,
      "outputs": [
        {
          "output_type": "stream",
          "text": [
            "[0, 10, 20, 30, 40, 50, 60, 70, 80, 90, 100, 110, 120, 130, 140, 150, 160, 170, 180, 190, 200]\n"
          ],
          "name": "stdout"
        }
      ]
    },
    {
      "cell_type": "markdown",
      "metadata": {
        "id": "TeF2eQPGi4bn"
      },
      "source": [
        "## Approach 1\n",
        "\n",
        "Defining a function for the equation `y = 10x`"
      ]
    },
    {
      "cell_type": "code",
      "metadata": {
        "colab": {
          "base_uri": "https://localhost:8080/"
        },
        "id": "L37IPd6Kivjs",
        "outputId": "978b2f2b-8fe3-4dd4-f2c1-c5cadb30ebab"
      },
      "source": [
        "  def tableofTen(x):\n",
        "    y = 10*x\n",
        "    return y\n",
        "\n",
        "\n",
        "  for value in x:\n",
        "    print(tableofTen(value))"
      ],
      "execution_count": 31,
      "outputs": [
        {
          "output_type": "stream",
          "text": [
            "0\n",
            "10\n",
            "20\n",
            "30\n",
            "40\n",
            "50\n",
            "60\n",
            "70\n",
            "80\n",
            "90\n",
            "100\n",
            "110\n",
            "120\n",
            "130\n",
            "140\n",
            "150\n",
            "160\n",
            "170\n",
            "180\n",
            "190\n",
            "200\n"
          ],
          "name": "stdout"
        }
      ]
    },
    {
      "cell_type": "markdown",
      "metadata": {
        "id": "MP8kmt9VlgEL"
      },
      "source": [
        "## Approach 2\n",
        "\n",
        "I am very excited for the ML approach to this for table of 10\n",
        "\n",
        "For this you will need `xTrain`,`yTrain`,`xTest`,`yTest` from the `x` and `y` lists."
      ]
    },
    {
      "cell_type": "code",
      "metadata": {
        "colab": {
          "base_uri": "https://localhost:8080/"
        },
        "id": "YmeX-WXfn2MU",
        "outputId": "47a54b28-af2f-4a47-bb15-14b0685363ca"
      },
      "source": [
        "print(f'This is x: {x}')\n",
        "print(f'This is x: {y}')"
      ],
      "execution_count": 33,
      "outputs": [
        {
          "output_type": "stream",
          "text": [
            "This is x: [0, 1, 2, 3, 4, 5, 6, 7, 8, 9, 10, 11, 12, 13, 14, 15, 16, 17, 18, 19, 20]\n",
            "This is x: [0, 10, 20, 30, 40, 50, 60, 70, 80, 90, 100, 110, 120, 130, 140, 150, 160, 170, 180, 190, 200]\n"
          ],
          "name": "stdout"
        }
      ]
    },
    {
      "cell_type": "code",
      "metadata": {
        "colab": {
          "base_uri": "https://localhost:8080/"
        },
        "id": "DJ7ewWNSlfbI",
        "outputId": "ee09d7d9-e62d-4eb3-867f-d159005ce843"
      },
      "source": [
        "xTrain = x[16:] #Training Data\n",
        "yTrain = y[16:] #Training Labels\n",
        "\n",
        "xTest = x[16:] #Testing Data\n",
        "yTest = y[16:] #Testing Labels\n",
        "\n",
        "print(f''' \n",
        "      Training Data:\n",
        "\n",
        "        xTrain :{xTrain}\n",
        "        yTrain :{yTrain}\n",
        "\n",
        "      Testing Data:\n",
        "        xTest :{xTest}\n",
        "        yTest :{yTest}\n",
        "''')"
      ],
      "execution_count": 50,
      "outputs": [
        {
          "output_type": "stream",
          "text": [
            " \n",
            "      Training Data:\n",
            "\n",
            "        xTrain :[16, 17, 18, 19, 20]\n",
            "        yTrain :[160, 170, 180, 190, 200]\n",
            "\n",
            "      Testing Data:\n",
            "        xTest :[16, 17, 18, 19, 20]\n",
            "        yTest :[160, 170, 180, 190, 200]\n",
            "\n"
          ],
          "name": "stdout"
        }
      ]
    },
    {
      "cell_type": "code",
      "metadata": {
        "id": "0J_5iwdDuCGB"
      },
      "source": [
        ""
      ],
      "execution_count": null,
      "outputs": []
    }
  ]
}